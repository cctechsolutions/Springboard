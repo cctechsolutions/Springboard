{
 "cells": [
  {
   "cell_type": "markdown",
   "id": "e4e1d88e",
   "metadata": {},
   "source": [
    "## Contents:\n",
    "1. [Preparation](#first-bullet)  \n",
    "2. [Initial metrics for comparison](#second-bullet)   \n",
    "3. [Initial models](#third-bullet)    \n",
    "     3.1. [Linear regression](#fourth-bullet)   \n",
    "     3.2. [Refining linear model](#fifth-bullet)\n",
    "4. [Additional models](#sixth-bullet)   \n",
    "     4.1. [Random forest model](#seventh-bullet)   \n",
    "     4.2. [Logistic regression](#eighth-bullet)   \n",
    "     4.3. [Polynomial regression](#ninth-bullet)   \n",
    "     4.4. [SVR](#tenth-bullet)      \n",
    "5. [Final model selection](#eleventh-bullet)  \n",
    "     5.1. [Store assessment data](#15)    \n",
    "     5.2. [Compare each model](#16)   \n",
    "     5.3. [Data quantity assessment](#17)   \n",
    "     5.4. [Complete pipeleine](#18)   \n",
    "6. [Predictive modeling scenarios](#twelfth-bullet)   \n",
    "7. [Summary](#thirteenth-bullet)   \n",
    "8. [Further work](#fourthteenth-bullet)"
   ]
  },
  {
   "cell_type": "markdown",
   "id": "69a6e957",
   "metadata": {},
   "source": [
    "# 1. Preparations <a class=\"anchor\" id=\"first-bullet\"></a>"
   ]
  },
  {
   "cell_type": "markdown",
   "id": "9fbb496f",
   "metadata": {},
   "source": [
    "## 1.1. Import operating system and modules <a class=\"anchor\" id=\"first-bullet-1\"></a>"
   ]
  },
  {
   "cell_type": "code",
   "execution_count": 1,
   "id": "891f4584",
   "metadata": {},
   "outputs": [],
   "source": [
    "import os\n",
    "from urllib.request import urlopen\n",
    "from json import loads\n",
    "import pandas as pd\n",
    "import numpy as np\n",
    "import matplotlib.pyplot as plt\n",
    "from matplotlib.axis import Axis\n",
    "from matplotlib.pyplot import figure\n",
    "import matplotlib.colors as clrs\n",
    "import datetime as dt\n",
    "from matplotlib.dates import (DateFormatter, MinuteLocator, AutoDateLocator, AutoDateFormatter, datestr2num)\n",
    "import seaborn as sns\n",
    "import plotly.express as px\n",
    "import altair as alt"
   ]
  },
  {
   "cell_type": "markdown",
   "id": "fc938e63",
   "metadata": {},
   "source": [
    "## 1.2. Import skikit-learn models and metrics"
   ]
  },
  {
   "cell_type": "code",
   "execution_count": 2,
   "id": "9cb92ff7",
   "metadata": {},
   "outputs": [],
   "source": [
    "from sklearn.model_selection import train_test_split\n",
    "from sklearn.model_selection import cross_val_score\n",
    "from sklearn.preprocessing import MinMaxScaler, StandardScaler\n",
    "from sklearn.linear_model import LogisticRegression\n",
    "from sklearn.linear_model import LinearRegression\n",
    "from sklearn.model_selection import train_test_split, cross_validate, GridSearchCV, learning_curve\n",
    "from sklearn.metrics import accuracy_score, classification_report\n",
    "from sklearn.model_selection import validation_curve\n",
    "from sklearn.dummy import DummyRegressor\n",
    "from sklearn.metrics import r2_score, mean_squared_error, mean_absolute_error\n",
    "from sklearn.pipeline import make_pipeline\n",
    "from sklearn.feature_selection import SelectKBest, f_regression\n",
    "from sklearn.ensemble import RandomForestRegressor\n",
    "from sklearn.feature_selection import RFE\n",
    "from sklearn import svm\n",
    "from sklearn.svm import SVC, SVR"
   ]
  },
  {
   "cell_type": "markdown",
   "id": "da4f50d5",
   "metadata": {},
   "source": [
    "## 1.3. Read in datasets"
   ]
  },
  {
   "cell_type": "code",
   "execution_count": 3,
   "id": "06b7e544",
   "metadata": {},
   "outputs": [],
   "source": [
    "clean_total = pd.read_csv(r'cleaned_total.csv')\n",
    "state_bans = pd.read_csv(r'banned-state-Copy1.csv')\n",
    "url2 = r'https://docs.google.com/spreadsheets/d/1hTs_PB7KuTMBtNMESFEGuK-0abzhNxVv4tgpI5-iKe8/export?exportFormat=csv'\n",
    "bans = pd.read_csv(url2, skiprows = 2)\n",
    "\n",
    "train = pd.read_csv(r'train1.csv')\n",
    "test = pd.read_csv(r'test1.csv')\n",
    "total = pd.read_csv(r'total21.csv')\n",
    "dums = pd.read_csv(r'dums1.csv')\n",
    "X_train = pd.read_csv(r'X_train1.csv')\n",
    "X_test = pd.read_csv(r'X_test1.csv')\n",
    "y_train = pd.read_csv(r'y_train1.csv')\n",
    "y_test = pd.read_csv(r'y_test1.csv')"
   ]
  },
  {
   "cell_type": "markdown",
   "id": "b3676011",
   "metadata": {},
   "source": [
    "## 1.4. Correct issues in these datasets"
   ]
  },
  {
   "cell_type": "markdown",
   "id": "f488ebc2",
   "metadata": {},
   "source": [
    "After completing the preprocessing and training, I realized that the dataframes I was using were unnecessarily large.  This slowed all the models and complicated each piece of analysis and did not seem necessary for analysis or modeling.  The dataframes greatly increased in size after I created dummy variables for the categorical columns.  I realized that while dummy variables could be helpful to analyze elements such as whether a district had banned books or not, I did not need to create dummy variables for each distinct district name.  I may not even find dummy variables useful for each state, but I will first eliminate the extra columns for districts.  I am going to create a new dataframe with dummy variables and therefore also will re-split the data before continuing on to modeling.  While I had previously worked to prepare the data, I found other small edits were necessary as I began modeling.  I will complete these before beginning modeling."
   ]
  },
  {
   "cell_type": "code",
   "execution_count": 4,
   "id": "2ceb4ff0",
   "metadata": {},
   "outputs": [
    {
     "data": {
      "text/html": [
       "<div>\n",
       "<style scoped>\n",
       "    .dataframe tbody tr th:only-of-type {\n",
       "        vertical-align: middle;\n",
       "    }\n",
       "\n",
       "    .dataframe tbody tr th {\n",
       "        vertical-align: top;\n",
       "    }\n",
       "\n",
       "    .dataframe thead th {\n",
       "        text-align: right;\n",
       "    }\n",
       "</style>\n",
       "<table border=\"1\" class=\"dataframe\">\n",
       "  <thead>\n",
       "    <tr style=\"text-align: right;\">\n",
       "      <th></th>\n",
       "      <th>Author</th>\n",
       "      <th>Title</th>\n",
       "      <th>Type of Ban</th>\n",
       "      <th>State</th>\n",
       "      <th>District</th>\n",
       "      <th>Origin of Challenge</th>\n",
       "      <th>Frequency</th>\n",
       "      <th>ID</th>\n",
       "      <th>Students_tested</th>\n",
       "      <th>Reading_proficiency_rate</th>\n",
       "      <th>Average_proficiency</th>\n",
       "      <th>District_bans</th>\n",
       "      <th>Year</th>\n",
       "      <th>Diff_from_mean</th>\n",
       "    </tr>\n",
       "  </thead>\n",
       "  <tbody>\n",
       "    <tr>\n",
       "      <th>0</th>\n",
       "      <td>NaN</td>\n",
       "      <td>NaN</td>\n",
       "      <td>NaN</td>\n",
       "      <td>Alabama</td>\n",
       "      <td>Albertville city</td>\n",
       "      <td>NaN</td>\n",
       "      <td>0.0</td>\n",
       "      <td>100005.0</td>\n",
       "      <td>2514</td>\n",
       "      <td>32.0</td>\n",
       "      <td>54.323556</td>\n",
       "      <td>0.0</td>\n",
       "      <td>2021</td>\n",
       "      <td>-22.323556</td>\n",
       "    </tr>\n",
       "    <tr>\n",
       "      <th>1</th>\n",
       "      <td>NaN</td>\n",
       "      <td>NaN</td>\n",
       "      <td>NaN</td>\n",
       "      <td>Alabama</td>\n",
       "      <td>Marshall county</td>\n",
       "      <td>NaN</td>\n",
       "      <td>0.0</td>\n",
       "      <td>100006.0</td>\n",
       "      <td>2988</td>\n",
       "      <td>36.0</td>\n",
       "      <td>54.323556</td>\n",
       "      <td>0.0</td>\n",
       "      <td>2021</td>\n",
       "      <td>-18.323556</td>\n",
       "    </tr>\n",
       "    <tr>\n",
       "      <th>2</th>\n",
       "      <td>NaN</td>\n",
       "      <td>NaN</td>\n",
       "      <td>NaN</td>\n",
       "      <td>Alabama</td>\n",
       "      <td>Hoover city</td>\n",
       "      <td>NaN</td>\n",
       "      <td>0.0</td>\n",
       "      <td>100007.0</td>\n",
       "      <td>7434</td>\n",
       "      <td>61.0</td>\n",
       "      <td>54.323556</td>\n",
       "      <td>0.0</td>\n",
       "      <td>2021</td>\n",
       "      <td>6.676444</td>\n",
       "    </tr>\n",
       "    <tr>\n",
       "      <th>3</th>\n",
       "      <td>NaN</td>\n",
       "      <td>NaN</td>\n",
       "      <td>NaN</td>\n",
       "      <td>Alabama</td>\n",
       "      <td>Madison city</td>\n",
       "      <td>NaN</td>\n",
       "      <td>0.0</td>\n",
       "      <td>100008.0</td>\n",
       "      <td>5232</td>\n",
       "      <td>70.0</td>\n",
       "      <td>54.323556</td>\n",
       "      <td>0.0</td>\n",
       "      <td>2021</td>\n",
       "      <td>15.676444</td>\n",
       "    </tr>\n",
       "    <tr>\n",
       "      <th>4</th>\n",
       "      <td>NaN</td>\n",
       "      <td>NaN</td>\n",
       "      <td>NaN</td>\n",
       "      <td>Alabama</td>\n",
       "      <td>Leeds city</td>\n",
       "      <td>NaN</td>\n",
       "      <td>0.0</td>\n",
       "      <td>100011.0</td>\n",
       "      <td>939</td>\n",
       "      <td>39.0</td>\n",
       "      <td>54.323556</td>\n",
       "      <td>0.0</td>\n",
       "      <td>2021</td>\n",
       "      <td>-15.323556</td>\n",
       "    </tr>\n",
       "    <tr>\n",
       "      <th>5</th>\n",
       "      <td>NaN</td>\n",
       "      <td>NaN</td>\n",
       "      <td>NaN</td>\n",
       "      <td>Alabama</td>\n",
       "      <td>Boaz city</td>\n",
       "      <td>NaN</td>\n",
       "      <td>0.0</td>\n",
       "      <td>100012.0</td>\n",
       "      <td>1245</td>\n",
       "      <td>39.0</td>\n",
       "      <td>54.323556</td>\n",
       "      <td>0.0</td>\n",
       "      <td>2021</td>\n",
       "      <td>-15.323556</td>\n",
       "    </tr>\n",
       "    <tr>\n",
       "      <th>6</th>\n",
       "      <td>NaN</td>\n",
       "      <td>NaN</td>\n",
       "      <td>NaN</td>\n",
       "      <td>Alabama</td>\n",
       "      <td>Trussville city</td>\n",
       "      <td>NaN</td>\n",
       "      <td>0.0</td>\n",
       "      <td>100013.0</td>\n",
       "      <td>2363</td>\n",
       "      <td>58.0</td>\n",
       "      <td>54.323556</td>\n",
       "      <td>0.0</td>\n",
       "      <td>2021</td>\n",
       "      <td>3.676444</td>\n",
       "    </tr>\n",
       "    <tr>\n",
       "      <th>7</th>\n",
       "      <td>NaN</td>\n",
       "      <td>NaN</td>\n",
       "      <td>NaN</td>\n",
       "      <td>Alabama</td>\n",
       "      <td>Alexander city</td>\n",
       "      <td>NaN</td>\n",
       "      <td>0.0</td>\n",
       "      <td>100030.0</td>\n",
       "      <td>1536</td>\n",
       "      <td>38.0</td>\n",
       "      <td>54.323556</td>\n",
       "      <td>0.0</td>\n",
       "      <td>2021</td>\n",
       "      <td>-16.323556</td>\n",
       "    </tr>\n",
       "    <tr>\n",
       "      <th>8</th>\n",
       "      <td>NaN</td>\n",
       "      <td>NaN</td>\n",
       "      <td>NaN</td>\n",
       "      <td>Alabama</td>\n",
       "      <td>Andalusia city</td>\n",
       "      <td>NaN</td>\n",
       "      <td>0.0</td>\n",
       "      <td>100060.0</td>\n",
       "      <td>887</td>\n",
       "      <td>42.0</td>\n",
       "      <td>54.323556</td>\n",
       "      <td>0.0</td>\n",
       "      <td>2021</td>\n",
       "      <td>-12.323556</td>\n",
       "    </tr>\n",
       "    <tr>\n",
       "      <th>9</th>\n",
       "      <td>NaN</td>\n",
       "      <td>NaN</td>\n",
       "      <td>NaN</td>\n",
       "      <td>Alabama</td>\n",
       "      <td>Anniston city</td>\n",
       "      <td>NaN</td>\n",
       "      <td>0.0</td>\n",
       "      <td>100090.0</td>\n",
       "      <td>995</td>\n",
       "      <td>21.0</td>\n",
       "      <td>54.323556</td>\n",
       "      <td>0.0</td>\n",
       "      <td>2021</td>\n",
       "      <td>-33.323556</td>\n",
       "    </tr>\n",
       "    <tr>\n",
       "      <th>10</th>\n",
       "      <td>NaN</td>\n",
       "      <td>NaN</td>\n",
       "      <td>NaN</td>\n",
       "      <td>Alabama</td>\n",
       "      <td>Arab city</td>\n",
       "      <td>NaN</td>\n",
       "      <td>0.0</td>\n",
       "      <td>100100.0</td>\n",
       "      <td>1308</td>\n",
       "      <td>64.0</td>\n",
       "      <td>54.323556</td>\n",
       "      <td>0.0</td>\n",
       "      <td>2021</td>\n",
       "      <td>9.676444</td>\n",
       "    </tr>\n",
       "    <tr>\n",
       "      <th>11</th>\n",
       "      <td>NaN</td>\n",
       "      <td>NaN</td>\n",
       "      <td>NaN</td>\n",
       "      <td>Alabama</td>\n",
       "      <td>Athens city</td>\n",
       "      <td>NaN</td>\n",
       "      <td>0.0</td>\n",
       "      <td>100120.0</td>\n",
       "      <td>1775</td>\n",
       "      <td>47.0</td>\n",
       "      <td>54.323556</td>\n",
       "      <td>0.0</td>\n",
       "      <td>2021</td>\n",
       "      <td>-7.323556</td>\n",
       "    </tr>\n",
       "    <tr>\n",
       "      <th>12</th>\n",
       "      <td>NaN</td>\n",
       "      <td>NaN</td>\n",
       "      <td>NaN</td>\n",
       "      <td>Alabama</td>\n",
       "      <td>Attalla city</td>\n",
       "      <td>NaN</td>\n",
       "      <td>0.0</td>\n",
       "      <td>100180.0</td>\n",
       "      <td>908</td>\n",
       "      <td>38.0</td>\n",
       "      <td>54.323556</td>\n",
       "      <td>0.0</td>\n",
       "      <td>2021</td>\n",
       "      <td>-16.323556</td>\n",
       "    </tr>\n",
       "    <tr>\n",
       "      <th>13</th>\n",
       "      <td>NaN</td>\n",
       "      <td>NaN</td>\n",
       "      <td>NaN</td>\n",
       "      <td>Alabama</td>\n",
       "      <td>Saraland city</td>\n",
       "      <td>NaN</td>\n",
       "      <td>0.0</td>\n",
       "      <td>100185.0</td>\n",
       "      <td>1480</td>\n",
       "      <td>51.0</td>\n",
       "      <td>54.323556</td>\n",
       "      <td>0.0</td>\n",
       "      <td>2021</td>\n",
       "      <td>-3.323556</td>\n",
       "    </tr>\n",
       "    <tr>\n",
       "      <th>14</th>\n",
       "      <td>NaN</td>\n",
       "      <td>NaN</td>\n",
       "      <td>NaN</td>\n",
       "      <td>Alabama</td>\n",
       "      <td>Chickasaw city</td>\n",
       "      <td>NaN</td>\n",
       "      <td>0.0</td>\n",
       "      <td>100188.0</td>\n",
       "      <td>487</td>\n",
       "      <td>26.0</td>\n",
       "      <td>54.323556</td>\n",
       "      <td>0.0</td>\n",
       "      <td>2021</td>\n",
       "      <td>-28.323556</td>\n",
       "    </tr>\n",
       "    <tr>\n",
       "      <th>15</th>\n",
       "      <td>NaN</td>\n",
       "      <td>NaN</td>\n",
       "      <td>NaN</td>\n",
       "      <td>Alabama</td>\n",
       "      <td>Satsuma city</td>\n",
       "      <td>NaN</td>\n",
       "      <td>0.0</td>\n",
       "      <td>100189.0</td>\n",
       "      <td>714</td>\n",
       "      <td>49.0</td>\n",
       "      <td>54.323556</td>\n",
       "      <td>0.0</td>\n",
       "      <td>2021</td>\n",
       "      <td>-5.323556</td>\n",
       "    </tr>\n",
       "    <tr>\n",
       "      <th>16</th>\n",
       "      <td>NaN</td>\n",
       "      <td>NaN</td>\n",
       "      <td>NaN</td>\n",
       "      <td>Alabama</td>\n",
       "      <td>Alabaster city</td>\n",
       "      <td>NaN</td>\n",
       "      <td>0.0</td>\n",
       "      <td>100190.0</td>\n",
       "      <td>3328</td>\n",
       "      <td>44.0</td>\n",
       "      <td>54.323556</td>\n",
       "      <td>0.0</td>\n",
       "      <td>2021</td>\n",
       "      <td>-10.323556</td>\n",
       "    </tr>\n",
       "    <tr>\n",
       "      <th>17</th>\n",
       "      <td>NaN</td>\n",
       "      <td>NaN</td>\n",
       "      <td>NaN</td>\n",
       "      <td>Alabama</td>\n",
       "      <td>Pelham city</td>\n",
       "      <td>NaN</td>\n",
       "      <td>0.0</td>\n",
       "      <td>100194.0</td>\n",
       "      <td>1700</td>\n",
       "      <td>47.0</td>\n",
       "      <td>54.323556</td>\n",
       "      <td>0.0</td>\n",
       "      <td>2021</td>\n",
       "      <td>-7.323556</td>\n",
       "    </tr>\n",
       "    <tr>\n",
       "      <th>18</th>\n",
       "      <td>NaN</td>\n",
       "      <td>NaN</td>\n",
       "      <td>NaN</td>\n",
       "      <td>Alabama</td>\n",
       "      <td>Auburn city</td>\n",
       "      <td>NaN</td>\n",
       "      <td>0.0</td>\n",
       "      <td>100210.0</td>\n",
       "      <td>4326</td>\n",
       "      <td>60.0</td>\n",
       "      <td>54.323556</td>\n",
       "      <td>0.0</td>\n",
       "      <td>2021</td>\n",
       "      <td>5.676444</td>\n",
       "    </tr>\n",
       "    <tr>\n",
       "      <th>19</th>\n",
       "      <td>NaN</td>\n",
       "      <td>NaN</td>\n",
       "      <td>NaN</td>\n",
       "      <td>Alabama</td>\n",
       "      <td>Autauga county</td>\n",
       "      <td>NaN</td>\n",
       "      <td>0.0</td>\n",
       "      <td>100240.0</td>\n",
       "      <td>5163</td>\n",
       "      <td>48.0</td>\n",
       "      <td>54.323556</td>\n",
       "      <td>0.0</td>\n",
       "      <td>2021</td>\n",
       "      <td>-6.323556</td>\n",
       "    </tr>\n",
       "    <tr>\n",
       "      <th>20</th>\n",
       "      <td>NaN</td>\n",
       "      <td>NaN</td>\n",
       "      <td>NaN</td>\n",
       "      <td>Alabama</td>\n",
       "      <td>Baldwin county</td>\n",
       "      <td>NaN</td>\n",
       "      <td>0.0</td>\n",
       "      <td>100270.0</td>\n",
       "      <td>15955</td>\n",
       "      <td>42.0</td>\n",
       "      <td>54.323556</td>\n",
       "      <td>0.0</td>\n",
       "      <td>2021</td>\n",
       "      <td>-12.323556</td>\n",
       "    </tr>\n",
       "    <tr>\n",
       "      <th>21</th>\n",
       "      <td>NaN</td>\n",
       "      <td>NaN</td>\n",
       "      <td>NaN</td>\n",
       "      <td>Alabama</td>\n",
       "      <td>Barbour county</td>\n",
       "      <td>NaN</td>\n",
       "      <td>0.0</td>\n",
       "      <td>100300.0</td>\n",
       "      <td>454</td>\n",
       "      <td>15.0</td>\n",
       "      <td>54.323556</td>\n",
       "      <td>0.0</td>\n",
       "      <td>2021</td>\n",
       "      <td>-39.323556</td>\n",
       "    </tr>\n",
       "    <tr>\n",
       "      <th>22</th>\n",
       "      <td>NaN</td>\n",
       "      <td>NaN</td>\n",
       "      <td>NaN</td>\n",
       "      <td>Alabama</td>\n",
       "      <td>Bessemer city</td>\n",
       "      <td>NaN</td>\n",
       "      <td>0.0</td>\n",
       "      <td>100330.0</td>\n",
       "      <td>2011</td>\n",
       "      <td>16.0</td>\n",
       "      <td>54.323556</td>\n",
       "      <td>0.0</td>\n",
       "      <td>2021</td>\n",
       "      <td>-38.323556</td>\n",
       "    </tr>\n",
       "    <tr>\n",
       "      <th>23</th>\n",
       "      <td>NaN</td>\n",
       "      <td>NaN</td>\n",
       "      <td>NaN</td>\n",
       "      <td>Alabama</td>\n",
       "      <td>Bibb county</td>\n",
       "      <td>NaN</td>\n",
       "      <td>0.0</td>\n",
       "      <td>100360.0</td>\n",
       "      <td>1786</td>\n",
       "      <td>33.0</td>\n",
       "      <td>54.323556</td>\n",
       "      <td>0.0</td>\n",
       "      <td>2021</td>\n",
       "      <td>-21.323556</td>\n",
       "    </tr>\n",
       "    <tr>\n",
       "      <th>24</th>\n",
       "      <td>NaN</td>\n",
       "      <td>NaN</td>\n",
       "      <td>NaN</td>\n",
       "      <td>Alabama</td>\n",
       "      <td>Birmingham city</td>\n",
       "      <td>NaN</td>\n",
       "      <td>0.0</td>\n",
       "      <td>100390.0</td>\n",
       "      <td>12157</td>\n",
       "      <td>20.0</td>\n",
       "      <td>54.323556</td>\n",
       "      <td>0.0</td>\n",
       "      <td>2021</td>\n",
       "      <td>-34.323556</td>\n",
       "    </tr>\n",
       "    <tr>\n",
       "      <th>25</th>\n",
       "      <td>NaN</td>\n",
       "      <td>NaN</td>\n",
       "      <td>NaN</td>\n",
       "      <td>Alabama</td>\n",
       "      <td>Blount county</td>\n",
       "      <td>NaN</td>\n",
       "      <td>0.0</td>\n",
       "      <td>100420.0</td>\n",
       "      <td>4255</td>\n",
       "      <td>39.0</td>\n",
       "      <td>54.323556</td>\n",
       "      <td>0.0</td>\n",
       "      <td>2021</td>\n",
       "      <td>-15.323556</td>\n",
       "    </tr>\n",
       "    <tr>\n",
       "      <th>26</th>\n",
       "      <td>NaN</td>\n",
       "      <td>NaN</td>\n",
       "      <td>NaN</td>\n",
       "      <td>Alabama</td>\n",
       "      <td>Brewton city</td>\n",
       "      <td>NaN</td>\n",
       "      <td>0.0</td>\n",
       "      <td>100450.0</td>\n",
       "      <td>603</td>\n",
       "      <td>50.0</td>\n",
       "      <td>54.323556</td>\n",
       "      <td>0.0</td>\n",
       "      <td>2021</td>\n",
       "      <td>-4.323556</td>\n",
       "    </tr>\n",
       "    <tr>\n",
       "      <th>27</th>\n",
       "      <td>NaN</td>\n",
       "      <td>NaN</td>\n",
       "      <td>NaN</td>\n",
       "      <td>Alabama</td>\n",
       "      <td>Bullock county</td>\n",
       "      <td>NaN</td>\n",
       "      <td>0.0</td>\n",
       "      <td>100480.0</td>\n",
       "      <td>698</td>\n",
       "      <td>19.0</td>\n",
       "      <td>54.323556</td>\n",
       "      <td>0.0</td>\n",
       "      <td>2021</td>\n",
       "      <td>-35.323556</td>\n",
       "    </tr>\n",
       "    <tr>\n",
       "      <th>28</th>\n",
       "      <td>NaN</td>\n",
       "      <td>NaN</td>\n",
       "      <td>NaN</td>\n",
       "      <td>Alabama</td>\n",
       "      <td>Butler county</td>\n",
       "      <td>NaN</td>\n",
       "      <td>0.0</td>\n",
       "      <td>100510.0</td>\n",
       "      <td>1566</td>\n",
       "      <td>27.0</td>\n",
       "      <td>54.323556</td>\n",
       "      <td>0.0</td>\n",
       "      <td>2021</td>\n",
       "      <td>-27.323556</td>\n",
       "    </tr>\n",
       "    <tr>\n",
       "      <th>29</th>\n",
       "      <td>NaN</td>\n",
       "      <td>NaN</td>\n",
       "      <td>NaN</td>\n",
       "      <td>Alabama</td>\n",
       "      <td>Calhoun county</td>\n",
       "      <td>NaN</td>\n",
       "      <td>0.0</td>\n",
       "      <td>100540.0</td>\n",
       "      <td>4921</td>\n",
       "      <td>42.0</td>\n",
       "      <td>54.323556</td>\n",
       "      <td>0.0</td>\n",
       "      <td>2021</td>\n",
       "      <td>-12.323556</td>\n",
       "    </tr>\n",
       "  </tbody>\n",
       "</table>\n",
       "</div>"
      ],
      "text/plain": [
       "   Author Title Type of Ban    State          District Origin of Challenge  \\\n",
       "0     NaN   NaN         NaN  Alabama  Albertville city                 NaN   \n",
       "1     NaN   NaN         NaN  Alabama   Marshall county                 NaN   \n",
       "2     NaN   NaN         NaN  Alabama       Hoover city                 NaN   \n",
       "3     NaN   NaN         NaN  Alabama      Madison city                 NaN   \n",
       "4     NaN   NaN         NaN  Alabama        Leeds city                 NaN   \n",
       "5     NaN   NaN         NaN  Alabama         Boaz city                 NaN   \n",
       "6     NaN   NaN         NaN  Alabama   Trussville city                 NaN   \n",
       "7     NaN   NaN         NaN  Alabama    Alexander city                 NaN   \n",
       "8     NaN   NaN         NaN  Alabama    Andalusia city                 NaN   \n",
       "9     NaN   NaN         NaN  Alabama     Anniston city                 NaN   \n",
       "10    NaN   NaN         NaN  Alabama         Arab city                 NaN   \n",
       "11    NaN   NaN         NaN  Alabama       Athens city                 NaN   \n",
       "12    NaN   NaN         NaN  Alabama      Attalla city                 NaN   \n",
       "13    NaN   NaN         NaN  Alabama     Saraland city                 NaN   \n",
       "14    NaN   NaN         NaN  Alabama    Chickasaw city                 NaN   \n",
       "15    NaN   NaN         NaN  Alabama      Satsuma city                 NaN   \n",
       "16    NaN   NaN         NaN  Alabama    Alabaster city                 NaN   \n",
       "17    NaN   NaN         NaN  Alabama       Pelham city                 NaN   \n",
       "18    NaN   NaN         NaN  Alabama       Auburn city                 NaN   \n",
       "19    NaN   NaN         NaN  Alabama    Autauga county                 NaN   \n",
       "20    NaN   NaN         NaN  Alabama    Baldwin county                 NaN   \n",
       "21    NaN   NaN         NaN  Alabama    Barbour county                 NaN   \n",
       "22    NaN   NaN         NaN  Alabama     Bessemer city                 NaN   \n",
       "23    NaN   NaN         NaN  Alabama       Bibb county                 NaN   \n",
       "24    NaN   NaN         NaN  Alabama   Birmingham city                 NaN   \n",
       "25    NaN   NaN         NaN  Alabama     Blount county                 NaN   \n",
       "26    NaN   NaN         NaN  Alabama      Brewton city                 NaN   \n",
       "27    NaN   NaN         NaN  Alabama    Bullock county                 NaN   \n",
       "28    NaN   NaN         NaN  Alabama     Butler county                 NaN   \n",
       "29    NaN   NaN         NaN  Alabama    Calhoun county                 NaN   \n",
       "\n",
       "    Frequency        ID  Students_tested  Reading_proficiency_rate  \\\n",
       "0         0.0  100005.0             2514                      32.0   \n",
       "1         0.0  100006.0             2988                      36.0   \n",
       "2         0.0  100007.0             7434                      61.0   \n",
       "3         0.0  100008.0             5232                      70.0   \n",
       "4         0.0  100011.0              939                      39.0   \n",
       "5         0.0  100012.0             1245                      39.0   \n",
       "6         0.0  100013.0             2363                      58.0   \n",
       "7         0.0  100030.0             1536                      38.0   \n",
       "8         0.0  100060.0              887                      42.0   \n",
       "9         0.0  100090.0              995                      21.0   \n",
       "10        0.0  100100.0             1308                      64.0   \n",
       "11        0.0  100120.0             1775                      47.0   \n",
       "12        0.0  100180.0              908                      38.0   \n",
       "13        0.0  100185.0             1480                      51.0   \n",
       "14        0.0  100188.0              487                      26.0   \n",
       "15        0.0  100189.0              714                      49.0   \n",
       "16        0.0  100190.0             3328                      44.0   \n",
       "17        0.0  100194.0             1700                      47.0   \n",
       "18        0.0  100210.0             4326                      60.0   \n",
       "19        0.0  100240.0             5163                      48.0   \n",
       "20        0.0  100270.0            15955                      42.0   \n",
       "21        0.0  100300.0              454                      15.0   \n",
       "22        0.0  100330.0             2011                      16.0   \n",
       "23        0.0  100360.0             1786                      33.0   \n",
       "24        0.0  100390.0            12157                      20.0   \n",
       "25        0.0  100420.0             4255                      39.0   \n",
       "26        0.0  100450.0              603                      50.0   \n",
       "27        0.0  100480.0              698                      19.0   \n",
       "28        0.0  100510.0             1566                      27.0   \n",
       "29        0.0  100540.0             4921                      42.0   \n",
       "\n",
       "    Average_proficiency  District_bans  Year  Diff_from_mean  \n",
       "0             54.323556            0.0  2021      -22.323556  \n",
       "1             54.323556            0.0  2021      -18.323556  \n",
       "2             54.323556            0.0  2021        6.676444  \n",
       "3             54.323556            0.0  2021       15.676444  \n",
       "4             54.323556            0.0  2021      -15.323556  \n",
       "5             54.323556            0.0  2021      -15.323556  \n",
       "6             54.323556            0.0  2021        3.676444  \n",
       "7             54.323556            0.0  2021      -16.323556  \n",
       "8             54.323556            0.0  2021      -12.323556  \n",
       "9             54.323556            0.0  2021      -33.323556  \n",
       "10            54.323556            0.0  2021        9.676444  \n",
       "11            54.323556            0.0  2021       -7.323556  \n",
       "12            54.323556            0.0  2021      -16.323556  \n",
       "13            54.323556            0.0  2021       -3.323556  \n",
       "14            54.323556            0.0  2021      -28.323556  \n",
       "15            54.323556            0.0  2021       -5.323556  \n",
       "16            54.323556            0.0  2021      -10.323556  \n",
       "17            54.323556            0.0  2021       -7.323556  \n",
       "18            54.323556            0.0  2021        5.676444  \n",
       "19            54.323556            0.0  2021       -6.323556  \n",
       "20            54.323556            0.0  2021      -12.323556  \n",
       "21            54.323556            0.0  2021      -39.323556  \n",
       "22            54.323556            0.0  2021      -38.323556  \n",
       "23            54.323556            0.0  2021      -21.323556  \n",
       "24            54.323556            0.0  2021      -34.323556  \n",
       "25            54.323556            0.0  2021      -15.323556  \n",
       "26            54.323556            0.0  2021       -4.323556  \n",
       "27            54.323556            0.0  2021      -35.323556  \n",
       "28            54.323556            0.0  2021      -27.323556  \n",
       "29            54.323556            0.0  2021      -12.323556  "
      ]
     },
     "execution_count": 4,
     "metadata": {},
     "output_type": "execute_result"
    }
   ],
   "source": [
    "clean_total.head(30)"
   ]
  },
  {
   "cell_type": "code",
   "execution_count": 5,
   "id": "3b2b1293",
   "metadata": {},
   "outputs": [
    {
     "data": {
      "text/html": [
       "<div>\n",
       "<style scoped>\n",
       "    .dataframe tbody tr th:only-of-type {\n",
       "        vertical-align: middle;\n",
       "    }\n",
       "\n",
       "    .dataframe tbody tr th {\n",
       "        vertical-align: top;\n",
       "    }\n",
       "\n",
       "    .dataframe thead th {\n",
       "        text-align: right;\n",
       "    }\n",
       "</style>\n",
       "<table border=\"1\" class=\"dataframe\">\n",
       "  <thead>\n",
       "    <tr style=\"text-align: right;\">\n",
       "      <th></th>\n",
       "      <th>Author</th>\n",
       "      <th>Title</th>\n",
       "      <th>Type of Ban</th>\n",
       "      <th>State</th>\n",
       "      <th>District</th>\n",
       "      <th>Origin of Challenge</th>\n",
       "      <th>Frequency</th>\n",
       "      <th>ID</th>\n",
       "      <th>Students_tested</th>\n",
       "      <th>Reading_proficiency_rate</th>\n",
       "      <th>Average_proficiency</th>\n",
       "      <th>District_bans</th>\n",
       "      <th>Year</th>\n",
       "      <th>Diff_from_mean</th>\n",
       "    </tr>\n",
       "  </thead>\n",
       "  <tbody>\n",
       "    <tr>\n",
       "      <th>145</th>\n",
       "      <td>Kobabe, Maia</td>\n",
       "      <td>Gender Queer: A Memoir</td>\n",
       "      <td>Banned in Libraries and Classrooms</td>\n",
       "      <td>Alaska</td>\n",
       "      <td>Anchorage school district</td>\n",
       "      <td>Administrator</td>\n",
       "      <td>41.0</td>\n",
       "      <td>200180.0</td>\n",
       "      <td>27500</td>\n",
       "      <td>39.0</td>\n",
       "      <td>54.323556</td>\n",
       "      <td>1.0</td>\n",
       "      <td>2021</td>\n",
       "      <td>-15.323556</td>\n",
       "    </tr>\n",
       "    <tr>\n",
       "      <th>4120</th>\n",
       "      <td>NaN</td>\n",
       "      <td>NaN</td>\n",
       "      <td>NaN</td>\n",
       "      <td>Kentucky</td>\n",
       "      <td>Anchorage independent</td>\n",
       "      <td>NaN</td>\n",
       "      <td>0.0</td>\n",
       "      <td>2100090.0</td>\n",
       "      <td>251</td>\n",
       "      <td>87.0</td>\n",
       "      <td>54.323556</td>\n",
       "      <td>0.0</td>\n",
       "      <td>2021</td>\n",
       "      <td>32.676444</td>\n",
       "    </tr>\n",
       "  </tbody>\n",
       "</table>\n",
       "</div>"
      ],
      "text/plain": [
       "            Author                   Title  \\\n",
       "145   Kobabe, Maia  Gender Queer: A Memoir   \n",
       "4120           NaN                     NaN   \n",
       "\n",
       "                             Type of Ban     State                   District  \\\n",
       "145   Banned in Libraries and Classrooms    Alaska  Anchorage school district   \n",
       "4120                                 NaN  Kentucky      Anchorage independent   \n",
       "\n",
       "     Origin of Challenge  Frequency         ID  Students_tested  \\\n",
       "145        Administrator       41.0   200180.0            27500   \n",
       "4120                 NaN        0.0  2100090.0              251   \n",
       "\n",
       "      Reading_proficiency_rate  Average_proficiency  District_bans  Year  \\\n",
       "145                       39.0            54.323556            1.0  2021   \n",
       "4120                      87.0            54.323556            0.0  2021   \n",
       "\n",
       "      Diff_from_mean  \n",
       "145       -15.323556  \n",
       "4120       32.676444  "
      ]
     },
     "execution_count": 5,
     "metadata": {},
     "output_type": "execute_result"
    }
   ],
   "source": [
    "clean_total[clean_total['District'].str.contains(\"Anchorage\")]"
   ]
  },
  {
   "cell_type": "code",
   "execution_count": 6,
   "id": "74b67d8e",
   "metadata": {},
   "outputs": [],
   "source": [
    "state_bans['District'] = state_bans['District'].replace(['North East'], 'North east independent school district', regex=True)"
   ]
  },
  {
   "cell_type": "code",
   "execution_count": 7,
   "id": "0c13b25d",
   "metadata": {},
   "outputs": [
    {
     "data": {
      "text/plain": [
       "array(['Texas', 'Pennsylvania', 'Florida', 'Oklahoma', 'Kansas',\n",
       "       'Indiana', 'Tennessee', 'Virginia', 'Missouri', 'Georgia',\n",
       "       'New York', 'Utah', 'North Carolina', 'Washington', 'Wisconsin',\n",
       "       'Ohio', 'Iowa', 'Illinois', 'New Jersey', 'Michigan', 'Alaska',\n",
       "       'South Carolina', 'Maryland', 'Minnesota', 'Arkansas',\n",
       "       'Rhode Island'], dtype=object)"
      ]
     },
     "execution_count": 7,
     "metadata": {},
     "output_type": "execute_result"
    }
   ],
   "source": [
    "state_bans.State.unique()"
   ]
  },
  {
   "cell_type": "code",
   "execution_count": 8,
   "id": "9d845b78",
   "metadata": {},
   "outputs": [
    {
     "data": {
      "text/html": [
       "<div>\n",
       "<style scoped>\n",
       "    .dataframe tbody tr th:only-of-type {\n",
       "        vertical-align: middle;\n",
       "    }\n",
       "\n",
       "    .dataframe tbody tr th {\n",
       "        vertical-align: top;\n",
       "    }\n",
       "\n",
       "    .dataframe thead th {\n",
       "        text-align: right;\n",
       "    }\n",
       "</style>\n",
       "<table border=\"1\" class=\"dataframe\">\n",
       "  <thead>\n",
       "    <tr style=\"text-align: right;\">\n",
       "      <th></th>\n",
       "      <th>Unnamed: 0</th>\n",
       "      <th>State</th>\n",
       "      <th>District</th>\n",
       "      <th>Date of Challenge/Removal</th>\n",
       "      <th>State_Frequency</th>\n",
       "      <th>District_Frequency</th>\n",
       "    </tr>\n",
       "  </thead>\n",
       "  <tbody>\n",
       "    <tr>\n",
       "      <th>1580</th>\n",
       "      <td>0</td>\n",
       "      <td>Alaska</td>\n",
       "      <td>Anchorage School District</td>\n",
       "      <td>2021-10-01 00:00:00</td>\n",
       "      <td>1</td>\n",
       "      <td>1</td>\n",
       "    </tr>\n",
       "  </tbody>\n",
       "</table>\n",
       "</div>"
      ],
      "text/plain": [
       "      Unnamed: 0   State                   District Date of Challenge/Removal  \\\n",
       "1580           0  Alaska  Anchorage School District       2021-10-01 00:00:00   \n",
       "\n",
       "      State_Frequency  District_Frequency  \n",
       "1580                1                   1  "
      ]
     },
     "execution_count": 8,
     "metadata": {},
     "output_type": "execute_result"
    }
   ],
   "source": [
    "state_bans[state_bans['State'].str.contains(\"Ala\")]"
   ]
  },
  {
   "cell_type": "code",
   "execution_count": 9,
   "id": "1de4be31",
   "metadata": {},
   "outputs": [
    {
     "name": "stdout",
     "output_type": "stream",
     "text": [
      "['North east independent school district'\n",
      " 'Granbury Independent School District' 'Fredericksburg ISD' 'Prosper ISD'\n",
      " 'Klein ISD' 'Birdville' 'Katy' 'Leander' 'Keller'\n",
      " 'Lamar Consolidated ISD' 'Spring Branch ISD' 'Tyler ISD'\n",
      " 'Canutillo Independent School District' 'Denton' 'Lake Travis' 'Waller']\n"
     ]
    }
   ],
   "source": [
    "print(state_bans.loc[state_bans['State'] == 'Texas', 'District'].unique())"
   ]
  },
  {
   "cell_type": "code",
   "execution_count": 10,
   "id": "5ccf8f32",
   "metadata": {},
   "outputs": [],
   "source": [
    "z = bans['State'].value_counts()\n",
    "\n",
    "z1 = z.to_dict()\n",
    "\n",
    "bans['Number_state_bans'] = bans['State'].map(z1) "
   ]
  },
  {
   "cell_type": "code",
   "execution_count": 11,
   "id": "5039f50f",
   "metadata": {},
   "outputs": [],
   "source": [
    "z = bans['District'].value_counts()\n",
    "\n",
    "z1 = z.to_dict()\n",
    "\n",
    "bans['District_bans'] = bans['District'].map(z1) "
   ]
  },
  {
   "cell_type": "code",
   "execution_count": 12,
   "id": "d11b1617",
   "metadata": {},
   "outputs": [
    {
     "data": {
      "text/html": [
       "<div>\n",
       "<style scoped>\n",
       "    .dataframe tbody tr th:only-of-type {\n",
       "        vertical-align: middle;\n",
       "    }\n",
       "\n",
       "    .dataframe tbody tr th {\n",
       "        vertical-align: top;\n",
       "    }\n",
       "\n",
       "    .dataframe thead th {\n",
       "        text-align: right;\n",
       "    }\n",
       "</style>\n",
       "<table border=\"1\" class=\"dataframe\">\n",
       "  <thead>\n",
       "    <tr style=\"text-align: right;\">\n",
       "      <th></th>\n",
       "      <th>Author</th>\n",
       "      <th>Title</th>\n",
       "      <th>Type of Ban</th>\n",
       "      <th>Secondary Author(s)</th>\n",
       "      <th>Illustrator(s)</th>\n",
       "      <th>Translator(s)</th>\n",
       "      <th>State</th>\n",
       "      <th>District</th>\n",
       "      <th>Date of Challenge/Removal</th>\n",
       "      <th>Origin of Challenge</th>\n",
       "      <th>Number_state_bans</th>\n",
       "      <th>District_bans</th>\n",
       "    </tr>\n",
       "  </thead>\n",
       "  <tbody>\n",
       "    <tr>\n",
       "      <th>0</th>\n",
       "      <td>Àbíké-Íyímídé, Faridah</td>\n",
       "      <td>Ace of Spades</td>\n",
       "      <td>Banned in Libraries and Classrooms</td>\n",
       "      <td>NaN</td>\n",
       "      <td>NaN</td>\n",
       "      <td>NaN</td>\n",
       "      <td>Florida</td>\n",
       "      <td>Indian River County School District</td>\n",
       "      <td>November 2021</td>\n",
       "      <td>Administrator</td>\n",
       "      <td>566</td>\n",
       "      <td>161</td>\n",
       "    </tr>\n",
       "    <tr>\n",
       "      <th>1</th>\n",
       "      <td>Acevedo, Elizabeth</td>\n",
       "      <td>Clap When You Land</td>\n",
       "      <td>Banned in Classrooms</td>\n",
       "      <td>NaN</td>\n",
       "      <td>NaN</td>\n",
       "      <td>NaN</td>\n",
       "      <td>Pennsylvania</td>\n",
       "      <td>Central York School District</td>\n",
       "      <td>August 2021</td>\n",
       "      <td>Administrator</td>\n",
       "      <td>458</td>\n",
       "      <td>441</td>\n",
       "    </tr>\n",
       "    <tr>\n",
       "      <th>2</th>\n",
       "      <td>Acevedo, Elizabeth</td>\n",
       "      <td>The Poet X</td>\n",
       "      <td>Banned in Libraries</td>\n",
       "      <td>NaN</td>\n",
       "      <td>NaN</td>\n",
       "      <td>NaN</td>\n",
       "      <td>Florida</td>\n",
       "      <td>Indian River County School District</td>\n",
       "      <td>November 2021</td>\n",
       "      <td>Administrator</td>\n",
       "      <td>566</td>\n",
       "      <td>161</td>\n",
       "    </tr>\n",
       "    <tr>\n",
       "      <th>3</th>\n",
       "      <td>Acevedo, Elizabeth</td>\n",
       "      <td>The Poet X</td>\n",
       "      <td>Banned in Libraries and Classrooms</td>\n",
       "      <td>NaN</td>\n",
       "      <td>NaN</td>\n",
       "      <td>NaN</td>\n",
       "      <td>New York</td>\n",
       "      <td>Marlboro Central School District</td>\n",
       "      <td>February 2022</td>\n",
       "      <td>Administrator</td>\n",
       "      <td>13</td>\n",
       "      <td>2</td>\n",
       "    </tr>\n",
       "    <tr>\n",
       "      <th>4</th>\n",
       "      <td>Acevedo, Elizabeth</td>\n",
       "      <td>The Poet X</td>\n",
       "      <td>Banned Pending Investigation</td>\n",
       "      <td>NaN</td>\n",
       "      <td>NaN</td>\n",
       "      <td>NaN</td>\n",
       "      <td>Texas</td>\n",
       "      <td>Fredericksburg Independent School District</td>\n",
       "      <td>March 2022</td>\n",
       "      <td>Administrator</td>\n",
       "      <td>801</td>\n",
       "      <td>42</td>\n",
       "    </tr>\n",
       "    <tr>\n",
       "      <th>...</th>\n",
       "      <td>...</td>\n",
       "      <td>...</td>\n",
       "      <td>...</td>\n",
       "      <td>...</td>\n",
       "      <td>...</td>\n",
       "      <td>...</td>\n",
       "      <td>...</td>\n",
       "      <td>...</td>\n",
       "      <td>...</td>\n",
       "      <td>...</td>\n",
       "      <td>...</td>\n",
       "      <td>...</td>\n",
       "    </tr>\n",
       "    <tr>\n",
       "      <th>2527</th>\n",
       "      <td>Zia, Farhana</td>\n",
       "      <td>The Garden of My Imaan</td>\n",
       "      <td>Banned Pending Investigation</td>\n",
       "      <td>NaN</td>\n",
       "      <td>NaN</td>\n",
       "      <td>NaN</td>\n",
       "      <td>Florida</td>\n",
       "      <td>Duval County Public Schools</td>\n",
       "      <td>January 2022</td>\n",
       "      <td>Administrator</td>\n",
       "      <td>566</td>\n",
       "      <td>176</td>\n",
       "    </tr>\n",
       "    <tr>\n",
       "      <th>2528</th>\n",
       "      <td>Ziemke, Kristin</td>\n",
       "      <td>Read the World: Rethinking Literacy for Empath...</td>\n",
       "      <td>Banned in Classrooms</td>\n",
       "      <td>Muhtaris, Katie</td>\n",
       "      <td>NaN</td>\n",
       "      <td>NaN</td>\n",
       "      <td>Pennsylvania</td>\n",
       "      <td>Central York School District</td>\n",
       "      <td>August 2021</td>\n",
       "      <td>Administrator</td>\n",
       "      <td>458</td>\n",
       "      <td>441</td>\n",
       "    </tr>\n",
       "    <tr>\n",
       "      <th>2529</th>\n",
       "      <td>Zoboi, Ibi</td>\n",
       "      <td>American Street</td>\n",
       "      <td>Banned in Classrooms</td>\n",
       "      <td>NaN</td>\n",
       "      <td>NaN</td>\n",
       "      <td>NaN</td>\n",
       "      <td>Pennsylvania</td>\n",
       "      <td>Pennridge School District</td>\n",
       "      <td>August 2021</td>\n",
       "      <td>Administrator</td>\n",
       "      <td>458</td>\n",
       "      <td>3</td>\n",
       "    </tr>\n",
       "    <tr>\n",
       "      <th>2530</th>\n",
       "      <td>Zoboi, Ibi</td>\n",
       "      <td>Black Enough: Stories of Being Young &amp; Black i...</td>\n",
       "      <td>Banned in Libraries</td>\n",
       "      <td>NaN</td>\n",
       "      <td>NaN</td>\n",
       "      <td>NaN</td>\n",
       "      <td>Florida</td>\n",
       "      <td>Indian River County School District</td>\n",
       "      <td>November 2021</td>\n",
       "      <td>Administrator</td>\n",
       "      <td>566</td>\n",
       "      <td>161</td>\n",
       "    </tr>\n",
       "    <tr>\n",
       "      <th>2531</th>\n",
       "      <td>Zunon, Elizabeth</td>\n",
       "      <td>Grandpa Cacao: A Tale of Chocolate, from Farm ...</td>\n",
       "      <td>Banned in Classrooms</td>\n",
       "      <td>NaN</td>\n",
       "      <td>NaN</td>\n",
       "      <td>NaN</td>\n",
       "      <td>Pennsylvania</td>\n",
       "      <td>Central York School District</td>\n",
       "      <td>August 2021</td>\n",
       "      <td>Administrator</td>\n",
       "      <td>458</td>\n",
       "      <td>441</td>\n",
       "    </tr>\n",
       "  </tbody>\n",
       "</table>\n",
       "<p>2532 rows × 12 columns</p>\n",
       "</div>"
      ],
      "text/plain": [
       "                      Author  \\\n",
       "0     Àbíké-Íyímídé, Faridah   \n",
       "1         Acevedo, Elizabeth   \n",
       "2         Acevedo, Elizabeth   \n",
       "3         Acevedo, Elizabeth   \n",
       "4         Acevedo, Elizabeth   \n",
       "...                      ...   \n",
       "2527            Zia, Farhana   \n",
       "2528         Ziemke, Kristin   \n",
       "2529              Zoboi, Ibi   \n",
       "2530              Zoboi, Ibi   \n",
       "2531        Zunon, Elizabeth   \n",
       "\n",
       "                                                  Title  \\\n",
       "0                                         Ace of Spades   \n",
       "1                                    Clap When You Land   \n",
       "2                                            The Poet X   \n",
       "3                                            The Poet X   \n",
       "4                                            The Poet X   \n",
       "...                                                 ...   \n",
       "2527                             The Garden of My Imaan   \n",
       "2528  Read the World: Rethinking Literacy for Empath...   \n",
       "2529                                    American Street   \n",
       "2530  Black Enough: Stories of Being Young & Black i...   \n",
       "2531  Grandpa Cacao: A Tale of Chocolate, from Farm ...   \n",
       "\n",
       "                             Type of Ban Secondary Author(s) Illustrator(s)  \\\n",
       "0     Banned in Libraries and Classrooms                 NaN            NaN   \n",
       "1                   Banned in Classrooms                 NaN            NaN   \n",
       "2                    Banned in Libraries                 NaN            NaN   \n",
       "3     Banned in Libraries and Classrooms                 NaN            NaN   \n",
       "4           Banned Pending Investigation                 NaN            NaN   \n",
       "...                                  ...                 ...            ...   \n",
       "2527        Banned Pending Investigation                 NaN            NaN   \n",
       "2528                Banned in Classrooms     Muhtaris, Katie            NaN   \n",
       "2529                Banned in Classrooms                 NaN            NaN   \n",
       "2530                 Banned in Libraries                 NaN            NaN   \n",
       "2531                Banned in Classrooms                 NaN            NaN   \n",
       "\n",
       "     Translator(s)         State                                    District  \\\n",
       "0              NaN       Florida         Indian River County School District   \n",
       "1              NaN  Pennsylvania                Central York School District   \n",
       "2              NaN       Florida         Indian River County School District   \n",
       "3              NaN      New York            Marlboro Central School District   \n",
       "4              NaN         Texas  Fredericksburg Independent School District   \n",
       "...            ...           ...                                         ...   \n",
       "2527           NaN       Florida                 Duval County Public Schools   \n",
       "2528           NaN  Pennsylvania                Central York School District   \n",
       "2529           NaN  Pennsylvania                   Pennridge School District   \n",
       "2530           NaN       Florida         Indian River County School District   \n",
       "2531           NaN  Pennsylvania                Central York School District   \n",
       "\n",
       "     Date of Challenge/Removal Origin of Challenge  Number_state_bans  \\\n",
       "0                November 2021       Administrator                566   \n",
       "1                  August 2021       Administrator                458   \n",
       "2                November 2021       Administrator                566   \n",
       "3                February 2022       Administrator                 13   \n",
       "4                   March 2022       Administrator                801   \n",
       "...                        ...                 ...                ...   \n",
       "2527              January 2022       Administrator                566   \n",
       "2528               August 2021       Administrator                458   \n",
       "2529               August 2021       Administrator                458   \n",
       "2530             November 2021       Administrator                566   \n",
       "2531               August 2021       Administrator                458   \n",
       "\n",
       "      District_bans  \n",
       "0               161  \n",
       "1               441  \n",
       "2               161  \n",
       "3                 2  \n",
       "4                42  \n",
       "...             ...  \n",
       "2527            176  \n",
       "2528            441  \n",
       "2529              3  \n",
       "2530            161  \n",
       "2531            441  \n",
       "\n",
       "[2532 rows x 12 columns]"
      ]
     },
     "execution_count": 12,
     "metadata": {},
     "output_type": "execute_result"
    }
   ],
   "source": [
    "bans"
   ]
  },
  {
   "cell_type": "code",
   "execution_count": 13,
   "id": "65e01782",
   "metadata": {},
   "outputs": [
    {
     "data": {
      "text/html": [
       "<div>\n",
       "<style scoped>\n",
       "    .dataframe tbody tr th:only-of-type {\n",
       "        vertical-align: middle;\n",
       "    }\n",
       "\n",
       "    .dataframe tbody tr th {\n",
       "        vertical-align: top;\n",
       "    }\n",
       "\n",
       "    .dataframe thead th {\n",
       "        text-align: right;\n",
       "    }\n",
       "</style>\n",
       "<table border=\"1\" class=\"dataframe\">\n",
       "  <thead>\n",
       "    <tr style=\"text-align: right;\">\n",
       "      <th></th>\n",
       "      <th>Author</th>\n",
       "      <th>Title</th>\n",
       "      <th>Type of Ban</th>\n",
       "      <th>State</th>\n",
       "      <th>District</th>\n",
       "      <th>Origin of Challenge</th>\n",
       "      <th>Frequency</th>\n",
       "      <th>ID</th>\n",
       "      <th>Students_tested</th>\n",
       "      <th>Reading_proficiency_rate</th>\n",
       "      <th>Average_proficiency</th>\n",
       "      <th>District_bans</th>\n",
       "      <th>Year</th>\n",
       "      <th>Diff_from_mean</th>\n",
       "    </tr>\n",
       "  </thead>\n",
       "  <tbody>\n",
       "    <tr>\n",
       "      <th>0</th>\n",
       "      <td>NaN</td>\n",
       "      <td>NaN</td>\n",
       "      <td>NaN</td>\n",
       "      <td>Alabama</td>\n",
       "      <td>Albertville city</td>\n",
       "      <td>NaN</td>\n",
       "      <td>0.0</td>\n",
       "      <td>100005.0</td>\n",
       "      <td>2514</td>\n",
       "      <td>32.0</td>\n",
       "      <td>54.323556</td>\n",
       "      <td>0.0</td>\n",
       "      <td>2021</td>\n",
       "      <td>-22.323556</td>\n",
       "    </tr>\n",
       "    <tr>\n",
       "      <th>1</th>\n",
       "      <td>NaN</td>\n",
       "      <td>NaN</td>\n",
       "      <td>NaN</td>\n",
       "      <td>Alabama</td>\n",
       "      <td>Marshall county</td>\n",
       "      <td>NaN</td>\n",
       "      <td>0.0</td>\n",
       "      <td>100006.0</td>\n",
       "      <td>2988</td>\n",
       "      <td>36.0</td>\n",
       "      <td>54.323556</td>\n",
       "      <td>0.0</td>\n",
       "      <td>2021</td>\n",
       "      <td>-18.323556</td>\n",
       "    </tr>\n",
       "    <tr>\n",
       "      <th>2</th>\n",
       "      <td>NaN</td>\n",
       "      <td>NaN</td>\n",
       "      <td>NaN</td>\n",
       "      <td>Alabama</td>\n",
       "      <td>Hoover city</td>\n",
       "      <td>NaN</td>\n",
       "      <td>0.0</td>\n",
       "      <td>100007.0</td>\n",
       "      <td>7434</td>\n",
       "      <td>61.0</td>\n",
       "      <td>54.323556</td>\n",
       "      <td>0.0</td>\n",
       "      <td>2021</td>\n",
       "      <td>6.676444</td>\n",
       "    </tr>\n",
       "    <tr>\n",
       "      <th>3</th>\n",
       "      <td>NaN</td>\n",
       "      <td>NaN</td>\n",
       "      <td>NaN</td>\n",
       "      <td>Alabama</td>\n",
       "      <td>Madison city</td>\n",
       "      <td>NaN</td>\n",
       "      <td>0.0</td>\n",
       "      <td>100008.0</td>\n",
       "      <td>5232</td>\n",
       "      <td>70.0</td>\n",
       "      <td>54.323556</td>\n",
       "      <td>0.0</td>\n",
       "      <td>2021</td>\n",
       "      <td>15.676444</td>\n",
       "    </tr>\n",
       "    <tr>\n",
       "      <th>4</th>\n",
       "      <td>NaN</td>\n",
       "      <td>NaN</td>\n",
       "      <td>NaN</td>\n",
       "      <td>Alabama</td>\n",
       "      <td>Leeds city</td>\n",
       "      <td>NaN</td>\n",
       "      <td>0.0</td>\n",
       "      <td>100011.0</td>\n",
       "      <td>939</td>\n",
       "      <td>39.0</td>\n",
       "      <td>54.323556</td>\n",
       "      <td>0.0</td>\n",
       "      <td>2021</td>\n",
       "      <td>-15.323556</td>\n",
       "    </tr>\n",
       "  </tbody>\n",
       "</table>\n",
       "</div>"
      ],
      "text/plain": [
       "  Author Title Type of Ban    State          District Origin of Challenge  \\\n",
       "0    NaN   NaN         NaN  Alabama  Albertville city                 NaN   \n",
       "1    NaN   NaN         NaN  Alabama   Marshall county                 NaN   \n",
       "2    NaN   NaN         NaN  Alabama       Hoover city                 NaN   \n",
       "3    NaN   NaN         NaN  Alabama      Madison city                 NaN   \n",
       "4    NaN   NaN         NaN  Alabama        Leeds city                 NaN   \n",
       "\n",
       "   Frequency        ID  Students_tested  Reading_proficiency_rate  \\\n",
       "0        0.0  100005.0             2514                      32.0   \n",
       "1        0.0  100006.0             2988                      36.0   \n",
       "2        0.0  100007.0             7434                      61.0   \n",
       "3        0.0  100008.0             5232                      70.0   \n",
       "4        0.0  100011.0              939                      39.0   \n",
       "\n",
       "   Average_proficiency  District_bans  Year  Diff_from_mean  \n",
       "0            54.323556            0.0  2021      -22.323556  \n",
       "1            54.323556            0.0  2021      -18.323556  \n",
       "2            54.323556            0.0  2021        6.676444  \n",
       "3            54.323556            0.0  2021       15.676444  \n",
       "4            54.323556            0.0  2021      -15.323556  "
      ]
     },
     "execution_count": 13,
     "metadata": {},
     "output_type": "execute_result"
    }
   ],
   "source": [
    "clean_total.head()"
   ]
  },
  {
   "cell_type": "code",
   "execution_count": 14,
   "id": "2b392255",
   "metadata": {},
   "outputs": [],
   "source": [
    "clean_total['Frequency'] = clean_total['Frequency'].fillna(0)\n",
    "clean_total['District_bans'] = clean_total['District_bans'].fillna(0)"
   ]
  },
  {
   "cell_type": "markdown",
   "id": "ceea2895",
   "metadata": {},
   "source": [
    "Determining whether any of these columns contain non numeral or invalid values may suggest whether we should impute missing values using the mean or median (or another method)."
   ]
  },
  {
   "cell_type": "code",
   "execution_count": 15,
   "id": "ba5f1b85",
   "metadata": {},
   "outputs": [
    {
     "data": {
      "text/html": [
       "<div>\n",
       "<style scoped>\n",
       "    .dataframe tbody tr th:only-of-type {\n",
       "        vertical-align: middle;\n",
       "    }\n",
       "\n",
       "    .dataframe tbody tr th {\n",
       "        vertical-align: top;\n",
       "    }\n",
       "\n",
       "    .dataframe thead th {\n",
       "        text-align: right;\n",
       "    }\n",
       "</style>\n",
       "<table border=\"1\" class=\"dataframe\">\n",
       "  <thead>\n",
       "    <tr style=\"text-align: right;\">\n",
       "      <th></th>\n",
       "      <th>Author</th>\n",
       "      <th>Title</th>\n",
       "      <th>Type of Ban</th>\n",
       "      <th>State</th>\n",
       "      <th>District</th>\n",
       "      <th>Origin of Challenge</th>\n",
       "      <th>Frequency</th>\n",
       "      <th>ID</th>\n",
       "      <th>Students_tested</th>\n",
       "      <th>Reading_proficiency_rate</th>\n",
       "      <th>Average_proficiency</th>\n",
       "      <th>District_bans</th>\n",
       "      <th>Year</th>\n",
       "      <th>Diff_from_mean</th>\n",
       "    </tr>\n",
       "  </thead>\n",
       "  <tbody>\n",
       "  </tbody>\n",
       "</table>\n",
       "</div>"
      ],
      "text/plain": [
       "Empty DataFrame\n",
       "Columns: [Author, Title, Type of Ban, State, District, Origin of Challenge, Frequency, ID, Students_tested, Reading_proficiency_rate, Average_proficiency, District_bans, Year, Diff_from_mean]\n",
       "Index: []"
      ]
     },
     "execution_count": 15,
     "metadata": {},
     "output_type": "execute_result"
    }
   ],
   "source": [
    "df1 = clean_total[clean_total[['Frequency', 'ID', 'Students_tested', 'Reading_proficiency_rate', 'Average_proficiency', 'District_bans', 'Year', 'Diff_from_mean']].isna().any(axis=1)]\n",
    "df1"
   ]
  },
  {
   "cell_type": "markdown",
   "id": "992cb5be",
   "metadata": {},
   "source": [
    "With no missing values in these numeric columns, we do not need to choose the best way to fill in missing data. "
   ]
  },
  {
   "cell_type": "code",
   "execution_count": 16,
   "id": "754bca8b",
   "metadata": {},
   "outputs": [],
   "source": [
    "clean_total['District_no_bans'] = clean_total['District_bans'] == 0"
   ]
  },
  {
   "cell_type": "code",
   "execution_count": 17,
   "id": "8cff4e5b",
   "metadata": {},
   "outputs": [],
   "source": [
    "clean_total['District_has_bans'] = clean_total['District_no_bans'] == False"
   ]
  },
  {
   "cell_type": "code",
   "execution_count": 18,
   "id": "12c780a3",
   "metadata": {},
   "outputs": [
    {
     "data": {
      "text/plain": [
       "array([False,  True])"
      ]
     },
     "execution_count": 18,
     "metadata": {},
     "output_type": "execute_result"
    }
   ],
   "source": [
    "clean_total.District_has_bans.unique()"
   ]
  },
  {
   "cell_type": "code",
   "execution_count": 19,
   "id": "d3c1323d",
   "metadata": {},
   "outputs": [
    {
     "data": {
      "text/plain": [
       "array([ True, False])"
      ]
     },
     "execution_count": 19,
     "metadata": {},
     "output_type": "execute_result"
    }
   ],
   "source": [
    "clean_total.District_no_bans.unique()"
   ]
  },
  {
   "cell_type": "code",
   "execution_count": 20,
   "id": "5005cf43",
   "metadata": {},
   "outputs": [
    {
     "data": {
      "text/plain": [
       "False    11113\n",
       "True      2531\n",
       "Name: District_has_bans, dtype: int64"
      ]
     },
     "execution_count": 20,
     "metadata": {},
     "output_type": "execute_result"
    }
   ],
   "source": [
    "clean_total.District_has_bans.value_counts()"
   ]
  },
  {
   "cell_type": "code",
   "execution_count": 21,
   "id": "a266c36b",
   "metadata": {},
   "outputs": [
    {
     "data": {
      "text/plain": [
       "True     11113\n",
       "False     2531\n",
       "Name: District_no_bans, dtype: int64"
      ]
     },
     "execution_count": 21,
     "metadata": {},
     "output_type": "execute_result"
    }
   ],
   "source": [
    "clean_total.District_no_bans.value_counts()"
   ]
  },
  {
   "cell_type": "code",
   "execution_count": 22,
   "id": "8109a412",
   "metadata": {},
   "outputs": [],
   "source": [
    "selection = clean_total[['Students_tested', 'Reading_proficiency_rate', 'District_bans', 'Diff_from_mean', 'State', 'District', 'Year', 'Origin of Challenge', 'Type of Ban', 'District_has_bans']]"
   ]
  },
  {
   "cell_type": "code",
   "execution_count": 23,
   "id": "3bcb695c",
   "metadata": {},
   "outputs": [],
   "source": [
    "dums = pd.get_dummies(selection, drop_first = True , columns=['State', 'Origin of Challenge', 'Type of Ban', 'District_has_bans'])"
   ]
  },
  {
   "cell_type": "code",
   "execution_count": 24,
   "id": "ef525a1d",
   "metadata": {},
   "outputs": [
    {
     "data": {
      "text/html": [
       "<div>\n",
       "<style scoped>\n",
       "    .dataframe tbody tr th:only-of-type {\n",
       "        vertical-align: middle;\n",
       "    }\n",
       "\n",
       "    .dataframe tbody tr th {\n",
       "        vertical-align: top;\n",
       "    }\n",
       "\n",
       "    .dataframe thead th {\n",
       "        text-align: right;\n",
       "    }\n",
       "</style>\n",
       "<table border=\"1\" class=\"dataframe\">\n",
       "  <thead>\n",
       "    <tr style=\"text-align: right;\">\n",
       "      <th></th>\n",
       "      <th>Students_tested</th>\n",
       "      <th>Reading_proficiency_rate</th>\n",
       "      <th>District_bans</th>\n",
       "      <th>Diff_from_mean</th>\n",
       "      <th>District</th>\n",
       "      <th>Year</th>\n",
       "      <th>State_Alaska</th>\n",
       "      <th>State_Arizona</th>\n",
       "      <th>State_Arkansas</th>\n",
       "      <th>State_California</th>\n",
       "      <th>...</th>\n",
       "      <th>State_Washington</th>\n",
       "      <th>State_West virginia</th>\n",
       "      <th>State_Wisconsin</th>\n",
       "      <th>State_Wyoming</th>\n",
       "      <th>Origin of Challenge_Formal Challenge</th>\n",
       "      <th>Origin of Challenge_Other</th>\n",
       "      <th>Type of Ban_Banned in Classrooms</th>\n",
       "      <th>Type of Ban_Banned in Libraries</th>\n",
       "      <th>Type of Ban_Banned in Libraries and Classrooms</th>\n",
       "      <th>District_has_bans_True</th>\n",
       "    </tr>\n",
       "  </thead>\n",
       "  <tbody>\n",
       "    <tr>\n",
       "      <th>0</th>\n",
       "      <td>2514</td>\n",
       "      <td>32.0</td>\n",
       "      <td>0.0</td>\n",
       "      <td>-22.323556</td>\n",
       "      <td>Albertville city</td>\n",
       "      <td>2021</td>\n",
       "      <td>0</td>\n",
       "      <td>0</td>\n",
       "      <td>0</td>\n",
       "      <td>0</td>\n",
       "      <td>...</td>\n",
       "      <td>0</td>\n",
       "      <td>0</td>\n",
       "      <td>0</td>\n",
       "      <td>0</td>\n",
       "      <td>0</td>\n",
       "      <td>0</td>\n",
       "      <td>0</td>\n",
       "      <td>0</td>\n",
       "      <td>0</td>\n",
       "      <td>0</td>\n",
       "    </tr>\n",
       "    <tr>\n",
       "      <th>1</th>\n",
       "      <td>2988</td>\n",
       "      <td>36.0</td>\n",
       "      <td>0.0</td>\n",
       "      <td>-18.323556</td>\n",
       "      <td>Marshall county</td>\n",
       "      <td>2021</td>\n",
       "      <td>0</td>\n",
       "      <td>0</td>\n",
       "      <td>0</td>\n",
       "      <td>0</td>\n",
       "      <td>...</td>\n",
       "      <td>0</td>\n",
       "      <td>0</td>\n",
       "      <td>0</td>\n",
       "      <td>0</td>\n",
       "      <td>0</td>\n",
       "      <td>0</td>\n",
       "      <td>0</td>\n",
       "      <td>0</td>\n",
       "      <td>0</td>\n",
       "      <td>0</td>\n",
       "    </tr>\n",
       "    <tr>\n",
       "      <th>2</th>\n",
       "      <td>7434</td>\n",
       "      <td>61.0</td>\n",
       "      <td>0.0</td>\n",
       "      <td>6.676444</td>\n",
       "      <td>Hoover city</td>\n",
       "      <td>2021</td>\n",
       "      <td>0</td>\n",
       "      <td>0</td>\n",
       "      <td>0</td>\n",
       "      <td>0</td>\n",
       "      <td>...</td>\n",
       "      <td>0</td>\n",
       "      <td>0</td>\n",
       "      <td>0</td>\n",
       "      <td>0</td>\n",
       "      <td>0</td>\n",
       "      <td>0</td>\n",
       "      <td>0</td>\n",
       "      <td>0</td>\n",
       "      <td>0</td>\n",
       "      <td>0</td>\n",
       "    </tr>\n",
       "    <tr>\n",
       "      <th>3</th>\n",
       "      <td>5232</td>\n",
       "      <td>70.0</td>\n",
       "      <td>0.0</td>\n",
       "      <td>15.676444</td>\n",
       "      <td>Madison city</td>\n",
       "      <td>2021</td>\n",
       "      <td>0</td>\n",
       "      <td>0</td>\n",
       "      <td>0</td>\n",
       "      <td>0</td>\n",
       "      <td>...</td>\n",
       "      <td>0</td>\n",
       "      <td>0</td>\n",
       "      <td>0</td>\n",
       "      <td>0</td>\n",
       "      <td>0</td>\n",
       "      <td>0</td>\n",
       "      <td>0</td>\n",
       "      <td>0</td>\n",
       "      <td>0</td>\n",
       "      <td>0</td>\n",
       "    </tr>\n",
       "    <tr>\n",
       "      <th>4</th>\n",
       "      <td>939</td>\n",
       "      <td>39.0</td>\n",
       "      <td>0.0</td>\n",
       "      <td>-15.323556</td>\n",
       "      <td>Leeds city</td>\n",
       "      <td>2021</td>\n",
       "      <td>0</td>\n",
       "      <td>0</td>\n",
       "      <td>0</td>\n",
       "      <td>0</td>\n",
       "      <td>...</td>\n",
       "      <td>0</td>\n",
       "      <td>0</td>\n",
       "      <td>0</td>\n",
       "      <td>0</td>\n",
       "      <td>0</td>\n",
       "      <td>0</td>\n",
       "      <td>0</td>\n",
       "      <td>0</td>\n",
       "      <td>0</td>\n",
       "      <td>0</td>\n",
       "    </tr>\n",
       "  </tbody>\n",
       "</table>\n",
       "<p>5 rows × 63 columns</p>\n",
       "</div>"
      ],
      "text/plain": [
       "   Students_tested  Reading_proficiency_rate  District_bans  Diff_from_mean  \\\n",
       "0             2514                      32.0            0.0      -22.323556   \n",
       "1             2988                      36.0            0.0      -18.323556   \n",
       "2             7434                      61.0            0.0        6.676444   \n",
       "3             5232                      70.0            0.0       15.676444   \n",
       "4              939                      39.0            0.0      -15.323556   \n",
       "\n",
       "           District  Year  State_Alaska  State_Arizona  State_Arkansas  \\\n",
       "0  Albertville city  2021             0              0               0   \n",
       "1   Marshall county  2021             0              0               0   \n",
       "2       Hoover city  2021             0              0               0   \n",
       "3      Madison city  2021             0              0               0   \n",
       "4        Leeds city  2021             0              0               0   \n",
       "\n",
       "   State_California  ...  State_Washington  State_West virginia  \\\n",
       "0                 0  ...                 0                    0   \n",
       "1                 0  ...                 0                    0   \n",
       "2                 0  ...                 0                    0   \n",
       "3                 0  ...                 0                    0   \n",
       "4                 0  ...                 0                    0   \n",
       "\n",
       "   State_Wisconsin  State_Wyoming  Origin of Challenge_Formal Challenge  \\\n",
       "0                0              0                                     0   \n",
       "1                0              0                                     0   \n",
       "2                0              0                                     0   \n",
       "3                0              0                                     0   \n",
       "4                0              0                                     0   \n",
       "\n",
       "   Origin of Challenge_Other  Type of Ban_Banned in Classrooms  \\\n",
       "0                          0                                 0   \n",
       "1                          0                                 0   \n",
       "2                          0                                 0   \n",
       "3                          0                                 0   \n",
       "4                          0                                 0   \n",
       "\n",
       "   Type of Ban_Banned in Libraries  \\\n",
       "0                                0   \n",
       "1                                0   \n",
       "2                                0   \n",
       "3                                0   \n",
       "4                                0   \n",
       "\n",
       "   Type of Ban_Banned in Libraries and Classrooms  District_has_bans_True  \n",
       "0                                               0                       0  \n",
       "1                                               0                       0  \n",
       "2                                               0                       0  \n",
       "3                                               0                       0  \n",
       "4                                               0                       0  \n",
       "\n",
       "[5 rows x 63 columns]"
      ]
     },
     "execution_count": 24,
     "metadata": {},
     "output_type": "execute_result"
    }
   ],
   "source": [
    "dums.head()"
   ]
  },
  {
   "cell_type": "code",
   "execution_count": 25,
   "id": "fe95074f",
   "metadata": {},
   "outputs": [
    {
     "data": {
      "text/plain": [
       "(13644, 63)"
      ]
     },
     "execution_count": 25,
     "metadata": {},
     "output_type": "execute_result"
    }
   ],
   "source": [
    "dums.shape"
   ]
  },
  {
   "cell_type": "markdown",
   "id": "c0529084",
   "metadata": {},
   "source": [
    "While this is still a large amount of data, this is much more manageable than the previous attempt with dummy variables for each district.  Now we have only 63 columns rather than the ten thousand or more on my previous run through.  We will now split the data and move forward with modeling."
   ]
  },
  {
   "cell_type": "markdown",
   "id": "1b8c589c",
   "metadata": {},
   "source": [
    "Before dropping district ID numbers, I want to verify that we have correctly merged the dataframes to ensure that districts with book bans also contain their reading proficiency rate.  If either piece of data were missing, we would need to examine ID numbers, likely along with state and district names to correctly pair the data for each district.  The following confirms that our data appears to be merged correctly.  Therefore, we can drop ID numbers."
   ]
  },
  {
   "cell_type": "code",
   "execution_count": 26,
   "id": "7efa463a",
   "metadata": {},
   "outputs": [
    {
     "data": {
      "text/html": [
       "<div>\n",
       "<style scoped>\n",
       "    .dataframe tbody tr th:only-of-type {\n",
       "        vertical-align: middle;\n",
       "    }\n",
       "\n",
       "    .dataframe tbody tr th {\n",
       "        vertical-align: top;\n",
       "    }\n",
       "\n",
       "    .dataframe thead th {\n",
       "        text-align: right;\n",
       "    }\n",
       "</style>\n",
       "<table border=\"1\" class=\"dataframe\">\n",
       "  <thead>\n",
       "    <tr style=\"text-align: right;\">\n",
       "      <th></th>\n",
       "      <th>Students_tested</th>\n",
       "      <th>Reading_proficiency_rate</th>\n",
       "      <th>District_bans</th>\n",
       "      <th>Diff_from_mean</th>\n",
       "      <th>District</th>\n",
       "      <th>Year</th>\n",
       "      <th>State_Alaska</th>\n",
       "      <th>State_Arizona</th>\n",
       "      <th>State_Arkansas</th>\n",
       "      <th>State_California</th>\n",
       "      <th>...</th>\n",
       "      <th>State_Washington</th>\n",
       "      <th>State_West virginia</th>\n",
       "      <th>State_Wisconsin</th>\n",
       "      <th>State_Wyoming</th>\n",
       "      <th>Origin of Challenge_Formal Challenge</th>\n",
       "      <th>Origin of Challenge_Other</th>\n",
       "      <th>Type of Ban_Banned in Classrooms</th>\n",
       "      <th>Type of Ban_Banned in Libraries</th>\n",
       "      <th>Type of Ban_Banned in Libraries and Classrooms</th>\n",
       "      <th>District_has_bans_True</th>\n",
       "    </tr>\n",
       "  </thead>\n",
       "  <tbody>\n",
       "    <tr>\n",
       "      <th>145</th>\n",
       "      <td>27500</td>\n",
       "      <td>39.0</td>\n",
       "      <td>1.0</td>\n",
       "      <td>-15.323556</td>\n",
       "      <td>Anchorage school district</td>\n",
       "      <td>2021</td>\n",
       "      <td>1</td>\n",
       "      <td>0</td>\n",
       "      <td>0</td>\n",
       "      <td>0</td>\n",
       "      <td>...</td>\n",
       "      <td>0</td>\n",
       "      <td>0</td>\n",
       "      <td>0</td>\n",
       "      <td>0</td>\n",
       "      <td>0</td>\n",
       "      <td>0</td>\n",
       "      <td>0</td>\n",
       "      <td>0</td>\n",
       "      <td>1</td>\n",
       "      <td>1</td>\n",
       "    </tr>\n",
       "    <tr>\n",
       "      <th>657</th>\n",
       "      <td>2456</td>\n",
       "      <td>38.0</td>\n",
       "      <td>1.0</td>\n",
       "      <td>-16.323556</td>\n",
       "      <td>Siloam springs school district</td>\n",
       "      <td>2022</td>\n",
       "      <td>0</td>\n",
       "      <td>0</td>\n",
       "      <td>1</td>\n",
       "      <td>0</td>\n",
       "      <td>...</td>\n",
       "      <td>0</td>\n",
       "      <td>0</td>\n",
       "      <td>0</td>\n",
       "      <td>0</td>\n",
       "      <td>1</td>\n",
       "      <td>0</td>\n",
       "      <td>0</td>\n",
       "      <td>0</td>\n",
       "      <td>1</td>\n",
       "      <td>1</td>\n",
       "    </tr>\n",
       "    <tr>\n",
       "      <th>1719</th>\n",
       "      <td>41440</td>\n",
       "      <td>61.0</td>\n",
       "      <td>42.0</td>\n",
       "      <td>6.676444</td>\n",
       "      <td>Brevard public schools</td>\n",
       "      <td>2021</td>\n",
       "      <td>0</td>\n",
       "      <td>0</td>\n",
       "      <td>0</td>\n",
       "      <td>0</td>\n",
       "      <td>...</td>\n",
       "      <td>0</td>\n",
       "      <td>0</td>\n",
       "      <td>0</td>\n",
       "      <td>0</td>\n",
       "      <td>0</td>\n",
       "      <td>0</td>\n",
       "      <td>0</td>\n",
       "      <td>0</td>\n",
       "      <td>1</td>\n",
       "      <td>1</td>\n",
       "    </tr>\n",
       "    <tr>\n",
       "      <th>1720</th>\n",
       "      <td>41440</td>\n",
       "      <td>61.0</td>\n",
       "      <td>42.0</td>\n",
       "      <td>6.676444</td>\n",
       "      <td>Brevard public schools</td>\n",
       "      <td>2022</td>\n",
       "      <td>0</td>\n",
       "      <td>0</td>\n",
       "      <td>0</td>\n",
       "      <td>0</td>\n",
       "      <td>...</td>\n",
       "      <td>0</td>\n",
       "      <td>0</td>\n",
       "      <td>0</td>\n",
       "      <td>0</td>\n",
       "      <td>0</td>\n",
       "      <td>0</td>\n",
       "      <td>0</td>\n",
       "      <td>0</td>\n",
       "      <td>0</td>\n",
       "      <td>1</td>\n",
       "    </tr>\n",
       "    <tr>\n",
       "      <th>1721</th>\n",
       "      <td>41440</td>\n",
       "      <td>61.0</td>\n",
       "      <td>42.0</td>\n",
       "      <td>6.676444</td>\n",
       "      <td>Brevard public schools</td>\n",
       "      <td>2022</td>\n",
       "      <td>0</td>\n",
       "      <td>0</td>\n",
       "      <td>0</td>\n",
       "      <td>0</td>\n",
       "      <td>...</td>\n",
       "      <td>0</td>\n",
       "      <td>0</td>\n",
       "      <td>0</td>\n",
       "      <td>0</td>\n",
       "      <td>0</td>\n",
       "      <td>0</td>\n",
       "      <td>0</td>\n",
       "      <td>0</td>\n",
       "      <td>0</td>\n",
       "      <td>1</td>\n",
       "    </tr>\n",
       "    <tr>\n",
       "      <th>...</th>\n",
       "      <td>...</td>\n",
       "      <td>...</td>\n",
       "      <td>...</td>\n",
       "      <td>...</td>\n",
       "      <td>...</td>\n",
       "      <td>...</td>\n",
       "      <td>...</td>\n",
       "      <td>...</td>\n",
       "      <td>...</td>\n",
       "      <td>...</td>\n",
       "      <td>...</td>\n",
       "      <td>...</td>\n",
       "      <td>...</td>\n",
       "      <td>...</td>\n",
       "      <td>...</td>\n",
       "      <td>...</td>\n",
       "      <td>...</td>\n",
       "      <td>...</td>\n",
       "      <td>...</td>\n",
       "      <td>...</td>\n",
       "      <td>...</td>\n",
       "    </tr>\n",
       "    <tr>\n",
       "      <th>13571</th>\n",
       "      <td>6341</td>\n",
       "      <td>52.0</td>\n",
       "      <td>21.0</td>\n",
       "      <td>-2.323556</td>\n",
       "      <td>School district of waukesha</td>\n",
       "      <td>2021</td>\n",
       "      <td>0</td>\n",
       "      <td>0</td>\n",
       "      <td>0</td>\n",
       "      <td>0</td>\n",
       "      <td>...</td>\n",
       "      <td>0</td>\n",
       "      <td>0</td>\n",
       "      <td>1</td>\n",
       "      <td>0</td>\n",
       "      <td>0</td>\n",
       "      <td>0</td>\n",
       "      <td>0</td>\n",
       "      <td>1</td>\n",
       "      <td>0</td>\n",
       "      <td>1</td>\n",
       "    </tr>\n",
       "    <tr>\n",
       "      <th>13572</th>\n",
       "      <td>6341</td>\n",
       "      <td>52.0</td>\n",
       "      <td>21.0</td>\n",
       "      <td>-2.323556</td>\n",
       "      <td>School district of waukesha</td>\n",
       "      <td>2021</td>\n",
       "      <td>0</td>\n",
       "      <td>0</td>\n",
       "      <td>0</td>\n",
       "      <td>0</td>\n",
       "      <td>...</td>\n",
       "      <td>0</td>\n",
       "      <td>0</td>\n",
       "      <td>1</td>\n",
       "      <td>0</td>\n",
       "      <td>0</td>\n",
       "      <td>0</td>\n",
       "      <td>0</td>\n",
       "      <td>1</td>\n",
       "      <td>0</td>\n",
       "      <td>1</td>\n",
       "    </tr>\n",
       "    <tr>\n",
       "      <th>13573</th>\n",
       "      <td>6341</td>\n",
       "      <td>52.0</td>\n",
       "      <td>21.0</td>\n",
       "      <td>-2.323556</td>\n",
       "      <td>School district of waukesha</td>\n",
       "      <td>2021</td>\n",
       "      <td>0</td>\n",
       "      <td>0</td>\n",
       "      <td>0</td>\n",
       "      <td>0</td>\n",
       "      <td>...</td>\n",
       "      <td>0</td>\n",
       "      <td>0</td>\n",
       "      <td>1</td>\n",
       "      <td>0</td>\n",
       "      <td>0</td>\n",
       "      <td>0</td>\n",
       "      <td>0</td>\n",
       "      <td>1</td>\n",
       "      <td>0</td>\n",
       "      <td>1</td>\n",
       "    </tr>\n",
       "    <tr>\n",
       "      <th>13574</th>\n",
       "      <td>6341</td>\n",
       "      <td>52.0</td>\n",
       "      <td>21.0</td>\n",
       "      <td>-2.323556</td>\n",
       "      <td>School district of waukesha</td>\n",
       "      <td>2021</td>\n",
       "      <td>0</td>\n",
       "      <td>0</td>\n",
       "      <td>0</td>\n",
       "      <td>0</td>\n",
       "      <td>...</td>\n",
       "      <td>0</td>\n",
       "      <td>0</td>\n",
       "      <td>1</td>\n",
       "      <td>0</td>\n",
       "      <td>0</td>\n",
       "      <td>0</td>\n",
       "      <td>0</td>\n",
       "      <td>1</td>\n",
       "      <td>0</td>\n",
       "      <td>1</td>\n",
       "    </tr>\n",
       "    <tr>\n",
       "      <th>13575</th>\n",
       "      <td>6341</td>\n",
       "      <td>52.0</td>\n",
       "      <td>21.0</td>\n",
       "      <td>-2.323556</td>\n",
       "      <td>School district of waukesha</td>\n",
       "      <td>2021</td>\n",
       "      <td>0</td>\n",
       "      <td>0</td>\n",
       "      <td>0</td>\n",
       "      <td>0</td>\n",
       "      <td>...</td>\n",
       "      <td>0</td>\n",
       "      <td>0</td>\n",
       "      <td>1</td>\n",
       "      <td>0</td>\n",
       "      <td>0</td>\n",
       "      <td>0</td>\n",
       "      <td>0</td>\n",
       "      <td>1</td>\n",
       "      <td>0</td>\n",
       "      <td>1</td>\n",
       "    </tr>\n",
       "  </tbody>\n",
       "</table>\n",
       "<p>2531 rows × 63 columns</p>\n",
       "</div>"
      ],
      "text/plain": [
       "       Students_tested  Reading_proficiency_rate  District_bans  \\\n",
       "145              27500                      39.0            1.0   \n",
       "657               2456                      38.0            1.0   \n",
       "1719             41440                      61.0           42.0   \n",
       "1720             41440                      61.0           42.0   \n",
       "1721             41440                      61.0           42.0   \n",
       "...                ...                       ...            ...   \n",
       "13571             6341                      52.0           21.0   \n",
       "13572             6341                      52.0           21.0   \n",
       "13573             6341                      52.0           21.0   \n",
       "13574             6341                      52.0           21.0   \n",
       "13575             6341                      52.0           21.0   \n",
       "\n",
       "       Diff_from_mean                        District  Year  State_Alaska  \\\n",
       "145        -15.323556       Anchorage school district  2021             1   \n",
       "657        -16.323556  Siloam springs school district  2022             0   \n",
       "1719         6.676444          Brevard public schools  2021             0   \n",
       "1720         6.676444          Brevard public schools  2022             0   \n",
       "1721         6.676444          Brevard public schools  2022             0   \n",
       "...               ...                             ...   ...           ...   \n",
       "13571       -2.323556     School district of waukesha  2021             0   \n",
       "13572       -2.323556     School district of waukesha  2021             0   \n",
       "13573       -2.323556     School district of waukesha  2021             0   \n",
       "13574       -2.323556     School district of waukesha  2021             0   \n",
       "13575       -2.323556     School district of waukesha  2021             0   \n",
       "\n",
       "       State_Arizona  State_Arkansas  State_California  ...  State_Washington  \\\n",
       "145                0               0                 0  ...                 0   \n",
       "657                0               1                 0  ...                 0   \n",
       "1719               0               0                 0  ...                 0   \n",
       "1720               0               0                 0  ...                 0   \n",
       "1721               0               0                 0  ...                 0   \n",
       "...              ...             ...               ...  ...               ...   \n",
       "13571              0               0                 0  ...                 0   \n",
       "13572              0               0                 0  ...                 0   \n",
       "13573              0               0                 0  ...                 0   \n",
       "13574              0               0                 0  ...                 0   \n",
       "13575              0               0                 0  ...                 0   \n",
       "\n",
       "       State_West virginia  State_Wisconsin  State_Wyoming  \\\n",
       "145                      0                0              0   \n",
       "657                      0                0              0   \n",
       "1719                     0                0              0   \n",
       "1720                     0                0              0   \n",
       "1721                     0                0              0   \n",
       "...                    ...              ...            ...   \n",
       "13571                    0                1              0   \n",
       "13572                    0                1              0   \n",
       "13573                    0                1              0   \n",
       "13574                    0                1              0   \n",
       "13575                    0                1              0   \n",
       "\n",
       "       Origin of Challenge_Formal Challenge  Origin of Challenge_Other  \\\n",
       "145                                       0                          0   \n",
       "657                                       1                          0   \n",
       "1719                                      0                          0   \n",
       "1720                                      0                          0   \n",
       "1721                                      0                          0   \n",
       "...                                     ...                        ...   \n",
       "13571                                     0                          0   \n",
       "13572                                     0                          0   \n",
       "13573                                     0                          0   \n",
       "13574                                     0                          0   \n",
       "13575                                     0                          0   \n",
       "\n",
       "       Type of Ban_Banned in Classrooms  Type of Ban_Banned in Libraries  \\\n",
       "145                                   0                                0   \n",
       "657                                   0                                0   \n",
       "1719                                  0                                0   \n",
       "1720                                  0                                0   \n",
       "1721                                  0                                0   \n",
       "...                                 ...                              ...   \n",
       "13571                                 0                                1   \n",
       "13572                                 0                                1   \n",
       "13573                                 0                                1   \n",
       "13574                                 0                                1   \n",
       "13575                                 0                                1   \n",
       "\n",
       "       Type of Ban_Banned in Libraries and Classrooms  District_has_bans_True  \n",
       "145                                                 1                       1  \n",
       "657                                                 1                       1  \n",
       "1719                                                1                       1  \n",
       "1720                                                0                       1  \n",
       "1721                                                0                       1  \n",
       "...                                               ...                     ...  \n",
       "13571                                               0                       1  \n",
       "13572                                               0                       1  \n",
       "13573                                               0                       1  \n",
       "13574                                               0                       1  \n",
       "13575                                               0                       1  \n",
       "\n",
       "[2531 rows x 63 columns]"
      ]
     },
     "execution_count": 26,
     "metadata": {},
     "output_type": "execute_result"
    }
   ],
   "source": [
    "ban_df = dums.loc[dums['District_has_bans_True'] == 1]\n",
    "ban_df"
   ]
  },
  {
   "cell_type": "markdown",
   "id": "505937bf",
   "metadata": {},
   "source": [
    "As I no longer am using dummy variables for each district, I am working with categorical as well as numeric columns.  This will not work when scaling data and similar.  As we have created columns for both the number of bans in each district and dummy variables representing whether each district has banned books, we don't really need the names of each district.  We have enough information in numeric data alone to compare and analyze each other variable and any relationship it may have with book bans.  Therefore, I will move ahead with only numeric data."
   ]
  },
  {
   "cell_type": "code",
   "execution_count": 27,
   "id": "10b0b578",
   "metadata": {},
   "outputs": [
    {
     "data": {
      "text/html": [
       "<div>\n",
       "<style scoped>\n",
       "    .dataframe tbody tr th:only-of-type {\n",
       "        vertical-align: middle;\n",
       "    }\n",
       "\n",
       "    .dataframe tbody tr th {\n",
       "        vertical-align: top;\n",
       "    }\n",
       "\n",
       "    .dataframe thead th {\n",
       "        text-align: right;\n",
       "    }\n",
       "</style>\n",
       "<table border=\"1\" class=\"dataframe\">\n",
       "  <thead>\n",
       "    <tr style=\"text-align: right;\">\n",
       "      <th></th>\n",
       "      <th>Students_tested</th>\n",
       "      <th>Reading_proficiency_rate</th>\n",
       "      <th>District_bans</th>\n",
       "      <th>Diff_from_mean</th>\n",
       "      <th>Year</th>\n",
       "      <th>State_Alaska</th>\n",
       "      <th>State_Arizona</th>\n",
       "      <th>State_Arkansas</th>\n",
       "      <th>State_California</th>\n",
       "      <th>State_Colorado</th>\n",
       "      <th>...</th>\n",
       "      <th>State_Washington</th>\n",
       "      <th>State_West virginia</th>\n",
       "      <th>State_Wisconsin</th>\n",
       "      <th>State_Wyoming</th>\n",
       "      <th>Origin of Challenge_Formal Challenge</th>\n",
       "      <th>Origin of Challenge_Other</th>\n",
       "      <th>Type of Ban_Banned in Classrooms</th>\n",
       "      <th>Type of Ban_Banned in Libraries</th>\n",
       "      <th>Type of Ban_Banned in Libraries and Classrooms</th>\n",
       "      <th>District_has_bans_True</th>\n",
       "    </tr>\n",
       "  </thead>\n",
       "  <tbody>\n",
       "    <tr>\n",
       "      <th>0</th>\n",
       "      <td>2514</td>\n",
       "      <td>32.0</td>\n",
       "      <td>0.0</td>\n",
       "      <td>-22.323556</td>\n",
       "      <td>2021</td>\n",
       "      <td>0</td>\n",
       "      <td>0</td>\n",
       "      <td>0</td>\n",
       "      <td>0</td>\n",
       "      <td>0</td>\n",
       "      <td>...</td>\n",
       "      <td>0</td>\n",
       "      <td>0</td>\n",
       "      <td>0</td>\n",
       "      <td>0</td>\n",
       "      <td>0</td>\n",
       "      <td>0</td>\n",
       "      <td>0</td>\n",
       "      <td>0</td>\n",
       "      <td>0</td>\n",
       "      <td>0</td>\n",
       "    </tr>\n",
       "    <tr>\n",
       "      <th>1</th>\n",
       "      <td>2988</td>\n",
       "      <td>36.0</td>\n",
       "      <td>0.0</td>\n",
       "      <td>-18.323556</td>\n",
       "      <td>2021</td>\n",
       "      <td>0</td>\n",
       "      <td>0</td>\n",
       "      <td>0</td>\n",
       "      <td>0</td>\n",
       "      <td>0</td>\n",
       "      <td>...</td>\n",
       "      <td>0</td>\n",
       "      <td>0</td>\n",
       "      <td>0</td>\n",
       "      <td>0</td>\n",
       "      <td>0</td>\n",
       "      <td>0</td>\n",
       "      <td>0</td>\n",
       "      <td>0</td>\n",
       "      <td>0</td>\n",
       "      <td>0</td>\n",
       "    </tr>\n",
       "    <tr>\n",
       "      <th>2</th>\n",
       "      <td>7434</td>\n",
       "      <td>61.0</td>\n",
       "      <td>0.0</td>\n",
       "      <td>6.676444</td>\n",
       "      <td>2021</td>\n",
       "      <td>0</td>\n",
       "      <td>0</td>\n",
       "      <td>0</td>\n",
       "      <td>0</td>\n",
       "      <td>0</td>\n",
       "      <td>...</td>\n",
       "      <td>0</td>\n",
       "      <td>0</td>\n",
       "      <td>0</td>\n",
       "      <td>0</td>\n",
       "      <td>0</td>\n",
       "      <td>0</td>\n",
       "      <td>0</td>\n",
       "      <td>0</td>\n",
       "      <td>0</td>\n",
       "      <td>0</td>\n",
       "    </tr>\n",
       "    <tr>\n",
       "      <th>3</th>\n",
       "      <td>5232</td>\n",
       "      <td>70.0</td>\n",
       "      <td>0.0</td>\n",
       "      <td>15.676444</td>\n",
       "      <td>2021</td>\n",
       "      <td>0</td>\n",
       "      <td>0</td>\n",
       "      <td>0</td>\n",
       "      <td>0</td>\n",
       "      <td>0</td>\n",
       "      <td>...</td>\n",
       "      <td>0</td>\n",
       "      <td>0</td>\n",
       "      <td>0</td>\n",
       "      <td>0</td>\n",
       "      <td>0</td>\n",
       "      <td>0</td>\n",
       "      <td>0</td>\n",
       "      <td>0</td>\n",
       "      <td>0</td>\n",
       "      <td>0</td>\n",
       "    </tr>\n",
       "    <tr>\n",
       "      <th>4</th>\n",
       "      <td>939</td>\n",
       "      <td>39.0</td>\n",
       "      <td>0.0</td>\n",
       "      <td>-15.323556</td>\n",
       "      <td>2021</td>\n",
       "      <td>0</td>\n",
       "      <td>0</td>\n",
       "      <td>0</td>\n",
       "      <td>0</td>\n",
       "      <td>0</td>\n",
       "      <td>...</td>\n",
       "      <td>0</td>\n",
       "      <td>0</td>\n",
       "      <td>0</td>\n",
       "      <td>0</td>\n",
       "      <td>0</td>\n",
       "      <td>0</td>\n",
       "      <td>0</td>\n",
       "      <td>0</td>\n",
       "      <td>0</td>\n",
       "      <td>0</td>\n",
       "    </tr>\n",
       "    <tr>\n",
       "      <th>...</th>\n",
       "      <td>...</td>\n",
       "      <td>...</td>\n",
       "      <td>...</td>\n",
       "      <td>...</td>\n",
       "      <td>...</td>\n",
       "      <td>...</td>\n",
       "      <td>...</td>\n",
       "      <td>...</td>\n",
       "      <td>...</td>\n",
       "      <td>...</td>\n",
       "      <td>...</td>\n",
       "      <td>...</td>\n",
       "      <td>...</td>\n",
       "      <td>...</td>\n",
       "      <td>...</td>\n",
       "      <td>...</td>\n",
       "      <td>...</td>\n",
       "      <td>...</td>\n",
       "      <td>...</td>\n",
       "      <td>...</td>\n",
       "      <td>...</td>\n",
       "    </tr>\n",
       "    <tr>\n",
       "      <th>13639</th>\n",
       "      <td>522</td>\n",
       "      <td>61.0</td>\n",
       "      <td>0.0</td>\n",
       "      <td>6.676444</td>\n",
       "      <td>2021</td>\n",
       "      <td>0</td>\n",
       "      <td>0</td>\n",
       "      <td>0</td>\n",
       "      <td>0</td>\n",
       "      <td>0</td>\n",
       "      <td>...</td>\n",
       "      <td>0</td>\n",
       "      <td>0</td>\n",
       "      <td>0</td>\n",
       "      <td>1</td>\n",
       "      <td>0</td>\n",
       "      <td>0</td>\n",
       "      <td>0</td>\n",
       "      <td>0</td>\n",
       "      <td>0</td>\n",
       "      <td>0</td>\n",
       "    </tr>\n",
       "    <tr>\n",
       "      <th>13640</th>\n",
       "      <td>1697</td>\n",
       "      <td>70.0</td>\n",
       "      <td>0.0</td>\n",
       "      <td>15.676444</td>\n",
       "      <td>2021</td>\n",
       "      <td>0</td>\n",
       "      <td>0</td>\n",
       "      <td>0</td>\n",
       "      <td>0</td>\n",
       "      <td>0</td>\n",
       "      <td>...</td>\n",
       "      <td>0</td>\n",
       "      <td>0</td>\n",
       "      <td>0</td>\n",
       "      <td>1</td>\n",
       "      <td>0</td>\n",
       "      <td>0</td>\n",
       "      <td>0</td>\n",
       "      <td>0</td>\n",
       "      <td>0</td>\n",
       "      <td>0</td>\n",
       "    </tr>\n",
       "    <tr>\n",
       "      <th>13641</th>\n",
       "      <td>1393</td>\n",
       "      <td>52.0</td>\n",
       "      <td>0.0</td>\n",
       "      <td>-2.323556</td>\n",
       "      <td>2021</td>\n",
       "      <td>0</td>\n",
       "      <td>0</td>\n",
       "      <td>0</td>\n",
       "      <td>0</td>\n",
       "      <td>0</td>\n",
       "      <td>...</td>\n",
       "      <td>0</td>\n",
       "      <td>0</td>\n",
       "      <td>0</td>\n",
       "      <td>1</td>\n",
       "      <td>0</td>\n",
       "      <td>0</td>\n",
       "      <td>0</td>\n",
       "      <td>0</td>\n",
       "      <td>0</td>\n",
       "      <td>0</td>\n",
       "    </tr>\n",
       "    <tr>\n",
       "      <th>13642</th>\n",
       "      <td>1396</td>\n",
       "      <td>63.0</td>\n",
       "      <td>0.0</td>\n",
       "      <td>8.676444</td>\n",
       "      <td>2021</td>\n",
       "      <td>0</td>\n",
       "      <td>0</td>\n",
       "      <td>0</td>\n",
       "      <td>0</td>\n",
       "      <td>0</td>\n",
       "      <td>...</td>\n",
       "      <td>0</td>\n",
       "      <td>0</td>\n",
       "      <td>0</td>\n",
       "      <td>1</td>\n",
       "      <td>0</td>\n",
       "      <td>0</td>\n",
       "      <td>0</td>\n",
       "      <td>0</td>\n",
       "      <td>0</td>\n",
       "      <td>0</td>\n",
       "    </tr>\n",
       "    <tr>\n",
       "      <th>13643</th>\n",
       "      <td>754</td>\n",
       "      <td>55.0</td>\n",
       "      <td>0.0</td>\n",
       "      <td>0.676444</td>\n",
       "      <td>2021</td>\n",
       "      <td>0</td>\n",
       "      <td>0</td>\n",
       "      <td>0</td>\n",
       "      <td>0</td>\n",
       "      <td>0</td>\n",
       "      <td>...</td>\n",
       "      <td>0</td>\n",
       "      <td>0</td>\n",
       "      <td>0</td>\n",
       "      <td>1</td>\n",
       "      <td>0</td>\n",
       "      <td>0</td>\n",
       "      <td>0</td>\n",
       "      <td>0</td>\n",
       "      <td>0</td>\n",
       "      <td>0</td>\n",
       "    </tr>\n",
       "  </tbody>\n",
       "</table>\n",
       "<p>13644 rows × 62 columns</p>\n",
       "</div>"
      ],
      "text/plain": [
       "       Students_tested  Reading_proficiency_rate  District_bans  \\\n",
       "0                 2514                      32.0            0.0   \n",
       "1                 2988                      36.0            0.0   \n",
       "2                 7434                      61.0            0.0   \n",
       "3                 5232                      70.0            0.0   \n",
       "4                  939                      39.0            0.0   \n",
       "...                ...                       ...            ...   \n",
       "13639              522                      61.0            0.0   \n",
       "13640             1697                      70.0            0.0   \n",
       "13641             1393                      52.0            0.0   \n",
       "13642             1396                      63.0            0.0   \n",
       "13643              754                      55.0            0.0   \n",
       "\n",
       "       Diff_from_mean  Year  State_Alaska  State_Arizona  State_Arkansas  \\\n",
       "0          -22.323556  2021             0              0               0   \n",
       "1          -18.323556  2021             0              0               0   \n",
       "2            6.676444  2021             0              0               0   \n",
       "3           15.676444  2021             0              0               0   \n",
       "4          -15.323556  2021             0              0               0   \n",
       "...               ...   ...           ...            ...             ...   \n",
       "13639        6.676444  2021             0              0               0   \n",
       "13640       15.676444  2021             0              0               0   \n",
       "13641       -2.323556  2021             0              0               0   \n",
       "13642        8.676444  2021             0              0               0   \n",
       "13643        0.676444  2021             0              0               0   \n",
       "\n",
       "       State_California  State_Colorado  ...  State_Washington  \\\n",
       "0                     0               0  ...                 0   \n",
       "1                     0               0  ...                 0   \n",
       "2                     0               0  ...                 0   \n",
       "3                     0               0  ...                 0   \n",
       "4                     0               0  ...                 0   \n",
       "...                 ...             ...  ...               ...   \n",
       "13639                 0               0  ...                 0   \n",
       "13640                 0               0  ...                 0   \n",
       "13641                 0               0  ...                 0   \n",
       "13642                 0               0  ...                 0   \n",
       "13643                 0               0  ...                 0   \n",
       "\n",
       "       State_West virginia  State_Wisconsin  State_Wyoming  \\\n",
       "0                        0                0              0   \n",
       "1                        0                0              0   \n",
       "2                        0                0              0   \n",
       "3                        0                0              0   \n",
       "4                        0                0              0   \n",
       "...                    ...              ...            ...   \n",
       "13639                    0                0              1   \n",
       "13640                    0                0              1   \n",
       "13641                    0                0              1   \n",
       "13642                    0                0              1   \n",
       "13643                    0                0              1   \n",
       "\n",
       "       Origin of Challenge_Formal Challenge  Origin of Challenge_Other  \\\n",
       "0                                         0                          0   \n",
       "1                                         0                          0   \n",
       "2                                         0                          0   \n",
       "3                                         0                          0   \n",
       "4                                         0                          0   \n",
       "...                                     ...                        ...   \n",
       "13639                                     0                          0   \n",
       "13640                                     0                          0   \n",
       "13641                                     0                          0   \n",
       "13642                                     0                          0   \n",
       "13643                                     0                          0   \n",
       "\n",
       "       Type of Ban_Banned in Classrooms  Type of Ban_Banned in Libraries  \\\n",
       "0                                     0                                0   \n",
       "1                                     0                                0   \n",
       "2                                     0                                0   \n",
       "3                                     0                                0   \n",
       "4                                     0                                0   \n",
       "...                                 ...                              ...   \n",
       "13639                                 0                                0   \n",
       "13640                                 0                                0   \n",
       "13641                                 0                                0   \n",
       "13642                                 0                                0   \n",
       "13643                                 0                                0   \n",
       "\n",
       "       Type of Ban_Banned in Libraries and Classrooms  District_has_bans_True  \n",
       "0                                                   0                       0  \n",
       "1                                                   0                       0  \n",
       "2                                                   0                       0  \n",
       "3                                                   0                       0  \n",
       "4                                                   0                       0  \n",
       "...                                               ...                     ...  \n",
       "13639                                               0                       0  \n",
       "13640                                               0                       0  \n",
       "13641                                               0                       0  \n",
       "13642                                               0                       0  \n",
       "13643                                               0                       0  \n",
       "\n",
       "[13644 rows x 62 columns]"
      ]
     },
     "execution_count": 27,
     "metadata": {},
     "output_type": "execute_result"
    }
   ],
   "source": [
    "dums_numeric = dums._get_numeric_data()\n",
    "dums_numeric"
   ]
  },
  {
   "cell_type": "markdown",
   "id": "9ee6eda4",
   "metadata": {},
   "source": [
    "## 1.5 Prepare the corrected data for modeling"
   ]
  },
  {
   "cell_type": "code",
   "execution_count": 117,
   "id": "3118c4fc",
   "metadata": {},
   "outputs": [],
   "source": [
    "X = dums_numeric.drop('District_bans', axis=1).values\n",
    "y = dums_numeric['District_bans'].values"
   ]
  },
  {
   "cell_type": "code",
   "execution_count": 118,
   "id": "184753a5",
   "metadata": {},
   "outputs": [],
   "source": [
    "X_train, X_test, y_train, y_test = train_test_split(X, y, test_size = 0.2, random_state = 42)"
   ]
  },
  {
   "cell_type": "markdown",
   "id": "2af01c51",
   "metadata": {},
   "source": [
    "# 2. Initial metrics for comparison  <a class=\"anchor\" id=\"second-bullet\"></a>"
   ]
  },
  {
   "cell_type": "markdown",
   "id": "3a07d49d",
   "metadata": {},
   "source": [
    "## 2.1. Using mean"
   ]
  },
  {
   "cell_type": "markdown",
   "id": "86894736",
   "metadata": {},
   "source": [
    "Before we examine true models, I'll look at how the mean performs.  This will give us metrics against which to compare the performance of later models."
   ]
  },
  {
   "cell_type": "markdown",
   "id": "e4498192",
   "metadata": {},
   "source": [
    "Not even a model--mean books banned per district?\n",
    "Mean reading proficiency per state?\n",
    "The means can be used to compare later models to see if the new models are more effective at predicting reading proficiency than simply the mean of book bans"
   ]
  },
  {
   "cell_type": "markdown",
   "id": "4a43b092",
   "metadata": {},
   "source": [
    "### 2.1.1. Find the mean for the training set"
   ]
  },
  {
   "cell_type": "code",
   "execution_count": 119,
   "id": "e25f67ea",
   "metadata": {},
   "outputs": [
    {
     "data": {
      "text/plain": [
       "42.22702702702703"
      ]
     },
     "execution_count": 119,
     "metadata": {},
     "output_type": "execute_result"
    }
   ],
   "source": [
    "train_mean = y_train.mean()\n",
    "train_mean"
   ]
  },
  {
   "cell_type": "code",
   "execution_count": 120,
   "id": "6ad08f55",
   "metadata": {},
   "outputs": [
    {
     "data": {
      "text/plain": [
       "numpy.ndarray"
      ]
     },
     "execution_count": 120,
     "metadata": {},
     "output_type": "execute_result"
    }
   ],
   "source": [
    "type(y_train)"
   ]
  },
  {
   "cell_type": "code",
   "execution_count": 121,
   "id": "bd460c2d",
   "metadata": {},
   "outputs": [
    {
     "data": {
      "text/plain": [
       "(10915,)"
      ]
     },
     "execution_count": 121,
     "metadata": {},
     "output_type": "execute_result"
    }
   ],
   "source": [
    "y_train.shape"
   ]
  },
  {
   "cell_type": "code",
   "execution_count": 122,
   "id": "60880f48",
   "metadata": {},
   "outputs": [
    {
     "data": {
      "text/plain": [
       "(10915, 61)"
      ]
     },
     "execution_count": 122,
     "metadata": {},
     "output_type": "execute_result"
    }
   ],
   "source": [
    "X_train.shape"
   ]
  },
  {
   "cell_type": "markdown",
   "id": "353af055",
   "metadata": {},
   "source": [
    "### 2.1.2. Examining performance"
   ]
  },
  {
   "cell_type": "markdown",
   "id": "a3563f59",
   "metadata": {},
   "source": [
    "#### 2.1.1.1. Create dummy regressor to fit and evaluate mean as a model"
   ]
  },
  {
   "cell_type": "code",
   "execution_count": 266,
   "id": "602cf457",
   "metadata": {},
   "outputs": [],
   "source": [
    "#Fit the dummy regressor on the training data\n",
    "#Hint, call its `.fit()` method with `X_train` and `y_train` as arguments\n",
    "#Then print the object's `constant_` attribute and verify it's the same as the mean above\n",
    "dumb_reg = DummyRegressor(strategy='mean')\n",
    "dumb_reg.fit(X_train, y_train)\n",
    "y_tr_pred = dumb_reg.constant_"
   ]
  },
  {
   "cell_type": "code",
   "execution_count": 269,
   "id": "e7324965",
   "metadata": {},
   "outputs": [],
   "source": [
    "dumb_reg = DummyRegressor(strategy='mean')\n",
    "dumb_reg.fit(X_test, y_test)\n",
    "y_te_pred = dumb_reg.constant_"
   ]
  },
  {
   "cell_type": "markdown",
   "id": "fdc9e5c3",
   "metadata": {},
   "source": [
    "#### 2.1.1.2. R-squared as metric"
   ]
  },
  {
   "cell_type": "code",
   "execution_count": 125,
   "id": "099d6e71",
   "metadata": {},
   "outputs": [],
   "source": [
    "def r_squared(y, ypred):\n",
    "    \"\"\"R-squared score.\n",
    "    \n",
    "    Calculate the R-squared, or coefficient of determination, of the input.\n",
    "    \n",
    "    Arguments:\n",
    "    y -- the observed values\n",
    "    ypred -- the predicted values\n",
    "    \"\"\"\n",
    "    ybar = np.sum(y) / len(y) #yes, we could use np.mean(y)\n",
    "    sum_sq_tot = np.sum((y - ybar)**2) #total sum of squares error\n",
    "    sum_sq_res = np.sum((y - ypred)**2) #residual sum of squares error\n",
    "    R2 = 1.0 - sum_sq_res / sum_sq_tot\n",
    "    return R2"
   ]
  },
  {
   "cell_type": "code",
   "execution_count": 126,
   "id": "44c18bdb",
   "metadata": {},
   "outputs": [
    {
     "data": {
      "text/plain": [
       "0.0"
      ]
     },
     "execution_count": 126,
     "metadata": {},
     "output_type": "execute_result"
    }
   ],
   "source": [
    "r_squared(y_train, y_tr_pred)"
   ]
  },
  {
   "cell_type": "markdown",
   "id": "0ec06581",
   "metadata": {},
   "source": [
    "As expected, the r-squared for the training set is zero.  This indicates that there is no residuals between the points used to create the model and the model itself.  This should be zero."
   ]
  },
  {
   "cell_type": "markdown",
   "id": "a9aefc9a",
   "metadata": {},
   "source": [
    "Now we'll examine how this performs against the test set.  If the mean is a reasonably good model, this r-squared should be not far from but not exactly zero."
   ]
  },
  {
   "cell_type": "code",
   "execution_count": 127,
   "id": "9a198265",
   "metadata": {},
   "outputs": [
    {
     "data": {
      "text/plain": [
       "-0.000681641213987616"
      ]
     },
     "execution_count": 127,
     "metadata": {},
     "output_type": "execute_result"
    }
   ],
   "source": [
    "r_squared(y_test, y_tr_pred)"
   ]
  },
  {
   "cell_type": "markdown",
   "id": "e7a3a429",
   "metadata": {},
   "source": [
    "This is the r-squared metric against which we will compare future models."
   ]
  },
  {
   "cell_type": "markdown",
   "id": "c82aa7b4",
   "metadata": {},
   "source": [
    "#### 2.1.1.2. Mean absolute error as metric"
   ]
  },
  {
   "cell_type": "code",
   "execution_count": 128,
   "id": "f5875915",
   "metadata": {},
   "outputs": [],
   "source": [
    "def mae(y, ypred):\n",
    "    \"\"\"Mean absolute error.\n",
    "    \n",
    "    Calculate the mean absolute error of the arguments\n",
    "\n",
    "    Arguments:\n",
    "    y -- the observed values\n",
    "    ypred -- the predicted values\n",
    "    \"\"\"\n",
    "    abs_error = np.abs(y - ypred)\n",
    "    mae = np.mean(abs_error)\n",
    "    return mae"
   ]
  },
  {
   "cell_type": "code",
   "execution_count": 129,
   "id": "60948821",
   "metadata": {},
   "outputs": [
    {
     "data": {
      "text/plain": [
       "71.49195528097957"
      ]
     },
     "execution_count": 129,
     "metadata": {},
     "output_type": "execute_result"
    }
   ],
   "source": [
    "mae(y_train, y_tr_pred)"
   ]
  },
  {
   "cell_type": "code",
   "execution_count": 130,
   "id": "36c230c4",
   "metadata": {},
   "outputs": [
    {
     "data": {
      "text/plain": [
       "76.41860418900934"
      ]
     },
     "execution_count": 130,
     "metadata": {},
     "output_type": "execute_result"
    }
   ],
   "source": [
    "mae(y_test, y_te_pred)"
   ]
  },
  {
   "cell_type": "markdown",
   "id": "72e5e0e2",
   "metadata": {},
   "source": [
    "#### 2.1.1.2. Mean square error as metric"
   ]
  },
  {
   "cell_type": "code",
   "execution_count": 131,
   "id": "84f0a51a",
   "metadata": {},
   "outputs": [],
   "source": [
    "def mse(y, ypred):\n",
    "    \"\"\"Mean square error.\n",
    "    \n",
    "    Calculate the mean square error of the arguments\n",
    "\n",
    "    Arguments:\n",
    "    y -- the observed values\n",
    "    ypred -- the predicted values\n",
    "    \"\"\"\n",
    "    sq_error = (y - ypred)**2\n",
    "    mse = np.mean(sq_error)\n",
    "    return mse"
   ]
  },
  {
   "cell_type": "code",
   "execution_count": 132,
   "id": "b1279179",
   "metadata": {},
   "outputs": [
    {
     "data": {
      "text/plain": [
       "13708.292755568207"
      ]
     },
     "execution_count": 132,
     "metadata": {},
     "output_type": "execute_result"
    }
   ],
   "source": [
    "mse(y_train, y_tr_pred)"
   ]
  },
  {
   "cell_type": "code",
   "execution_count": 133,
   "id": "d9d2646f",
   "metadata": {},
   "outputs": [
    {
     "data": {
      "text/plain": [
       "15024.778970924373"
      ]
     },
     "execution_count": 133,
     "metadata": {},
     "output_type": "execute_result"
    }
   ],
   "source": [
    "mse(y_test, y_te_pred)"
   ]
  },
  {
   "cell_type": "code",
   "execution_count": 267,
   "id": "717eae81",
   "metadata": {},
   "outputs": [
    {
     "data": {
      "text/plain": [
       "{'fit_time': array([0.00400162, 0.00700164, 0.00299788, 0.00499582, 0.00399733]),\n",
       " 'score_time': array([0.        , 0.        , 0.00099921, 0.0010016 , 0.        ]),\n",
       " 'test_score': array([-2.88321818e-04, -9.41636651e-05, -6.53521606e-05, -9.39707800e-05,\n",
       "        -6.97524006e-04])}"
      ]
     },
     "execution_count": 267,
     "metadata": {},
     "output_type": "execute_result"
    }
   ],
   "source": [
    "mean_cv_results = cross_validate(dumb_reg, X_train, y_train, cv=5)\n",
    "mean_cv_results"
   ]
  },
  {
   "cell_type": "code",
   "execution_count": 268,
   "id": "c6014632",
   "metadata": {},
   "outputs": [
    {
     "data": {
      "text/plain": [
       "-0.0002478664858488244"
      ]
     },
     "execution_count": 268,
     "metadata": {},
     "output_type": "execute_result"
    }
   ],
   "source": [
    "mean_cv_avg = np.mean(mean_cv_results['test_score'])\n",
    "mean_cv_avg"
   ]
  },
  {
   "cell_type": "code",
   "execution_count": 270,
   "id": "1901864b",
   "metadata": {},
   "outputs": [
    {
     "data": {
      "text/plain": [
       "{'fit_time': array([0.00100064, 0.00101733, 0.00099993, 0.00099945, 0.00100017]),\n",
       " 'score_time': array([0.00100088, 0.00097871, 0.00100279, 0.        , 0.        ]),\n",
       " 'test_score': array([-0.00766815, -0.00084344, -0.00387639, -0.00083367, -0.00026341])}"
      ]
     },
     "execution_count": 270,
     "metadata": {},
     "output_type": "execute_result"
    }
   ],
   "source": [
    "mean_cv_results_te = cross_validate(dumb_reg, X_test, y_test, cv=5)\n",
    "mean_cv_results_te"
   ]
  },
  {
   "cell_type": "code",
   "execution_count": 271,
   "id": "008fcc43",
   "metadata": {},
   "outputs": [
    {
     "data": {
      "text/plain": [
       "-0.0026970133375272985"
      ]
     },
     "execution_count": 271,
     "metadata": {},
     "output_type": "execute_result"
    }
   ],
   "source": [
    "mean_cv_avg_te = np.mean(mean_cv_results_te['test_score'])\n",
    "mean_cv_avg_te"
   ]
  },
  {
   "cell_type": "markdown",
   "id": "1baca2ad",
   "metadata": {},
   "source": [
    "We will use all of the previous metrics to evaluate future models and see whether they perform as well, better, or less well than the mean of the data.  Ideally, we will find at least model that is a better fit for the data to use for future modeling."
   ]
  },
  {
   "cell_type": "markdown",
   "id": "2e1bd400",
   "metadata": {},
   "source": [
    "# 3. Initial Models  <a class=\"anchor\" id=\"third-bullet\"></a>"
   ]
  },
  {
   "cell_type": "markdown",
   "id": "f30d4ca7",
   "metadata": {},
   "source": [
    "## 3.1. Linear regression  <a class=\"anchor\" id=\"fourth-bullet\"></a>"
   ]
  },
  {
   "cell_type": "markdown",
   "id": "6f9408d7",
   "metadata": {},
   "source": [
    "### 3.1.1. Scale the data"
   ]
  },
  {
   "cell_type": "code",
   "execution_count": 134,
   "id": "713f5af7",
   "metadata": {},
   "outputs": [],
   "source": [
    "scaler = StandardScaler()\n",
    "scaler.fit(X_train)\n",
    "X_tr_scaled = scaler.transform(X_train)\n",
    "X_te_scaled = scaler.transform(X_test)"
   ]
  },
  {
   "cell_type": "markdown",
   "id": "c1b6a74a",
   "metadata": {},
   "source": [
    "### 3.1.2. Fit the model"
   ]
  },
  {
   "cell_type": "code",
   "execution_count": 135,
   "id": "ad358cf4",
   "metadata": {},
   "outputs": [],
   "source": [
    "lm = LinearRegression().fit(X_tr_scaled, y_train)"
   ]
  },
  {
   "cell_type": "markdown",
   "id": "86e7e275",
   "metadata": {},
   "source": [
    "### 3.1.3. Use this model to make predictions"
   ]
  },
  {
   "cell_type": "markdown",
   "id": "d58dbefe",
   "metadata": {},
   "source": [
    "Make predictions using the model on both train and test splits"
   ]
  },
  {
   "cell_type": "code",
   "execution_count": 136,
   "id": "3a180891",
   "metadata": {},
   "outputs": [],
   "source": [
    "y_tr_pred = lm.predict(X_tr_scaled)\n",
    "y_te_pred = lm.predict(X_te_scaled)"
   ]
  },
  {
   "cell_type": "markdown",
   "id": "72d8060e",
   "metadata": {},
   "source": [
    "### 3.1.4. Assess model performance"
   ]
  },
  {
   "cell_type": "code",
   "execution_count": 137,
   "id": "649ef5d8",
   "metadata": {},
   "outputs": [
    {
     "data": {
      "text/plain": [
       "(0.8101241730675048, 0.7967036023482487)"
      ]
     },
     "execution_count": 137,
     "metadata": {},
     "output_type": "execute_result"
    }
   ],
   "source": [
    "lr_r2 = r2_score(y_train, y_tr_pred), r2_score(y_test, y_te_pred)\n",
    "lr_r2"
   ]
  },
  {
   "cell_type": "code",
   "execution_count": 138,
   "id": "2702683a",
   "metadata": {},
   "outputs": [
    {
     "data": {
      "text/plain": [
       "(25.485210681715476, 27.279477756821315)"
      ]
     },
     "execution_count": 138,
     "metadata": {},
     "output_type": "execute_result"
    }
   ],
   "source": [
    "lr_mae = mean_absolute_error(y_train, y_tr_pred), mean_absolute_error(y_test, y_te_pred)\n",
    "lr_mae"
   ]
  },
  {
   "cell_type": "code",
   "execution_count": 139,
   "id": "6afbef6b",
   "metadata": {},
   "outputs": [
    {
     "data": {
      "text/plain": [
       "(2602.873422796246, 3054.483440302713)"
      ]
     },
     "execution_count": 139,
     "metadata": {},
     "output_type": "execute_result"
    }
   ],
   "source": [
    "lr_mse = mean_squared_error(y_train, y_tr_pred), mean_squared_error(y_test, y_te_pred)\n",
    "lr_mse"
   ]
  },
  {
   "cell_type": "code",
   "execution_count": 272,
   "id": "8355c4a9",
   "metadata": {},
   "outputs": [],
   "source": [
    "lr_cv_results_tr = cross_validate(lm, X_tr_scaled, y_train, cv=5)"
   ]
  },
  {
   "cell_type": "code",
   "execution_count": 274,
   "id": "395b93a6",
   "metadata": {},
   "outputs": [
    {
     "data": {
      "text/plain": [
       "-3.265739568926812e+23"
      ]
     },
     "execution_count": 274,
     "metadata": {},
     "output_type": "execute_result"
    }
   ],
   "source": [
    "lr_cv_avg = np.mean(lr_cv_results_tr['test_score'])\n",
    "lr_cv_avg"
   ]
  },
  {
   "cell_type": "code",
   "execution_count": 275,
   "id": "6d891b99",
   "metadata": {},
   "outputs": [],
   "source": [
    "lr_cv_results_te = cross_validate(lm, X_te_scaled, y_test, cv=5)"
   ]
  },
  {
   "cell_type": "code",
   "execution_count": 277,
   "id": "0915a8e4",
   "metadata": {},
   "outputs": [
    {
     "data": {
      "text/plain": [
       "0.7875749398024844"
      ]
     },
     "execution_count": 277,
     "metadata": {},
     "output_type": "execute_result"
    }
   ],
   "source": [
    "lr_cv_avg_te = np.mean(lr_cv_results_te['test_score'])\n",
    "lr_cv_avg_te"
   ]
  },
  {
   "cell_type": "markdown",
   "id": "2eee67a4",
   "metadata": {},
   "source": [
    "## 3.2. Refine linear model  <a class=\"anchor\" id=\"fifth-bullet\"></a>"
   ]
  },
  {
   "cell_type": "markdown",
   "id": "0066fc50",
   "metadata": {},
   "source": [
    "### 3.2.1. Define the pipeline"
   ]
  },
  {
   "cell_type": "code",
   "execution_count": 141,
   "id": "98fd7b13",
   "metadata": {},
   "outputs": [],
   "source": [
    "pipe = make_pipeline(\n",
    "    StandardScaler(),\n",
    "    SelectKBest(f_regression),\n",
    "    LinearRegression()\n",
    ")"
   ]
  },
  {
   "cell_type": "markdown",
   "id": "bac095c3",
   "metadata": {},
   "source": [
    "### 3.2.2. Fit the pipeline"
   ]
  },
  {
   "cell_type": "code",
   "execution_count": 142,
   "id": "55d31acb",
   "metadata": {},
   "outputs": [
    {
     "data": {
      "text/plain": [
       "Pipeline(steps=[('standardscaler', StandardScaler()),\n",
       "                ('selectkbest',\n",
       "                 SelectKBest(score_func=<function f_regression at 0x000001F9BCB665E0>)),\n",
       "                ('linearregression', LinearRegression())])"
      ]
     },
     "execution_count": 142,
     "metadata": {},
     "output_type": "execute_result"
    }
   ],
   "source": [
    "pipe.fit(X_train, y_train)"
   ]
  },
  {
   "cell_type": "markdown",
   "id": "94dd7099",
   "metadata": {},
   "source": [
    "### 3.2.3. Access model performance on train and test sets"
   ]
  },
  {
   "cell_type": "code",
   "execution_count": 143,
   "id": "07c29cfe",
   "metadata": {},
   "outputs": [],
   "source": [
    "y_tr_pred = pipe.predict(X_train)\n",
    "y_te_pred = pipe.predict(X_test)"
   ]
  },
  {
   "cell_type": "code",
   "execution_count": 144,
   "id": "2ab2df41",
   "metadata": {},
   "outputs": [
    {
     "data": {
      "text/plain": [
       "(0.7690860001866129, 0.753778739619065)"
      ]
     },
     "execution_count": 144,
     "metadata": {},
     "output_type": "execute_result"
    }
   ],
   "source": [
    "r2_score(y_train, y_tr_pred), r2_score(y_test, y_te_pred)"
   ]
  },
  {
   "cell_type": "code",
   "execution_count": 145,
   "id": "cbc38825",
   "metadata": {},
   "outputs": [
    {
     "data": {
      "text/plain": [
       "(27.380068288642022, 29.108797244996264)"
      ]
     },
     "execution_count": 145,
     "metadata": {},
     "output_type": "execute_result"
    }
   ],
   "source": [
    "mean_absolute_error(y_train, y_tr_pred), mean_absolute_error(y_test, y_te_pred)"
   ]
  },
  {
   "cell_type": "code",
   "execution_count": 146,
   "id": "c3a74137",
   "metadata": {},
   "outputs": [
    {
     "data": {
      "text/plain": [
       "(3165.436710801132, 3699.420015165966)"
      ]
     },
     "execution_count": 146,
     "metadata": {},
     "output_type": "execute_result"
    }
   ],
   "source": [
    "mean_squared_error(y_train, y_tr_pred), mean_squared_error(y_test, y_te_pred)"
   ]
  },
  {
   "cell_type": "code",
   "execution_count": 278,
   "id": "bb11259d",
   "metadata": {},
   "outputs": [
    {
     "name": "stderr",
     "output_type": "stream",
     "text": [
      "C:\\Users\\crathgeb-pc\\anaconda3\\lib\\site-packages\\sklearn\\feature_selection\\_univariate_selection.py:302: RuntimeWarning: invalid value encountered in divide\n",
      "  corr /= X_norms\n",
      "C:\\Users\\crathgeb-pc\\anaconda3\\lib\\site-packages\\sklearn\\feature_selection\\_univariate_selection.py:302: RuntimeWarning: invalid value encountered in divide\n",
      "  corr /= X_norms\n",
      "C:\\Users\\crathgeb-pc\\anaconda3\\lib\\site-packages\\sklearn\\feature_selection\\_univariate_selection.py:302: RuntimeWarning: invalid value encountered in divide\n",
      "  corr /= X_norms\n"
     ]
    }
   ],
   "source": [
    "pipe_lr_cv_tr = cross_validate(pipe, X_train, y_train, cv=5)"
   ]
  },
  {
   "cell_type": "code",
   "execution_count": 279,
   "id": "030267b9",
   "metadata": {},
   "outputs": [
    {
     "data": {
      "text/plain": [
       "0.7670301620822372"
      ]
     },
     "execution_count": 279,
     "metadata": {},
     "output_type": "execute_result"
    }
   ],
   "source": [
    "pipe_lr_avg_cv_tr = np.mean(pipe_lr_cv_tr['test_score'])\n",
    "pipe_lr_avg_cv_tr"
   ]
  },
  {
   "cell_type": "code",
   "execution_count": 280,
   "id": "2a2c4fcf",
   "metadata": {},
   "outputs": [
    {
     "name": "stderr",
     "output_type": "stream",
     "text": [
      "C:\\Users\\crathgeb-pc\\anaconda3\\lib\\site-packages\\sklearn\\feature_selection\\_univariate_selection.py:302: RuntimeWarning: invalid value encountered in divide\n",
      "  corr /= X_norms\n",
      "C:\\Users\\crathgeb-pc\\anaconda3\\lib\\site-packages\\sklearn\\feature_selection\\_univariate_selection.py:302: RuntimeWarning: invalid value encountered in divide\n",
      "  corr /= X_norms\n",
      "C:\\Users\\crathgeb-pc\\anaconda3\\lib\\site-packages\\sklearn\\feature_selection\\_univariate_selection.py:302: RuntimeWarning: invalid value encountered in divide\n",
      "  corr /= X_norms\n",
      "C:\\Users\\crathgeb-pc\\anaconda3\\lib\\site-packages\\sklearn\\feature_selection\\_univariate_selection.py:302: RuntimeWarning: invalid value encountered in divide\n",
      "  corr /= X_norms\n",
      "C:\\Users\\crathgeb-pc\\anaconda3\\lib\\site-packages\\sklearn\\feature_selection\\_univariate_selection.py:302: RuntimeWarning: invalid value encountered in divide\n",
      "  corr /= X_norms\n"
     ]
    }
   ],
   "source": [
    "pipe_lr_cv_te = cross_validate(pipe, X_test, y_test, cv=5)"
   ]
  },
  {
   "cell_type": "code",
   "execution_count": 281,
   "id": "a7528c20",
   "metadata": {},
   "outputs": [
    {
     "data": {
      "text/plain": [
       "0.7490550941373499"
      ]
     },
     "execution_count": 281,
     "metadata": {},
     "output_type": "execute_result"
    }
   ],
   "source": [
    "pipe_lr_avg_cv_te = np.mean(pipe_lr_cv_te['test_score'])\n",
    "pipe_lr_avg_cv_te"
   ]
  },
  {
   "cell_type": "markdown",
   "id": "9513fbb5",
   "metadata": {},
   "source": [
    "Selecting a subset of features has an impact on performance. SelectKBest defaults to k=10. We've just seen that 10 is worse than using all features. What is the best k? We could create a new pipeline with a different value of k:"
   ]
  },
  {
   "cell_type": "markdown",
   "id": "02407997",
   "metadata": {},
   "source": [
    "### 3.2.4. Define a new pipeline with k best features"
   ]
  },
  {
   "cell_type": "code",
   "execution_count": 147,
   "id": "5224d472",
   "metadata": {},
   "outputs": [],
   "source": [
    "pipe15 = make_pipeline( \n",
    "    StandardScaler(),\n",
    "    SelectKBest(f_regression, k=15),\n",
    "    LinearRegression()\n",
    ")"
   ]
  },
  {
   "cell_type": "markdown",
   "id": "5c113267",
   "metadata": {},
   "source": [
    "### 3.2.5. Fit new pipeline"
   ]
  },
  {
   "cell_type": "code",
   "execution_count": 148,
   "id": "ad1e4a0e",
   "metadata": {},
   "outputs": [
    {
     "data": {
      "text/plain": [
       "Pipeline(steps=[('standardscaler', StandardScaler()),\n",
       "                ('selectkbest',\n",
       "                 SelectKBest(k=15,\n",
       "                             score_func=<function f_regression at 0x000001F9BCB665E0>)),\n",
       "                ('linearregression', LinearRegression())])"
      ]
     },
     "execution_count": 148,
     "metadata": {},
     "output_type": "execute_result"
    }
   ],
   "source": [
    "pipe15.fit(X_train, y_train)"
   ]
  },
  {
   "cell_type": "markdown",
   "id": "c256387b",
   "metadata": {},
   "source": [
    "### 3.2.6. Access performance"
   ]
  },
  {
   "cell_type": "code",
   "execution_count": 149,
   "id": "157be89d",
   "metadata": {},
   "outputs": [],
   "source": [
    "y_tr_pred = pipe15.predict(X_train)\n",
    "y_te_pred = pipe15.predict(X_test)"
   ]
  },
  {
   "cell_type": "code",
   "execution_count": 150,
   "id": "9f6e6588",
   "metadata": {},
   "outputs": [
    {
     "data": {
      "text/plain": [
       "(0.7768236361203744, 0.7606094281800322)"
      ]
     },
     "execution_count": 150,
     "metadata": {},
     "output_type": "execute_result"
    }
   ],
   "source": [
    "r2_score(y_train, y_tr_pred), r2_score(y_test, y_te_pred)"
   ]
  },
  {
   "cell_type": "code",
   "execution_count": 151,
   "id": "cd95e1d8",
   "metadata": {},
   "outputs": [
    {
     "data": {
      "text/plain": [
       "(25.659028715574117, 27.37798711193005)"
      ]
     },
     "execution_count": 151,
     "metadata": {},
     "output_type": "execute_result"
    }
   ],
   "source": [
    "mean_absolute_error(y_train, y_tr_pred), mean_absolute_error(y_test, y_te_pred)"
   ]
  },
  {
   "cell_type": "code",
   "execution_count": 152,
   "id": "3d9b8592",
   "metadata": {},
   "outputs": [
    {
     "data": {
      "text/plain": [
       "(3059.3669321851253, 3596.7904293182123)"
      ]
     },
     "execution_count": 152,
     "metadata": {},
     "output_type": "execute_result"
    }
   ],
   "source": [
    "mean_squared_error(y_train, y_tr_pred), mean_squared_error(y_test, y_te_pred)"
   ]
  },
  {
   "cell_type": "code",
   "execution_count": 282,
   "id": "0cc04d04",
   "metadata": {},
   "outputs": [
    {
     "name": "stderr",
     "output_type": "stream",
     "text": [
      "C:\\Users\\crathgeb-pc\\anaconda3\\lib\\site-packages\\sklearn\\feature_selection\\_univariate_selection.py:302: RuntimeWarning: invalid value encountered in divide\n",
      "  corr /= X_norms\n",
      "C:\\Users\\crathgeb-pc\\anaconda3\\lib\\site-packages\\sklearn\\feature_selection\\_univariate_selection.py:302: RuntimeWarning: invalid value encountered in divide\n",
      "  corr /= X_norms\n",
      "C:\\Users\\crathgeb-pc\\anaconda3\\lib\\site-packages\\sklearn\\feature_selection\\_univariate_selection.py:302: RuntimeWarning: invalid value encountered in divide\n",
      "  corr /= X_norms\n"
     ]
    }
   ],
   "source": [
    "k_cv_tr = cross_validate(pipe15, X_train, y_train, cv=5)"
   ]
  },
  {
   "cell_type": "code",
   "execution_count": 283,
   "id": "4afb1683",
   "metadata": {},
   "outputs": [
    {
     "data": {
      "text/plain": [
       "0.7743629940262677"
      ]
     },
     "execution_count": 283,
     "metadata": {},
     "output_type": "execute_result"
    }
   ],
   "source": [
    "avg_cv_k_tr = np.mean(k_cv_tr['test_score'])\n",
    "avg_cv_k_tr"
   ]
  },
  {
   "cell_type": "code",
   "execution_count": 286,
   "id": "be7e9a55",
   "metadata": {},
   "outputs": [
    {
     "name": "stderr",
     "output_type": "stream",
     "text": [
      "C:\\Users\\crathgeb-pc\\anaconda3\\lib\\site-packages\\sklearn\\feature_selection\\_univariate_selection.py:302: RuntimeWarning: invalid value encountered in divide\n",
      "  corr /= X_norms\n",
      "C:\\Users\\crathgeb-pc\\anaconda3\\lib\\site-packages\\sklearn\\feature_selection\\_univariate_selection.py:302: RuntimeWarning: invalid value encountered in divide\n",
      "  corr /= X_norms\n",
      "C:\\Users\\crathgeb-pc\\anaconda3\\lib\\site-packages\\sklearn\\feature_selection\\_univariate_selection.py:302: RuntimeWarning: invalid value encountered in divide\n",
      "  corr /= X_norms\n",
      "C:\\Users\\crathgeb-pc\\anaconda3\\lib\\site-packages\\sklearn\\feature_selection\\_univariate_selection.py:302: RuntimeWarning: invalid value encountered in divide\n",
      "  corr /= X_norms\n",
      "C:\\Users\\crathgeb-pc\\anaconda3\\lib\\site-packages\\sklearn\\feature_selection\\_univariate_selection.py:302: RuntimeWarning: invalid value encountered in divide\n",
      "  corr /= X_norms\n"
     ]
    }
   ],
   "source": [
    "k_cv_te = cross_validate(pipe15, X_test, y_test, cv=5)"
   ]
  },
  {
   "cell_type": "code",
   "execution_count": 287,
   "id": "1761d0e8",
   "metadata": {},
   "outputs": [
    {
     "data": {
      "text/plain": [
       "0.7526105647498482"
      ]
     },
     "execution_count": 287,
     "metadata": {},
     "output_type": "execute_result"
    }
   ],
   "source": [
    "avg_cv_k_te = np.mean(k_cv_te['test_score'])\n",
    "avg_cv_k_te"
   ]
  },
  {
   "cell_type": "markdown",
   "id": "3be26780",
   "metadata": {},
   "source": [
    "## Visualize k best features?"
   ]
  },
  {
   "cell_type": "code",
   "execution_count": 198,
   "id": "e36e3c23",
   "metadata": {},
   "outputs": [],
   "source": [
    "k = [k+1 for k in range(61)]\n",
    "grid_params = {'selectkbest__k': k}"
   ]
  },
  {
   "cell_type": "code",
   "execution_count": 199,
   "id": "51455dd8",
   "metadata": {},
   "outputs": [],
   "source": [
    "lr_grid_cv = GridSearchCV(pipe, param_grid=grid_params, cv=5, n_jobs=-1)"
   ]
  },
  {
   "cell_type": "code",
   "execution_count": 200,
   "id": "21dc080d",
   "metadata": {},
   "outputs": [
    {
     "data": {
      "text/plain": [
       "GridSearchCV(cv=5,\n",
       "             estimator=Pipeline(steps=[('standardscaler', StandardScaler()),\n",
       "                                       ('selectkbest',\n",
       "                                        SelectKBest(score_func=<function f_regression at 0x000001F9BCB665E0>)),\n",
       "                                       ('linearregression',\n",
       "                                        LinearRegression())]),\n",
       "             n_jobs=-1,\n",
       "             param_grid={'selectkbest__k': [1, 2, 3, 4, 5, 6, 7, 8, 9, 10, 11,\n",
       "                                            12, 13, 14, 15, 16, 17, 18, 19, 20,\n",
       "                                            21, 22, 23, 24, 25, 26, 27, 28, 29,\n",
       "                                            30, ...]})"
      ]
     },
     "execution_count": 200,
     "metadata": {},
     "output_type": "execute_result"
    }
   ],
   "source": [
    "lr_grid_cv.fit(X_train, y_train)"
   ]
  },
  {
   "cell_type": "code",
   "execution_count": 201,
   "id": "61c1bd84",
   "metadata": {},
   "outputs": [],
   "source": [
    "score_mean = lr_grid_cv.cv_results_['mean_test_score']\n",
    "score_std = lr_grid_cv.cv_results_['std_test_score']\n",
    "cv_k = [k for k in lr_grid_cv.cv_results_['param_selectkbest__k']]"
   ]
  },
  {
   "cell_type": "code",
   "execution_count": 202,
   "id": "4ec1e919",
   "metadata": {},
   "outputs": [
    {
     "data": {
      "text/plain": [
       "{'selectkbest__k': 58}"
      ]
     },
     "execution_count": 202,
     "metadata": {},
     "output_type": "execute_result"
    }
   ],
   "source": [
    "lr_grid_cv.best_params_"
   ]
  },
  {
   "cell_type": "code",
   "execution_count": 203,
   "id": "58d39c25",
   "metadata": {},
   "outputs": [
    {
     "data": {
      "image/png": "[encoded data removed]",
      "text/plain": [
       "<Figure size 1000x500 with 1 Axes>"
      ]
     },
     "metadata": {},
     "output_type": "display_data"
    }
   ],
   "source": [
    "best_k = lr_grid_cv.best_params_['selectkbest__k']\n",
    "plt.subplots(figsize=(10, 5))\n",
    "plt.errorbar(cv_k, score_mean, yerr=score_std)\n",
    "plt.axvline(x=best_k, c='r', ls='--', alpha=.5)\n",
    "plt.xlabel('k')\n",
    "plt.ylabel('CV score (r-squared)')\n",
    "plt.title('Pipeline mean CV score (error bars +/- 1sd)');"
   ]
  },
  {
   "cell_type": "markdown",
   "id": "2bfcef38",
   "metadata": {},
   "source": [
    "This is not a very useful result.  This basically indicates that all features are needed.  However, logically, considering the dataframe at this point, this makes sense.  Many of the features are dummy variables allowing us to examine categorical features in numeric ways, such as for each State.  There are only a handful of features that are truly numeric variables that would have enough possible variation and information to affect the overall model.  Therefore, this examination of the best number of features to use verifies the premise I had already been using, that is that we have eliminated the information we do not need to build possibly useful models and that everything left is important for making any conclusions."
   ]
  },
  {
   "cell_type": "markdown",
   "id": "2e978866",
   "metadata": {},
   "source": [
    "# 4. Additional models  <a class=\"anchor\" id=\"sixth-bullet\"></a>"
   ]
  },
  {
   "cell_type": "markdown",
   "id": "e993058a",
   "metadata": {},
   "source": [
    "## 4.1. Random forest model  <a class=\"anchor\" id=\"seventh-bullet\"></a>"
   ]
  },
  {
   "cell_type": "markdown",
   "id": "7e4a22e8",
   "metadata": {},
   "source": [
    "### 4.1.1. Make pipeline"
   ]
  },
  {
   "cell_type": "code",
   "execution_count": 153,
   "id": "c3d74012",
   "metadata": {},
   "outputs": [],
   "source": [
    "RF_pipe = make_pipeline(\n",
    "    StandardScaler(),\n",
    "    RandomForestRegressor(random_state=47)\n",
    ")"
   ]
  },
  {
   "cell_type": "markdown",
   "id": "51181d9d",
   "metadata": {},
   "source": [
    "### 4.1.2. Fit and access performance"
   ]
  },
  {
   "cell_type": "code",
   "execution_count": 154,
   "id": "d99afbb6",
   "metadata": {},
   "outputs": [],
   "source": [
    "rf_default_cv_results = cross_validate(RF_pipe, X_train, y_train, cv=5)"
   ]
  },
  {
   "cell_type": "code",
   "execution_count": 155,
   "id": "8aff42ee",
   "metadata": {},
   "outputs": [
    {
     "data": {
      "text/plain": [
       "array([0.99771406, 0.99981121, 0.99963972, 0.99961689, 0.99997786])"
      ]
     },
     "execution_count": 155,
     "metadata": {},
     "output_type": "execute_result"
    }
   ],
   "source": [
    "rf_cv_scores = rf_default_cv_results['test_score']\n",
    "rf_cv_scores"
   ]
  },
  {
   "cell_type": "code",
   "execution_count": 156,
   "id": "55f32821",
   "metadata": {},
   "outputs": [
    {
     "data": {
      "text/plain": [
       "(0.999351946453163, 0.0008292627410377901)"
      ]
     },
     "execution_count": 156,
     "metadata": {},
     "output_type": "execute_result"
    }
   ],
   "source": [
    "np.mean(rf_cv_scores), np.std(rf_cv_scores)"
   ]
  },
  {
   "cell_type": "code",
   "execution_count": 288,
   "id": "0668fd18",
   "metadata": {},
   "outputs": [],
   "source": [
    "rf_default_cv_results_te = cross_validate(RF_pipe, X_test, y_test, cv=5)"
   ]
  },
  {
   "cell_type": "code",
   "execution_count": 289,
   "id": "d4aae7ba",
   "metadata": {},
   "outputs": [
    {
     "data": {
      "text/plain": [
       "0.9978914914454846"
      ]
     },
     "execution_count": 289,
     "metadata": {},
     "output_type": "execute_result"
    }
   ],
   "source": [
    "rf_cv_scores_te = np.mean(rf_default_cv_results_te['test_score'])\n",
    "rf_cv_scores_te"
   ]
  },
  {
   "cell_type": "code",
   "execution_count": 245,
   "id": "d70f30fe",
   "metadata": {},
   "outputs": [
    {
     "data": {
      "text/plain": [
       "Pipeline(steps=[('standardscaler', StandardScaler()),\n",
       "                ('randomforestregressor',\n",
       "                 RandomForestRegressor(random_state=47))])"
      ]
     },
     "execution_count": 245,
     "metadata": {},
     "output_type": "execute_result"
    }
   ],
   "source": [
    "RF_pipe.fit(X_train, y_train)"
   ]
  },
  {
   "cell_type": "code",
   "execution_count": 246,
   "id": "068cdb67",
   "metadata": {},
   "outputs": [],
   "source": [
    "y_tr_pred = RF_pipe.predict(X_train)\n",
    "y_te_pred = RF_pipe.predict(X_test)"
   ]
  },
  {
   "cell_type": "code",
   "execution_count": 247,
   "id": "70b6271d",
   "metadata": {},
   "outputs": [
    {
     "data": {
      "text/plain": [
       "(0.9999368121568096, 0.9998809154931012)"
      ]
     },
     "execution_count": 247,
     "metadata": {},
     "output_type": "execute_result"
    }
   ],
   "source": [
    "r2_score(y_train, y_tr_pred), r2_score(y_test, y_te_pred)"
   ]
  },
  {
   "cell_type": "code",
   "execution_count": 248,
   "id": "af607585",
   "metadata": {},
   "outputs": [
    {
     "data": {
      "text/plain": [
       "(0.040558863948694464, 0.07745694393550752)"
      ]
     },
     "execution_count": 248,
     "metadata": {},
     "output_type": "execute_result"
    }
   ],
   "source": [
    "mean_absolute_error(y_train, y_tr_pred), mean_absolute_error(y_test, y_te_pred)"
   ]
  },
  {
   "cell_type": "code",
   "execution_count": 249,
   "id": "db7492bb",
   "metadata": {},
   "outputs": [
    {
     "data": {
      "text/plain": [
       "(0.8661974530462665, 1.7892183950164893)"
      ]
     },
     "execution_count": 249,
     "metadata": {},
     "output_type": "execute_result"
    }
   ],
   "source": [
    "mean_squared_error(y_train, y_tr_pred), mean_squared_error(y_test, y_te_pred)"
   ]
  },
  {
   "cell_type": "markdown",
   "id": "e53e5a56",
   "metadata": {},
   "source": [
    "Cross-validation score(s) of 1.0 indicate over-fitting"
   ]
  },
  {
   "cell_type": "markdown",
   "id": "d377282b",
   "metadata": {},
   "source": [
    "### 4.1.3. Hyperparameter search using gridsearch"
   ]
  },
  {
   "cell_type": "code",
   "execution_count": 157,
   "id": "9b2bfcf2",
   "metadata": {},
   "outputs": [
    {
     "data": {
      "text/plain": [
       "{'randomforestregressor__n_estimators': [10,\n",
       "  12,\n",
       "  16,\n",
       "  20,\n",
       "  26,\n",
       "  33,\n",
       "  42,\n",
       "  54,\n",
       "  69,\n",
       "  88,\n",
       "  112,\n",
       "  143,\n",
       "  183,\n",
       "  233,\n",
       "  297,\n",
       "  379,\n",
       "  483,\n",
       "  615,\n",
       "  784,\n",
       "  1000],\n",
       " 'standardscaler': [StandardScaler(), None]}"
      ]
     },
     "execution_count": 157,
     "metadata": {},
     "output_type": "execute_result"
    }
   ],
   "source": [
    "n_est = [int(n) for n in np.logspace(start=1, stop=3, num=20)]\n",
    "grid_params = {\n",
    "        'randomforestregressor__n_estimators': n_est,\n",
    "        'standardscaler': [StandardScaler(), None],\n",
    "}\n",
    "grid_params"
   ]
  },
  {
   "cell_type": "code",
   "execution_count": 158,
   "id": "30eae037",
   "metadata": {},
   "outputs": [],
   "source": [
    "rf_grid_cv = GridSearchCV(RF_pipe, param_grid=grid_params, cv=5, n_jobs=-1)"
   ]
  },
  {
   "cell_type": "code",
   "execution_count": 159,
   "id": "6f745fac",
   "metadata": {},
   "outputs": [
    {
     "data": {
      "text/plain": [
       "GridSearchCV(cv=5,\n",
       "             estimator=Pipeline(steps=[('standardscaler', StandardScaler()),\n",
       "                                       ('randomforestregressor',\n",
       "                                        RandomForestRegressor(random_state=47))]),\n",
       "             n_jobs=-1,\n",
       "             param_grid={'randomforestregressor__n_estimators': [10, 12, 16, 20,\n",
       "                                                                 26, 33, 42, 54,\n",
       "                                                                 69, 88, 112,\n",
       "                                                                 143, 183, 233,\n",
       "                                                                 297, 379, 483,\n",
       "                                                                 615, 784,\n",
       "                                                                 1000],\n",
       "                         'standardscaler': [StandardScaler(), None]})"
      ]
     },
     "execution_count": 159,
     "metadata": {},
     "output_type": "execute_result"
    }
   ],
   "source": [
    "rf_grid_cv.fit(X_train, y_train)"
   ]
  },
  {
   "cell_type": "code",
   "execution_count": 160,
   "id": "a463addd",
   "metadata": {},
   "outputs": [
    {
     "data": {
      "text/plain": [
       "{'randomforestregressor__n_estimators': 615,\n",
       " 'standardscaler': StandardScaler()}"
      ]
     },
     "execution_count": 160,
     "metadata": {},
     "output_type": "execute_result"
    }
   ],
   "source": [
    "rf_grid_cv.best_params_"
   ]
  },
  {
   "cell_type": "code",
   "execution_count": 161,
   "id": "a1f8bb7c",
   "metadata": {},
   "outputs": [
    {
     "data": {
      "text/plain": [
       "array([0.99830236, 0.99983134, 0.99965616, 0.99954185, 0.99997519])"
      ]
     },
     "execution_count": 161,
     "metadata": {},
     "output_type": "execute_result"
    }
   ],
   "source": [
    "rf_best_cv_results = cross_validate(rf_grid_cv.best_estimator_, X_train, y_train, cv=5)\n",
    "rf_best_scores = rf_best_cv_results['test_score']\n",
    "rf_best_scores"
   ]
  },
  {
   "cell_type": "code",
   "execution_count": 162,
   "id": "2fa8e62f",
   "metadata": {},
   "outputs": [
    {
     "data": {
      "text/plain": [
       "(0.9994613808241418, 0.0005980979959658906)"
      ]
     },
     "execution_count": 162,
     "metadata": {},
     "output_type": "execute_result"
    }
   ],
   "source": [
    "np.mean(rf_best_scores), np.std(rf_best_scores)"
   ]
  },
  {
   "cell_type": "code",
   "execution_count": 163,
   "id": "7be8c968",
   "metadata": {},
   "outputs": [],
   "source": [
    "X_index = list(set(dums_numeric.columns) - {'District_has_bans_True'})\n"
   ]
  },
  {
   "cell_type": "code",
   "execution_count": 164,
   "id": "e281f748",
   "metadata": {},
   "outputs": [],
   "source": [
    "feature_importances = pd.DataFrame(rf_grid_cv.best_estimator_.named_steps.randomforestregressor.feature_importances_, index = X_index, columns=['District_has_bans_True']).sort_values('District_has_bans_True',ascending=False)"
   ]
  },
  {
   "cell_type": "code",
   "execution_count": 165,
   "id": "ae53e3e4",
   "metadata": {},
   "outputs": [
    {
     "data": {
      "text/html": [
       "<div>\n",
       "<style scoped>\n",
       "    .dataframe tbody tr th:only-of-type {\n",
       "        vertical-align: middle;\n",
       "    }\n",
       "\n",
       "    .dataframe tbody tr th {\n",
       "        vertical-align: top;\n",
       "    }\n",
       "\n",
       "    .dataframe thead th {\n",
       "        text-align: right;\n",
       "    }\n",
       "</style>\n",
       "<table border=\"1\" class=\"dataframe\">\n",
       "  <thead>\n",
       "    <tr style=\"text-align: right;\">\n",
       "      <th></th>\n",
       "      <th>District_has_bans_True</th>\n",
       "    </tr>\n",
       "  </thead>\n",
       "  <tbody>\n",
       "    <tr>\n",
       "      <th>State_Maryland</th>\n",
       "      <td>0.578690</td>\n",
       "    </tr>\n",
       "    <tr>\n",
       "      <th>State_Colorado</th>\n",
       "      <td>0.119537</td>\n",
       "    </tr>\n",
       "    <tr>\n",
       "      <th>State_Georgia</th>\n",
       "      <td>0.118332</td>\n",
       "    </tr>\n",
       "    <tr>\n",
       "      <th>State_Puerto rico</th>\n",
       "      <td>0.079894</td>\n",
       "    </tr>\n",
       "    <tr>\n",
       "      <th>State_New hampshire</th>\n",
       "      <td>0.039125</td>\n",
       "    </tr>\n",
       "  </tbody>\n",
       "</table>\n",
       "</div>"
      ],
      "text/plain": [
       "                     District_has_bans_True\n",
       "State_Maryland                     0.578690\n",
       "State_Colorado                     0.119537\n",
       "State_Georgia                      0.118332\n",
       "State_Puerto rico                  0.079894\n",
       "State_New hampshire                0.039125"
      ]
     },
     "execution_count": 165,
     "metadata": {},
     "output_type": "execute_result"
    }
   ],
   "source": [
    "feature_importances.head()"
   ]
  },
  {
   "cell_type": "markdown",
   "id": "3c5aa8cd",
   "metadata": {},
   "source": [
    "## 4.2. Logistic regression  <a class=\"anchor\" id=\"eighth-bullet\"></a>"
   ]
  },
  {
   "cell_type": "code",
   "execution_count": 554,
   "id": "b4effd3a",
   "metadata": {},
   "outputs": [],
   "source": [
    "from sklearn import metrics"
   ]
  },
  {
   "cell_type": "code",
   "execution_count": 555,
   "id": "a397b428",
   "metadata": {},
   "outputs": [],
   "source": [
    "log_reg = make_pipeline(\n",
    "    StandardScaler(),\n",
    "    LogisticRegression(solver = 'newton-cg'))"
   ]
  },
  {
   "cell_type": "code",
   "execution_count": 556,
   "id": "71818c10",
   "metadata": {},
   "outputs": [
    {
     "data": {
      "text/plain": [
       "Pipeline(steps=[('standardscaler', StandardScaler()),\n",
       "                ('logisticregression', LogisticRegression(solver='newton-cg'))])"
      ]
     },
     "execution_count": 556,
     "metadata": {},
     "output_type": "execute_result"
    }
   ],
   "source": [
    "log_reg.fit(X_train, y_train)"
   ]
  },
  {
   "cell_type": "code",
   "execution_count": 557,
   "id": "6825c55f",
   "metadata": {},
   "outputs": [],
   "source": [
    "y_pred=log_reg.predict(X_test)"
   ]
  },
  {
   "cell_type": "code",
   "execution_count": 558,
   "id": "22a06f35",
   "metadata": {},
   "outputs": [
    {
     "data": {
      "text/plain": [
       "array([[2200,    0,    0, ...,    0,    1,    0],\n",
       "       [   0,    6,    3, ...,    1,    0,    1],\n",
       "       [   0,    0,    2, ...,    0,    0,    0],\n",
       "       ...,\n",
       "       [   0,    0,    0, ...,   59,    0,    0],\n",
       "       [   0,    0,    0, ...,    0,   95,    0],\n",
       "       [   0,    0,    0, ...,    0,    0,  103]], dtype=int64)"
      ]
     },
     "execution_count": 558,
     "metadata": {},
     "output_type": "execute_result"
    }
   ],
   "source": [
    "metrics.confusion_matrix(y_test, y_pred)"
   ]
  },
  {
   "cell_type": "code",
   "execution_count": 559,
   "id": "165438b5",
   "metadata": {},
   "outputs": [],
   "source": [
    "y_pred_tr=log_reg.predict(X_train)"
   ]
  },
  {
   "cell_type": "code",
   "execution_count": 561,
   "id": "75b95d24",
   "metadata": {},
   "outputs": [
    {
     "data": {
      "text/plain": [
       "(0.9627928339593116, 0.9478935027663811)"
      ]
     },
     "execution_count": 561,
     "metadata": {},
     "output_type": "execute_result"
    }
   ],
   "source": [
    "r2_score(y_train, y_pred_tr), r2_score(y_test, y_pred)"
   ]
  },
  {
   "cell_type": "code",
   "execution_count": 564,
   "id": "45bcf920",
   "metadata": {},
   "outputs": [
    {
     "data": {
      "text/plain": [
       "(1.6961978928080623, 2.4019787467936973)"
      ]
     },
     "execution_count": 564,
     "metadata": {},
     "output_type": "execute_result"
    }
   ],
   "source": [
    "mean_absolute_error(y_train, y_pred_tr), mean_absolute_error(y_test, y_pred)"
   ]
  },
  {
   "cell_type": "code",
   "execution_count": 566,
   "id": "c2169cea",
   "metadata": {},
   "outputs": [
    {
     "data": {
      "text/plain": [
       "(510.0467246907925, 782.8886038842066)"
      ]
     },
     "execution_count": 566,
     "metadata": {},
     "output_type": "execute_result"
    }
   ],
   "source": [
    "mean_squared_error(y_train, y_pred_tr), mean_squared_error(y_test, y_pred)"
   ]
  },
  {
   "cell_type": "markdown",
   "id": "6d2f8d81",
   "metadata": {},
   "source": [
    "It seems very strange to me that the average error metrics are significantly higher for the training set than the test set.  Why?"
   ]
  },
  {
   "cell_type": "code",
   "execution_count": 568,
   "id": "b505699d",
   "metadata": {},
   "outputs": [
    {
     "data": {
      "text/plain": [
       "0.9799358680714614"
      ]
     },
     "execution_count": 568,
     "metadata": {},
     "output_type": "execute_result"
    }
   ],
   "source": [
    "lg_best_cv_results_tr = cross_validate(log_reg, X_train, y_train, cv=5)\n",
    "avg_cv_lg_tr = np.mean(lg_best_cv_results_tr['test_score'])\n",
    "avg_cv_lg_tr"
   ]
  },
  {
   "cell_type": "code",
   "execution_count": 570,
   "id": "fbcb513b",
   "metadata": {},
   "outputs": [
    {
     "name": "stderr",
     "output_type": "stream",
     "text": [
      "C:\\Users\\crathgeb-pc\\anaconda3\\lib\\site-packages\\sklearn\\model_selection\\_split.py:666: UserWarning: The least populated class in y has only 1 members, which is less than n_splits=5.\n",
      "  warnings.warn((\"The least populated class in y has only %d\"\n"
     ]
    },
    {
     "data": {
      "text/plain": [
       "0.9736162919649158"
      ]
     },
     "execution_count": 570,
     "metadata": {},
     "output_type": "execute_result"
    }
   ],
   "source": [
    "lg_best_cv_results_te = cross_validate(log_reg, X_test, y_test, cv=5)\n",
    "avg_cv_lg_tr = np.mean(lg_best_cv_results_te['test_score'])\n",
    "avg_cv_lg_tr"
   ]
  },
  {
   "cell_type": "markdown",
   "id": "b709078f",
   "metadata": {},
   "source": [
    "## Alter approach"
   ]
  },
  {
   "cell_type": "markdown",
   "id": "8311e255",
   "metadata": {},
   "source": [
    "The current random forest model was overfitted.  Multiple linear regression performed reasonably well, but none of the models thus far seem a great fit for the data and research question."
   ]
  },
  {
   "cell_type": "markdown",
   "id": "19398217",
   "metadata": {},
   "source": [
    "Re-reading my original intentions for this research and considering the dataframe(s) at this point, I decided to focus on the comparison between two groups:  districts that have banned books and districts without book bans.  The difference between a district with no book bans and one with book bans seems more interesting to me than between a district with a few book bans and one with a few more, as far as overall trends are concerned.\n",
    "\n",
    "In making this change, it makes more sense to use classification rather than regression models."
   ]
  },
  {
   "cell_type": "markdown",
   "id": "78b4139e",
   "metadata": {},
   "source": [
    "### Divide groups"
   ]
  },
  {
   "cell_type": "code",
   "execution_count": 571,
   "id": "c72f37c4",
   "metadata": {},
   "outputs": [
    {
     "data": {
      "text/html": [
       "<div>\n",
       "<style scoped>\n",
       "    .dataframe tbody tr th:only-of-type {\n",
       "        vertical-align: middle;\n",
       "    }\n",
       "\n",
       "    .dataframe tbody tr th {\n",
       "        vertical-align: top;\n",
       "    }\n",
       "\n",
       "    .dataframe thead th {\n",
       "        text-align: right;\n",
       "    }\n",
       "</style>\n",
       "<table border=\"1\" class=\"dataframe\">\n",
       "  <thead>\n",
       "    <tr style=\"text-align: right;\">\n",
       "      <th></th>\n",
       "      <th>Author</th>\n",
       "      <th>Title</th>\n",
       "      <th>Type of Ban</th>\n",
       "      <th>State</th>\n",
       "      <th>District</th>\n",
       "      <th>Origin of Challenge</th>\n",
       "      <th>Frequency</th>\n",
       "      <th>ID</th>\n",
       "      <th>Students_tested</th>\n",
       "      <th>Reading_proficiency_rate</th>\n",
       "      <th>Average_proficiency</th>\n",
       "      <th>District_bans</th>\n",
       "      <th>Year</th>\n",
       "      <th>Diff_from_mean</th>\n",
       "      <th>District_no_bans</th>\n",
       "      <th>District_has_bans</th>\n",
       "    </tr>\n",
       "  </thead>\n",
       "  <tbody>\n",
       "    <tr>\n",
       "      <th>0</th>\n",
       "      <td>NaN</td>\n",
       "      <td>NaN</td>\n",
       "      <td>NaN</td>\n",
       "      <td>Alabama</td>\n",
       "      <td>Albertville city</td>\n",
       "      <td>NaN</td>\n",
       "      <td>0.0</td>\n",
       "      <td>100005.0</td>\n",
       "      <td>2514</td>\n",
       "      <td>32.0</td>\n",
       "      <td>54.323556</td>\n",
       "      <td>0.0</td>\n",
       "      <td>2021</td>\n",
       "      <td>-22.323556</td>\n",
       "      <td>True</td>\n",
       "      <td>False</td>\n",
       "    </tr>\n",
       "    <tr>\n",
       "      <th>1</th>\n",
       "      <td>NaN</td>\n",
       "      <td>NaN</td>\n",
       "      <td>NaN</td>\n",
       "      <td>Alabama</td>\n",
       "      <td>Marshall county</td>\n",
       "      <td>NaN</td>\n",
       "      <td>0.0</td>\n",
       "      <td>100006.0</td>\n",
       "      <td>2988</td>\n",
       "      <td>36.0</td>\n",
       "      <td>54.323556</td>\n",
       "      <td>0.0</td>\n",
       "      <td>2021</td>\n",
       "      <td>-18.323556</td>\n",
       "      <td>True</td>\n",
       "      <td>False</td>\n",
       "    </tr>\n",
       "    <tr>\n",
       "      <th>2</th>\n",
       "      <td>NaN</td>\n",
       "      <td>NaN</td>\n",
       "      <td>NaN</td>\n",
       "      <td>Alabama</td>\n",
       "      <td>Hoover city</td>\n",
       "      <td>NaN</td>\n",
       "      <td>0.0</td>\n",
       "      <td>100007.0</td>\n",
       "      <td>7434</td>\n",
       "      <td>61.0</td>\n",
       "      <td>54.323556</td>\n",
       "      <td>0.0</td>\n",
       "      <td>2021</td>\n",
       "      <td>6.676444</td>\n",
       "      <td>True</td>\n",
       "      <td>False</td>\n",
       "    </tr>\n",
       "    <tr>\n",
       "      <th>3</th>\n",
       "      <td>NaN</td>\n",
       "      <td>NaN</td>\n",
       "      <td>NaN</td>\n",
       "      <td>Alabama</td>\n",
       "      <td>Madison city</td>\n",
       "      <td>NaN</td>\n",
       "      <td>0.0</td>\n",
       "      <td>100008.0</td>\n",
       "      <td>5232</td>\n",
       "      <td>70.0</td>\n",
       "      <td>54.323556</td>\n",
       "      <td>0.0</td>\n",
       "      <td>2021</td>\n",
       "      <td>15.676444</td>\n",
       "      <td>True</td>\n",
       "      <td>False</td>\n",
       "    </tr>\n",
       "    <tr>\n",
       "      <th>4</th>\n",
       "      <td>NaN</td>\n",
       "      <td>NaN</td>\n",
       "      <td>NaN</td>\n",
       "      <td>Alabama</td>\n",
       "      <td>Leeds city</td>\n",
       "      <td>NaN</td>\n",
       "      <td>0.0</td>\n",
       "      <td>100011.0</td>\n",
       "      <td>939</td>\n",
       "      <td>39.0</td>\n",
       "      <td>54.323556</td>\n",
       "      <td>0.0</td>\n",
       "      <td>2021</td>\n",
       "      <td>-15.323556</td>\n",
       "      <td>True</td>\n",
       "      <td>False</td>\n",
       "    </tr>\n",
       "  </tbody>\n",
       "</table>\n",
       "</div>"
      ],
      "text/plain": [
       "  Author Title Type of Ban    State          District Origin of Challenge  \\\n",
       "0    NaN   NaN         NaN  Alabama  Albertville city                 NaN   \n",
       "1    NaN   NaN         NaN  Alabama   Marshall county                 NaN   \n",
       "2    NaN   NaN         NaN  Alabama       Hoover city                 NaN   \n",
       "3    NaN   NaN         NaN  Alabama      Madison city                 NaN   \n",
       "4    NaN   NaN         NaN  Alabama        Leeds city                 NaN   \n",
       "\n",
       "   Frequency        ID  Students_tested  Reading_proficiency_rate  \\\n",
       "0        0.0  100005.0             2514                      32.0   \n",
       "1        0.0  100006.0             2988                      36.0   \n",
       "2        0.0  100007.0             7434                      61.0   \n",
       "3        0.0  100008.0             5232                      70.0   \n",
       "4        0.0  100011.0              939                      39.0   \n",
       "\n",
       "   Average_proficiency  District_bans  Year  Diff_from_mean  District_no_bans  \\\n",
       "0            54.323556            0.0  2021      -22.323556              True   \n",
       "1            54.323556            0.0  2021      -18.323556              True   \n",
       "2            54.323556            0.0  2021        6.676444              True   \n",
       "3            54.323556            0.0  2021       15.676444              True   \n",
       "4            54.323556            0.0  2021      -15.323556              True   \n",
       "\n",
       "   District_has_bans  \n",
       "0              False  \n",
       "1              False  \n",
       "2              False  \n",
       "3              False  \n",
       "4              False  "
      ]
     },
     "execution_count": 571,
     "metadata": {},
     "output_type": "execute_result"
    }
   ],
   "source": [
    "clean_total.head()"
   ]
  },
  {
   "cell_type": "code",
   "execution_count": 572,
   "id": "2bb95123",
   "metadata": {},
   "outputs": [],
   "source": [
    "selection = clean_total[['Students_tested', 'Reading_proficiency_rate', 'District_bans', 'Diff_from_mean', 'State', 'District', 'Origin of Challenge', 'Type of Ban', 'District_has_bans']]"
   ]
  },
  {
   "cell_type": "code",
   "execution_count": 573,
   "id": "75e4bf99",
   "metadata": {},
   "outputs": [
    {
     "data": {
      "text/html": [
       "<div>\n",
       "<style scoped>\n",
       "    .dataframe tbody tr th:only-of-type {\n",
       "        vertical-align: middle;\n",
       "    }\n",
       "\n",
       "    .dataframe tbody tr th {\n",
       "        vertical-align: top;\n",
       "    }\n",
       "\n",
       "    .dataframe thead th {\n",
       "        text-align: right;\n",
       "    }\n",
       "</style>\n",
       "<table border=\"1\" class=\"dataframe\">\n",
       "  <thead>\n",
       "    <tr style=\"text-align: right;\">\n",
       "      <th></th>\n",
       "      <th>Students_tested</th>\n",
       "      <th>Reading_proficiency_rate</th>\n",
       "      <th>District_bans</th>\n",
       "      <th>Diff_from_mean</th>\n",
       "      <th>District_has_bans</th>\n",
       "    </tr>\n",
       "  </thead>\n",
       "  <tbody>\n",
       "    <tr>\n",
       "      <th>0</th>\n",
       "      <td>2514</td>\n",
       "      <td>32.0</td>\n",
       "      <td>0.0</td>\n",
       "      <td>-22.323556</td>\n",
       "      <td>False</td>\n",
       "    </tr>\n",
       "    <tr>\n",
       "      <th>1</th>\n",
       "      <td>2988</td>\n",
       "      <td>36.0</td>\n",
       "      <td>0.0</td>\n",
       "      <td>-18.323556</td>\n",
       "      <td>False</td>\n",
       "    </tr>\n",
       "    <tr>\n",
       "      <th>2</th>\n",
       "      <td>7434</td>\n",
       "      <td>61.0</td>\n",
       "      <td>0.0</td>\n",
       "      <td>6.676444</td>\n",
       "      <td>False</td>\n",
       "    </tr>\n",
       "    <tr>\n",
       "      <th>3</th>\n",
       "      <td>5232</td>\n",
       "      <td>70.0</td>\n",
       "      <td>0.0</td>\n",
       "      <td>15.676444</td>\n",
       "      <td>False</td>\n",
       "    </tr>\n",
       "    <tr>\n",
       "      <th>4</th>\n",
       "      <td>939</td>\n",
       "      <td>39.0</td>\n",
       "      <td>0.0</td>\n",
       "      <td>-15.323556</td>\n",
       "      <td>False</td>\n",
       "    </tr>\n",
       "    <tr>\n",
       "      <th>...</th>\n",
       "      <td>...</td>\n",
       "      <td>...</td>\n",
       "      <td>...</td>\n",
       "      <td>...</td>\n",
       "      <td>...</td>\n",
       "    </tr>\n",
       "    <tr>\n",
       "      <th>13639</th>\n",
       "      <td>522</td>\n",
       "      <td>61.0</td>\n",
       "      <td>0.0</td>\n",
       "      <td>6.676444</td>\n",
       "      <td>False</td>\n",
       "    </tr>\n",
       "    <tr>\n",
       "      <th>13640</th>\n",
       "      <td>1697</td>\n",
       "      <td>70.0</td>\n",
       "      <td>0.0</td>\n",
       "      <td>15.676444</td>\n",
       "      <td>False</td>\n",
       "    </tr>\n",
       "    <tr>\n",
       "      <th>13641</th>\n",
       "      <td>1393</td>\n",
       "      <td>52.0</td>\n",
       "      <td>0.0</td>\n",
       "      <td>-2.323556</td>\n",
       "      <td>False</td>\n",
       "    </tr>\n",
       "    <tr>\n",
       "      <th>13642</th>\n",
       "      <td>1396</td>\n",
       "      <td>63.0</td>\n",
       "      <td>0.0</td>\n",
       "      <td>8.676444</td>\n",
       "      <td>False</td>\n",
       "    </tr>\n",
       "    <tr>\n",
       "      <th>13643</th>\n",
       "      <td>754</td>\n",
       "      <td>55.0</td>\n",
       "      <td>0.0</td>\n",
       "      <td>0.676444</td>\n",
       "      <td>False</td>\n",
       "    </tr>\n",
       "  </tbody>\n",
       "</table>\n",
       "<p>13644 rows × 5 columns</p>\n",
       "</div>"
      ],
      "text/plain": [
       "       Students_tested  Reading_proficiency_rate  District_bans  \\\n",
       "0                 2514                      32.0            0.0   \n",
       "1                 2988                      36.0            0.0   \n",
       "2                 7434                      61.0            0.0   \n",
       "3                 5232                      70.0            0.0   \n",
       "4                  939                      39.0            0.0   \n",
       "...                ...                       ...            ...   \n",
       "13639              522                      61.0            0.0   \n",
       "13640             1697                      70.0            0.0   \n",
       "13641             1393                      52.0            0.0   \n",
       "13642             1396                      63.0            0.0   \n",
       "13643              754                      55.0            0.0   \n",
       "\n",
       "       Diff_from_mean  District_has_bans  \n",
       "0          -22.323556              False  \n",
       "1          -18.323556              False  \n",
       "2            6.676444              False  \n",
       "3           15.676444              False  \n",
       "4          -15.323556              False  \n",
       "...               ...                ...  \n",
       "13639        6.676444              False  \n",
       "13640       15.676444              False  \n",
       "13641       -2.323556              False  \n",
       "13642        8.676444              False  \n",
       "13643        0.676444              False  \n",
       "\n",
       "[13644 rows x 5 columns]"
      ]
     },
     "execution_count": 573,
     "metadata": {},
     "output_type": "execute_result"
    }
   ],
   "source": [
    "total_num = selection._get_numeric_data()\n",
    "total_num"
   ]
  },
  {
   "cell_type": "code",
   "execution_count": 574,
   "id": "92fd8610",
   "metadata": {},
   "outputs": [],
   "source": [
    "without_bans = total_num[(total_num['District_has_bans'] == False)]\n",
    "with_bans = total_num[(total_num['District_has_bans'] == True)]"
   ]
  },
  {
   "cell_type": "markdown",
   "id": "b7df04e5",
   "metadata": {},
   "source": [
    "Mapping true/false to 1/0:"
   ]
  },
  {
   "cell_type": "code",
   "execution_count": 575,
   "id": "55c26750",
   "metadata": {},
   "outputs": [],
   "source": [
    "total_num[\"District_has_bans\"] = total_num[\"District_has_bans\"].astype(int)"
   ]
  },
  {
   "cell_type": "code",
   "execution_count": 576,
   "id": "ab64408e",
   "metadata": {},
   "outputs": [
    {
     "data": {
      "text/html": [
       "<div>\n",
       "<style scoped>\n",
       "    .dataframe tbody tr th:only-of-type {\n",
       "        vertical-align: middle;\n",
       "    }\n",
       "\n",
       "    .dataframe tbody tr th {\n",
       "        vertical-align: top;\n",
       "    }\n",
       "\n",
       "    .dataframe thead th {\n",
       "        text-align: right;\n",
       "    }\n",
       "</style>\n",
       "<table border=\"1\" class=\"dataframe\">\n",
       "  <thead>\n",
       "    <tr style=\"text-align: right;\">\n",
       "      <th></th>\n",
       "      <th>Students_tested</th>\n",
       "      <th>Reading_proficiency_rate</th>\n",
       "      <th>District_bans</th>\n",
       "      <th>Diff_from_mean</th>\n",
       "      <th>District_has_bans</th>\n",
       "    </tr>\n",
       "  </thead>\n",
       "  <tbody>\n",
       "    <tr>\n",
       "      <th>0</th>\n",
       "      <td>2514</td>\n",
       "      <td>32.0</td>\n",
       "      <td>0.0</td>\n",
       "      <td>-22.323556</td>\n",
       "      <td>0</td>\n",
       "    </tr>\n",
       "    <tr>\n",
       "      <th>1</th>\n",
       "      <td>2988</td>\n",
       "      <td>36.0</td>\n",
       "      <td>0.0</td>\n",
       "      <td>-18.323556</td>\n",
       "      <td>0</td>\n",
       "    </tr>\n",
       "    <tr>\n",
       "      <th>2</th>\n",
       "      <td>7434</td>\n",
       "      <td>61.0</td>\n",
       "      <td>0.0</td>\n",
       "      <td>6.676444</td>\n",
       "      <td>0</td>\n",
       "    </tr>\n",
       "    <tr>\n",
       "      <th>3</th>\n",
       "      <td>5232</td>\n",
       "      <td>70.0</td>\n",
       "      <td>0.0</td>\n",
       "      <td>15.676444</td>\n",
       "      <td>0</td>\n",
       "    </tr>\n",
       "    <tr>\n",
       "      <th>4</th>\n",
       "      <td>939</td>\n",
       "      <td>39.0</td>\n",
       "      <td>0.0</td>\n",
       "      <td>-15.323556</td>\n",
       "      <td>0</td>\n",
       "    </tr>\n",
       "  </tbody>\n",
       "</table>\n",
       "</div>"
      ],
      "text/plain": [
       "   Students_tested  Reading_proficiency_rate  District_bans  Diff_from_mean  \\\n",
       "0             2514                      32.0            0.0      -22.323556   \n",
       "1             2988                      36.0            0.0      -18.323556   \n",
       "2             7434                      61.0            0.0        6.676444   \n",
       "3             5232                      70.0            0.0       15.676444   \n",
       "4              939                      39.0            0.0      -15.323556   \n",
       "\n",
       "   District_has_bans  \n",
       "0                  0  \n",
       "1                  0  \n",
       "2                  0  \n",
       "3                  0  \n",
       "4                  0  "
      ]
     },
     "execution_count": 576,
     "metadata": {},
     "output_type": "execute_result"
    }
   ],
   "source": [
    "total_num.head()"
   ]
  },
  {
   "cell_type": "code",
   "execution_count": 577,
   "id": "89ee778d",
   "metadata": {},
   "outputs": [],
   "source": [
    "X2 = total_num.drop('District_has_bans', axis=1).values\n",
    "y2 = total_num['District_has_bans'].values"
   ]
  },
  {
   "cell_type": "code",
   "execution_count": 578,
   "id": "aa7fcc7f",
   "metadata": {},
   "outputs": [],
   "source": [
    "X_train2, X_test2, y_train2, y_test2 = train_test_split(X2, y2, test_size = 0.2, random_state = 42)"
   ]
  },
  {
   "cell_type": "markdown",
   "id": "29edacd4",
   "metadata": {},
   "source": [
    "## 4.3. Random forest classifier"
   ]
  },
  {
   "cell_type": "code",
   "execution_count": 579,
   "id": "e734e163",
   "metadata": {},
   "outputs": [],
   "source": [
    "from sklearn.svm import LinearSVC\n",
    "from sklearn.ensemble import RandomForestClassifier\n",
    "from sklearn.ensemble import ExtraTreesClassifier\n",
    "from sklearn.pipeline import Pipeline\n",
    "from sklearn.feature_selection import SelectFromModel"
   ]
  },
  {
   "cell_type": "code",
   "execution_count": 580,
   "id": "111116ac",
   "metadata": {},
   "outputs": [
    {
     "data": {
      "text/plain": [
       "Pipeline(steps=[('feature_selection',\n",
       "                 SelectFromModel(estimator=LinearSVC(dual=False,\n",
       "                                                     penalty='l1'))),\n",
       "                ('classification', RandomForestClassifier())])"
      ]
     },
     "execution_count": 580,
     "metadata": {},
     "output_type": "execute_result"
    }
   ],
   "source": [
    "clf = Pipeline([\n",
    "  ('feature_selection', SelectFromModel(LinearSVC(dual=False, penalty=\"l1\"))),\n",
    "  ('classification', RandomForestClassifier())\n",
    "])\n",
    "clf.fit(X_train2, y_train2)"
   ]
  },
  {
   "cell_type": "code",
   "execution_count": 581,
   "id": "2b5147d7",
   "metadata": {},
   "outputs": [],
   "source": [
    "y_pred2=clf.predict(X_test2)"
   ]
  },
  {
   "cell_type": "code",
   "execution_count": 582,
   "id": "07c21b22",
   "metadata": {},
   "outputs": [
    {
     "data": {
      "text/plain": [
       "array([[2201,    0],\n",
       "       [   0,  528]], dtype=int64)"
      ]
     },
     "execution_count": 582,
     "metadata": {},
     "output_type": "execute_result"
    }
   ],
   "source": [
    "rfc_cnf_matrix = metrics.confusion_matrix(y_test2, y_pred2)\n",
    "rfc_cnf_matrix"
   ]
  },
  {
   "cell_type": "code",
   "execution_count": 583,
   "id": "865e1d67",
   "metadata": {},
   "outputs": [],
   "source": [
    "y_pred2_tr=clf.predict(X_train2)"
   ]
  },
  {
   "cell_type": "code",
   "execution_count": 584,
   "id": "85e8d0b4",
   "metadata": {},
   "outputs": [
    {
     "data": {
      "text/plain": [
       "array([[8912,    0],\n",
       "       [   0, 2003]], dtype=int64)"
      ]
     },
     "execution_count": 584,
     "metadata": {},
     "output_type": "execute_result"
    }
   ],
   "source": [
    "rfc_cnf_matrix_tr = metrics.confusion_matrix(y_train2, y_pred2_tr)\n",
    "rfc_cnf_matrix_tr"
   ]
  },
  {
   "cell_type": "code",
   "execution_count": 585,
   "id": "cb2abed6",
   "metadata": {},
   "outputs": [
    {
     "data": {
      "text/plain": [
       "1.0"
      ]
     },
     "execution_count": 585,
     "metadata": {},
     "output_type": "execute_result"
    }
   ],
   "source": [
    "rfc_best_cv_results_te = cross_validate(clf, X_test2, y_test2, cv=5)\n",
    "avg_cv_rfc_te = np.mean(rfc_best_cv_results_te['test_score'])\n",
    "avg_cv_rfc_te"
   ]
  },
  {
   "cell_type": "code",
   "execution_count": 586,
   "id": "51be0d92",
   "metadata": {},
   "outputs": [
    {
     "data": {
      "text/plain": [
       "1.0"
      ]
     },
     "execution_count": 586,
     "metadata": {},
     "output_type": "execute_result"
    }
   ],
   "source": [
    "rfc_best_cv_results_tr = cross_validate(clf, X_train2, y_train2, cv=5)\n",
    "avg_cv_rfc_tr = np.mean(rfc_best_cv_results_tr['test_score'])\n",
    "avg_cv_rfc_tr"
   ]
  },
  {
   "cell_type": "markdown",
   "id": "f8864b9b",
   "metadata": {},
   "source": [
    "I am starting to become concerned about the performance of these models.  Logistic regression and random forest classifier both resulted in models without a single error, according to the confusion matrix for each.  These models seem to be more perfect than I would expect.  I believe that this may indicate overfitting.  Adjusting hyperparameters may be able to remedy this."
   ]
  },
  {
   "cell_type": "markdown",
   "id": "6a74f4d0",
   "metadata": {},
   "source": [
    "## 4.3. Support vector classification (SVC)  <a class=\"anchor\" id=\"tenth-bullet\"></a>"
   ]
  },
  {
   "cell_type": "code",
   "execution_count": 587,
   "id": "d02aa1a4",
   "metadata": {},
   "outputs": [],
   "source": [
    "new_pipe = make_pipeline(\n",
    "    StandardScaler(),\n",
    "    LinearSVC(max_iter = 10000, dual = True)\n",
    ")"
   ]
  },
  {
   "cell_type": "code",
   "execution_count": 588,
   "id": "7042d120",
   "metadata": {},
   "outputs": [
    {
     "data": {
      "text/plain": [
       "Pipeline(steps=[('standardscaler', StandardScaler()),\n",
       "                ('linearsvc', LinearSVC(max_iter=10000))])"
      ]
     },
     "execution_count": 588,
     "metadata": {},
     "output_type": "execute_result"
    }
   ],
   "source": [
    "new_pipe.fit(X_train2, y_train2)"
   ]
  },
  {
   "cell_type": "code",
   "execution_count": 589,
   "id": "dfe7d238",
   "metadata": {},
   "outputs": [],
   "source": [
    "y_pred3=new_pipe.predict(X_test2)"
   ]
  },
  {
   "cell_type": "code",
   "execution_count": 590,
   "id": "b31b5259",
   "metadata": {},
   "outputs": [
    {
     "data": {
      "text/plain": [
       "array([[2200,    1],\n",
       "       [  41,  487]], dtype=int64)"
      ]
     },
     "execution_count": 590,
     "metadata": {},
     "output_type": "execute_result"
    }
   ],
   "source": [
    "svc_cnf_matrix = metrics.confusion_matrix(y_test2, y_pred3)\n",
    "svc_cnf_matrix"
   ]
  },
  {
   "cell_type": "code",
   "execution_count": 591,
   "id": "7c190519",
   "metadata": {},
   "outputs": [],
   "source": [
    "y_pred3_tr=new_pipe.predict(X_train2)"
   ]
  },
  {
   "cell_type": "code",
   "execution_count": 592,
   "id": "2d583976",
   "metadata": {},
   "outputs": [
    {
     "data": {
      "text/plain": [
       "array([[8907,    5],\n",
       "       [ 129, 1874]], dtype=int64)"
      ]
     },
     "execution_count": 592,
     "metadata": {},
     "output_type": "execute_result"
    }
   ],
   "source": [
    "svc_cnf_matrix_tr = metrics.confusion_matrix(y_train2, y_pred3_tr)\n",
    "svc_cnf_matrix_tr"
   ]
  },
  {
   "cell_type": "code",
   "execution_count": 593,
   "id": "7bd7c319",
   "metadata": {},
   "outputs": [
    {
     "data": {
      "text/plain": [
       "0.9873568483737974"
      ]
     },
     "execution_count": 593,
     "metadata": {},
     "output_type": "execute_result"
    }
   ],
   "source": [
    "svc_best_cv_results_tr = cross_validate(new_pipe, X_train2, y_train2, cv=5)\n",
    "avg_cv_svc_tr = np.mean(svc_best_cv_results_tr['test_score'])\n",
    "avg_cv_svc_tr"
   ]
  },
  {
   "cell_type": "code",
   "execution_count": 594,
   "id": "24598486",
   "metadata": {},
   "outputs": [
    {
     "data": {
      "text/plain": [
       "0.9765493833383742"
      ]
     },
     "execution_count": 594,
     "metadata": {},
     "output_type": "execute_result"
    }
   ],
   "source": [
    "svc_best_cv_results_te = cross_validate(new_pipe, X_test2, y_test2, cv=5)\n",
    "avg_cv_svc_te = np.mean(svc_best_cv_results_te['test_score'])\n",
    "avg_cv_svc_te"
   ]
  },
  {
   "cell_type": "markdown",
   "id": "39f89364",
   "metadata": {},
   "source": [
    "# 6. Final model selection  <a class=\"anchor\" id=\"eleventh-bullet\"></a>"
   ]
  },
  {
   "cell_type": "markdown",
   "id": "b1c1b921",
   "metadata": {},
   "source": [
    "## 6.1. Access performance  <a class=\"anchor\" id=\"15\"></a>"
   ]
  },
  {
   "cell_type": "markdown",
   "id": "8ee22583",
   "metadata": {},
   "source": [
    "### 6.1.1. Create a dataframe to store performance information from our regression models"
   ]
  },
  {
   "cell_type": "markdown",
   "id": "83245664",
   "metadata": {},
   "source": [
    "Use the accessments we have used so far to begin this dataframe.  We will add additional performance information to this as we evaluate each model further."
   ]
  },
  {
   "cell_type": "code",
   "execution_count": 595,
   "id": "3239f81c",
   "metadata": {},
   "outputs": [
    {
     "data": {
      "text/html": [
       "<div>\n",
       "<style scoped>\n",
       "    .dataframe tbody tr th:only-of-type {\n",
       "        vertical-align: middle;\n",
       "    }\n",
       "\n",
       "    .dataframe tbody tr th {\n",
       "        vertical-align: top;\n",
       "    }\n",
       "\n",
       "    .dataframe thead th {\n",
       "        text-align: right;\n",
       "    }\n",
       "</style>\n",
       "<table border=\"1\" class=\"dataframe\">\n",
       "  <thead>\n",
       "    <tr style=\"text-align: right;\">\n",
       "      <th></th>\n",
       "      <th>Model</th>\n",
       "      <th>r2</th>\n",
       "      <th>MAE</th>\n",
       "      <th>MSE</th>\n",
       "      <th>avg_cv</th>\n",
       "    </tr>\n",
       "  </thead>\n",
       "  <tbody>\n",
       "    <tr>\n",
       "      <th>0</th>\n",
       "      <td>mean_train</td>\n",
       "      <td>0.000000</td>\n",
       "      <td>0.299667</td>\n",
       "      <td>0.149833</td>\n",
       "      <td>-2.480000e-04</td>\n",
       "    </tr>\n",
       "    <tr>\n",
       "      <th>1</th>\n",
       "      <td>mean_test</td>\n",
       "      <td>-0.000637</td>\n",
       "      <td>0.312088</td>\n",
       "      <td>0.156044</td>\n",
       "      <td>-2.697000e-03</td>\n",
       "    </tr>\n",
       "    <tr>\n",
       "      <th>2</th>\n",
       "      <td>lr_tr</td>\n",
       "      <td>0.885923</td>\n",
       "      <td>0.058184</td>\n",
       "      <td>0.017093</td>\n",
       "      <td>-3.265740e+23</td>\n",
       "    </tr>\n",
       "    <tr>\n",
       "      <th>3</th>\n",
       "      <td>lr_te</td>\n",
       "      <td>0.878168</td>\n",
       "      <td>0.061115</td>\n",
       "      <td>0.019011</td>\n",
       "      <td>7.875750e-01</td>\n",
       "    </tr>\n",
       "    <tr>\n",
       "      <th>4</th>\n",
       "      <td>ppln_lr_tr</td>\n",
       "      <td>0.871842</td>\n",
       "      <td>0.061202</td>\n",
       "      <td>0.019202</td>\n",
       "      <td>7.670300e-01</td>\n",
       "    </tr>\n",
       "    <tr>\n",
       "      <th>5</th>\n",
       "      <td>ppln_lr_te</td>\n",
       "      <td>0.862477</td>\n",
       "      <td>0.064859</td>\n",
       "      <td>0.021460</td>\n",
       "      <td>7.490550e-01</td>\n",
       "    </tr>\n",
       "    <tr>\n",
       "      <th>6</th>\n",
       "      <td>ppln_kbest_tr</td>\n",
       "      <td>0.882158</td>\n",
       "      <td>0.056304</td>\n",
       "      <td>0.017657</td>\n",
       "      <td>7.743630e-01</td>\n",
       "    </tr>\n",
       "    <tr>\n",
       "      <th>7</th>\n",
       "      <td>ppln_kbest_te</td>\n",
       "      <td>0.876071</td>\n",
       "      <td>0.058888</td>\n",
       "      <td>0.019338</td>\n",
       "      <td>7.526110e-01</td>\n",
       "    </tr>\n",
       "    <tr>\n",
       "      <th>8</th>\n",
       "      <td>rnd_for_reg_tr</td>\n",
       "      <td>0.999937</td>\n",
       "      <td>0.040559</td>\n",
       "      <td>0.866197</td>\n",
       "      <td>9.993520e-01</td>\n",
       "    </tr>\n",
       "    <tr>\n",
       "      <th>9</th>\n",
       "      <td>rnd_for_reg_te</td>\n",
       "      <td>0.999881</td>\n",
       "      <td>0.077457</td>\n",
       "      <td>1.789218</td>\n",
       "      <td>1.000000e+00</td>\n",
       "    </tr>\n",
       "    <tr>\n",
       "      <th>10</th>\n",
       "      <td>log_reg_tr</td>\n",
       "      <td>0.091146</td>\n",
       "      <td>34.096198</td>\n",
       "      <td>12458.836097</td>\n",
       "      <td>8.561610e-01</td>\n",
       "    </tr>\n",
       "    <tr>\n",
       "      <th>11</th>\n",
       "      <td>log_reg_te</td>\n",
       "      <td>0.999881</td>\n",
       "      <td>0.077457</td>\n",
       "      <td>1.789218</td>\n",
       "      <td>8.391340e-01</td>\n",
       "    </tr>\n",
       "  </tbody>\n",
       "</table>\n",
       "</div>"
      ],
      "text/plain": [
       "             Model        r2        MAE           MSE        avg_cv\n",
       "0       mean_train  0.000000   0.299667      0.149833 -2.480000e-04\n",
       "1        mean_test -0.000637   0.312088      0.156044 -2.697000e-03\n",
       "2            lr_tr  0.885923   0.058184      0.017093 -3.265740e+23\n",
       "3            lr_te  0.878168   0.061115      0.019011  7.875750e-01\n",
       "4       ppln_lr_tr  0.871842   0.061202      0.019202  7.670300e-01\n",
       "5       ppln_lr_te  0.862477   0.064859      0.021460  7.490550e-01\n",
       "6    ppln_kbest_tr  0.882158   0.056304      0.017657  7.743630e-01\n",
       "7    ppln_kbest_te  0.876071   0.058888      0.019338  7.526110e-01\n",
       "8   rnd_for_reg_tr  0.999937   0.040559      0.866197  9.993520e-01\n",
       "9   rnd_for_reg_te  0.999881   0.077457      1.789218  1.000000e+00\n",
       "10      log_reg_tr  0.091146  34.096198  12458.836097  8.561610e-01\n",
       "11      log_reg_te  0.999881   0.077457      1.789218  8.391340e-01"
      ]
     },
     "execution_count": 595,
     "metadata": {},
     "output_type": "execute_result"
    }
   ],
   "source": [
    "data = {'Model': ['mean_train', 'mean_test', 'lr_tr', 'lr_te', 'ppln_lr_tr', 'ppln_lr_te', 'ppln_kbest_tr', 'ppln_kbest_te', 'rnd_for_reg_tr', 'rnd_for_reg_te', 'log_reg_tr', 'log_reg_te'],\n",
    "        'r2': [0.0, -0.0006368, 0.8859232, 0.8781678, 0.8718419, 0.86247707, 0.8821577, 0.87607100, 0.9999368121568096, 0.9998809154931012, 0.09114604427649275, 0.9998809154931012],\n",
    "       'MAE': [0.2996668, 0.31208787, 0.058183501, 0.06111526, 0.061202141, 0.064859433, 0.05630417, 0.05888752, 0.040558863948694464, 0.07745694393550752, 34.096197892808064, 0.07745694393550752],\n",
    "       'MSE': [0.1498334, 0.15604393, 0.01709251, 0.019011167, 0.019202351, 0.021459618, 0.017656712, 0.01933836, 0.8661974530462665, 1.7892183950164893, 12458.836097114063, 1.7892183950164893],\n",
    "        'avg_cv': [round(-0.0002478664858488244, 6), round(-0.0026970133375272985, 6), round(-3.265739568926812e+23, 6), round(0.7875749398024844, 6), round(0.7670301620822372, 6), round(0.7490550941373499, 6), round(0.7743629940262677, 6), round(0.7526105647498482, 6), round(0.999351946453163, 6), round(0.9978914914454846, 0), round(0.8561612459917545, 6), round(0.8391336492253924, 6)]}\n",
    "  \n",
    "# Create DataFrame\n",
    "df_perform = pd.DataFrame(data)\n",
    "  \n",
    "# Print the output.\n",
    "df_perform.round(6)"
   ]
  },
  {
   "cell_type": "markdown",
   "id": "bc3f1d4b",
   "metadata": {},
   "source": [
    "### 6.1.2. Create a dataframe to store performance information from our classification models"
   ]
  },
  {
   "cell_type": "code",
   "execution_count": 596,
   "id": "073be8e7",
   "metadata": {},
   "outputs": [
    {
     "data": {
      "text/html": [
       "<div>\n",
       "<style scoped>\n",
       "    .dataframe tbody tr th:only-of-type {\n",
       "        vertical-align: middle;\n",
       "    }\n",
       "\n",
       "    .dataframe tbody tr th {\n",
       "        vertical-align: top;\n",
       "    }\n",
       "\n",
       "    .dataframe thead th {\n",
       "        text-align: right;\n",
       "    }\n",
       "</style>\n",
       "<table border=\"1\" class=\"dataframe\">\n",
       "  <thead>\n",
       "    <tr style=\"text-align: right;\">\n",
       "      <th></th>\n",
       "      <th>model</th>\n",
       "      <th>accuracy</th>\n",
       "      <th>precision</th>\n",
       "      <th>recall</th>\n",
       "      <th>f1</th>\n",
       "      <th>cv</th>\n",
       "    </tr>\n",
       "  </thead>\n",
       "  <tbody>\n",
       "    <tr>\n",
       "      <th>0</th>\n",
       "      <td>rnd_for_class_tr</td>\n",
       "      <td>1.000000</td>\n",
       "      <td>1.000000</td>\n",
       "      <td>1.000000</td>\n",
       "      <td>1.000000</td>\n",
       "      <td>1.000000</td>\n",
       "    </tr>\n",
       "    <tr>\n",
       "      <th>1</th>\n",
       "      <td>rnd_for_class_te</td>\n",
       "      <td>1.000000</td>\n",
       "      <td>1.000000</td>\n",
       "      <td>1.000000</td>\n",
       "      <td>1.000000</td>\n",
       "      <td>1.000000</td>\n",
       "    </tr>\n",
       "    <tr>\n",
       "      <th>2</th>\n",
       "      <td>svc_tr</td>\n",
       "      <td>0.885923</td>\n",
       "      <td>0.999439</td>\n",
       "      <td>0.985724</td>\n",
       "      <td>0.987723</td>\n",
       "      <td>0.987448</td>\n",
       "    </tr>\n",
       "    <tr>\n",
       "      <th>3</th>\n",
       "      <td>svc_te</td>\n",
       "      <td>0.984610</td>\n",
       "      <td>0.999546</td>\n",
       "      <td>0.981705</td>\n",
       "      <td>0.990545</td>\n",
       "      <td>0.976549</td>\n",
       "    </tr>\n",
       "  </tbody>\n",
       "</table>\n",
       "</div>"
      ],
      "text/plain": [
       "              model  accuracy  precision    recall        f1        cv\n",
       "0  rnd_for_class_tr  1.000000   1.000000  1.000000  1.000000  1.000000\n",
       "1  rnd_for_class_te  1.000000   1.000000  1.000000  1.000000  1.000000\n",
       "2            svc_tr  0.885923   0.999439  0.985724  0.987723  0.987448\n",
       "3            svc_te  0.984610   0.999546  0.981705  0.990545  0.976549"
      ]
     },
     "execution_count": 596,
     "metadata": {},
     "output_type": "execute_result"
    }
   ],
   "source": [
    "data2 = {'model': ['rnd_for_class_tr', 'rnd_for_class_te', 'svc_tr', 'svc_te'],\n",
    "        'accuracy': [1.0, 1.0, 0.8859232, 0.9846097471601319],\n",
    "        'precision': [1.0, 1.0, 0.9994389587073609, 0.9995456610631531],\n",
    "        'recall': [1.0, 1.0, 0.9857237715803453, 0.9817045961624274],\n",
    "        'f1': [1.0, 1.0, 0.9877233165368758, 0.9905447996],\n",
    "        'cv': [1.0, 1.0, 0.9874484654145672, 0.9765493833383742]}\n",
    "  \n",
    "# Create DataFrame\n",
    "df_perform_class = pd.DataFrame(data2)\n",
    "  \n",
    "# Print the output.\n",
    "df_perform_class.round(6)"
   ]
  },
  {
   "cell_type": "markdown",
   "id": "c691527f",
   "metadata": {},
   "source": [
    "#### 6.1.2.1. Gather additional metrics     \n",
    "\n",
    "The following function was found on stack overflow posted by rnso in January 2018.    \n",
    "https://stackoverflow.com/questions/48100173/how-to-get-precision-recall-and-f-measure-from-confusion-matrix-in-python"
   ]
  },
  {
   "cell_type": "code",
   "execution_count": 597,
   "id": "41d67ac5",
   "metadata": {},
   "outputs": [],
   "source": [
    "def myscores(smat): \n",
    "    tp = smat[0][0] \n",
    "    fp = smat[0][1] \n",
    "    fn = smat[1][0] \n",
    "    tn = smat[1][1] \n",
    "    return tp/(tp+fp), tp/(tp+fn)"
   ]
  },
  {
   "cell_type": "code",
   "execution_count": 598,
   "id": "31738cb1",
   "metadata": {},
   "outputs": [
    {
     "name": "stdout",
     "output_type": "stream",
     "text": [
      "precision and recall: (1.0, 1.0)\n"
     ]
    }
   ],
   "source": [
    "print(\"precision and recall:\", myscores(rfc_cnf_matrix))"
   ]
  },
  {
   "cell_type": "code",
   "execution_count": 599,
   "id": "5014a7e2",
   "metadata": {},
   "outputs": [
    {
     "name": "stdout",
     "output_type": "stream",
     "text": [
      "precision and recall: (1.0, 1.0)\n"
     ]
    }
   ],
   "source": [
    "print(\"precision and recall:\", myscores(rfc_cnf_matrix_tr))"
   ]
  },
  {
   "cell_type": "code",
   "execution_count": 600,
   "id": "8221e19d",
   "metadata": {},
   "outputs": [
    {
     "name": "stdout",
     "output_type": "stream",
     "text": [
      "precision and recall: (0.9995456610631531, 0.9817045961624274)\n"
     ]
    }
   ],
   "source": [
    "print(\"precision and recall:\", myscores(svc_cnf_matrix))"
   ]
  },
  {
   "cell_type": "code",
   "execution_count": 601,
   "id": "d74533e1",
   "metadata": {},
   "outputs": [
    {
     "name": "stdout",
     "output_type": "stream",
     "text": [
      "precision and recall: (0.9994389587073609, 0.9857237715803453)\n"
     ]
    }
   ],
   "source": [
    "print(\"precision and recall:\", myscores(svc_cnf_matrix_tr))"
   ]
  },
  {
   "cell_type": "code",
   "execution_count": 602,
   "id": "11568ca8",
   "metadata": {},
   "outputs": [
    {
     "name": "stdout",
     "output_type": "stream",
     "text": [
      "1.0\n"
     ]
    }
   ],
   "source": [
    "print(metrics.accuracy_score(y_test2, y_pred2))"
   ]
  },
  {
   "cell_type": "code",
   "execution_count": 603,
   "id": "0e9fcdfb",
   "metadata": {},
   "outputs": [
    {
     "name": "stdout",
     "output_type": "stream",
     "text": [
      "1.0\n"
     ]
    }
   ],
   "source": [
    "print(metrics.accuracy_score(y_train2, y_pred2_tr))"
   ]
  },
  {
   "cell_type": "code",
   "execution_count": 604,
   "id": "f2eaba3e",
   "metadata": {},
   "outputs": [
    {
     "name": "stdout",
     "output_type": "stream",
     "text": [
      "0.9846097471601319\n"
     ]
    }
   ],
   "source": [
    "print(metrics.accuracy_score(y_test2, y_pred3))"
   ]
  },
  {
   "cell_type": "code",
   "execution_count": 605,
   "id": "008b0df2",
   "metadata": {},
   "outputs": [
    {
     "name": "stdout",
     "output_type": "stream",
     "text": [
      "0.9877233165368758\n"
     ]
    }
   ],
   "source": [
    "print(metrics.accuracy_score(y_train2, y_pred3_tr))"
   ]
  },
  {
   "cell_type": "code",
   "execution_count": 606,
   "id": "076ff753",
   "metadata": {},
   "outputs": [],
   "source": [
    "# f1 = 2*((precision*recall)/(precision+recall))"
   ]
  },
  {
   "cell_type": "code",
   "execution_count": 607,
   "id": "08ce61aa",
   "metadata": {},
   "outputs": [],
   "source": [
    "# rfc_f1 = 2((1)/(2)) = 1\n",
    "# svc_f1 = 2((0.9995456610631531*0.9817045961624274)/(0.9995456610631531+0.9817045961624274)) = 2*(0.4952723998) = 0.9905447996"
   ]
  },
  {
   "cell_type": "markdown",
   "id": "9f68a878",
   "metadata": {},
   "source": [
    "## Interpreting these results"
   ]
  },
  {
   "cell_type": "markdown",
   "id": "0f944214",
   "metadata": {},
   "source": [
    "Metrics like accuracy, precision, recall are good ways to evaluate classification models for balanced datasets, but if the data is imbalanced then other methods like ROC/AUC perform better in evaluating the model performance."
   ]
  },
  {
   "cell_type": "markdown",
   "id": "3caaa71e",
   "metadata": {},
   "source": [
    "These results verify that whether we use a pipeline or not, the linear regression models are the same.  Additionally, we can easily compare each model's performance.  The closer the r-squared value is to 1, or 100%, the better the performance of the model.  Minimizing the mean error is also important and indicative of a well-performing model.  The linear regression model, through a pipeline or not, results in an r-squared value of 0.919398.  This means that about 91.9% of the variance of book bans can be explained by the features of the model.  The mean absolute error is about 18 and mean squared error is about 2555.  There is not a standard scale for what indicates \"good\" MAE or MSE.  Instead, we use them in comparison with other models on this data.  In this case, the MAE and MSE are both lower with linear regression models than either the mean or kbest models.  Therefore, we can conclude that, comparing our current models, linear regression performs the best."
   ]
  },
  {
   "cell_type": "markdown",
   "id": "b48d9693",
   "metadata": {},
   "source": [
    "Considering the intention of this research, I believe that a classification model makes the most sense as it would examine various features with  whether a district has book bans or not.  The number of book bans per district for those districts with bans distracts from our overall goals.  Looking at the models we have developed, I will choose to use the support vector classifier model for predictive modeling."
   ]
  },
  {
   "cell_type": "markdown",
   "id": "7ffa40d1",
   "metadata": {},
   "source": [
    "## 6.2. Hyperparameter search using GridSearchCV"
   ]
  },
  {
   "cell_type": "markdown",
   "id": "2b96fd72",
   "metadata": {},
   "source": [
    "Recall performance information for the SCV model before tuning hyperparameters:"
   ]
  },
  {
   "cell_type": "code",
   "execution_count": 608,
   "id": "b927c649",
   "metadata": {},
   "outputs": [
    {
     "name": "stdout",
     "output_type": "stream",
     "text": [
      "              precision    recall  f1-score   support\n",
      "\n",
      "           0       0.98      1.00      0.99      2201\n",
      "           1       1.00      0.92      0.96       528\n",
      "\n",
      "    accuracy                           0.98      2729\n",
      "   macro avg       0.99      0.96      0.97      2729\n",
      "weighted avg       0.98      0.98      0.98      2729\n",
      "\n"
     ]
    }
   ],
   "source": [
    "from sklearn.metrics import classification_report\n",
    "\n",
    "new_pipe.fit(X_train2, y_train2)\n",
    "predictions = new_pipe.predict(X_test2)\n",
    "print(classification_report(y_test2, predictions))"
   ]
  },
  {
   "cell_type": "code",
   "execution_count": 609,
   "id": "bb769e7c",
   "metadata": {},
   "outputs": [
    {
     "name": "stdout",
     "output_type": "stream",
     "text": [
      "Fitting 5 folds for each of 16 candidates, totalling 80 fits\n",
      "[CV 1/5] END ........C=0.1, gamma=1, kernel=rbf;, score=0.972 total time=  14.3s\n",
      "[CV 2/5] END ........C=0.1, gamma=1, kernel=rbf;, score=0.977 total time=  13.2s\n",
      "[CV 3/5] END ........C=0.1, gamma=1, kernel=rbf;, score=0.975 total time=  13.4s\n",
      "[CV 4/5] END ........C=0.1, gamma=1, kernel=rbf;, score=0.977 total time=  13.8s\n",
      "[CV 5/5] END ........C=0.1, gamma=1, kernel=rbf;, score=0.965 total time=  11.8s\n",
      "[CV 1/5] END ......C=0.1, gamma=0.1, kernel=rbf;, score=0.972 total time=   8.8s\n",
      "[CV 2/5] END ......C=0.1, gamma=0.1, kernel=rbf;, score=0.977 total time=   8.8s\n",
      "[CV 3/5] END ......C=0.1, gamma=0.1, kernel=rbf;, score=0.975 total time=   8.6s\n",
      "[CV 4/5] END ......C=0.1, gamma=0.1, kernel=rbf;, score=0.977 total time=   9.5s\n",
      "[CV 5/5] END ......C=0.1, gamma=0.1, kernel=rbf;, score=0.965 total time=   8.7s\n",
      "[CV 1/5] END .....C=0.1, gamma=0.01, kernel=rbf;, score=0.972 total time=   5.6s\n",
      "[CV 2/5] END .....C=0.1, gamma=0.01, kernel=rbf;, score=0.977 total time=   6.5s\n",
      "[CV 3/5] END .....C=0.1, gamma=0.01, kernel=rbf;, score=0.975 total time=   6.5s\n",
      "[CV 4/5] END .....C=0.1, gamma=0.01, kernel=rbf;, score=0.977 total time=   5.6s\n",
      "[CV 5/5] END .....C=0.1, gamma=0.01, kernel=rbf;, score=0.965 total time=   5.6s\n",
      "[CV 1/5] END ....C=0.1, gamma=0.001, kernel=rbf;, score=0.971 total time=   2.9s\n",
      "[CV 2/5] END ....C=0.1, gamma=0.001, kernel=rbf;, score=0.975 total time=   3.1s\n",
      "[CV 3/5] END ....C=0.1, gamma=0.001, kernel=rbf;, score=0.975 total time=   2.9s\n",
      "[CV 4/5] END ....C=0.1, gamma=0.001, kernel=rbf;, score=0.973 total time=   3.2s\n",
      "[CV 5/5] END ....C=0.1, gamma=0.001, kernel=rbf;, score=0.965 total time=   2.9s\n",
      "[CV 1/5] END ..........C=1, gamma=1, kernel=rbf;, score=0.995 total time=  12.0s\n",
      "[CV 2/5] END ..........C=1, gamma=1, kernel=rbf;, score=0.993 total time=  13.0s\n",
      "[CV 3/5] END ..........C=1, gamma=1, kernel=rbf;, score=0.996 total time=  11.8s\n",
      "[CV 4/5] END ..........C=1, gamma=1, kernel=rbf;, score=0.995 total time=  11.7s\n",
      "[CV 5/5] END ..........C=1, gamma=1, kernel=rbf;, score=0.997 total time=  12.0s\n",
      "[CV 1/5] END ........C=1, gamma=0.1, kernel=rbf;, score=0.993 total time=   8.9s\n",
      "[CV 2/5] END ........C=1, gamma=0.1, kernel=rbf;, score=0.993 total time=   9.0s\n",
      "[CV 3/5] END ........C=1, gamma=0.1, kernel=rbf;, score=0.996 total time=   9.2s\n",
      "[CV 4/5] END ........C=1, gamma=0.1, kernel=rbf;, score=0.995 total time=   8.8s\n",
      "[CV 5/5] END ........C=1, gamma=0.1, kernel=rbf;, score=0.996 total time=   8.7s\n",
      "[CV 1/5] END .......C=1, gamma=0.01, kernel=rbf;, score=0.993 total time=   7.9s\n",
      "[CV 2/5] END .......C=1, gamma=0.01, kernel=rbf;, score=0.993 total time=   7.8s\n",
      "[CV 3/5] END .......C=1, gamma=0.01, kernel=rbf;, score=0.995 total time=   7.1s\n",
      "[CV 4/5] END .......C=1, gamma=0.01, kernel=rbf;, score=0.994 total time=   7.2s\n",
      "[CV 5/5] END .......C=1, gamma=0.01, kernel=rbf;, score=0.995 total time=   7.5s\n",
      "[CV 1/5] END ......C=1, gamma=0.001, kernel=rbf;, score=0.988 total time=   2.8s\n",
      "[CV 2/5] END ......C=1, gamma=0.001, kernel=rbf;, score=0.989 total time=   2.6s\n",
      "[CV 3/5] END ......C=1, gamma=0.001, kernel=rbf;, score=0.989 total time=   2.4s\n",
      "[CV 4/5] END ......C=1, gamma=0.001, kernel=rbf;, score=0.989 total time=   2.9s\n",
      "[CV 5/5] END ......C=1, gamma=0.001, kernel=rbf;, score=0.989 total time=   2.8s\n",
      "[CV 1/5] END .........C=10, gamma=1, kernel=rbf;, score=0.995 total time=  12.6s\n",
      "[CV 2/5] END .........C=10, gamma=1, kernel=rbf;, score=0.993 total time=  11.9s\n",
      "[CV 3/5] END .........C=10, gamma=1, kernel=rbf;, score=0.996 total time=  12.7s\n",
      "[CV 4/5] END .........C=10, gamma=1, kernel=rbf;, score=0.995 total time=  11.9s\n",
      "[CV 5/5] END .........C=10, gamma=1, kernel=rbf;, score=0.997 total time=  13.5s\n",
      "[CV 1/5] END .......C=10, gamma=0.1, kernel=rbf;, score=0.994 total time=   9.2s\n",
      "[CV 2/5] END .......C=10, gamma=0.1, kernel=rbf;, score=0.993 total time=   9.1s\n",
      "[CV 3/5] END .......C=10, gamma=0.1, kernel=rbf;, score=0.996 total time=   9.4s\n",
      "[CV 4/5] END .......C=10, gamma=0.1, kernel=rbf;, score=0.994 total time=   8.9s\n",
      "[CV 5/5] END .......C=10, gamma=0.1, kernel=rbf;, score=0.997 total time=   9.2s\n",
      "[CV 1/5] END ......C=10, gamma=0.01, kernel=rbf;, score=0.993 total time=   6.9s\n",
      "[CV 2/5] END ......C=10, gamma=0.01, kernel=rbf;, score=0.991 total time=   7.0s\n",
      "[CV 3/5] END ......C=10, gamma=0.01, kernel=rbf;, score=0.995 total time=   6.8s\n",
      "[CV 4/5] END ......C=10, gamma=0.01, kernel=rbf;, score=0.994 total time=   7.9s\n",
      "[CV 5/5] END ......C=10, gamma=0.01, kernel=rbf;, score=0.995 total time=   6.9s\n",
      "[CV 1/5] END .....C=10, gamma=0.001, kernel=rbf;, score=0.989 total time=   2.1s\n",
      "[CV 2/5] END .....C=10, gamma=0.001, kernel=rbf;, score=0.989 total time=   1.9s\n",
      "[CV 3/5] END .....C=10, gamma=0.001, kernel=rbf;, score=0.992 total time=   2.1s\n",
      "[CV 4/5] END .....C=10, gamma=0.001, kernel=rbf;, score=0.989 total time=   2.0s\n",
      "[CV 5/5] END .....C=10, gamma=0.001, kernel=rbf;, score=0.992 total time=   2.1s\n",
      "[CV 1/5] END ........C=100, gamma=1, kernel=rbf;, score=0.995 total time=  12.0s\n",
      "[CV 2/5] END ........C=100, gamma=1, kernel=rbf;, score=0.993 total time=  11.7s\n",
      "[CV 3/5] END ........C=100, gamma=1, kernel=rbf;, score=0.996 total time=  12.7s\n",
      "[CV 4/5] END ........C=100, gamma=1, kernel=rbf;, score=0.995 total time=  12.3s\n",
      "[CV 5/5] END ........C=100, gamma=1, kernel=rbf;, score=0.997 total time=  13.3s\n",
      "[CV 1/5] END ......C=100, gamma=0.1, kernel=rbf;, score=0.994 total time=   9.3s\n",
      "[CV 2/5] END ......C=100, gamma=0.1, kernel=rbf;, score=0.993 total time=   8.9s\n",
      "[CV 3/5] END ......C=100, gamma=0.1, kernel=rbf;, score=0.996 total time=   8.9s\n",
      "[CV 4/5] END ......C=100, gamma=0.1, kernel=rbf;, score=0.994 total time=   8.9s\n",
      "[CV 5/5] END ......C=100, gamma=0.1, kernel=rbf;, score=0.997 total time=   9.3s\n",
      "[CV 1/5] END .....C=100, gamma=0.01, kernel=rbf;, score=0.993 total time=   7.5s\n",
      "[CV 2/5] END .....C=100, gamma=0.01, kernel=rbf;, score=0.990 total time=   6.5s\n",
      "[CV 3/5] END .....C=100, gamma=0.01, kernel=rbf;, score=0.995 total time=   7.2s\n",
      "[CV 4/5] END .....C=100, gamma=0.01, kernel=rbf;, score=0.993 total time=   7.1s\n",
      "[CV 5/5] END .....C=100, gamma=0.01, kernel=rbf;, score=0.995 total time=   7.8s\n",
      "[CV 1/5] END ....C=100, gamma=0.001, kernel=rbf;, score=0.989 total time=   1.5s\n",
      "[CV 2/5] END ....C=100, gamma=0.001, kernel=rbf;, score=0.987 total time=   1.5s\n",
      "[CV 3/5] END ....C=100, gamma=0.001, kernel=rbf;, score=0.992 total time=   1.5s\n",
      "[CV 4/5] END ....C=100, gamma=0.001, kernel=rbf;, score=0.989 total time=   1.5s\n",
      "[CV 5/5] END ....C=100, gamma=0.001, kernel=rbf;, score=0.993 total time=   1.5s\n"
     ]
    },
    {
     "data": {
      "text/plain": [
       "GridSearchCV(estimator=SVC(),\n",
       "             param_grid={'C': [0.1, 1, 10, 100], 'gamma': [1, 0.1, 0.01, 0.001],\n",
       "                         'kernel': ['rbf']},\n",
       "             verbose=3)"
      ]
     },
     "execution_count": 609,
     "metadata": {},
     "output_type": "execute_result"
    }
   ],
   "source": [
    "param_grid = {'C': [0.1, 1, 10, 100], \n",
    "              'gamma': [1, 0.1, 0.01, 0.001],\n",
    "              'kernel': ['rbf']} \n",
    "  \n",
    "grid = GridSearchCV(SVC(), param_grid, refit = True, verbose = 3)\n",
    "  \n",
    "grid.fit(X_train2, y_train2)"
   ]
  },
  {
   "cell_type": "code",
   "execution_count": 610,
   "id": "65249ea8",
   "metadata": {},
   "outputs": [
    {
     "name": "stdout",
     "output_type": "stream",
     "text": [
      "{'C': 1, 'gamma': 1, 'kernel': 'rbf'}\n",
      "SVC(C=1, gamma=1)\n"
     ]
    }
   ],
   "source": [
    "print(grid.best_params_)\n",
    "  \n",
    "print(grid.best_estimator_)"
   ]
  },
  {
   "cell_type": "code",
   "execution_count": 611,
   "id": "cd72c1ec",
   "metadata": {},
   "outputs": [
    {
     "name": "stdout",
     "output_type": "stream",
     "text": [
      "              precision    recall  f1-score   support\n",
      "\n",
      "           0       0.99      1.00      1.00      2201\n",
      "           1       1.00      0.97      0.99       528\n",
      "\n",
      "    accuracy                           0.99      2729\n",
      "   macro avg       1.00      0.99      0.99      2729\n",
      "weighted avg       0.99      0.99      0.99      2729\n",
      "\n"
     ]
    }
   ],
   "source": [
    "grid_predictions = grid.predict(X_test2)\n",
    "  \n",
    "# print classification report\n",
    "print(classification_report(y_test2, grid_predictions))"
   ]
  },
  {
   "cell_type": "markdown",
   "id": "a3a5ea67",
   "metadata": {},
   "source": [
    "Hyperparameter tuning, in this case specifically using a C of 1 and gamma of 1, does clearly improve the performance of our model."
   ]
  },
  {
   "cell_type": "markdown",
   "id": "34c567b1",
   "metadata": {},
   "source": [
    "## 6.3. Create complete pipeline for final model  <a class=\"anchor\" id=\"18\"></a>"
   ]
  },
  {
   "cell_type": "code",
   "execution_count": 612,
   "id": "804da539",
   "metadata": {},
   "outputs": [],
   "source": [
    "model = make_pipeline(\n",
    "    StandardScaler(),\n",
    "    LinearSVC(dual=False, C=1, verbose = 3)\n",
    ")"
   ]
  },
  {
   "cell_type": "markdown",
   "id": "69ffaad6",
   "metadata": {},
   "source": [
    "## 6.4. Fit model on all available data before making predictions"
   ]
  },
  {
   "cell_type": "code",
   "execution_count": 613,
   "id": "bee57d04",
   "metadata": {},
   "outputs": [],
   "source": [
    "total_num = total_num.drop(['Diff_from_mean', 'District_bans'], axis = 1)"
   ]
  },
  {
   "cell_type": "markdown",
   "id": "a277b331",
   "metadata": {},
   "source": [
    "I realized that the above columns should have been dropped before creating and training the models.  I will drop them not before I re-fit the model, but as the column 'difference from mean' is not independent from the column for reading proficiency and the column 'district bans' is not independent from 'district has bans' this may cause problems.  Colinearity is usually something to be avoided when building models (or doing most any statistical analysis).  It may be less of a concern in classification than in regression, but this is still a concern.  Ideally, I would go back to before I split data and began training models and remedy this possible problem.  At this point, I believe that it makes more sense for me to move forward just keeping this in mind for future work, but I will remedy it if necessary."
   ]
  },
  {
   "cell_type": "code",
   "execution_count": 614,
   "id": "e26949fc",
   "metadata": {},
   "outputs": [],
   "source": [
    "total_X = total_num.drop('District_has_bans', axis=1).values\n",
    "total_y = total_num['District_has_bans'].values"
   ]
  },
  {
   "cell_type": "code",
   "execution_count": 615,
   "id": "921a8661",
   "metadata": {},
   "outputs": [
    {
     "name": "stdout",
     "output_type": "stream",
     "text": [
      "[LibLinear]"
     ]
    },
    {
     "data": {
      "text/plain": [
       "Pipeline(steps=[('standardscaler', StandardScaler()),\n",
       "                ('linearsvc', LinearSVC(C=1, dual=False, verbose=3))])"
      ]
     },
     "execution_count": 615,
     "metadata": {},
     "output_type": "execute_result"
    }
   ],
   "source": [
    "model.fit(total_X, total_y)"
   ]
  },
  {
   "cell_type": "code",
   "execution_count": 616,
   "id": "7952a762",
   "metadata": {},
   "outputs": [
    {
     "name": "stdout",
     "output_type": "stream",
     "text": [
      "[LibLinear][LibLinear][LibLinear][LibLinear][LibLinear]"
     ]
    }
   ],
   "source": [
    "cv_results = cross_validate(model, total_X, total_y, cv=5)"
   ]
  },
  {
   "cell_type": "code",
   "execution_count": 617,
   "id": "a0d46991",
   "metadata": {},
   "outputs": [],
   "source": [
    "cv = list(cv_results.values())"
   ]
  },
  {
   "cell_type": "code",
   "execution_count": 618,
   "id": "9682589a",
   "metadata": {},
   "outputs": [
    {
     "data": {
      "text/plain": [
       "0.2941416266306651"
      ]
     },
     "execution_count": 618,
     "metadata": {},
     "output_type": "execute_result"
    }
   ],
   "source": [
    "score=np.mean(cv)\n",
    "score"
   ]
  },
  {
   "cell_type": "markdown",
   "id": "95c73d5b",
   "metadata": {},
   "source": [
    "# 7. Use best model to make predictions  <a class=\"anchor\" id=\"twelfth-bullet\"></a>"
   ]
  },
  {
   "cell_type": "markdown",
   "id": "9213c1ce",
   "metadata": {},
   "source": [
    "## 7.1. Modeling scenario 1"
   ]
  },
  {
   "cell_type": "markdown",
   "id": "fa4d0b25",
   "metadata": {},
   "source": [
    "#### Is a school district with higher than average reading proficiency more likely to have book bans than a district with lower reading proficiency?"
   ]
  },
  {
   "cell_type": "markdown",
   "id": "d28f02bd",
   "metadata": {},
   "source": [
    "As defined in earlier examination of the data, the average reading profiency rate for districts in this dataset was 54.323556.  Let's explore whether a district with higher and lower than that average rate may be more or less likely to have banned books.  Setting a reading proficiency score of 65 and 45 give values approximately equally higher and lower than average."
   ]
  },
  {
   "cell_type": "markdown",
   "id": "0465fc15",
   "metadata": {},
   "source": [
    "In order to examine only one factor (in this case, reading proficiency), we must hold all other variables equal.  Therefore, I will use the average value for each other column.  Students_tested\tReading_proficiency_rate\tDistrict_bans\tDiff_from_mean\tDistrict_has_bans"
   ]
  },
  {
   "cell_type": "code",
   "execution_count": 619,
   "id": "da1b5e42",
   "metadata": {},
   "outputs": [
    {
     "data": {
      "text/plain": [
       "Students_tested             5610.743770\n",
       "Reading_proficiency_rate      56.871812\n",
       "District_has_bans              0.185503\n",
       "dtype: float64"
      ]
     },
     "execution_count": 619,
     "metadata": {},
     "output_type": "execute_result"
    }
   ],
   "source": [
    "total_num.mean()"
   ]
  },
  {
   "cell_type": "code",
   "execution_count": 620,
   "id": "c94a332d",
   "metadata": {},
   "outputs": [
    {
     "name": "stdout",
     "output_type": "stream",
     "text": [
      "X=[5610.74377, 65], Predicted=0\n"
     ]
    }
   ],
   "source": [
    "Xnew = [[5610.743770, 65]]\n",
    "# make a prediction\n",
    "ynew = model.predict(Xnew)\n",
    "print(\"X=%s, Predicted=%s\" % (Xnew[0], ynew[0]))"
   ]
  },
  {
   "cell_type": "code",
   "execution_count": 621,
   "id": "00aa04e4",
   "metadata": {},
   "outputs": [
    {
     "name": "stdout",
     "output_type": "stream",
     "text": [
      "X=[5610.74377, 45], Predicted=0\n"
     ]
    }
   ],
   "source": [
    "Xnew = [[5610.743770, 45]]\n",
    "# make a prediction\n",
    "ynew = model.predict(Xnew)\n",
    "print(\"X=%s, Predicted=%s\" % (Xnew[0], ynew[0]))"
   ]
  },
  {
   "cell_type": "code",
   "execution_count": 622,
   "id": "c8b69b4e",
   "metadata": {},
   "outputs": [
    {
     "name": "stdout",
     "output_type": "stream",
     "text": [
      "X=[5610.74377, 75], Predicted=0\n"
     ]
    }
   ],
   "source": [
    "Xnew = [[5610.743770, 75]]\n",
    "# make a prediction\n",
    "ynew = model.predict(Xnew)\n",
    "print(\"X=%s, Predicted=%s\" % (Xnew[0], ynew[0]))"
   ]
  },
  {
   "cell_type": "code",
   "execution_count": 623,
   "id": "a08e778d",
   "metadata": {},
   "outputs": [
    {
     "name": "stdout",
     "output_type": "stream",
     "text": [
      "X=[5610.74377, 35], Predicted=0\n"
     ]
    }
   ],
   "source": [
    "Xnew = [[5610.743770, 35]]\n",
    "# make a prediction\n",
    "ynew = model.predict(Xnew)\n",
    "print(\"X=%s, Predicted=%s\" % (Xnew[0], ynew[0]))"
   ]
  },
  {
   "cell_type": "code",
   "execution_count": 624,
   "id": "ccb23ce4",
   "metadata": {},
   "outputs": [
    {
     "name": "stdout",
     "output_type": "stream",
     "text": [
      "X=[5610.74377, 85], Predicted=0\n"
     ]
    }
   ],
   "source": [
    "Xnew = [[5610.743770, 85]]\n",
    "# make a prediction\n",
    "ynew = model.predict(Xnew)\n",
    "print(\"X=%s, Predicted=%s\" % (Xnew[0], ynew[0]))"
   ]
  },
  {
   "cell_type": "code",
   "execution_count": 625,
   "id": "03d69223",
   "metadata": {},
   "outputs": [
    {
     "name": "stdout",
     "output_type": "stream",
     "text": [
      "X=[5610.74377, 25], Predicted=0\n"
     ]
    }
   ],
   "source": [
    "Xnew = [[5610.743770, 25]]\n",
    "# make a prediction\n",
    "ynew = model.predict(Xnew)\n",
    "print(\"X=%s, Predicted=%s\" % (Xnew[0], ynew[0]))"
   ]
  },
  {
   "cell_type": "code",
   "execution_count": 626,
   "id": "653ebaf5",
   "metadata": {},
   "outputs": [
    {
     "name": "stdout",
     "output_type": "stream",
     "text": [
      "X=[5610.74377, 95], Predicted=0\n"
     ]
    }
   ],
   "source": [
    "Xnew = [[5610.743770, 95]]\n",
    "# make a prediction\n",
    "ynew = model.predict(Xnew)\n",
    "print(\"X=%s, Predicted=%s\" % (Xnew[0], ynew[0]))"
   ]
  },
  {
   "cell_type": "code",
   "execution_count": 627,
   "id": "8a324c95",
   "metadata": {},
   "outputs": [
    {
     "name": "stdout",
     "output_type": "stream",
     "text": [
      "X=[5610.74377, 15], Predicted=0\n"
     ]
    }
   ],
   "source": [
    "Xnew = [[5610.743770, 15]]\n",
    "# make a prediction\n",
    "ynew = model.predict(Xnew)\n",
    "print(\"X=%s, Predicted=%s\" % (Xnew[0], ynew[0]))"
   ]
  },
  {
   "cell_type": "code",
   "execution_count": 628,
   "id": "f57fe009",
   "metadata": {},
   "outputs": [
    {
     "name": "stdout",
     "output_type": "stream",
     "text": [
      "X=[5610.74377, 99], Predicted=0\n"
     ]
    }
   ],
   "source": [
    "Xnew = [[5610.743770, 99]]\n",
    "# make a prediction\n",
    "ynew = model.predict(Xnew)\n",
    "print(\"X=%s, Predicted=%s\" % (Xnew[0], ynew[0]))"
   ]
  },
  {
   "cell_type": "code",
   "execution_count": 629,
   "id": "5a36badd",
   "metadata": {},
   "outputs": [
    {
     "name": "stdout",
     "output_type": "stream",
     "text": [
      "X=[5610.74377, 5], Predicted=0\n"
     ]
    }
   ],
   "source": [
    "Xnew = [[5610.743770, 5]]\n",
    "# make a prediction\n",
    "ynew = model.predict(Xnew)\n",
    "print(\"X=%s, Predicted=%s\" % (Xnew[0], ynew[0]))"
   ]
  },
  {
   "cell_type": "markdown",
   "id": "e217d5c2",
   "metadata": {},
   "source": [
    "Hmmm.  As all of the values for reading proficiency I have tried have resulted in a predicted 0 (that the district has no banned books), I am curious what values of X would result in a predicted 1."
   ]
  },
  {
   "cell_type": "code",
   "execution_count": 630,
   "id": "6d27c2aa",
   "metadata": {},
   "outputs": [
    {
     "name": "stdout",
     "output_type": "stream",
     "text": [
      "X=[-0.79415228  2.10495117], Predicted=0\n",
      "X=[-8.25290074 -4.71455545], Predicted=0\n",
      "X=[-2.18773166  3.33352125], Predicted=0\n"
     ]
    }
   ],
   "source": [
    "from sklearn.datasets import make_blobs\n",
    "Xnew, _ = make_blobs(n_samples=3, centers=2, n_features=2, random_state=1)\n",
    "# make a prediction\n",
    "ynew = model.predict(Xnew)\n",
    "# show the inputs and predicted outputs\n",
    "for i in range(len(Xnew)):\n",
    "    print(\"X=%s, Predicted=%s\" % (Xnew[i], ynew[i]))"
   ]
  },
  {
   "cell_type": "markdown",
   "id": "930210c1",
   "metadata": {},
   "source": [
    "As the majority of these values of X are negative, this is not very useful.  Logically, we know that there are not districts with a negative number of students or negative reading proficiency."
   ]
  },
  {
   "cell_type": "code",
   "execution_count": 631,
   "id": "bce4dc4b",
   "metadata": {},
   "outputs": [],
   "source": [
    "df_edit = total_num[(total_num['District_has_bans']==1)]"
   ]
  },
  {
   "cell_type": "code",
   "execution_count": 632,
   "id": "e907479c",
   "metadata": {},
   "outputs": [
    {
     "data": {
      "text/plain": [
       "Students_tested             21046.559068\n",
       "Reading_proficiency_rate       68.599368\n",
       "District_has_bans               1.000000\n",
       "dtype: float64"
      ]
     },
     "execution_count": 632,
     "metadata": {},
     "output_type": "execute_result"
    }
   ],
   "source": [
    "df_edit.mean()"
   ]
  },
  {
   "cell_type": "code",
   "execution_count": 633,
   "id": "40221141",
   "metadata": {},
   "outputs": [
    {
     "name": "stdout",
     "output_type": "stream",
     "text": [
      "X=[21046.559068, 68.599368], Predicted=0\n"
     ]
    }
   ],
   "source": [
    "Xnew = [[21046.559068, 68.599368]]\n",
    "# make a prediction\n",
    "ynew = model.predict(Xnew)\n",
    "print(\"X=%s, Predicted=%s\" % (Xnew[0], ynew[0]))"
   ]
  },
  {
   "cell_type": "markdown",
   "id": "73a93a75",
   "metadata": {},
   "source": [
    "Hmmm.  I'm wondering if either there is a problem with my model or if the proportion of the dataset with book bans is simply too small to output a predicted ban (or at least very rarely). "
   ]
  },
  {
   "cell_type": "markdown",
   "id": "b92078c6",
   "metadata": {},
   "source": [
    "## 7.2. Modeling scenario 2"
   ]
  },
  {
   "cell_type": "markdown",
   "id": "7cad7340",
   "metadata": {},
   "source": [
    "Does the number of students in a district have any correlation with book bans?"
   ]
  },
  {
   "cell_type": "markdown",
   "id": "90406809",
   "metadata": {},
   "source": [
    "Similarly, will the model be able to predict any book bans based on the number of students in a district, assuming an average level of reading proficiency?"
   ]
  },
  {
   "cell_type": "code",
   "execution_count": 634,
   "id": "9c00ae35",
   "metadata": {},
   "outputs": [
    {
     "name": "stdout",
     "output_type": "stream",
     "text": [
      "X=[5000, 56.871812], Predicted=0\n"
     ]
    }
   ],
   "source": [
    "Xnew = [[5000, 56.871812]]\n",
    "# make a prediction\n",
    "ynew = model.predict(Xnew)\n",
    "print(\"X=%s, Predicted=%s\" % (Xnew[0], ynew[0]))"
   ]
  },
  {
   "cell_type": "code",
   "execution_count": 635,
   "id": "ffb2f2cf",
   "metadata": {},
   "outputs": [
    {
     "name": "stdout",
     "output_type": "stream",
     "text": [
      "X=[6000, 56.871812], Predicted=0\n"
     ]
    }
   ],
   "source": [
    "Xnew = [[6000, 56.871812]]\n",
    "# make a prediction\n",
    "ynew = model.predict(Xnew)\n",
    "print(\"X=%s, Predicted=%s\" % (Xnew[0], ynew[0]))"
   ]
  },
  {
   "cell_type": "code",
   "execution_count": 636,
   "id": "4109a31d",
   "metadata": {},
   "outputs": [
    {
     "name": "stdout",
     "output_type": "stream",
     "text": [
      "X=[4000, 56.871812], Predicted=0\n"
     ]
    }
   ],
   "source": [
    "Xnew = [[4000, 56.871812]]\n",
    "# make a prediction\n",
    "ynew = model.predict(Xnew)\n",
    "print(\"X=%s, Predicted=%s\" % (Xnew[0], ynew[0]))"
   ]
  },
  {
   "cell_type": "code",
   "execution_count": 637,
   "id": "7216c5bc",
   "metadata": {},
   "outputs": [
    {
     "name": "stdout",
     "output_type": "stream",
     "text": [
      "X=[7000, 56.871812], Predicted=0\n"
     ]
    }
   ],
   "source": [
    "Xnew = [[7000, 56.871812]]\n",
    "# make a prediction\n",
    "ynew = model.predict(Xnew)\n",
    "print(\"X=%s, Predicted=%s\" % (Xnew[0], ynew[0]))"
   ]
  },
  {
   "cell_type": "code",
   "execution_count": 638,
   "id": "4495da0e",
   "metadata": {},
   "outputs": [
    {
     "name": "stdout",
     "output_type": "stream",
     "text": [
      "X=[3000, 56.871812], Predicted=0\n"
     ]
    }
   ],
   "source": [
    "Xnew = [[3000, 56.871812]]\n",
    "# make a prediction\n",
    "ynew = model.predict(Xnew)\n",
    "print(\"X=%s, Predicted=%s\" % (Xnew[0], ynew[0]))"
   ]
  },
  {
   "cell_type": "code",
   "execution_count": 639,
   "id": "286bf183",
   "metadata": {},
   "outputs": [
    {
     "name": "stdout",
     "output_type": "stream",
     "text": [
      "X=[8000, 56.871812], Predicted=0\n"
     ]
    }
   ],
   "source": [
    "Xnew = [[8000, 56.871812]]\n",
    "# make a prediction\n",
    "ynew = model.predict(Xnew)\n",
    "print(\"X=%s, Predicted=%s\" % (Xnew[0], ynew[0]))"
   ]
  },
  {
   "cell_type": "code",
   "execution_count": 640,
   "id": "4a0ac645",
   "metadata": {},
   "outputs": [
    {
     "name": "stdout",
     "output_type": "stream",
     "text": [
      "X=[1000, 56.871812], Predicted=0\n"
     ]
    }
   ],
   "source": [
    "Xnew = [[1000, 56.871812]]\n",
    "# make a prediction\n",
    "ynew = model.predict(Xnew)\n",
    "print(\"X=%s, Predicted=%s\" % (Xnew[0], ynew[0]))"
   ]
  },
  {
   "cell_type": "code",
   "execution_count": 641,
   "id": "14c2bd55",
   "metadata": {},
   "outputs": [
    {
     "name": "stdout",
     "output_type": "stream",
     "text": [
      "X=[10000, 56.871812], Predicted=0\n"
     ]
    }
   ],
   "source": [
    "Xnew = [[10000, 56.871812]]\n",
    "# make a prediction\n",
    "ynew = model.predict(Xnew)\n",
    "print(\"X=%s, Predicted=%s\" % (Xnew[0], ynew[0]))"
   ]
  },
  {
   "cell_type": "code",
   "execution_count": 642,
   "id": "1ac55097",
   "metadata": {},
   "outputs": [
    {
     "name": "stdout",
     "output_type": "stream",
     "text": [
      "X=[20000, 56.871812], Predicted=0\n"
     ]
    }
   ],
   "source": [
    "Xnew = [[20000, 56.871812]]\n",
    "# make a prediction\n",
    "ynew = model.predict(Xnew)\n",
    "print(\"X=%s, Predicted=%s\" % (Xnew[0], ynew[0]))"
   ]
  },
  {
   "cell_type": "code",
   "execution_count": 643,
   "id": "0cb37f3e",
   "metadata": {},
   "outputs": [
    {
     "name": "stdout",
     "output_type": "stream",
     "text": [
      "X=[100, 56.871812], Predicted=0\n"
     ]
    }
   ],
   "source": [
    "Xnew = [[100, 56.871812]]\n",
    "# make a prediction\n",
    "ynew = model.predict(Xnew)\n",
    "print(\"X=%s, Predicted=%s\" % (Xnew[0], ynew[0]))"
   ]
  },
  {
   "cell_type": "code",
   "execution_count": 644,
   "id": "be019084",
   "metadata": {},
   "outputs": [
    {
     "name": "stdout",
     "output_type": "stream",
     "text": [
      "X=[50000, 56.871812], Predicted=1\n"
     ]
    }
   ],
   "source": [
    "Xnew = [[50000, 56.871812]]\n",
    "# make a prediction\n",
    "ynew = model.predict(Xnew)\n",
    "print(\"X=%s, Predicted=%s\" % (Xnew[0], ynew[0]))"
   ]
  },
  {
   "cell_type": "markdown",
   "id": "02882f61",
   "metadata": {},
   "source": [
    "Interesting.  A theoretical school district having 50,000 students was the first hypothetical scenario which output a book ban. While this is an extreme example, it does seem to show that the number of students in a district may have an effect on (may be correlated at least) with book bans."
   ]
  },
  {
   "cell_type": "markdown",
   "id": "17b5675d",
   "metadata": {},
   "source": [
    "## 7.3. Modeling scenario 3"
   ]
  },
  {
   "cell_type": "markdown",
   "id": "4e1ef9ae",
   "metadata": {},
   "source": [
    "Is school district X likely to have book bans?"
   ]
  },
  {
   "cell_type": "markdown",
   "id": "4da9153e",
   "metadata": {},
   "source": [
    "School districts are continually changing, merging, splitting, disbanding, being established etc.  Each year, there are an average of somewhere between 10 and 100 different numbers of school districts than the year before.  Choosing a school district that was created after the book ban data, does the model expect it may have book bans or not?"
   ]
  },
  {
   "cell_type": "markdown",
   "id": "1c441a79",
   "metadata": {},
   "source": [
    "I have thus far not been able to find reliable data on newly created (or vastly changed) school districts enough to compare.  I would be curious how they measure up against this model, but I have decided to save that question for now in order to finish this step."
   ]
  },
  {
   "cell_type": "markdown",
   "id": "84ba7549",
   "metadata": {},
   "source": [
    "## 7.4. Modeling scenario 4"
   ]
  },
  {
   "cell_type": "markdown",
   "id": "d1e64ed5",
   "metadata": {},
   "source": [
    "Are some of the largest school districts in the country likely to have book bans?"
   ]
  },
  {
   "cell_type": "markdown",
   "id": "cad4930f",
   "metadata": {},
   "source": [
    "While the data may be less reliable than the data sets I have been working from, in this question, I chose to use data from other sources online rather than from the sources our model was trained on.  The school district size information is from https://largestandbiggest.com/education/what-are-the-20-largest-school-districts-in-the-us/#:~:text=What%20Are%20the%2020%20Largest%20School%20Districts%20in,County%20Public%20Schools%20%E2%80%93%20205%2C752%20students%20More%20items."
   ]
  },
  {
   "cell_type": "code",
   "execution_count": 645,
   "id": "5163a48a",
   "metadata": {},
   "outputs": [
    {
     "name": "stdout",
     "output_type": "stream",
     "text": [
      "X=[1119071, 63.8], Predicted=1\n"
     ]
    }
   ],
   "source": [
    "NYC = [[1119071, 63.8]]\n",
    "ynew = model.predict(NYC)\n",
    "print(\"X=%s, Predicted=%s\" % (NYC[0], ynew[0]))"
   ]
  },
  {
   "cell_type": "markdown",
   "id": "85d8a598",
   "metadata": {},
   "source": [
    "NYC reading proficiency according to https://www.silive.com/education/2021/10/how-proficient-were-new-york-city-students-in-reading-and-math-in-2021.html#:~:text=According%20to%20the%20DOE%2C%2063.8%25%20of%20all%20city,a%203%20or%204%20on%20the%20state%20exam."
   ]
  },
  {
   "cell_type": "code",
   "execution_count": 646,
   "id": "15b90299",
   "metadata": {},
   "outputs": [
    {
     "name": "stdout",
     "output_type": "stream",
     "text": [
      "X=[157754, 36], Predicted=1\n"
     ]
    }
   ],
   "source": [
    "Dallas = [[157754, 36]]\n",
    "ynew = model.predict(Dallas)\n",
    "print(\"X=%s, Predicted=%s\" % (Dallas[0], ynew[0]))"
   ]
  },
  {
   "cell_type": "markdown",
   "id": "fe94d570",
   "metadata": {},
   "source": [
    "Dallas reading proficiency https://www.publicschoolreview.com/texas/dallas-independent-school-district/4816230-school-district"
   ]
  },
  {
   "cell_type": "code",
   "execution_count": 647,
   "id": "1d12eaa2",
   "metadata": {},
   "outputs": [
    {
     "name": "stdout",
     "output_type": "stream",
     "text": [
      "X=[155446, 43], Predicted=1\n"
     ]
    }
   ],
   "source": [
    "Gwinnet = [[155446, 43]]\n",
    "ynew = model.predict(Gwinnet)\n",
    "print(\"X=%s, Predicted=%s\" % (Gwinnet[0], ynew[0]))"
   ]
  },
  {
   "cell_type": "markdown",
   "id": "d016f476",
   "metadata": {},
   "source": [
    "Gwinnet county reading proficiency https://www.niche.com/k12/d/gwinnett-county-public-schools-ga/academics/"
   ]
  },
  {
   "cell_type": "code",
   "execution_count": 648,
   "id": "603b8224",
   "metadata": {},
   "outputs": [
    {
     "name": "stdout",
     "output_type": "stream",
     "text": [
      "X=[76839, 57], Predicted=1\n"
     ]
    }
   ],
   "source": [
    "Brevard = [[76839, 57]]\n",
    "ynew = model.predict(Brevard)\n",
    "print(\"X=%s, Predicted=%s\" % (Brevard[0], ynew[0]))"
   ]
  },
  {
   "cell_type": "markdown",
   "id": "0e6ed310",
   "metadata": {},
   "source": [
    "### 7.4.1. Predictions checked against the data"
   ]
  },
  {
   "cell_type": "markdown",
   "id": "f4cd7201",
   "metadata": {},
   "source": [
    "As these are real school districts, we can check to see how many of these our model predicted correctly."
   ]
  },
  {
   "cell_type": "code",
   "execution_count": 649,
   "id": "c2f1d3f7",
   "metadata": {},
   "outputs": [
    {
     "data": {
      "text/html": [
       "<div>\n",
       "<style scoped>\n",
       "    .dataframe tbody tr th:only-of-type {\n",
       "        vertical-align: middle;\n",
       "    }\n",
       "\n",
       "    .dataframe tbody tr th {\n",
       "        vertical-align: top;\n",
       "    }\n",
       "\n",
       "    .dataframe thead th {\n",
       "        text-align: right;\n",
       "    }\n",
       "</style>\n",
       "<table border=\"1\" class=\"dataframe\">\n",
       "  <thead>\n",
       "    <tr style=\"text-align: right;\">\n",
       "      <th></th>\n",
       "      <th>Author</th>\n",
       "      <th>Title</th>\n",
       "      <th>Type of Ban</th>\n",
       "      <th>State</th>\n",
       "      <th>District</th>\n",
       "      <th>Origin of Challenge</th>\n",
       "      <th>Frequency</th>\n",
       "      <th>ID</th>\n",
       "      <th>Students_tested</th>\n",
       "      <th>Reading_proficiency_rate</th>\n",
       "      <th>Average_proficiency</th>\n",
       "      <th>District_bans</th>\n",
       "      <th>Year</th>\n",
       "      <th>Diff_from_mean</th>\n",
       "      <th>District_no_bans</th>\n",
       "      <th>District_has_bans</th>\n",
       "    </tr>\n",
       "  </thead>\n",
       "  <tbody>\n",
       "    <tr>\n",
       "      <th>1719</th>\n",
       "      <td>Kobabe, Maia</td>\n",
       "      <td>Gender Queer: A Memoir</td>\n",
       "      <td>Banned in Libraries and Classrooms</td>\n",
       "      <td>Florida</td>\n",
       "      <td>Brevard public schools</td>\n",
       "      <td>Administrator</td>\n",
       "      <td>41.0</td>\n",
       "      <td>1200150.0</td>\n",
       "      <td>41440</td>\n",
       "      <td>61.0</td>\n",
       "      <td>54.323556</td>\n",
       "      <td>42.0</td>\n",
       "      <td>2021</td>\n",
       "      <td>6.676444</td>\n",
       "      <td>False</td>\n",
       "      <td>True</td>\n",
       "    </tr>\n",
       "    <tr>\n",
       "      <th>1720</th>\n",
       "      <td>Johnson, George M.</td>\n",
       "      <td>All Boys Aren't Blue</td>\n",
       "      <td>Banned Pending Investigation</td>\n",
       "      <td>Florida</td>\n",
       "      <td>Brevard public schools</td>\n",
       "      <td>Administrator</td>\n",
       "      <td>29.0</td>\n",
       "      <td>1200150.0</td>\n",
       "      <td>41440</td>\n",
       "      <td>61.0</td>\n",
       "      <td>54.323556</td>\n",
       "      <td>42.0</td>\n",
       "      <td>2022</td>\n",
       "      <td>6.676444</td>\n",
       "      <td>False</td>\n",
       "      <td>True</td>\n",
       "    </tr>\n",
       "    <tr>\n",
       "      <th>1721</th>\n",
       "      <td>Pérez, Ashley Hope</td>\n",
       "      <td>Out of Darkness</td>\n",
       "      <td>Banned Pending Investigation</td>\n",
       "      <td>Florida</td>\n",
       "      <td>Brevard public schools</td>\n",
       "      <td>Administrator</td>\n",
       "      <td>24.0</td>\n",
       "      <td>1200150.0</td>\n",
       "      <td>41440</td>\n",
       "      <td>61.0</td>\n",
       "      <td>54.323556</td>\n",
       "      <td>42.0</td>\n",
       "      <td>2022</td>\n",
       "      <td>6.676444</td>\n",
       "      <td>False</td>\n",
       "      <td>True</td>\n",
       "    </tr>\n",
       "    <tr>\n",
       "      <th>1722</th>\n",
       "      <td>Hopkins, Ellen</td>\n",
       "      <td>Crank (Crank Series)</td>\n",
       "      <td>Banned Pending Investigation</td>\n",
       "      <td>Florida</td>\n",
       "      <td>Brevard public schools</td>\n",
       "      <td>Administrator</td>\n",
       "      <td>12.0</td>\n",
       "      <td>1200150.0</td>\n",
       "      <td>41440</td>\n",
       "      <td>61.0</td>\n",
       "      <td>54.323556</td>\n",
       "      <td>42.0</td>\n",
       "      <td>2022</td>\n",
       "      <td>6.676444</td>\n",
       "      <td>False</td>\n",
       "      <td>True</td>\n",
       "    </tr>\n",
       "    <tr>\n",
       "      <th>1723</th>\n",
       "      <td>Hosseini, Khaled</td>\n",
       "      <td>The Kite Runner</td>\n",
       "      <td>Banned Pending Investigation</td>\n",
       "      <td>Florida</td>\n",
       "      <td>Brevard public schools</td>\n",
       "      <td>Administrator</td>\n",
       "      <td>12.0</td>\n",
       "      <td>1200150.0</td>\n",
       "      <td>41440</td>\n",
       "      <td>61.0</td>\n",
       "      <td>54.323556</td>\n",
       "      <td>42.0</td>\n",
       "      <td>2022</td>\n",
       "      <td>6.676444</td>\n",
       "      <td>False</td>\n",
       "      <td>True</td>\n",
       "    </tr>\n",
       "    <tr>\n",
       "      <th>1724</th>\n",
       "      <td>Tamaki, Mariko</td>\n",
       "      <td>This One Summer</td>\n",
       "      <td>Banned Pending Investigation</td>\n",
       "      <td>Florida</td>\n",
       "      <td>Brevard public schools</td>\n",
       "      <td>Administrator</td>\n",
       "      <td>11.0</td>\n",
       "      <td>1200150.0</td>\n",
       "      <td>41440</td>\n",
       "      <td>61.0</td>\n",
       "      <td>54.323556</td>\n",
       "      <td>42.0</td>\n",
       "      <td>2022</td>\n",
       "      <td>6.676444</td>\n",
       "      <td>False</td>\n",
       "      <td>True</td>\n",
       "    </tr>\n",
       "    <tr>\n",
       "      <th>1725</th>\n",
       "      <td>Dawson, Juno</td>\n",
       "      <td>This Book Is Gay</td>\n",
       "      <td>Banned Pending Investigation</td>\n",
       "      <td>Florida</td>\n",
       "      <td>Brevard public schools</td>\n",
       "      <td>Administrator</td>\n",
       "      <td>11.0</td>\n",
       "      <td>1200150.0</td>\n",
       "      <td>41440</td>\n",
       "      <td>61.0</td>\n",
       "      <td>54.323556</td>\n",
       "      <td>42.0</td>\n",
       "      <td>2022</td>\n",
       "      <td>6.676444</td>\n",
       "      <td>False</td>\n",
       "      <td>True</td>\n",
       "    </tr>\n",
       "    <tr>\n",
       "      <th>1726</th>\n",
       "      <td>Chbosky, Stephen</td>\n",
       "      <td>The Perks of Being a Wallflower</td>\n",
       "      <td>Banned Pending Investigation</td>\n",
       "      <td>Florida</td>\n",
       "      <td>Brevard public schools</td>\n",
       "      <td>Administrator</td>\n",
       "      <td>8.0</td>\n",
       "      <td>1200150.0</td>\n",
       "      <td>41440</td>\n",
       "      <td>61.0</td>\n",
       "      <td>54.323556</td>\n",
       "      <td>42.0</td>\n",
       "      <td>2022</td>\n",
       "      <td>6.676444</td>\n",
       "      <td>False</td>\n",
       "      <td>True</td>\n",
       "    </tr>\n",
       "    <tr>\n",
       "      <th>1727</th>\n",
       "      <td>Hopkins, Ellen</td>\n",
       "      <td>Tricks (Tricks Series)</td>\n",
       "      <td>Banned Pending Investigation</td>\n",
       "      <td>Florida</td>\n",
       "      <td>Brevard public schools</td>\n",
       "      <td>Administrator</td>\n",
       "      <td>8.0</td>\n",
       "      <td>1200150.0</td>\n",
       "      <td>41440</td>\n",
       "      <td>61.0</td>\n",
       "      <td>54.323556</td>\n",
       "      <td>42.0</td>\n",
       "      <td>2022</td>\n",
       "      <td>6.676444</td>\n",
       "      <td>False</td>\n",
       "      <td>True</td>\n",
       "    </tr>\n",
       "    <tr>\n",
       "      <th>1728</th>\n",
       "      <td>Maas, Sarah J.</td>\n",
       "      <td>A Court of Mist and Fury (A Court of Thorns an...</td>\n",
       "      <td>Banned Pending Investigation</td>\n",
       "      <td>Florida</td>\n",
       "      <td>Brevard public schools</td>\n",
       "      <td>Administrator</td>\n",
       "      <td>7.0</td>\n",
       "      <td>1200150.0</td>\n",
       "      <td>41440</td>\n",
       "      <td>61.0</td>\n",
       "      <td>54.323556</td>\n",
       "      <td>42.0</td>\n",
       "      <td>2022</td>\n",
       "      <td>6.676444</td>\n",
       "      <td>False</td>\n",
       "      <td>True</td>\n",
       "    </tr>\n",
       "    <tr>\n",
       "      <th>1729</th>\n",
       "      <td>Jackson, Tiffany D.</td>\n",
       "      <td>Monday's Not Coming</td>\n",
       "      <td>Banned Pending Investigation</td>\n",
       "      <td>Florida</td>\n",
       "      <td>Brevard public schools</td>\n",
       "      <td>Administrator</td>\n",
       "      <td>7.0</td>\n",
       "      <td>1200150.0</td>\n",
       "      <td>41440</td>\n",
       "      <td>61.0</td>\n",
       "      <td>54.323556</td>\n",
       "      <td>42.0</td>\n",
       "      <td>2022</td>\n",
       "      <td>6.676444</td>\n",
       "      <td>False</td>\n",
       "      <td>True</td>\n",
       "    </tr>\n",
       "    <tr>\n",
       "      <th>1730</th>\n",
       "      <td>McCormick, Patricia</td>\n",
       "      <td>Sold</td>\n",
       "      <td>Banned Pending Investigation</td>\n",
       "      <td>Florida</td>\n",
       "      <td>Brevard public schools</td>\n",
       "      <td>Administrator</td>\n",
       "      <td>7.0</td>\n",
       "      <td>1200150.0</td>\n",
       "      <td>41440</td>\n",
       "      <td>61.0</td>\n",
       "      <td>54.323556</td>\n",
       "      <td>42.0</td>\n",
       "      <td>2022</td>\n",
       "      <td>6.676444</td>\n",
       "      <td>False</td>\n",
       "      <td>True</td>\n",
       "    </tr>\n",
       "    <tr>\n",
       "      <th>1731</th>\n",
       "      <td>Sebold, Alice</td>\n",
       "      <td>Lucky</td>\n",
       "      <td>Banned Pending Investigation</td>\n",
       "      <td>Florida</td>\n",
       "      <td>Brevard public schools</td>\n",
       "      <td>Administrator</td>\n",
       "      <td>6.0</td>\n",
       "      <td>1200150.0</td>\n",
       "      <td>41440</td>\n",
       "      <td>61.0</td>\n",
       "      <td>54.323556</td>\n",
       "      <td>42.0</td>\n",
       "      <td>2022</td>\n",
       "      <td>6.676444</td>\n",
       "      <td>False</td>\n",
       "      <td>True</td>\n",
       "    </tr>\n",
       "    <tr>\n",
       "      <th>1732</th>\n",
       "      <td>Myracle, Lauren</td>\n",
       "      <td>The Infinite Moment of Us</td>\n",
       "      <td>Banned Pending Investigation</td>\n",
       "      <td>Florida</td>\n",
       "      <td>Brevard public schools</td>\n",
       "      <td>Administrator</td>\n",
       "      <td>5.0</td>\n",
       "      <td>1200150.0</td>\n",
       "      <td>41440</td>\n",
       "      <td>61.0</td>\n",
       "      <td>54.323556</td>\n",
       "      <td>42.0</td>\n",
       "      <td>2022</td>\n",
       "      <td>6.676444</td>\n",
       "      <td>False</td>\n",
       "      <td>True</td>\n",
       "    </tr>\n",
       "    <tr>\n",
       "      <th>1733</th>\n",
       "      <td>Blume, Judy</td>\n",
       "      <td>Forever...</td>\n",
       "      <td>Banned Pending Investigation</td>\n",
       "      <td>Florida</td>\n",
       "      <td>Brevard public schools</td>\n",
       "      <td>Administrator</td>\n",
       "      <td>4.0</td>\n",
       "      <td>1200150.0</td>\n",
       "      <td>41440</td>\n",
       "      <td>61.0</td>\n",
       "      <td>54.323556</td>\n",
       "      <td>42.0</td>\n",
       "      <td>2022</td>\n",
       "      <td>6.676444</td>\n",
       "      <td>False</td>\n",
       "      <td>True</td>\n",
       "    </tr>\n",
       "    <tr>\n",
       "      <th>1734</th>\n",
       "      <td>Scott, Elizabeth</td>\n",
       "      <td>Living Dead Girl</td>\n",
       "      <td>Banned Pending Investigation</td>\n",
       "      <td>Florida</td>\n",
       "      <td>Brevard public schools</td>\n",
       "      <td>Administrator</td>\n",
       "      <td>4.0</td>\n",
       "      <td>1200150.0</td>\n",
       "      <td>41440</td>\n",
       "      <td>61.0</td>\n",
       "      <td>54.323556</td>\n",
       "      <td>42.0</td>\n",
       "      <td>2022</td>\n",
       "      <td>6.676444</td>\n",
       "      <td>False</td>\n",
       "      <td>True</td>\n",
       "    </tr>\n",
       "    <tr>\n",
       "      <th>1735</th>\n",
       "      <td>Hopkins, Ellen</td>\n",
       "      <td>Triangles</td>\n",
       "      <td>Banned Pending Investigation</td>\n",
       "      <td>Florida</td>\n",
       "      <td>Brevard public schools</td>\n",
       "      <td>Administrator</td>\n",
       "      <td>4.0</td>\n",
       "      <td>1200150.0</td>\n",
       "      <td>41440</td>\n",
       "      <td>61.0</td>\n",
       "      <td>54.323556</td>\n",
       "      <td>42.0</td>\n",
       "      <td>2022</td>\n",
       "      <td>6.676444</td>\n",
       "      <td>False</td>\n",
       "      <td>True</td>\n",
       "    </tr>\n",
       "    <tr>\n",
       "      <th>1736</th>\n",
       "      <td>Maas, Sarah J.</td>\n",
       "      <td>A Court of Frost and Starlight (A Court of Tho...</td>\n",
       "      <td>Banned Pending Investigation</td>\n",
       "      <td>Florida</td>\n",
       "      <td>Brevard public schools</td>\n",
       "      <td>Administrator</td>\n",
       "      <td>3.0</td>\n",
       "      <td>1200150.0</td>\n",
       "      <td>41440</td>\n",
       "      <td>61.0</td>\n",
       "      <td>54.323556</td>\n",
       "      <td>42.0</td>\n",
       "      <td>2022</td>\n",
       "      <td>6.676444</td>\n",
       "      <td>False</td>\n",
       "      <td>True</td>\n",
       "    </tr>\n",
       "    <tr>\n",
       "      <th>1737</th>\n",
       "      <td>Andrews, Jesse</td>\n",
       "      <td>The Haters</td>\n",
       "      <td>Banned Pending Investigation</td>\n",
       "      <td>Florida</td>\n",
       "      <td>Brevard public schools</td>\n",
       "      <td>Administrator</td>\n",
       "      <td>3.0</td>\n",
       "      <td>1200150.0</td>\n",
       "      <td>41440</td>\n",
       "      <td>61.0</td>\n",
       "      <td>54.323556</td>\n",
       "      <td>42.0</td>\n",
       "      <td>2022</td>\n",
       "      <td>6.676444</td>\n",
       "      <td>False</td>\n",
       "      <td>True</td>\n",
       "    </tr>\n",
       "    <tr>\n",
       "      <th>1738</th>\n",
       "      <td>Kaur, Rupi</td>\n",
       "      <td>Milk and Honey</td>\n",
       "      <td>Banned Pending Investigation</td>\n",
       "      <td>Florida</td>\n",
       "      <td>Brevard public schools</td>\n",
       "      <td>Administrator</td>\n",
       "      <td>3.0</td>\n",
       "      <td>1200150.0</td>\n",
       "      <td>41440</td>\n",
       "      <td>61.0</td>\n",
       "      <td>54.323556</td>\n",
       "      <td>42.0</td>\n",
       "      <td>2022</td>\n",
       "      <td>6.676444</td>\n",
       "      <td>False</td>\n",
       "      <td>True</td>\n",
       "    </tr>\n",
       "    <tr>\n",
       "      <th>1739</th>\n",
       "      <td>Reed, Amy</td>\n",
       "      <td>The Nowhere Girls</td>\n",
       "      <td>Banned Pending Investigation</td>\n",
       "      <td>Florida</td>\n",
       "      <td>Brevard public schools</td>\n",
       "      <td>Administrator</td>\n",
       "      <td>3.0</td>\n",
       "      <td>1200150.0</td>\n",
       "      <td>41440</td>\n",
       "      <td>61.0</td>\n",
       "      <td>54.323556</td>\n",
       "      <td>42.0</td>\n",
       "      <td>2022</td>\n",
       "      <td>6.676444</td>\n",
       "      <td>False</td>\n",
       "      <td>True</td>\n",
       "    </tr>\n",
       "    <tr>\n",
       "      <th>1740</th>\n",
       "      <td>Arnold, Elana K.</td>\n",
       "      <td>What Girls Are Made Of</td>\n",
       "      <td>Banned Pending Investigation</td>\n",
       "      <td>Florida</td>\n",
       "      <td>Brevard public schools</td>\n",
       "      <td>Administrator</td>\n",
       "      <td>3.0</td>\n",
       "      <td>1200150.0</td>\n",
       "      <td>41440</td>\n",
       "      <td>61.0</td>\n",
       "      <td>54.323556</td>\n",
       "      <td>42.0</td>\n",
       "      <td>2022</td>\n",
       "      <td>6.676444</td>\n",
       "      <td>False</td>\n",
       "      <td>True</td>\n",
       "    </tr>\n",
       "    <tr>\n",
       "      <th>1741</th>\n",
       "      <td>Lo, Malinda</td>\n",
       "      <td>Last Night at the Telegraph Club</td>\n",
       "      <td>Banned Pending Investigation</td>\n",
       "      <td>Florida</td>\n",
       "      <td>Brevard public schools</td>\n",
       "      <td>Administrator</td>\n",
       "      <td>2.0</td>\n",
       "      <td>1200150.0</td>\n",
       "      <td>41440</td>\n",
       "      <td>61.0</td>\n",
       "      <td>54.323556</td>\n",
       "      <td>42.0</td>\n",
       "      <td>2022</td>\n",
       "      <td>6.676444</td>\n",
       "      <td>False</td>\n",
       "      <td>True</td>\n",
       "    </tr>\n",
       "    <tr>\n",
       "      <th>1742</th>\n",
       "      <td>Hopkins, Ellen</td>\n",
       "      <td>People Kill People</td>\n",
       "      <td>Banned Pending Investigation</td>\n",
       "      <td>Florida</td>\n",
       "      <td>Brevard public schools</td>\n",
       "      <td>Administrator</td>\n",
       "      <td>2.0</td>\n",
       "      <td>1200150.0</td>\n",
       "      <td>41440</td>\n",
       "      <td>61.0</td>\n",
       "      <td>54.323556</td>\n",
       "      <td>42.0</td>\n",
       "      <td>2022</td>\n",
       "      <td>6.676444</td>\n",
       "      <td>False</td>\n",
       "      <td>True</td>\n",
       "    </tr>\n",
       "    <tr>\n",
       "      <th>1743</th>\n",
       "      <td>Hopkins, Ellen</td>\n",
       "      <td>Tilt</td>\n",
       "      <td>Banned Pending Investigation</td>\n",
       "      <td>Florida</td>\n",
       "      <td>Brevard public schools</td>\n",
       "      <td>Administrator</td>\n",
       "      <td>2.0</td>\n",
       "      <td>1200150.0</td>\n",
       "      <td>41440</td>\n",
       "      <td>61.0</td>\n",
       "      <td>54.323556</td>\n",
       "      <td>42.0</td>\n",
       "      <td>2022</td>\n",
       "      <td>6.676444</td>\n",
       "      <td>False</td>\n",
       "      <td>True</td>\n",
       "    </tr>\n",
       "    <tr>\n",
       "      <th>1744</th>\n",
       "      <td>Rooney, Sally</td>\n",
       "      <td>Normal People</td>\n",
       "      <td>Banned Pending Investigation</td>\n",
       "      <td>Florida</td>\n",
       "      <td>Brevard public schools</td>\n",
       "      <td>Administrator</td>\n",
       "      <td>2.0</td>\n",
       "      <td>1200150.0</td>\n",
       "      <td>41440</td>\n",
       "      <td>61.0</td>\n",
       "      <td>54.323556</td>\n",
       "      <td>42.0</td>\n",
       "      <td>2022</td>\n",
       "      <td>6.676444</td>\n",
       "      <td>False</td>\n",
       "      <td>True</td>\n",
       "    </tr>\n",
       "    <tr>\n",
       "      <th>1745</th>\n",
       "      <td>Arnold, Elana K.</td>\n",
       "      <td>Infandous</td>\n",
       "      <td>Banned Pending Investigation</td>\n",
       "      <td>Florida</td>\n",
       "      <td>Brevard public schools</td>\n",
       "      <td>Administrator</td>\n",
       "      <td>2.0</td>\n",
       "      <td>1200150.0</td>\n",
       "      <td>41440</td>\n",
       "      <td>61.0</td>\n",
       "      <td>54.323556</td>\n",
       "      <td>42.0</td>\n",
       "      <td>2022</td>\n",
       "      <td>6.676444</td>\n",
       "      <td>False</td>\n",
       "      <td>True</td>\n",
       "    </tr>\n",
       "    <tr>\n",
       "      <th>1746</th>\n",
       "      <td>Vonnegut Jr., Kurt</td>\n",
       "      <td>Slaughterhouse-Five</td>\n",
       "      <td>Banned Pending Investigation</td>\n",
       "      <td>Florida</td>\n",
       "      <td>Brevard public schools</td>\n",
       "      <td>Administrator</td>\n",
       "      <td>2.0</td>\n",
       "      <td>1200150.0</td>\n",
       "      <td>41440</td>\n",
       "      <td>61.0</td>\n",
       "      <td>54.323556</td>\n",
       "      <td>42.0</td>\n",
       "      <td>2022</td>\n",
       "      <td>6.676444</td>\n",
       "      <td>False</td>\n",
       "      <td>True</td>\n",
       "    </tr>\n",
       "    <tr>\n",
       "      <th>1747</th>\n",
       "      <td>Scheeres, Julia</td>\n",
       "      <td>Jesus Land: A Memoir</td>\n",
       "      <td>Banned Pending Investigation</td>\n",
       "      <td>Florida</td>\n",
       "      <td>Brevard public schools</td>\n",
       "      <td>Administrator</td>\n",
       "      <td>2.0</td>\n",
       "      <td>1200150.0</td>\n",
       "      <td>41440</td>\n",
       "      <td>61.0</td>\n",
       "      <td>54.323556</td>\n",
       "      <td>42.0</td>\n",
       "      <td>2022</td>\n",
       "      <td>6.676444</td>\n",
       "      <td>False</td>\n",
       "      <td>True</td>\n",
       "    </tr>\n",
       "    <tr>\n",
       "      <th>1748</th>\n",
       "      <td>Maas, Sarah J.</td>\n",
       "      <td>A Court of Thorns and Roses (A Court of Thorns...</td>\n",
       "      <td>Banned Pending Investigation</td>\n",
       "      <td>Florida</td>\n",
       "      <td>Brevard public schools</td>\n",
       "      <td>Administrator</td>\n",
       "      <td>2.0</td>\n",
       "      <td>1200150.0</td>\n",
       "      <td>41440</td>\n",
       "      <td>61.0</td>\n",
       "      <td>54.323556</td>\n",
       "      <td>42.0</td>\n",
       "      <td>2022</td>\n",
       "      <td>6.676444</td>\n",
       "      <td>False</td>\n",
       "      <td>True</td>\n",
       "    </tr>\n",
       "    <tr>\n",
       "      <th>1749</th>\n",
       "      <td>Maas, Sarah J.</td>\n",
       "      <td>A ​Court of Silver Flames (A Court of Thorns a...</td>\n",
       "      <td>Banned Pending Investigation</td>\n",
       "      <td>Florida</td>\n",
       "      <td>Brevard public schools</td>\n",
       "      <td>Administrator</td>\n",
       "      <td>2.0</td>\n",
       "      <td>1200150.0</td>\n",
       "      <td>41440</td>\n",
       "      <td>61.0</td>\n",
       "      <td>54.323556</td>\n",
       "      <td>42.0</td>\n",
       "      <td>2022</td>\n",
       "      <td>6.676444</td>\n",
       "      <td>False</td>\n",
       "      <td>True</td>\n",
       "    </tr>\n",
       "    <tr>\n",
       "      <th>1750</th>\n",
       "      <td>Smyth, Ciara</td>\n",
       "      <td>Not My Problem</td>\n",
       "      <td>Banned Pending Investigation</td>\n",
       "      <td>Florida</td>\n",
       "      <td>Brevard public schools</td>\n",
       "      <td>Administrator</td>\n",
       "      <td>2.0</td>\n",
       "      <td>1200150.0</td>\n",
       "      <td>41440</td>\n",
       "      <td>61.0</td>\n",
       "      <td>54.323556</td>\n",
       "      <td>42.0</td>\n",
       "      <td>2022</td>\n",
       "      <td>6.676444</td>\n",
       "      <td>False</td>\n",
       "      <td>True</td>\n",
       "    </tr>\n",
       "    <tr>\n",
       "      <th>1751</th>\n",
       "      <td>Niven, Jennifer</td>\n",
       "      <td>Breathless</td>\n",
       "      <td>Banned Pending Investigation</td>\n",
       "      <td>Florida</td>\n",
       "      <td>Brevard public schools</td>\n",
       "      <td>Administrator</td>\n",
       "      <td>1.0</td>\n",
       "      <td>1200150.0</td>\n",
       "      <td>41440</td>\n",
       "      <td>61.0</td>\n",
       "      <td>54.323556</td>\n",
       "      <td>42.0</td>\n",
       "      <td>2022</td>\n",
       "      <td>6.676444</td>\n",
       "      <td>False</td>\n",
       "      <td>True</td>\n",
       "    </tr>\n",
       "    <tr>\n",
       "      <th>1752</th>\n",
       "      <td>Reed, Amy</td>\n",
       "      <td>Beautiful</td>\n",
       "      <td>Banned Pending Investigation</td>\n",
       "      <td>Florida</td>\n",
       "      <td>Brevard public schools</td>\n",
       "      <td>Administrator</td>\n",
       "      <td>1.0</td>\n",
       "      <td>1200150.0</td>\n",
       "      <td>41440</td>\n",
       "      <td>61.0</td>\n",
       "      <td>54.323556</td>\n",
       "      <td>42.0</td>\n",
       "      <td>2022</td>\n",
       "      <td>6.676444</td>\n",
       "      <td>False</td>\n",
       "      <td>True</td>\n",
       "    </tr>\n",
       "    <tr>\n",
       "      <th>1753</th>\n",
       "      <td>Sapphire</td>\n",
       "      <td>Push</td>\n",
       "      <td>Banned Pending Investigation</td>\n",
       "      <td>Florida</td>\n",
       "      <td>Brevard public schools</td>\n",
       "      <td>Administrator</td>\n",
       "      <td>1.0</td>\n",
       "      <td>1200150.0</td>\n",
       "      <td>41440</td>\n",
       "      <td>61.0</td>\n",
       "      <td>54.323556</td>\n",
       "      <td>42.0</td>\n",
       "      <td>2022</td>\n",
       "      <td>6.676444</td>\n",
       "      <td>False</td>\n",
       "      <td>True</td>\n",
       "    </tr>\n",
       "    <tr>\n",
       "      <th>1754</th>\n",
       "      <td>Arnold, Elana K.</td>\n",
       "      <td>Red Hood</td>\n",
       "      <td>Banned Pending Investigation</td>\n",
       "      <td>Florida</td>\n",
       "      <td>Brevard public schools</td>\n",
       "      <td>Administrator</td>\n",
       "      <td>1.0</td>\n",
       "      <td>1200150.0</td>\n",
       "      <td>41440</td>\n",
       "      <td>61.0</td>\n",
       "      <td>54.323556</td>\n",
       "      <td>42.0</td>\n",
       "      <td>2022</td>\n",
       "      <td>6.676444</td>\n",
       "      <td>False</td>\n",
       "      <td>True</td>\n",
       "    </tr>\n",
       "    <tr>\n",
       "      <th>1755</th>\n",
       "      <td>Arnold, Elana K.</td>\n",
       "      <td>Damsel</td>\n",
       "      <td>Banned Pending Investigation</td>\n",
       "      <td>Florida</td>\n",
       "      <td>Brevard public schools</td>\n",
       "      <td>Administrator</td>\n",
       "      <td>1.0</td>\n",
       "      <td>1200150.0</td>\n",
       "      <td>41440</td>\n",
       "      <td>61.0</td>\n",
       "      <td>54.323556</td>\n",
       "      <td>42.0</td>\n",
       "      <td>2022</td>\n",
       "      <td>6.676444</td>\n",
       "      <td>False</td>\n",
       "      <td>True</td>\n",
       "    </tr>\n",
       "    <tr>\n",
       "      <th>1756</th>\n",
       "      <td>Maas, Sarah J.</td>\n",
       "      <td>A Court of Wings and Ruin (A Court of Thorns a...</td>\n",
       "      <td>Banned Pending Investigation</td>\n",
       "      <td>Florida</td>\n",
       "      <td>Brevard public schools</td>\n",
       "      <td>Administrator</td>\n",
       "      <td>1.0</td>\n",
       "      <td>1200150.0</td>\n",
       "      <td>41440</td>\n",
       "      <td>61.0</td>\n",
       "      <td>54.323556</td>\n",
       "      <td>42.0</td>\n",
       "      <td>2022</td>\n",
       "      <td>6.676444</td>\n",
       "      <td>False</td>\n",
       "      <td>True</td>\n",
       "    </tr>\n",
       "    <tr>\n",
       "      <th>1757</th>\n",
       "      <td>Maas, Sarah J.</td>\n",
       "      <td>Empire of Storms (Throne of Glass Series)</td>\n",
       "      <td>Banned Pending Investigation</td>\n",
       "      <td>Florida</td>\n",
       "      <td>Brevard public schools</td>\n",
       "      <td>Administrator</td>\n",
       "      <td>1.0</td>\n",
       "      <td>1200150.0</td>\n",
       "      <td>41440</td>\n",
       "      <td>61.0</td>\n",
       "      <td>54.323556</td>\n",
       "      <td>42.0</td>\n",
       "      <td>2022</td>\n",
       "      <td>6.676444</td>\n",
       "      <td>False</td>\n",
       "      <td>True</td>\n",
       "    </tr>\n",
       "    <tr>\n",
       "      <th>1758</th>\n",
       "      <td>Maas, Sarah J.</td>\n",
       "      <td>House of Sky and Breath (Crescent City Series)</td>\n",
       "      <td>Banned Pending Investigation</td>\n",
       "      <td>Florida</td>\n",
       "      <td>Brevard public schools</td>\n",
       "      <td>Administrator</td>\n",
       "      <td>1.0</td>\n",
       "      <td>1200150.0</td>\n",
       "      <td>41440</td>\n",
       "      <td>61.0</td>\n",
       "      <td>54.323556</td>\n",
       "      <td>42.0</td>\n",
       "      <td>2022</td>\n",
       "      <td>6.676444</td>\n",
       "      <td>False</td>\n",
       "      <td>True</td>\n",
       "    </tr>\n",
       "    <tr>\n",
       "      <th>1759</th>\n",
       "      <td>Maas, Sarah J.</td>\n",
       "      <td>House of Earth and Blood (Crescent City Series)</td>\n",
       "      <td>Banned Pending Investigation</td>\n",
       "      <td>Florida</td>\n",
       "      <td>Brevard public schools</td>\n",
       "      <td>Administrator</td>\n",
       "      <td>1.0</td>\n",
       "      <td>1200150.0</td>\n",
       "      <td>41440</td>\n",
       "      <td>61.0</td>\n",
       "      <td>54.323556</td>\n",
       "      <td>42.0</td>\n",
       "      <td>2022</td>\n",
       "      <td>6.676444</td>\n",
       "      <td>False</td>\n",
       "      <td>True</td>\n",
       "    </tr>\n",
       "    <tr>\n",
       "      <th>1760</th>\n",
       "      <td>Kepnes, Caroline</td>\n",
       "      <td>You: A Novel of Dark Obsession (You Series)</td>\n",
       "      <td>Banned Pending Investigation</td>\n",
       "      <td>Florida</td>\n",
       "      <td>Brevard public schools</td>\n",
       "      <td>Administrator</td>\n",
       "      <td>1.0</td>\n",
       "      <td>1200150.0</td>\n",
       "      <td>41440</td>\n",
       "      <td>61.0</td>\n",
       "      <td>54.323556</td>\n",
       "      <td>42.0</td>\n",
       "      <td>2022</td>\n",
       "      <td>6.676444</td>\n",
       "      <td>False</td>\n",
       "      <td>True</td>\n",
       "    </tr>\n",
       "  </tbody>\n",
       "</table>\n",
       "</div>"
      ],
      "text/plain": [
       "                   Author                                              Title  \\\n",
       "1719         Kobabe, Maia                             Gender Queer: A Memoir   \n",
       "1720   Johnson, George M.                               All Boys Aren't Blue   \n",
       "1721   Pérez, Ashley Hope                                    Out of Darkness   \n",
       "1722       Hopkins, Ellen                               Crank (Crank Series)   \n",
       "1723     Hosseini, Khaled                                    The Kite Runner   \n",
       "1724       Tamaki, Mariko                                    This One Summer   \n",
       "1725         Dawson, Juno                                   This Book Is Gay   \n",
       "1726     Chbosky, Stephen                    The Perks of Being a Wallflower   \n",
       "1727       Hopkins, Ellen                             Tricks (Tricks Series)   \n",
       "1728       Maas, Sarah J.  A Court of Mist and Fury (A Court of Thorns an...   \n",
       "1729  Jackson, Tiffany D.                                Monday's Not Coming   \n",
       "1730  McCormick, Patricia                                               Sold   \n",
       "1731        Sebold, Alice                                              Lucky   \n",
       "1732      Myracle, Lauren                          The Infinite Moment of Us   \n",
       "1733          Blume, Judy                                         Forever...   \n",
       "1734     Scott, Elizabeth                                   Living Dead Girl   \n",
       "1735       Hopkins, Ellen                                          Triangles   \n",
       "1736       Maas, Sarah J.  A Court of Frost and Starlight (A Court of Tho...   \n",
       "1737       Andrews, Jesse                                         The Haters   \n",
       "1738           Kaur, Rupi                                     Milk and Honey   \n",
       "1739            Reed, Amy                                  The Nowhere Girls   \n",
       "1740     Arnold, Elana K.                             What Girls Are Made Of   \n",
       "1741          Lo, Malinda                   Last Night at the Telegraph Club   \n",
       "1742       Hopkins, Ellen                                 People Kill People   \n",
       "1743       Hopkins, Ellen                                               Tilt   \n",
       "1744        Rooney, Sally                                      Normal People   \n",
       "1745     Arnold, Elana K.                                          Infandous   \n",
       "1746   Vonnegut Jr., Kurt                                Slaughterhouse-Five   \n",
       "1747      Scheeres, Julia                               Jesus Land: A Memoir   \n",
       "1748       Maas, Sarah J.  A Court of Thorns and Roses (A Court of Thorns...   \n",
       "1749       Maas, Sarah J.  A ​Court of Silver Flames (A Court of Thorns a...   \n",
       "1750         Smyth, Ciara                                     Not My Problem   \n",
       "1751      Niven, Jennifer                                         Breathless   \n",
       "1752            Reed, Amy                                          Beautiful   \n",
       "1753             Sapphire                                               Push   \n",
       "1754     Arnold, Elana K.                                           Red Hood   \n",
       "1755     Arnold, Elana K.                                             Damsel   \n",
       "1756       Maas, Sarah J.  A Court of Wings and Ruin (A Court of Thorns a...   \n",
       "1757       Maas, Sarah J.          Empire of Storms (Throne of Glass Series)   \n",
       "1758       Maas, Sarah J.     House of Sky and Breath (Crescent City Series)   \n",
       "1759       Maas, Sarah J.    House of Earth and Blood (Crescent City Series)   \n",
       "1760     Kepnes, Caroline        You: A Novel of Dark Obsession (You Series)   \n",
       "\n",
       "                             Type of Ban    State                District  \\\n",
       "1719  Banned in Libraries and Classrooms  Florida  Brevard public schools   \n",
       "1720        Banned Pending Investigation  Florida  Brevard public schools   \n",
       "1721        Banned Pending Investigation  Florida  Brevard public schools   \n",
       "1722        Banned Pending Investigation  Florida  Brevard public schools   \n",
       "1723        Banned Pending Investigation  Florida  Brevard public schools   \n",
       "1724        Banned Pending Investigation  Florida  Brevard public schools   \n",
       "1725        Banned Pending Investigation  Florida  Brevard public schools   \n",
       "1726        Banned Pending Investigation  Florida  Brevard public schools   \n",
       "1727        Banned Pending Investigation  Florida  Brevard public schools   \n",
       "1728        Banned Pending Investigation  Florida  Brevard public schools   \n",
       "1729        Banned Pending Investigation  Florida  Brevard public schools   \n",
       "1730        Banned Pending Investigation  Florida  Brevard public schools   \n",
       "1731        Banned Pending Investigation  Florida  Brevard public schools   \n",
       "1732        Banned Pending Investigation  Florida  Brevard public schools   \n",
       "1733        Banned Pending Investigation  Florida  Brevard public schools   \n",
       "1734        Banned Pending Investigation  Florida  Brevard public schools   \n",
       "1735        Banned Pending Investigation  Florida  Brevard public schools   \n",
       "1736        Banned Pending Investigation  Florida  Brevard public schools   \n",
       "1737        Banned Pending Investigation  Florida  Brevard public schools   \n",
       "1738        Banned Pending Investigation  Florida  Brevard public schools   \n",
       "1739        Banned Pending Investigation  Florida  Brevard public schools   \n",
       "1740        Banned Pending Investigation  Florida  Brevard public schools   \n",
       "1741        Banned Pending Investigation  Florida  Brevard public schools   \n",
       "1742        Banned Pending Investigation  Florida  Brevard public schools   \n",
       "1743        Banned Pending Investigation  Florida  Brevard public schools   \n",
       "1744        Banned Pending Investigation  Florida  Brevard public schools   \n",
       "1745        Banned Pending Investigation  Florida  Brevard public schools   \n",
       "1746        Banned Pending Investigation  Florida  Brevard public schools   \n",
       "1747        Banned Pending Investigation  Florida  Brevard public schools   \n",
       "1748        Banned Pending Investigation  Florida  Brevard public schools   \n",
       "1749        Banned Pending Investigation  Florida  Brevard public schools   \n",
       "1750        Banned Pending Investigation  Florida  Brevard public schools   \n",
       "1751        Banned Pending Investigation  Florida  Brevard public schools   \n",
       "1752        Banned Pending Investigation  Florida  Brevard public schools   \n",
       "1753        Banned Pending Investigation  Florida  Brevard public schools   \n",
       "1754        Banned Pending Investigation  Florida  Brevard public schools   \n",
       "1755        Banned Pending Investigation  Florida  Brevard public schools   \n",
       "1756        Banned Pending Investigation  Florida  Brevard public schools   \n",
       "1757        Banned Pending Investigation  Florida  Brevard public schools   \n",
       "1758        Banned Pending Investigation  Florida  Brevard public schools   \n",
       "1759        Banned Pending Investigation  Florida  Brevard public schools   \n",
       "1760        Banned Pending Investigation  Florida  Brevard public schools   \n",
       "\n",
       "     Origin of Challenge  Frequency         ID  Students_tested  \\\n",
       "1719       Administrator       41.0  1200150.0            41440   \n",
       "1720       Administrator       29.0  1200150.0            41440   \n",
       "1721       Administrator       24.0  1200150.0            41440   \n",
       "1722       Administrator       12.0  1200150.0            41440   \n",
       "1723       Administrator       12.0  1200150.0            41440   \n",
       "1724       Administrator       11.0  1200150.0            41440   \n",
       "1725       Administrator       11.0  1200150.0            41440   \n",
       "1726       Administrator        8.0  1200150.0            41440   \n",
       "1727       Administrator        8.0  1200150.0            41440   \n",
       "1728       Administrator        7.0  1200150.0            41440   \n",
       "1729       Administrator        7.0  1200150.0            41440   \n",
       "1730       Administrator        7.0  1200150.0            41440   \n",
       "1731       Administrator        6.0  1200150.0            41440   \n",
       "1732       Administrator        5.0  1200150.0            41440   \n",
       "1733       Administrator        4.0  1200150.0            41440   \n",
       "1734       Administrator        4.0  1200150.0            41440   \n",
       "1735       Administrator        4.0  1200150.0            41440   \n",
       "1736       Administrator        3.0  1200150.0            41440   \n",
       "1737       Administrator        3.0  1200150.0            41440   \n",
       "1738       Administrator        3.0  1200150.0            41440   \n",
       "1739       Administrator        3.0  1200150.0            41440   \n",
       "1740       Administrator        3.0  1200150.0            41440   \n",
       "1741       Administrator        2.0  1200150.0            41440   \n",
       "1742       Administrator        2.0  1200150.0            41440   \n",
       "1743       Administrator        2.0  1200150.0            41440   \n",
       "1744       Administrator        2.0  1200150.0            41440   \n",
       "1745       Administrator        2.0  1200150.0            41440   \n",
       "1746       Administrator        2.0  1200150.0            41440   \n",
       "1747       Administrator        2.0  1200150.0            41440   \n",
       "1748       Administrator        2.0  1200150.0            41440   \n",
       "1749       Administrator        2.0  1200150.0            41440   \n",
       "1750       Administrator        2.0  1200150.0            41440   \n",
       "1751       Administrator        1.0  1200150.0            41440   \n",
       "1752       Administrator        1.0  1200150.0            41440   \n",
       "1753       Administrator        1.0  1200150.0            41440   \n",
       "1754       Administrator        1.0  1200150.0            41440   \n",
       "1755       Administrator        1.0  1200150.0            41440   \n",
       "1756       Administrator        1.0  1200150.0            41440   \n",
       "1757       Administrator        1.0  1200150.0            41440   \n",
       "1758       Administrator        1.0  1200150.0            41440   \n",
       "1759       Administrator        1.0  1200150.0            41440   \n",
       "1760       Administrator        1.0  1200150.0            41440   \n",
       "\n",
       "      Reading_proficiency_rate  Average_proficiency  District_bans  Year  \\\n",
       "1719                      61.0            54.323556           42.0  2021   \n",
       "1720                      61.0            54.323556           42.0  2022   \n",
       "1721                      61.0            54.323556           42.0  2022   \n",
       "1722                      61.0            54.323556           42.0  2022   \n",
       "1723                      61.0            54.323556           42.0  2022   \n",
       "1724                      61.0            54.323556           42.0  2022   \n",
       "1725                      61.0            54.323556           42.0  2022   \n",
       "1726                      61.0            54.323556           42.0  2022   \n",
       "1727                      61.0            54.323556           42.0  2022   \n",
       "1728                      61.0            54.323556           42.0  2022   \n",
       "1729                      61.0            54.323556           42.0  2022   \n",
       "1730                      61.0            54.323556           42.0  2022   \n",
       "1731                      61.0            54.323556           42.0  2022   \n",
       "1732                      61.0            54.323556           42.0  2022   \n",
       "1733                      61.0            54.323556           42.0  2022   \n",
       "1734                      61.0            54.323556           42.0  2022   \n",
       "1735                      61.0            54.323556           42.0  2022   \n",
       "1736                      61.0            54.323556           42.0  2022   \n",
       "1737                      61.0            54.323556           42.0  2022   \n",
       "1738                      61.0            54.323556           42.0  2022   \n",
       "1739                      61.0            54.323556           42.0  2022   \n",
       "1740                      61.0            54.323556           42.0  2022   \n",
       "1741                      61.0            54.323556           42.0  2022   \n",
       "1742                      61.0            54.323556           42.0  2022   \n",
       "1743                      61.0            54.323556           42.0  2022   \n",
       "1744                      61.0            54.323556           42.0  2022   \n",
       "1745                      61.0            54.323556           42.0  2022   \n",
       "1746                      61.0            54.323556           42.0  2022   \n",
       "1747                      61.0            54.323556           42.0  2022   \n",
       "1748                      61.0            54.323556           42.0  2022   \n",
       "1749                      61.0            54.323556           42.0  2022   \n",
       "1750                      61.0            54.323556           42.0  2022   \n",
       "1751                      61.0            54.323556           42.0  2022   \n",
       "1752                      61.0            54.323556           42.0  2022   \n",
       "1753                      61.0            54.323556           42.0  2022   \n",
       "1754                      61.0            54.323556           42.0  2022   \n",
       "1755                      61.0            54.323556           42.0  2022   \n",
       "1756                      61.0            54.323556           42.0  2022   \n",
       "1757                      61.0            54.323556           42.0  2022   \n",
       "1758                      61.0            54.323556           42.0  2022   \n",
       "1759                      61.0            54.323556           42.0  2022   \n",
       "1760                      61.0            54.323556           42.0  2022   \n",
       "\n",
       "      Diff_from_mean  District_no_bans  District_has_bans  \n",
       "1719        6.676444             False               True  \n",
       "1720        6.676444             False               True  \n",
       "1721        6.676444             False               True  \n",
       "1722        6.676444             False               True  \n",
       "1723        6.676444             False               True  \n",
       "1724        6.676444             False               True  \n",
       "1725        6.676444             False               True  \n",
       "1726        6.676444             False               True  \n",
       "1727        6.676444             False               True  \n",
       "1728        6.676444             False               True  \n",
       "1729        6.676444             False               True  \n",
       "1730        6.676444             False               True  \n",
       "1731        6.676444             False               True  \n",
       "1732        6.676444             False               True  \n",
       "1733        6.676444             False               True  \n",
       "1734        6.676444             False               True  \n",
       "1735        6.676444             False               True  \n",
       "1736        6.676444             False               True  \n",
       "1737        6.676444             False               True  \n",
       "1738        6.676444             False               True  \n",
       "1739        6.676444             False               True  \n",
       "1740        6.676444             False               True  \n",
       "1741        6.676444             False               True  \n",
       "1742        6.676444             False               True  \n",
       "1743        6.676444             False               True  \n",
       "1744        6.676444             False               True  \n",
       "1745        6.676444             False               True  \n",
       "1746        6.676444             False               True  \n",
       "1747        6.676444             False               True  \n",
       "1748        6.676444             False               True  \n",
       "1749        6.676444             False               True  \n",
       "1750        6.676444             False               True  \n",
       "1751        6.676444             False               True  \n",
       "1752        6.676444             False               True  \n",
       "1753        6.676444             False               True  \n",
       "1754        6.676444             False               True  \n",
       "1755        6.676444             False               True  \n",
       "1756        6.676444             False               True  \n",
       "1757        6.676444             False               True  \n",
       "1758        6.676444             False               True  \n",
       "1759        6.676444             False               True  \n",
       "1760        6.676444             False               True  "
      ]
     },
     "execution_count": 649,
     "metadata": {},
     "output_type": "execute_result"
    }
   ],
   "source": [
    "clean_total[clean_total['District'].str.contains(\"Brevard\") & clean_total['State'].str.contains(\"Florida\")]"
   ]
  },
  {
   "cell_type": "markdown",
   "id": "8a129649",
   "metadata": {},
   "source": [
    "Correct!"
   ]
  },
  {
   "cell_type": "code",
   "execution_count": 650,
   "id": "facdc7fc",
   "metadata": {},
   "outputs": [
    {
     "data": {
      "text/html": [
       "<div>\n",
       "<style scoped>\n",
       "    .dataframe tbody tr th:only-of-type {\n",
       "        vertical-align: middle;\n",
       "    }\n",
       "\n",
       "    .dataframe tbody tr th {\n",
       "        vertical-align: top;\n",
       "    }\n",
       "\n",
       "    .dataframe thead th {\n",
       "        text-align: right;\n",
       "    }\n",
       "</style>\n",
       "<table border=\"1\" class=\"dataframe\">\n",
       "  <thead>\n",
       "    <tr style=\"text-align: right;\">\n",
       "      <th></th>\n",
       "      <th>Author</th>\n",
       "      <th>Title</th>\n",
       "      <th>Type of Ban</th>\n",
       "      <th>State</th>\n",
       "      <th>District</th>\n",
       "      <th>Origin of Challenge</th>\n",
       "      <th>Frequency</th>\n",
       "      <th>ID</th>\n",
       "      <th>Students_tested</th>\n",
       "      <th>Reading_proficiency_rate</th>\n",
       "      <th>Average_proficiency</th>\n",
       "      <th>District_bans</th>\n",
       "      <th>Year</th>\n",
       "      <th>Diff_from_mean</th>\n",
       "      <th>District_no_bans</th>\n",
       "      <th>District_has_bans</th>\n",
       "    </tr>\n",
       "  </thead>\n",
       "  <tbody>\n",
       "    <tr>\n",
       "      <th>2442</th>\n",
       "      <td>NaN</td>\n",
       "      <td>NaN</td>\n",
       "      <td>NaN</td>\n",
       "      <td>Georgia</td>\n",
       "      <td>Gwinnett county</td>\n",
       "      <td>NaN</td>\n",
       "      <td>0.0</td>\n",
       "      <td>1302550.0</td>\n",
       "      <td>91243</td>\n",
       "      <td>47.0</td>\n",
       "      <td>54.323556</td>\n",
       "      <td>0.0</td>\n",
       "      <td>2021</td>\n",
       "      <td>-7.323556</td>\n",
       "      <td>True</td>\n",
       "      <td>False</td>\n",
       "    </tr>\n",
       "  </tbody>\n",
       "</table>\n",
       "</div>"
      ],
      "text/plain": [
       "     Author Title Type of Ban    State         District Origin of Challenge  \\\n",
       "2442    NaN   NaN         NaN  Georgia  Gwinnett county                 NaN   \n",
       "\n",
       "      Frequency         ID  Students_tested  Reading_proficiency_rate  \\\n",
       "2442        0.0  1302550.0            91243                      47.0   \n",
       "\n",
       "      Average_proficiency  District_bans  Year  Diff_from_mean  \\\n",
       "2442            54.323556            0.0  2021       -7.323556   \n",
       "\n",
       "      District_no_bans  District_has_bans  \n",
       "2442              True              False  "
      ]
     },
     "execution_count": 650,
     "metadata": {},
     "output_type": "execute_result"
    }
   ],
   "source": [
    "clean_total[clean_total['District'].str.contains(\"Gwinnet\")]"
   ]
  },
  {
   "cell_type": "markdown",
   "id": "3aaf8ba0",
   "metadata": {},
   "source": [
    "Incorrect"
   ]
  },
  {
   "cell_type": "code",
   "execution_count": 651,
   "id": "fd3a87d1",
   "metadata": {},
   "outputs": [
    {
     "data": {
      "text/html": [
       "<div>\n",
       "<style scoped>\n",
       "    .dataframe tbody tr th:only-of-type {\n",
       "        vertical-align: middle;\n",
       "    }\n",
       "\n",
       "    .dataframe tbody tr th {\n",
       "        vertical-align: top;\n",
       "    }\n",
       "\n",
       "    .dataframe thead th {\n",
       "        text-align: right;\n",
       "    }\n",
       "</style>\n",
       "<table border=\"1\" class=\"dataframe\">\n",
       "  <thead>\n",
       "    <tr style=\"text-align: right;\">\n",
       "      <th></th>\n",
       "      <th>Author</th>\n",
       "      <th>Title</th>\n",
       "      <th>Type of Ban</th>\n",
       "      <th>State</th>\n",
       "      <th>District</th>\n",
       "      <th>Origin of Challenge</th>\n",
       "      <th>Frequency</th>\n",
       "      <th>ID</th>\n",
       "      <th>Students_tested</th>\n",
       "      <th>Reading_proficiency_rate</th>\n",
       "      <th>Average_proficiency</th>\n",
       "      <th>District_bans</th>\n",
       "      <th>Year</th>\n",
       "      <th>Diff_from_mean</th>\n",
       "      <th>District_no_bans</th>\n",
       "      <th>District_has_bans</th>\n",
       "    </tr>\n",
       "  </thead>\n",
       "  <tbody>\n",
       "    <tr>\n",
       "      <th>11312</th>\n",
       "      <td>NaN</td>\n",
       "      <td>NaN</td>\n",
       "      <td>NaN</td>\n",
       "      <td>Texas</td>\n",
       "      <td>Dallas isd</td>\n",
       "      <td>NaN</td>\n",
       "      <td>0.0</td>\n",
       "      <td>4816230.0</td>\n",
       "      <td>101727</td>\n",
       "      <td>63.0</td>\n",
       "      <td>54.323556</td>\n",
       "      <td>0.0</td>\n",
       "      <td>2021</td>\n",
       "      <td>8.676444</td>\n",
       "      <td>True</td>\n",
       "      <td>False</td>\n",
       "    </tr>\n",
       "  </tbody>\n",
       "</table>\n",
       "</div>"
      ],
      "text/plain": [
       "      Author Title Type of Ban  State    District Origin of Challenge  \\\n",
       "11312    NaN   NaN         NaN  Texas  Dallas isd                 NaN   \n",
       "\n",
       "       Frequency         ID  Students_tested  Reading_proficiency_rate  \\\n",
       "11312        0.0  4816230.0           101727                      63.0   \n",
       "\n",
       "       Average_proficiency  District_bans  Year  Diff_from_mean  \\\n",
       "11312            54.323556            0.0  2021        8.676444   \n",
       "\n",
       "       District_no_bans  District_has_bans  \n",
       "11312              True              False  "
      ]
     },
     "execution_count": 651,
     "metadata": {},
     "output_type": "execute_result"
    }
   ],
   "source": [
    "clean_total[clean_total['District'].str.contains(\"Dallas\") & clean_total['State'].str.contains(\"Texas\")]"
   ]
  },
  {
   "cell_type": "markdown",
   "id": "16434947",
   "metadata": {},
   "source": [
    "Incorrect"
   ]
  },
  {
   "cell_type": "code",
   "execution_count": 652,
   "id": "759e02de",
   "metadata": {},
   "outputs": [
    {
     "data": {
      "text/html": [
       "<div>\n",
       "<style scoped>\n",
       "    .dataframe tbody tr th:only-of-type {\n",
       "        vertical-align: middle;\n",
       "    }\n",
       "\n",
       "    .dataframe tbody tr th {\n",
       "        vertical-align: top;\n",
       "    }\n",
       "\n",
       "    .dataframe thead th {\n",
       "        text-align: right;\n",
       "    }\n",
       "</style>\n",
       "<table border=\"1\" class=\"dataframe\">\n",
       "  <thead>\n",
       "    <tr style=\"text-align: right;\">\n",
       "      <th></th>\n",
       "      <th>Author</th>\n",
       "      <th>Title</th>\n",
       "      <th>Type of Ban</th>\n",
       "      <th>State</th>\n",
       "      <th>District</th>\n",
       "      <th>Origin of Challenge</th>\n",
       "      <th>Frequency</th>\n",
       "      <th>ID</th>\n",
       "      <th>Students_tested</th>\n",
       "      <th>Reading_proficiency_rate</th>\n",
       "      <th>Average_proficiency</th>\n",
       "      <th>District_bans</th>\n",
       "      <th>Year</th>\n",
       "      <th>Diff_from_mean</th>\n",
       "      <th>District_no_bans</th>\n",
       "      <th>District_has_bans</th>\n",
       "    </tr>\n",
       "  </thead>\n",
       "  <tbody>\n",
       "    <tr>\n",
       "      <th>7205</th>\n",
       "      <td>NaN</td>\n",
       "      <td>NaN</td>\n",
       "      <td>NaN</td>\n",
       "      <td>New york</td>\n",
       "      <td>New york city geographic district # 1</td>\n",
       "      <td>NaN</td>\n",
       "      <td>0.0</td>\n",
       "      <td>3600076.0</td>\n",
       "      <td>5278</td>\n",
       "      <td>48.0</td>\n",
       "      <td>54.323556</td>\n",
       "      <td>0.0</td>\n",
       "      <td>2021</td>\n",
       "      <td>-6.323556</td>\n",
       "      <td>True</td>\n",
       "      <td>False</td>\n",
       "    </tr>\n",
       "    <tr>\n",
       "      <th>7206</th>\n",
       "      <td>NaN</td>\n",
       "      <td>NaN</td>\n",
       "      <td>NaN</td>\n",
       "      <td>New york</td>\n",
       "      <td>New york city geographic district # 2</td>\n",
       "      <td>NaN</td>\n",
       "      <td>0.0</td>\n",
       "      <td>3600077.0</td>\n",
       "      <td>22292</td>\n",
       "      <td>71.0</td>\n",
       "      <td>54.323556</td>\n",
       "      <td>0.0</td>\n",
       "      <td>2021</td>\n",
       "      <td>16.676444</td>\n",
       "      <td>True</td>\n",
       "      <td>False</td>\n",
       "    </tr>\n",
       "    <tr>\n",
       "      <th>7207</th>\n",
       "      <td>NaN</td>\n",
       "      <td>NaN</td>\n",
       "      <td>NaN</td>\n",
       "      <td>New york</td>\n",
       "      <td>New york city geographic district # 3</td>\n",
       "      <td>NaN</td>\n",
       "      <td>0.0</td>\n",
       "      <td>3600078.0</td>\n",
       "      <td>9826</td>\n",
       "      <td>59.0</td>\n",
       "      <td>54.323556</td>\n",
       "      <td>0.0</td>\n",
       "      <td>2021</td>\n",
       "      <td>4.676444</td>\n",
       "      <td>True</td>\n",
       "      <td>False</td>\n",
       "    </tr>\n",
       "    <tr>\n",
       "      <th>7208</th>\n",
       "      <td>NaN</td>\n",
       "      <td>NaN</td>\n",
       "      <td>NaN</td>\n",
       "      <td>New york</td>\n",
       "      <td>New york city geographic district # 4</td>\n",
       "      <td>NaN</td>\n",
       "      <td>0.0</td>\n",
       "      <td>3600079.0</td>\n",
       "      <td>6742</td>\n",
       "      <td>33.0</td>\n",
       "      <td>54.323556</td>\n",
       "      <td>0.0</td>\n",
       "      <td>2021</td>\n",
       "      <td>-21.323556</td>\n",
       "      <td>True</td>\n",
       "      <td>False</td>\n",
       "    </tr>\n",
       "    <tr>\n",
       "      <th>7209</th>\n",
       "      <td>NaN</td>\n",
       "      <td>NaN</td>\n",
       "      <td>NaN</td>\n",
       "      <td>New york</td>\n",
       "      <td>New york city geographic district # 5</td>\n",
       "      <td>NaN</td>\n",
       "      <td>0.0</td>\n",
       "      <td>3600081.0</td>\n",
       "      <td>6162</td>\n",
       "      <td>28.0</td>\n",
       "      <td>54.323556</td>\n",
       "      <td>0.0</td>\n",
       "      <td>2021</td>\n",
       "      <td>-26.323556</td>\n",
       "      <td>True</td>\n",
       "      <td>False</td>\n",
       "    </tr>\n",
       "    <tr>\n",
       "      <th>7210</th>\n",
       "      <td>NaN</td>\n",
       "      <td>NaN</td>\n",
       "      <td>NaN</td>\n",
       "      <td>New york</td>\n",
       "      <td>New york city geographic district # 6</td>\n",
       "      <td>NaN</td>\n",
       "      <td>0.0</td>\n",
       "      <td>3600083.0</td>\n",
       "      <td>11583</td>\n",
       "      <td>26.0</td>\n",
       "      <td>54.323556</td>\n",
       "      <td>0.0</td>\n",
       "      <td>2021</td>\n",
       "      <td>-28.323556</td>\n",
       "      <td>True</td>\n",
       "      <td>False</td>\n",
       "    </tr>\n",
       "    <tr>\n",
       "      <th>7211</th>\n",
       "      <td>NaN</td>\n",
       "      <td>NaN</td>\n",
       "      <td>NaN</td>\n",
       "      <td>New york</td>\n",
       "      <td>New york city geographic district # 7</td>\n",
       "      <td>NaN</td>\n",
       "      <td>0.0</td>\n",
       "      <td>3600084.0</td>\n",
       "      <td>9224</td>\n",
       "      <td>23.0</td>\n",
       "      <td>54.323556</td>\n",
       "      <td>0.0</td>\n",
       "      <td>2021</td>\n",
       "      <td>-31.323556</td>\n",
       "      <td>True</td>\n",
       "      <td>False</td>\n",
       "    </tr>\n",
       "    <tr>\n",
       "      <th>7212</th>\n",
       "      <td>NaN</td>\n",
       "      <td>NaN</td>\n",
       "      <td>NaN</td>\n",
       "      <td>New york</td>\n",
       "      <td>New york city geographic district # 8</td>\n",
       "      <td>NaN</td>\n",
       "      <td>0.0</td>\n",
       "      <td>3600085.0</td>\n",
       "      <td>14493</td>\n",
       "      <td>27.0</td>\n",
       "      <td>54.323556</td>\n",
       "      <td>0.0</td>\n",
       "      <td>2021</td>\n",
       "      <td>-27.323556</td>\n",
       "      <td>True</td>\n",
       "      <td>False</td>\n",
       "    </tr>\n",
       "    <tr>\n",
       "      <th>7213</th>\n",
       "      <td>NaN</td>\n",
       "      <td>NaN</td>\n",
       "      <td>NaN</td>\n",
       "      <td>New york</td>\n",
       "      <td>New york city geographic district # 9</td>\n",
       "      <td>NaN</td>\n",
       "      <td>0.0</td>\n",
       "      <td>3600086.0</td>\n",
       "      <td>18838</td>\n",
       "      <td>22.0</td>\n",
       "      <td>54.323556</td>\n",
       "      <td>0.0</td>\n",
       "      <td>2021</td>\n",
       "      <td>-32.323556</td>\n",
       "      <td>True</td>\n",
       "      <td>False</td>\n",
       "    </tr>\n",
       "    <tr>\n",
       "      <th>7214</th>\n",
       "      <td>NaN</td>\n",
       "      <td>NaN</td>\n",
       "      <td>NaN</td>\n",
       "      <td>New york</td>\n",
       "      <td>New york city geographic district #10</td>\n",
       "      <td>NaN</td>\n",
       "      <td>0.0</td>\n",
       "      <td>3600087.0</td>\n",
       "      <td>26943</td>\n",
       "      <td>28.0</td>\n",
       "      <td>54.323556</td>\n",
       "      <td>0.0</td>\n",
       "      <td>2021</td>\n",
       "      <td>-26.323556</td>\n",
       "      <td>True</td>\n",
       "      <td>False</td>\n",
       "    </tr>\n",
       "    <tr>\n",
       "      <th>7215</th>\n",
       "      <td>NaN</td>\n",
       "      <td>NaN</td>\n",
       "      <td>NaN</td>\n",
       "      <td>New york</td>\n",
       "      <td>New york city geographic district #11</td>\n",
       "      <td>NaN</td>\n",
       "      <td>0.0</td>\n",
       "      <td>3600088.0</td>\n",
       "      <td>20874</td>\n",
       "      <td>29.0</td>\n",
       "      <td>54.323556</td>\n",
       "      <td>0.0</td>\n",
       "      <td>2021</td>\n",
       "      <td>-25.323556</td>\n",
       "      <td>True</td>\n",
       "      <td>False</td>\n",
       "    </tr>\n",
       "    <tr>\n",
       "      <th>7216</th>\n",
       "      <td>NaN</td>\n",
       "      <td>NaN</td>\n",
       "      <td>NaN</td>\n",
       "      <td>New york</td>\n",
       "      <td>New york city geographic district #12</td>\n",
       "      <td>NaN</td>\n",
       "      <td>0.0</td>\n",
       "      <td>3600090.0</td>\n",
       "      <td>11931</td>\n",
       "      <td>22.0</td>\n",
       "      <td>54.323556</td>\n",
       "      <td>0.0</td>\n",
       "      <td>2021</td>\n",
       "      <td>-32.323556</td>\n",
       "      <td>True</td>\n",
       "      <td>False</td>\n",
       "    </tr>\n",
       "    <tr>\n",
       "      <th>7217</th>\n",
       "      <td>NaN</td>\n",
       "      <td>NaN</td>\n",
       "      <td>NaN</td>\n",
       "      <td>New york</td>\n",
       "      <td>New york city geographic district #13</td>\n",
       "      <td>NaN</td>\n",
       "      <td>0.0</td>\n",
       "      <td>3600091.0</td>\n",
       "      <td>7856</td>\n",
       "      <td>50.0</td>\n",
       "      <td>54.323556</td>\n",
       "      <td>0.0</td>\n",
       "      <td>2021</td>\n",
       "      <td>-4.323556</td>\n",
       "      <td>True</td>\n",
       "      <td>False</td>\n",
       "    </tr>\n",
       "    <tr>\n",
       "      <th>7218</th>\n",
       "      <td>NaN</td>\n",
       "      <td>NaN</td>\n",
       "      <td>NaN</td>\n",
       "      <td>New york</td>\n",
       "      <td>New york city geographic district #15</td>\n",
       "      <td>NaN</td>\n",
       "      <td>0.0</td>\n",
       "      <td>3600092.0</td>\n",
       "      <td>13051</td>\n",
       "      <td>48.0</td>\n",
       "      <td>54.323556</td>\n",
       "      <td>0.0</td>\n",
       "      <td>2021</td>\n",
       "      <td>-6.323556</td>\n",
       "      <td>True</td>\n",
       "      <td>False</td>\n",
       "    </tr>\n",
       "    <tr>\n",
       "      <th>7219</th>\n",
       "      <td>NaN</td>\n",
       "      <td>NaN</td>\n",
       "      <td>NaN</td>\n",
       "      <td>New york</td>\n",
       "      <td>New york city geographic district #16</td>\n",
       "      <td>NaN</td>\n",
       "      <td>0.0</td>\n",
       "      <td>3600094.0</td>\n",
       "      <td>3836</td>\n",
       "      <td>26.0</td>\n",
       "      <td>54.323556</td>\n",
       "      <td>0.0</td>\n",
       "      <td>2021</td>\n",
       "      <td>-28.323556</td>\n",
       "      <td>True</td>\n",
       "      <td>False</td>\n",
       "    </tr>\n",
       "    <tr>\n",
       "      <th>7220</th>\n",
       "      <td>NaN</td>\n",
       "      <td>NaN</td>\n",
       "      <td>NaN</td>\n",
       "      <td>New york</td>\n",
       "      <td>New york city geographic district #17</td>\n",
       "      <td>NaN</td>\n",
       "      <td>0.0</td>\n",
       "      <td>3600095.0</td>\n",
       "      <td>11789</td>\n",
       "      <td>33.0</td>\n",
       "      <td>54.323556</td>\n",
       "      <td>0.0</td>\n",
       "      <td>2021</td>\n",
       "      <td>-21.323556</td>\n",
       "      <td>True</td>\n",
       "      <td>False</td>\n",
       "    </tr>\n",
       "    <tr>\n",
       "      <th>7221</th>\n",
       "      <td>NaN</td>\n",
       "      <td>NaN</td>\n",
       "      <td>NaN</td>\n",
       "      <td>New york</td>\n",
       "      <td>New york city geographic district #18</td>\n",
       "      <td>NaN</td>\n",
       "      <td>0.0</td>\n",
       "      <td>3600096.0</td>\n",
       "      <td>8804</td>\n",
       "      <td>32.0</td>\n",
       "      <td>54.323556</td>\n",
       "      <td>0.0</td>\n",
       "      <td>2021</td>\n",
       "      <td>-22.323556</td>\n",
       "      <td>True</td>\n",
       "      <td>False</td>\n",
       "    </tr>\n",
       "    <tr>\n",
       "      <th>7222</th>\n",
       "      <td>NaN</td>\n",
       "      <td>NaN</td>\n",
       "      <td>NaN</td>\n",
       "      <td>New york</td>\n",
       "      <td>New york city geographic district #32</td>\n",
       "      <td>NaN</td>\n",
       "      <td>0.0</td>\n",
       "      <td>3600097.0</td>\n",
       "      <td>7212</td>\n",
       "      <td>25.0</td>\n",
       "      <td>54.323556</td>\n",
       "      <td>0.0</td>\n",
       "      <td>2021</td>\n",
       "      <td>-29.323556</td>\n",
       "      <td>True</td>\n",
       "      <td>False</td>\n",
       "    </tr>\n",
       "    <tr>\n",
       "      <th>7223</th>\n",
       "      <td>NaN</td>\n",
       "      <td>NaN</td>\n",
       "      <td>NaN</td>\n",
       "      <td>New york</td>\n",
       "      <td>New york city geographic district #24</td>\n",
       "      <td>NaN</td>\n",
       "      <td>0.0</td>\n",
       "      <td>3600098.0</td>\n",
       "      <td>29642</td>\n",
       "      <td>40.0</td>\n",
       "      <td>54.323556</td>\n",
       "      <td>0.0</td>\n",
       "      <td>2021</td>\n",
       "      <td>-14.323556</td>\n",
       "      <td>True</td>\n",
       "      <td>False</td>\n",
       "    </tr>\n",
       "    <tr>\n",
       "      <th>7224</th>\n",
       "      <td>NaN</td>\n",
       "      <td>NaN</td>\n",
       "      <td>NaN</td>\n",
       "      <td>New york</td>\n",
       "      <td>New york city geographic district #26</td>\n",
       "      <td>NaN</td>\n",
       "      <td>0.0</td>\n",
       "      <td>3600099.0</td>\n",
       "      <td>13964</td>\n",
       "      <td>67.0</td>\n",
       "      <td>54.323556</td>\n",
       "      <td>0.0</td>\n",
       "      <td>2021</td>\n",
       "      <td>12.676444</td>\n",
       "      <td>True</td>\n",
       "      <td>False</td>\n",
       "    </tr>\n",
       "    <tr>\n",
       "      <th>7225</th>\n",
       "      <td>NaN</td>\n",
       "      <td>NaN</td>\n",
       "      <td>NaN</td>\n",
       "      <td>New york</td>\n",
       "      <td>New york city geographic district #28</td>\n",
       "      <td>NaN</td>\n",
       "      <td>0.0</td>\n",
       "      <td>3600100.0</td>\n",
       "      <td>18353</td>\n",
       "      <td>47.0</td>\n",
       "      <td>54.323556</td>\n",
       "      <td>0.0</td>\n",
       "      <td>2021</td>\n",
       "      <td>-7.323556</td>\n",
       "      <td>True</td>\n",
       "      <td>False</td>\n",
       "    </tr>\n",
       "    <tr>\n",
       "      <th>7226</th>\n",
       "      <td>NaN</td>\n",
       "      <td>NaN</td>\n",
       "      <td>NaN</td>\n",
       "      <td>New york</td>\n",
       "      <td>New york city geographic district #29</td>\n",
       "      <td>NaN</td>\n",
       "      <td>0.0</td>\n",
       "      <td>3600101.0</td>\n",
       "      <td>15183</td>\n",
       "      <td>30.0</td>\n",
       "      <td>54.323556</td>\n",
       "      <td>0.0</td>\n",
       "      <td>2021</td>\n",
       "      <td>-24.323556</td>\n",
       "      <td>True</td>\n",
       "      <td>False</td>\n",
       "    </tr>\n",
       "    <tr>\n",
       "      <th>7227</th>\n",
       "      <td>NaN</td>\n",
       "      <td>NaN</td>\n",
       "      <td>NaN</td>\n",
       "      <td>New york</td>\n",
       "      <td>New york city geographic district #30</td>\n",
       "      <td>NaN</td>\n",
       "      <td>0.0</td>\n",
       "      <td>3600102.0</td>\n",
       "      <td>20711</td>\n",
       "      <td>41.0</td>\n",
       "      <td>54.323556</td>\n",
       "      <td>0.0</td>\n",
       "      <td>2021</td>\n",
       "      <td>-13.323556</td>\n",
       "      <td>True</td>\n",
       "      <td>False</td>\n",
       "    </tr>\n",
       "    <tr>\n",
       "      <th>7228</th>\n",
       "      <td>NaN</td>\n",
       "      <td>NaN</td>\n",
       "      <td>NaN</td>\n",
       "      <td>New york</td>\n",
       "      <td>New york city geographic district #31</td>\n",
       "      <td>NaN</td>\n",
       "      <td>0.0</td>\n",
       "      <td>3600103.0</td>\n",
       "      <td>30523</td>\n",
       "      <td>45.0</td>\n",
       "      <td>54.323556</td>\n",
       "      <td>0.0</td>\n",
       "      <td>2021</td>\n",
       "      <td>-9.323556</td>\n",
       "      <td>True</td>\n",
       "      <td>False</td>\n",
       "    </tr>\n",
       "    <tr>\n",
       "      <th>7235</th>\n",
       "      <td>NaN</td>\n",
       "      <td>NaN</td>\n",
       "      <td>NaN</td>\n",
       "      <td>New york</td>\n",
       "      <td>New york city geographic district #14</td>\n",
       "      <td>NaN</td>\n",
       "      <td>0.0</td>\n",
       "      <td>3600119.0</td>\n",
       "      <td>8578</td>\n",
       "      <td>39.0</td>\n",
       "      <td>54.323556</td>\n",
       "      <td>0.0</td>\n",
       "      <td>2021</td>\n",
       "      <td>-15.323556</td>\n",
       "      <td>True</td>\n",
       "      <td>False</td>\n",
       "    </tr>\n",
       "    <tr>\n",
       "      <th>7236</th>\n",
       "      <td>NaN</td>\n",
       "      <td>NaN</td>\n",
       "      <td>NaN</td>\n",
       "      <td>New york</td>\n",
       "      <td>New york city geographic district #19</td>\n",
       "      <td>NaN</td>\n",
       "      <td>0.0</td>\n",
       "      <td>3600120.0</td>\n",
       "      <td>12125</td>\n",
       "      <td>24.0</td>\n",
       "      <td>54.323556</td>\n",
       "      <td>0.0</td>\n",
       "      <td>2021</td>\n",
       "      <td>-30.323556</td>\n",
       "      <td>True</td>\n",
       "      <td>False</td>\n",
       "    </tr>\n",
       "    <tr>\n",
       "      <th>7237</th>\n",
       "      <td>NaN</td>\n",
       "      <td>NaN</td>\n",
       "      <td>NaN</td>\n",
       "      <td>New york</td>\n",
       "      <td>New york city geographic district #23</td>\n",
       "      <td>NaN</td>\n",
       "      <td>0.0</td>\n",
       "      <td>3600121.0</td>\n",
       "      <td>5636</td>\n",
       "      <td>21.0</td>\n",
       "      <td>54.323556</td>\n",
       "      <td>0.0</td>\n",
       "      <td>2021</td>\n",
       "      <td>-33.323556</td>\n",
       "      <td>True</td>\n",
       "      <td>False</td>\n",
       "    </tr>\n",
       "    <tr>\n",
       "      <th>7238</th>\n",
       "      <td>NaN</td>\n",
       "      <td>NaN</td>\n",
       "      <td>NaN</td>\n",
       "      <td>New york</td>\n",
       "      <td>New york city geographic district #25</td>\n",
       "      <td>NaN</td>\n",
       "      <td>0.0</td>\n",
       "      <td>3600122.0</td>\n",
       "      <td>17569</td>\n",
       "      <td>50.0</td>\n",
       "      <td>54.323556</td>\n",
       "      <td>0.0</td>\n",
       "      <td>2021</td>\n",
       "      <td>-4.323556</td>\n",
       "      <td>True</td>\n",
       "      <td>False</td>\n",
       "    </tr>\n",
       "    <tr>\n",
       "      <th>7239</th>\n",
       "      <td>NaN</td>\n",
       "      <td>NaN</td>\n",
       "      <td>NaN</td>\n",
       "      <td>New york</td>\n",
       "      <td>New york city geographic district #27</td>\n",
       "      <td>NaN</td>\n",
       "      <td>0.0</td>\n",
       "      <td>3600123.0</td>\n",
       "      <td>23763</td>\n",
       "      <td>36.0</td>\n",
       "      <td>54.323556</td>\n",
       "      <td>0.0</td>\n",
       "      <td>2021</td>\n",
       "      <td>-18.323556</td>\n",
       "      <td>True</td>\n",
       "      <td>False</td>\n",
       "    </tr>\n",
       "    <tr>\n",
       "      <th>7248</th>\n",
       "      <td>NaN</td>\n",
       "      <td>NaN</td>\n",
       "      <td>NaN</td>\n",
       "      <td>New york</td>\n",
       "      <td>New york city geographic district #20</td>\n",
       "      <td>NaN</td>\n",
       "      <td>0.0</td>\n",
       "      <td>3600151.0</td>\n",
       "      <td>24629</td>\n",
       "      <td>47.0</td>\n",
       "      <td>54.323556</td>\n",
       "      <td>0.0</td>\n",
       "      <td>2021</td>\n",
       "      <td>-7.323556</td>\n",
       "      <td>True</td>\n",
       "      <td>False</td>\n",
       "    </tr>\n",
       "    <tr>\n",
       "      <th>7249</th>\n",
       "      <td>NaN</td>\n",
       "      <td>NaN</td>\n",
       "      <td>NaN</td>\n",
       "      <td>New york</td>\n",
       "      <td>New york city geographic district #21</td>\n",
       "      <td>NaN</td>\n",
       "      <td>0.0</td>\n",
       "      <td>3600152.0</td>\n",
       "      <td>16688</td>\n",
       "      <td>50.0</td>\n",
       "      <td>54.323556</td>\n",
       "      <td>0.0</td>\n",
       "      <td>2021</td>\n",
       "      <td>-4.323556</td>\n",
       "      <td>True</td>\n",
       "      <td>False</td>\n",
       "    </tr>\n",
       "    <tr>\n",
       "      <th>7250</th>\n",
       "      <td>NaN</td>\n",
       "      <td>NaN</td>\n",
       "      <td>NaN</td>\n",
       "      <td>New york</td>\n",
       "      <td>New york city geographic district #22</td>\n",
       "      <td>NaN</td>\n",
       "      <td>0.0</td>\n",
       "      <td>3600153.0</td>\n",
       "      <td>17203</td>\n",
       "      <td>44.0</td>\n",
       "      <td>54.323556</td>\n",
       "      <td>0.0</td>\n",
       "      <td>2021</td>\n",
       "      <td>-10.323556</td>\n",
       "      <td>True</td>\n",
       "      <td>False</td>\n",
       "    </tr>\n",
       "  </tbody>\n",
       "</table>\n",
       "</div>"
      ],
      "text/plain": [
       "     Author Title Type of Ban     State  \\\n",
       "7205    NaN   NaN         NaN  New york   \n",
       "7206    NaN   NaN         NaN  New york   \n",
       "7207    NaN   NaN         NaN  New york   \n",
       "7208    NaN   NaN         NaN  New york   \n",
       "7209    NaN   NaN         NaN  New york   \n",
       "7210    NaN   NaN         NaN  New york   \n",
       "7211    NaN   NaN         NaN  New york   \n",
       "7212    NaN   NaN         NaN  New york   \n",
       "7213    NaN   NaN         NaN  New york   \n",
       "7214    NaN   NaN         NaN  New york   \n",
       "7215    NaN   NaN         NaN  New york   \n",
       "7216    NaN   NaN         NaN  New york   \n",
       "7217    NaN   NaN         NaN  New york   \n",
       "7218    NaN   NaN         NaN  New york   \n",
       "7219    NaN   NaN         NaN  New york   \n",
       "7220    NaN   NaN         NaN  New york   \n",
       "7221    NaN   NaN         NaN  New york   \n",
       "7222    NaN   NaN         NaN  New york   \n",
       "7223    NaN   NaN         NaN  New york   \n",
       "7224    NaN   NaN         NaN  New york   \n",
       "7225    NaN   NaN         NaN  New york   \n",
       "7226    NaN   NaN         NaN  New york   \n",
       "7227    NaN   NaN         NaN  New york   \n",
       "7228    NaN   NaN         NaN  New york   \n",
       "7235    NaN   NaN         NaN  New york   \n",
       "7236    NaN   NaN         NaN  New york   \n",
       "7237    NaN   NaN         NaN  New york   \n",
       "7238    NaN   NaN         NaN  New york   \n",
       "7239    NaN   NaN         NaN  New york   \n",
       "7248    NaN   NaN         NaN  New york   \n",
       "7249    NaN   NaN         NaN  New york   \n",
       "7250    NaN   NaN         NaN  New york   \n",
       "\n",
       "                                   District Origin of Challenge  Frequency  \\\n",
       "7205  New york city geographic district # 1                 NaN        0.0   \n",
       "7206  New york city geographic district # 2                 NaN        0.0   \n",
       "7207  New york city geographic district # 3                 NaN        0.0   \n",
       "7208  New york city geographic district # 4                 NaN        0.0   \n",
       "7209  New york city geographic district # 5                 NaN        0.0   \n",
       "7210  New york city geographic district # 6                 NaN        0.0   \n",
       "7211  New york city geographic district # 7                 NaN        0.0   \n",
       "7212  New york city geographic district # 8                 NaN        0.0   \n",
       "7213  New york city geographic district # 9                 NaN        0.0   \n",
       "7214  New york city geographic district #10                 NaN        0.0   \n",
       "7215  New york city geographic district #11                 NaN        0.0   \n",
       "7216  New york city geographic district #12                 NaN        0.0   \n",
       "7217  New york city geographic district #13                 NaN        0.0   \n",
       "7218  New york city geographic district #15                 NaN        0.0   \n",
       "7219  New york city geographic district #16                 NaN        0.0   \n",
       "7220  New york city geographic district #17                 NaN        0.0   \n",
       "7221  New york city geographic district #18                 NaN        0.0   \n",
       "7222  New york city geographic district #32                 NaN        0.0   \n",
       "7223  New york city geographic district #24                 NaN        0.0   \n",
       "7224  New york city geographic district #26                 NaN        0.0   \n",
       "7225  New york city geographic district #28                 NaN        0.0   \n",
       "7226  New york city geographic district #29                 NaN        0.0   \n",
       "7227  New york city geographic district #30                 NaN        0.0   \n",
       "7228  New york city geographic district #31                 NaN        0.0   \n",
       "7235  New york city geographic district #14                 NaN        0.0   \n",
       "7236  New york city geographic district #19                 NaN        0.0   \n",
       "7237  New york city geographic district #23                 NaN        0.0   \n",
       "7238  New york city geographic district #25                 NaN        0.0   \n",
       "7239  New york city geographic district #27                 NaN        0.0   \n",
       "7248  New york city geographic district #20                 NaN        0.0   \n",
       "7249  New york city geographic district #21                 NaN        0.0   \n",
       "7250  New york city geographic district #22                 NaN        0.0   \n",
       "\n",
       "             ID  Students_tested  Reading_proficiency_rate  \\\n",
       "7205  3600076.0             5278                      48.0   \n",
       "7206  3600077.0            22292                      71.0   \n",
       "7207  3600078.0             9826                      59.0   \n",
       "7208  3600079.0             6742                      33.0   \n",
       "7209  3600081.0             6162                      28.0   \n",
       "7210  3600083.0            11583                      26.0   \n",
       "7211  3600084.0             9224                      23.0   \n",
       "7212  3600085.0            14493                      27.0   \n",
       "7213  3600086.0            18838                      22.0   \n",
       "7214  3600087.0            26943                      28.0   \n",
       "7215  3600088.0            20874                      29.0   \n",
       "7216  3600090.0            11931                      22.0   \n",
       "7217  3600091.0             7856                      50.0   \n",
       "7218  3600092.0            13051                      48.0   \n",
       "7219  3600094.0             3836                      26.0   \n",
       "7220  3600095.0            11789                      33.0   \n",
       "7221  3600096.0             8804                      32.0   \n",
       "7222  3600097.0             7212                      25.0   \n",
       "7223  3600098.0            29642                      40.0   \n",
       "7224  3600099.0            13964                      67.0   \n",
       "7225  3600100.0            18353                      47.0   \n",
       "7226  3600101.0            15183                      30.0   \n",
       "7227  3600102.0            20711                      41.0   \n",
       "7228  3600103.0            30523                      45.0   \n",
       "7235  3600119.0             8578                      39.0   \n",
       "7236  3600120.0            12125                      24.0   \n",
       "7237  3600121.0             5636                      21.0   \n",
       "7238  3600122.0            17569                      50.0   \n",
       "7239  3600123.0            23763                      36.0   \n",
       "7248  3600151.0            24629                      47.0   \n",
       "7249  3600152.0            16688                      50.0   \n",
       "7250  3600153.0            17203                      44.0   \n",
       "\n",
       "      Average_proficiency  District_bans  Year  Diff_from_mean  \\\n",
       "7205            54.323556            0.0  2021       -6.323556   \n",
       "7206            54.323556            0.0  2021       16.676444   \n",
       "7207            54.323556            0.0  2021        4.676444   \n",
       "7208            54.323556            0.0  2021      -21.323556   \n",
       "7209            54.323556            0.0  2021      -26.323556   \n",
       "7210            54.323556            0.0  2021      -28.323556   \n",
       "7211            54.323556            0.0  2021      -31.323556   \n",
       "7212            54.323556            0.0  2021      -27.323556   \n",
       "7213            54.323556            0.0  2021      -32.323556   \n",
       "7214            54.323556            0.0  2021      -26.323556   \n",
       "7215            54.323556            0.0  2021      -25.323556   \n",
       "7216            54.323556            0.0  2021      -32.323556   \n",
       "7217            54.323556            0.0  2021       -4.323556   \n",
       "7218            54.323556            0.0  2021       -6.323556   \n",
       "7219            54.323556            0.0  2021      -28.323556   \n",
       "7220            54.323556            0.0  2021      -21.323556   \n",
       "7221            54.323556            0.0  2021      -22.323556   \n",
       "7222            54.323556            0.0  2021      -29.323556   \n",
       "7223            54.323556            0.0  2021      -14.323556   \n",
       "7224            54.323556            0.0  2021       12.676444   \n",
       "7225            54.323556            0.0  2021       -7.323556   \n",
       "7226            54.323556            0.0  2021      -24.323556   \n",
       "7227            54.323556            0.0  2021      -13.323556   \n",
       "7228            54.323556            0.0  2021       -9.323556   \n",
       "7235            54.323556            0.0  2021      -15.323556   \n",
       "7236            54.323556            0.0  2021      -30.323556   \n",
       "7237            54.323556            0.0  2021      -33.323556   \n",
       "7238            54.323556            0.0  2021       -4.323556   \n",
       "7239            54.323556            0.0  2021      -18.323556   \n",
       "7248            54.323556            0.0  2021       -7.323556   \n",
       "7249            54.323556            0.0  2021       -4.323556   \n",
       "7250            54.323556            0.0  2021      -10.323556   \n",
       "\n",
       "      District_no_bans  District_has_bans  \n",
       "7205              True              False  \n",
       "7206              True              False  \n",
       "7207              True              False  \n",
       "7208              True              False  \n",
       "7209              True              False  \n",
       "7210              True              False  \n",
       "7211              True              False  \n",
       "7212              True              False  \n",
       "7213              True              False  \n",
       "7214              True              False  \n",
       "7215              True              False  \n",
       "7216              True              False  \n",
       "7217              True              False  \n",
       "7218              True              False  \n",
       "7219              True              False  \n",
       "7220              True              False  \n",
       "7221              True              False  \n",
       "7222              True              False  \n",
       "7223              True              False  \n",
       "7224              True              False  \n",
       "7225              True              False  \n",
       "7226              True              False  \n",
       "7227              True              False  \n",
       "7228              True              False  \n",
       "7235              True              False  \n",
       "7236              True              False  \n",
       "7237              True              False  \n",
       "7238              True              False  \n",
       "7239              True              False  \n",
       "7248              True              False  \n",
       "7249              True              False  \n",
       "7250              True              False  "
      ]
     },
     "execution_count": 652,
     "metadata": {},
     "output_type": "execute_result"
    }
   ],
   "source": [
    "clean_total[clean_total['District'].str.contains(\"New york\") & clean_total['State'].str.contains(\"New york\")]"
   ]
  },
  {
   "cell_type": "markdown",
   "id": "c5fa3c9c",
   "metadata": {},
   "source": [
    "Incorrect"
   ]
  },
  {
   "cell_type": "markdown",
   "id": "c4f8f9bb",
   "metadata": {},
   "source": [
    "Choosing a few of these largest school districts did not show the model's predictive capabilities very well.  As these were just examples and considering the type of data, I am not concerned about this, but perhaps it is a useful reminder that even districts that seem to align with qualities of districts that are more likely to have book bans often do not follow clear patterns or behave in a way that is convenient for the data."
   ]
  },
  {
   "cell_type": "markdown",
   "id": "e68f3b83",
   "metadata": {},
   "source": [
    "# 8. Conclusions"
   ]
  },
  {
   "cell_type": "markdown",
   "id": "5ff6cc2d",
   "metadata": {},
   "source": [
    "After a few modeling scenarios gave me clearer indications of how important school district size was, I decided to experiment with how much school districts might need to expand to alter the prediction the model has for them."
   ]
  },
  {
   "cell_type": "code",
   "execution_count": 653,
   "id": "b8227a9c",
   "metadata": {},
   "outputs": [
    {
     "name": "stdout",
     "output_type": "stream",
     "text": [
      "X=[0, 56.87], Predicted=0\n",
      "X=[1000, 56.87], Predicted=0\n",
      "X=[2000, 56.87], Predicted=0\n",
      "X=[3000, 56.87], Predicted=0\n",
      "X=[4000, 56.87], Predicted=0\n",
      "X=[5000, 56.87], Predicted=0\n",
      "X=[6000, 56.87], Predicted=0\n",
      "X=[7000, 56.87], Predicted=0\n",
      "X=[8000, 56.87], Predicted=0\n",
      "X=[9000, 56.87], Predicted=0\n",
      "X=[10000, 56.87], Predicted=0\n",
      "X=[11000, 56.87], Predicted=0\n",
      "X=[12000, 56.87], Predicted=0\n",
      "X=[13000, 56.87], Predicted=0\n",
      "X=[14000, 56.87], Predicted=0\n",
      "X=[15000, 56.87], Predicted=0\n",
      "X=[16000, 56.87], Predicted=0\n",
      "X=[17000, 56.87], Predicted=0\n",
      "X=[18000, 56.87], Predicted=0\n",
      "X=[19000, 56.87], Predicted=0\n",
      "X=[20000, 56.87], Predicted=0\n",
      "X=[21000, 56.87], Predicted=0\n",
      "X=[22000, 56.87], Predicted=0\n",
      "X=[23000, 56.87], Predicted=0\n",
      "X=[24000, 56.87], Predicted=0\n",
      "X=[25000, 56.87], Predicted=0\n",
      "X=[26000, 56.87], Predicted=1\n",
      "X=[27000, 56.87], Predicted=1\n",
      "X=[28000, 56.87], Predicted=1\n",
      "X=[29000, 56.87], Predicted=1\n",
      "X=[30000, 56.87], Predicted=1\n",
      "X=[31000, 56.87], Predicted=1\n",
      "X=[32000, 56.87], Predicted=1\n",
      "X=[33000, 56.87], Predicted=1\n",
      "X=[34000, 56.87], Predicted=1\n",
      "X=[35000, 56.87], Predicted=1\n",
      "X=[36000, 56.87], Predicted=1\n",
      "X=[37000, 56.87], Predicted=1\n",
      "X=[38000, 56.87], Predicted=1\n",
      "X=[39000, 56.87], Predicted=1\n",
      "X=[40000, 56.87], Predicted=1\n",
      "X=[41000, 56.87], Predicted=1\n",
      "X=[42000, 56.87], Predicted=1\n",
      "X=[43000, 56.87], Predicted=1\n",
      "X=[44000, 56.87], Predicted=1\n",
      "X=[45000, 56.87], Predicted=1\n",
      "X=[46000, 56.87], Predicted=1\n",
      "X=[47000, 56.87], Predicted=1\n",
      "X=[48000, 56.87], Predicted=1\n",
      "X=[49000, 56.87], Predicted=1\n",
      "X=[50000, 56.87], Predicted=1\n",
      "X=[51000, 56.87], Predicted=1\n",
      "X=[52000, 56.87], Predicted=1\n",
      "X=[53000, 56.87], Predicted=1\n",
      "X=[54000, 56.87], Predicted=1\n",
      "X=[55000, 56.87], Predicted=1\n",
      "X=[56000, 56.87], Predicted=1\n",
      "X=[57000, 56.87], Predicted=1\n",
      "X=[58000, 56.87], Predicted=1\n",
      "X=[59000, 56.87], Predicted=1\n",
      "X=[60000, 56.87], Predicted=1\n",
      "X=[61000, 56.87], Predicted=1\n",
      "X=[62000, 56.87], Predicted=1\n",
      "X=[63000, 56.87], Predicted=1\n",
      "X=[64000, 56.87], Predicted=1\n",
      "X=[65000, 56.87], Predicted=1\n",
      "X=[66000, 56.87], Predicted=1\n",
      "X=[67000, 56.87], Predicted=1\n",
      "X=[68000, 56.87], Predicted=1\n",
      "X=[69000, 56.87], Predicted=1\n",
      "X=[70000, 56.87], Predicted=1\n",
      "X=[71000, 56.87], Predicted=1\n",
      "X=[72000, 56.87], Predicted=1\n",
      "X=[73000, 56.87], Predicted=1\n",
      "X=[74000, 56.87], Predicted=1\n",
      "X=[75000, 56.87], Predicted=1\n",
      "X=[76000, 56.87], Predicted=1\n",
      "X=[77000, 56.87], Predicted=1\n",
      "X=[78000, 56.87], Predicted=1\n",
      "X=[79000, 56.87], Predicted=1\n",
      "X=[80000, 56.87], Predicted=1\n",
      "X=[81000, 56.87], Predicted=1\n",
      "X=[82000, 56.87], Predicted=1\n",
      "X=[83000, 56.87], Predicted=1\n",
      "X=[84000, 56.87], Predicted=1\n",
      "X=[85000, 56.87], Predicted=1\n",
      "X=[86000, 56.87], Predicted=1\n",
      "X=[87000, 56.87], Predicted=1\n",
      "X=[88000, 56.87], Predicted=1\n",
      "X=[89000, 56.87], Predicted=1\n",
      "X=[90000, 56.87], Predicted=1\n",
      "X=[91000, 56.87], Predicted=1\n",
      "X=[92000, 56.87], Predicted=1\n",
      "X=[93000, 56.87], Predicted=1\n",
      "X=[94000, 56.87], Predicted=1\n",
      "X=[95000, 56.87], Predicted=1\n",
      "X=[96000, 56.87], Predicted=1\n",
      "X=[97000, 56.87], Predicted=1\n",
      "X=[98000, 56.87], Predicted=1\n",
      "X=[99000, 56.87], Predicted=1\n",
      "X=[100000, 56.87], Predicted=1\n",
      "X=[101000, 56.87], Predicted=1\n",
      "X=[102000, 56.87], Predicted=1\n",
      "X=[103000, 56.87], Predicted=1\n",
      "X=[104000, 56.87], Predicted=1\n",
      "X=[105000, 56.87], Predicted=1\n",
      "X=[106000, 56.87], Predicted=1\n",
      "X=[107000, 56.87], Predicted=1\n",
      "X=[108000, 56.87], Predicted=1\n",
      "X=[109000, 56.87], Predicted=1\n",
      "X=[110000, 56.87], Predicted=1\n",
      "X=[111000, 56.87], Predicted=1\n",
      "X=[112000, 56.87], Predicted=1\n",
      "X=[113000, 56.87], Predicted=1\n",
      "X=[114000, 56.87], Predicted=1\n",
      "X=[115000, 56.87], Predicted=1\n",
      "X=[116000, 56.87], Predicted=1\n",
      "X=[117000, 56.87], Predicted=1\n",
      "X=[118000, 56.87], Predicted=1\n",
      "X=[119000, 56.87], Predicted=1\n",
      "X=[120000, 56.87], Predicted=1\n",
      "X=[121000, 56.87], Predicted=1\n",
      "X=[122000, 56.87], Predicted=1\n",
      "X=[123000, 56.87], Predicted=1\n",
      "X=[124000, 56.87], Predicted=1\n",
      "X=[125000, 56.87], Predicted=1\n",
      "X=[126000, 56.87], Predicted=1\n",
      "X=[127000, 56.87], Predicted=1\n",
      "X=[128000, 56.87], Predicted=1\n",
      "X=[129000, 56.87], Predicted=1\n",
      "X=[130000, 56.87], Predicted=1\n",
      "X=[131000, 56.87], Predicted=1\n",
      "X=[132000, 56.87], Predicted=1\n",
      "X=[133000, 56.87], Predicted=1\n",
      "X=[134000, 56.87], Predicted=1\n",
      "X=[135000, 56.87], Predicted=1\n",
      "X=[136000, 56.87], Predicted=1\n",
      "X=[137000, 56.87], Predicted=1\n",
      "X=[138000, 56.87], Predicted=1\n",
      "X=[139000, 56.87], Predicted=1\n",
      "X=[140000, 56.87], Predicted=1\n",
      "X=[141000, 56.87], Predicted=1\n",
      "X=[142000, 56.87], Predicted=1\n",
      "X=[143000, 56.87], Predicted=1\n",
      "X=[144000, 56.87], Predicted=1\n",
      "X=[145000, 56.87], Predicted=1\n",
      "X=[146000, 56.87], Predicted=1\n",
      "X=[147000, 56.87], Predicted=1\n",
      "X=[148000, 56.87], Predicted=1\n",
      "X=[149000, 56.87], Predicted=1\n",
      "X=[150000, 56.87], Predicted=1\n",
      "X=[151000, 56.87], Predicted=1\n",
      "X=[152000, 56.87], Predicted=1\n",
      "X=[153000, 56.87], Predicted=1\n",
      "X=[154000, 56.87], Predicted=1\n",
      "X=[155000, 56.87], Predicted=1\n",
      "X=[156000, 56.87], Predicted=1\n",
      "X=[157000, 56.87], Predicted=1\n",
      "X=[158000, 56.87], Predicted=1\n",
      "X=[159000, 56.87], Predicted=1\n",
      "X=[160000, 56.87], Predicted=1\n",
      "X=[161000, 56.87], Predicted=1\n",
      "X=[162000, 56.87], Predicted=1\n",
      "X=[163000, 56.87], Predicted=1\n",
      "X=[164000, 56.87], Predicted=1\n",
      "X=[165000, 56.87], Predicted=1\n",
      "X=[166000, 56.87], Predicted=1\n",
      "X=[167000, 56.87], Predicted=1\n",
      "X=[168000, 56.87], Predicted=1\n",
      "X=[169000, 56.87], Predicted=1\n",
      "X=[170000, 56.87], Predicted=1\n",
      "X=[171000, 56.87], Predicted=1\n",
      "X=[172000, 56.87], Predicted=1\n",
      "X=[173000, 56.87], Predicted=1\n",
      "X=[174000, 56.87], Predicted=1\n",
      "X=[175000, 56.87], Predicted=1\n",
      "X=[176000, 56.87], Predicted=1\n",
      "X=[177000, 56.87], Predicted=1\n",
      "X=[178000, 56.87], Predicted=1\n",
      "X=[179000, 56.87], Predicted=1\n",
      "X=[180000, 56.87], Predicted=1\n",
      "X=[181000, 56.87], Predicted=1\n",
      "X=[182000, 56.87], Predicted=1\n",
      "X=[183000, 56.87], Predicted=1\n",
      "X=[184000, 56.87], Predicted=1\n",
      "X=[185000, 56.87], Predicted=1\n",
      "X=[186000, 56.87], Predicted=1\n",
      "X=[187000, 56.87], Predicted=1\n",
      "X=[188000, 56.87], Predicted=1\n",
      "X=[189000, 56.87], Predicted=1\n",
      "X=[190000, 56.87], Predicted=1\n",
      "X=[191000, 56.87], Predicted=1\n",
      "X=[192000, 56.87], Predicted=1\n",
      "X=[193000, 56.87], Predicted=1\n",
      "X=[194000, 56.87], Predicted=1\n",
      "X=[195000, 56.87], Predicted=1\n",
      "X=[196000, 56.87], Predicted=1\n",
      "X=[197000, 56.87], Predicted=1\n",
      "X=[198000, 56.87], Predicted=1\n",
      "X=[199000, 56.87], Predicted=1\n",
      "X=[200000, 56.87], Predicted=1\n",
      "X=[201000, 56.87], Predicted=1\n",
      "X=[202000, 56.87], Predicted=1\n",
      "X=[203000, 56.87], Predicted=1\n",
      "X=[204000, 56.87], Predicted=1\n",
      "X=[205000, 56.87], Predicted=1\n",
      "X=[206000, 56.87], Predicted=1\n",
      "X=[207000, 56.87], Predicted=1\n",
      "X=[208000, 56.87], Predicted=1\n",
      "X=[209000, 56.87], Predicted=1\n",
      "X=[210000, 56.87], Predicted=1\n",
      "X=[211000, 56.87], Predicted=1\n",
      "X=[212000, 56.87], Predicted=1\n",
      "X=[213000, 56.87], Predicted=1\n",
      "X=[214000, 56.87], Predicted=1\n",
      "X=[215000, 56.87], Predicted=1\n",
      "X=[216000, 56.87], Predicted=1\n",
      "X=[217000, 56.87], Predicted=1\n",
      "X=[218000, 56.87], Predicted=1\n",
      "X=[219000, 56.87], Predicted=1\n",
      "X=[220000, 56.87], Predicted=1\n",
      "X=[221000, 56.87], Predicted=1\n",
      "X=[222000, 56.87], Predicted=1\n",
      "X=[223000, 56.87], Predicted=1\n",
      "X=[224000, 56.87], Predicted=1\n",
      "X=[225000, 56.87], Predicted=1\n",
      "X=[226000, 56.87], Predicted=1\n",
      "X=[227000, 56.87], Predicted=1\n",
      "X=[228000, 56.87], Predicted=1\n",
      "X=[229000, 56.87], Predicted=1\n",
      "X=[230000, 56.87], Predicted=1\n",
      "X=[231000, 56.87], Predicted=1\n",
      "X=[232000, 56.87], Predicted=1\n",
      "X=[233000, 56.87], Predicted=1\n",
      "X=[234000, 56.87], Predicted=1\n",
      "X=[235000, 56.87], Predicted=1\n",
      "X=[236000, 56.87], Predicted=1\n",
      "X=[237000, 56.87], Predicted=1\n",
      "X=[238000, 56.87], Predicted=1\n",
      "X=[239000, 56.87], Predicted=1\n",
      "X=[240000, 56.87], Predicted=1\n",
      "X=[241000, 56.87], Predicted=1\n",
      "X=[242000, 56.87], Predicted=1\n",
      "X=[243000, 56.87], Predicted=1\n",
      "X=[244000, 56.87], Predicted=1\n",
      "X=[245000, 56.87], Predicted=1\n",
      "X=[246000, 56.87], Predicted=1\n",
      "X=[247000, 56.87], Predicted=1\n",
      "X=[248000, 56.87], Predicted=1\n",
      "X=[249000, 56.87], Predicted=1\n",
      "X=[250000, 56.87], Predicted=1\n",
      "X=[251000, 56.87], Predicted=1\n",
      "X=[252000, 56.87], Predicted=1\n",
      "X=[253000, 56.87], Predicted=1\n",
      "X=[254000, 56.87], Predicted=1\n",
      "X=[255000, 56.87], Predicted=1\n",
      "X=[256000, 56.87], Predicted=1\n",
      "X=[257000, 56.87], Predicted=1\n",
      "X=[258000, 56.87], Predicted=1\n",
      "X=[259000, 56.87], Predicted=1\n",
      "X=[260000, 56.87], Predicted=1\n",
      "X=[261000, 56.87], Predicted=1\n",
      "X=[262000, 56.87], Predicted=1\n",
      "X=[263000, 56.87], Predicted=1\n",
      "X=[264000, 56.87], Predicted=1\n",
      "X=[265000, 56.87], Predicted=1\n",
      "X=[266000, 56.87], Predicted=1\n",
      "X=[267000, 56.87], Predicted=1\n",
      "X=[268000, 56.87], Predicted=1\n",
      "X=[269000, 56.87], Predicted=1\n",
      "X=[270000, 56.87], Predicted=1\n",
      "X=[271000, 56.87], Predicted=1\n",
      "X=[272000, 56.87], Predicted=1\n",
      "X=[273000, 56.87], Predicted=1\n",
      "X=[274000, 56.87], Predicted=1\n",
      "X=[275000, 56.87], Predicted=1\n",
      "X=[276000, 56.87], Predicted=1\n",
      "X=[277000, 56.87], Predicted=1\n",
      "X=[278000, 56.87], Predicted=1\n",
      "X=[279000, 56.87], Predicted=1\n",
      "X=[280000, 56.87], Predicted=1\n",
      "X=[281000, 56.87], Predicted=1\n",
      "X=[282000, 56.87], Predicted=1\n",
      "X=[283000, 56.87], Predicted=1\n",
      "X=[284000, 56.87], Predicted=1\n",
      "X=[285000, 56.87], Predicted=1\n",
      "X=[286000, 56.87], Predicted=1\n",
      "X=[287000, 56.87], Predicted=1\n",
      "X=[288000, 56.87], Predicted=1\n",
      "X=[289000, 56.87], Predicted=1\n",
      "X=[290000, 56.87], Predicted=1\n",
      "X=[291000, 56.87], Predicted=1\n",
      "X=[292000, 56.87], Predicted=1\n",
      "X=[293000, 56.87], Predicted=1\n",
      "X=[294000, 56.87], Predicted=1\n",
      "X=[295000, 56.87], Predicted=1\n",
      "X=[296000, 56.87], Predicted=1\n",
      "X=[297000, 56.87], Predicted=1\n",
      "X=[298000, 56.87], Predicted=1\n",
      "X=[299000, 56.87], Predicted=1\n",
      "X=[300000, 56.87], Predicted=1\n",
      "X=[301000, 56.87], Predicted=1\n",
      "X=[302000, 56.87], Predicted=1\n",
      "X=[303000, 56.87], Predicted=1\n",
      "X=[304000, 56.87], Predicted=1\n",
      "X=[305000, 56.87], Predicted=1\n",
      "X=[306000, 56.87], Predicted=1\n",
      "X=[307000, 56.87], Predicted=1\n",
      "X=[308000, 56.87], Predicted=1\n",
      "X=[309000, 56.87], Predicted=1\n",
      "X=[310000, 56.87], Predicted=1\n",
      "X=[311000, 56.87], Predicted=1\n",
      "X=[312000, 56.87], Predicted=1\n",
      "X=[313000, 56.87], Predicted=1\n",
      "X=[314000, 56.87], Predicted=1\n",
      "X=[315000, 56.87], Predicted=1\n",
      "X=[316000, 56.87], Predicted=1\n",
      "X=[317000, 56.87], Predicted=1\n",
      "X=[318000, 56.87], Predicted=1\n",
      "X=[319000, 56.87], Predicted=1\n",
      "X=[320000, 56.87], Predicted=1\n",
      "X=[321000, 56.87], Predicted=1\n",
      "X=[322000, 56.87], Predicted=1\n",
      "X=[323000, 56.87], Predicted=1\n",
      "X=[324000, 56.87], Predicted=1\n",
      "X=[325000, 56.87], Predicted=1\n",
      "X=[326000, 56.87], Predicted=1\n",
      "X=[327000, 56.87], Predicted=1\n",
      "X=[328000, 56.87], Predicted=1\n",
      "X=[329000, 56.87], Predicted=1\n",
      "X=[330000, 56.87], Predicted=1\n",
      "X=[331000, 56.87], Predicted=1\n",
      "X=[332000, 56.87], Predicted=1\n",
      "X=[333000, 56.87], Predicted=1\n",
      "X=[334000, 56.87], Predicted=1\n",
      "X=[335000, 56.87], Predicted=1\n",
      "X=[336000, 56.87], Predicted=1\n",
      "X=[337000, 56.87], Predicted=1\n",
      "X=[338000, 56.87], Predicted=1\n",
      "X=[339000, 56.87], Predicted=1\n",
      "X=[340000, 56.87], Predicted=1\n",
      "X=[341000, 56.87], Predicted=1\n",
      "X=[342000, 56.87], Predicted=1\n",
      "X=[343000, 56.87], Predicted=1\n",
      "X=[344000, 56.87], Predicted=1\n",
      "X=[345000, 56.87], Predicted=1\n",
      "X=[346000, 56.87], Predicted=1\n",
      "X=[347000, 56.87], Predicted=1\n",
      "X=[348000, 56.87], Predicted=1\n",
      "X=[349000, 56.87], Predicted=1\n",
      "X=[350000, 56.87], Predicted=1\n",
      "X=[351000, 56.87], Predicted=1\n",
      "X=[352000, 56.87], Predicted=1\n",
      "X=[353000, 56.87], Predicted=1\n",
      "X=[354000, 56.87], Predicted=1\n",
      "X=[355000, 56.87], Predicted=1\n",
      "X=[356000, 56.87], Predicted=1\n",
      "X=[357000, 56.87], Predicted=1\n",
      "X=[358000, 56.87], Predicted=1\n",
      "X=[359000, 56.87], Predicted=1\n",
      "X=[360000, 56.87], Predicted=1\n",
      "X=[361000, 56.87], Predicted=1\n",
      "X=[362000, 56.87], Predicted=1\n",
      "X=[363000, 56.87], Predicted=1\n",
      "X=[364000, 56.87], Predicted=1\n",
      "X=[365000, 56.87], Predicted=1\n",
      "X=[366000, 56.87], Predicted=1\n",
      "X=[367000, 56.87], Predicted=1\n",
      "X=[368000, 56.87], Predicted=1\n",
      "X=[369000, 56.87], Predicted=1\n",
      "X=[370000, 56.87], Predicted=1\n",
      "X=[371000, 56.87], Predicted=1\n",
      "X=[372000, 56.87], Predicted=1\n",
      "X=[373000, 56.87], Predicted=1\n",
      "X=[374000, 56.87], Predicted=1\n",
      "X=[375000, 56.87], Predicted=1\n",
      "X=[376000, 56.87], Predicted=1\n",
      "X=[377000, 56.87], Predicted=1\n",
      "X=[378000, 56.87], Predicted=1\n",
      "X=[379000, 56.87], Predicted=1\n",
      "X=[380000, 56.87], Predicted=1\n",
      "X=[381000, 56.87], Predicted=1\n",
      "X=[382000, 56.87], Predicted=1\n",
      "X=[383000, 56.87], Predicted=1\n",
      "X=[384000, 56.87], Predicted=1\n",
      "X=[385000, 56.87], Predicted=1\n",
      "X=[386000, 56.87], Predicted=1\n",
      "X=[387000, 56.87], Predicted=1\n",
      "X=[388000, 56.87], Predicted=1\n",
      "X=[389000, 56.87], Predicted=1\n",
      "X=[390000, 56.87], Predicted=1\n",
      "X=[391000, 56.87], Predicted=1\n",
      "X=[392000, 56.87], Predicted=1\n",
      "X=[393000, 56.87], Predicted=1\n",
      "X=[394000, 56.87], Predicted=1\n",
      "X=[395000, 56.87], Predicted=1\n",
      "X=[396000, 56.87], Predicted=1\n",
      "X=[397000, 56.87], Predicted=1\n",
      "X=[398000, 56.87], Predicted=1\n",
      "X=[399000, 56.87], Predicted=1\n",
      "X=[400000, 56.87], Predicted=1\n",
      "X=[401000, 56.87], Predicted=1\n",
      "X=[402000, 56.87], Predicted=1\n",
      "X=[403000, 56.87], Predicted=1\n",
      "X=[404000, 56.87], Predicted=1\n",
      "X=[405000, 56.87], Predicted=1\n",
      "X=[406000, 56.87], Predicted=1\n",
      "X=[407000, 56.87], Predicted=1\n",
      "X=[408000, 56.87], Predicted=1\n",
      "X=[409000, 56.87], Predicted=1\n",
      "X=[410000, 56.87], Predicted=1\n",
      "X=[411000, 56.87], Predicted=1\n",
      "X=[412000, 56.87], Predicted=1\n",
      "X=[413000, 56.87], Predicted=1\n",
      "X=[414000, 56.87], Predicted=1\n",
      "X=[415000, 56.87], Predicted=1\n",
      "X=[416000, 56.87], Predicted=1\n",
      "X=[417000, 56.87], Predicted=1\n",
      "X=[418000, 56.87], Predicted=1\n",
      "X=[419000, 56.87], Predicted=1\n",
      "X=[420000, 56.87], Predicted=1\n",
      "X=[421000, 56.87], Predicted=1\n",
      "X=[422000, 56.87], Predicted=1\n",
      "X=[423000, 56.87], Predicted=1\n",
      "X=[424000, 56.87], Predicted=1\n",
      "X=[425000, 56.87], Predicted=1\n",
      "X=[426000, 56.87], Predicted=1\n",
      "X=[427000, 56.87], Predicted=1\n",
      "X=[428000, 56.87], Predicted=1\n",
      "X=[429000, 56.87], Predicted=1\n",
      "X=[430000, 56.87], Predicted=1\n",
      "X=[431000, 56.87], Predicted=1\n",
      "X=[432000, 56.87], Predicted=1\n",
      "X=[433000, 56.87], Predicted=1\n",
      "X=[434000, 56.87], Predicted=1\n",
      "X=[435000, 56.87], Predicted=1\n",
      "X=[436000, 56.87], Predicted=1\n",
      "X=[437000, 56.87], Predicted=1\n",
      "X=[438000, 56.87], Predicted=1\n",
      "X=[439000, 56.87], Predicted=1\n",
      "X=[440000, 56.87], Predicted=1\n",
      "X=[441000, 56.87], Predicted=1\n",
      "X=[442000, 56.87], Predicted=1\n",
      "X=[443000, 56.87], Predicted=1\n",
      "X=[444000, 56.87], Predicted=1\n",
      "X=[445000, 56.87], Predicted=1\n",
      "X=[446000, 56.87], Predicted=1\n",
      "X=[447000, 56.87], Predicted=1\n",
      "X=[448000, 56.87], Predicted=1\n",
      "X=[449000, 56.87], Predicted=1\n",
      "X=[450000, 56.87], Predicted=1\n",
      "X=[451000, 56.87], Predicted=1\n",
      "X=[452000, 56.87], Predicted=1\n",
      "X=[453000, 56.87], Predicted=1\n",
      "X=[454000, 56.87], Predicted=1\n",
      "X=[455000, 56.87], Predicted=1\n",
      "X=[456000, 56.87], Predicted=1\n",
      "X=[457000, 56.87], Predicted=1\n",
      "X=[458000, 56.87], Predicted=1\n",
      "X=[459000, 56.87], Predicted=1\n",
      "X=[460000, 56.87], Predicted=1\n",
      "X=[461000, 56.87], Predicted=1\n",
      "X=[462000, 56.87], Predicted=1\n",
      "X=[463000, 56.87], Predicted=1\n",
      "X=[464000, 56.87], Predicted=1\n",
      "X=[465000, 56.87], Predicted=1\n",
      "X=[466000, 56.87], Predicted=1\n",
      "X=[467000, 56.87], Predicted=1\n",
      "X=[468000, 56.87], Predicted=1\n",
      "X=[469000, 56.87], Predicted=1\n",
      "X=[470000, 56.87], Predicted=1\n",
      "X=[471000, 56.87], Predicted=1\n",
      "X=[472000, 56.87], Predicted=1\n",
      "X=[473000, 56.87], Predicted=1\n",
      "X=[474000, 56.87], Predicted=1\n",
      "X=[475000, 56.87], Predicted=1\n",
      "X=[476000, 56.87], Predicted=1\n",
      "X=[477000, 56.87], Predicted=1\n",
      "X=[478000, 56.87], Predicted=1\n",
      "X=[479000, 56.87], Predicted=1\n",
      "X=[480000, 56.87], Predicted=1\n",
      "X=[481000, 56.87], Predicted=1\n",
      "X=[482000, 56.87], Predicted=1\n",
      "X=[483000, 56.87], Predicted=1\n",
      "X=[484000, 56.87], Predicted=1\n",
      "X=[485000, 56.87], Predicted=1\n",
      "X=[486000, 56.87], Predicted=1\n",
      "X=[487000, 56.87], Predicted=1\n",
      "X=[488000, 56.87], Predicted=1\n",
      "X=[489000, 56.87], Predicted=1\n",
      "X=[490000, 56.87], Predicted=1\n",
      "X=[491000, 56.87], Predicted=1\n",
      "X=[492000, 56.87], Predicted=1\n",
      "X=[493000, 56.87], Predicted=1\n",
      "X=[494000, 56.87], Predicted=1\n",
      "X=[495000, 56.87], Predicted=1\n",
      "X=[496000, 56.87], Predicted=1\n",
      "X=[497000, 56.87], Predicted=1\n",
      "X=[498000, 56.87], Predicted=1\n",
      "X=[499000, 56.87], Predicted=1\n",
      "X=[500000, 56.87], Predicted=1\n",
      "X=[501000, 56.87], Predicted=1\n",
      "X=[502000, 56.87], Predicted=1\n",
      "X=[503000, 56.87], Predicted=1\n",
      "X=[504000, 56.87], Predicted=1\n",
      "X=[505000, 56.87], Predicted=1\n",
      "X=[506000, 56.87], Predicted=1\n",
      "X=[507000, 56.87], Predicted=1\n",
      "X=[508000, 56.87], Predicted=1\n",
      "X=[509000, 56.87], Predicted=1\n",
      "X=[510000, 56.87], Predicted=1\n",
      "X=[511000, 56.87], Predicted=1\n",
      "X=[512000, 56.87], Predicted=1\n",
      "X=[513000, 56.87], Predicted=1\n",
      "X=[514000, 56.87], Predicted=1\n",
      "X=[515000, 56.87], Predicted=1\n",
      "X=[516000, 56.87], Predicted=1\n",
      "X=[517000, 56.87], Predicted=1\n",
      "X=[518000, 56.87], Predicted=1\n",
      "X=[519000, 56.87], Predicted=1\n",
      "X=[520000, 56.87], Predicted=1\n",
      "X=[521000, 56.87], Predicted=1\n",
      "X=[522000, 56.87], Predicted=1\n",
      "X=[523000, 56.87], Predicted=1\n",
      "X=[524000, 56.87], Predicted=1\n",
      "X=[525000, 56.87], Predicted=1\n",
      "X=[526000, 56.87], Predicted=1\n",
      "X=[527000, 56.87], Predicted=1\n",
      "X=[528000, 56.87], Predicted=1\n",
      "X=[529000, 56.87], Predicted=1\n",
      "X=[530000, 56.87], Predicted=1\n",
      "X=[531000, 56.87], Predicted=1\n",
      "X=[532000, 56.87], Predicted=1\n",
      "X=[533000, 56.87], Predicted=1\n",
      "X=[534000, 56.87], Predicted=1\n",
      "X=[535000, 56.87], Predicted=1\n",
      "X=[536000, 56.87], Predicted=1\n",
      "X=[537000, 56.87], Predicted=1\n",
      "X=[538000, 56.87], Predicted=1\n",
      "X=[539000, 56.87], Predicted=1\n",
      "X=[540000, 56.87], Predicted=1\n",
      "X=[541000, 56.87], Predicted=1\n",
      "X=[542000, 56.87], Predicted=1\n",
      "X=[543000, 56.87], Predicted=1\n",
      "X=[544000, 56.87], Predicted=1\n",
      "X=[545000, 56.87], Predicted=1\n",
      "X=[546000, 56.87], Predicted=1\n",
      "X=[547000, 56.87], Predicted=1\n",
      "X=[548000, 56.87], Predicted=1\n",
      "X=[549000, 56.87], Predicted=1\n",
      "X=[550000, 56.87], Predicted=1\n",
      "X=[551000, 56.87], Predicted=1\n",
      "X=[552000, 56.87], Predicted=1\n",
      "X=[553000, 56.87], Predicted=1\n",
      "X=[554000, 56.87], Predicted=1\n",
      "X=[555000, 56.87], Predicted=1\n",
      "X=[556000, 56.87], Predicted=1\n",
      "X=[557000, 56.87], Predicted=1\n",
      "X=[558000, 56.87], Predicted=1\n",
      "X=[559000, 56.87], Predicted=1\n",
      "X=[560000, 56.87], Predicted=1\n",
      "X=[561000, 56.87], Predicted=1\n",
      "X=[562000, 56.87], Predicted=1\n",
      "X=[563000, 56.87], Predicted=1\n",
      "X=[564000, 56.87], Predicted=1\n",
      "X=[565000, 56.87], Predicted=1\n",
      "X=[566000, 56.87], Predicted=1\n",
      "X=[567000, 56.87], Predicted=1\n",
      "X=[568000, 56.87], Predicted=1\n",
      "X=[569000, 56.87], Predicted=1\n",
      "X=[570000, 56.87], Predicted=1\n",
      "X=[571000, 56.87], Predicted=1\n",
      "X=[572000, 56.87], Predicted=1\n",
      "X=[573000, 56.87], Predicted=1\n",
      "X=[574000, 56.87], Predicted=1\n",
      "X=[575000, 56.87], Predicted=1\n",
      "X=[576000, 56.87], Predicted=1\n",
      "X=[577000, 56.87], Predicted=1\n",
      "X=[578000, 56.87], Predicted=1\n",
      "X=[579000, 56.87], Predicted=1\n",
      "X=[580000, 56.87], Predicted=1\n",
      "X=[581000, 56.87], Predicted=1\n",
      "X=[582000, 56.87], Predicted=1\n",
      "X=[583000, 56.87], Predicted=1\n",
      "X=[584000, 56.87], Predicted=1\n",
      "X=[585000, 56.87], Predicted=1\n",
      "X=[586000, 56.87], Predicted=1\n",
      "X=[587000, 56.87], Predicted=1\n",
      "X=[588000, 56.87], Predicted=1\n",
      "X=[589000, 56.87], Predicted=1\n",
      "X=[590000, 56.87], Predicted=1\n",
      "X=[591000, 56.87], Predicted=1\n",
      "X=[592000, 56.87], Predicted=1\n",
      "X=[593000, 56.87], Predicted=1\n",
      "X=[594000, 56.87], Predicted=1\n",
      "X=[595000, 56.87], Predicted=1\n",
      "X=[596000, 56.87], Predicted=1\n",
      "X=[597000, 56.87], Predicted=1\n",
      "X=[598000, 56.87], Predicted=1\n",
      "X=[599000, 56.87], Predicted=1\n",
      "X=[600000, 56.87], Predicted=1\n",
      "X=[601000, 56.87], Predicted=1\n",
      "X=[602000, 56.87], Predicted=1\n",
      "X=[603000, 56.87], Predicted=1\n",
      "X=[604000, 56.87], Predicted=1\n",
      "X=[605000, 56.87], Predicted=1\n",
      "X=[606000, 56.87], Predicted=1\n",
      "X=[607000, 56.87], Predicted=1\n",
      "X=[608000, 56.87], Predicted=1\n",
      "X=[609000, 56.87], Predicted=1\n",
      "X=[610000, 56.87], Predicted=1\n",
      "X=[611000, 56.87], Predicted=1\n",
      "X=[612000, 56.87], Predicted=1\n",
      "X=[613000, 56.87], Predicted=1\n",
      "X=[614000, 56.87], Predicted=1\n",
      "X=[615000, 56.87], Predicted=1\n",
      "X=[616000, 56.87], Predicted=1\n",
      "X=[617000, 56.87], Predicted=1\n",
      "X=[618000, 56.87], Predicted=1\n",
      "X=[619000, 56.87], Predicted=1\n",
      "X=[620000, 56.87], Predicted=1\n",
      "X=[621000, 56.87], Predicted=1\n",
      "X=[622000, 56.87], Predicted=1\n",
      "X=[623000, 56.87], Predicted=1\n",
      "X=[624000, 56.87], Predicted=1\n",
      "X=[625000, 56.87], Predicted=1\n",
      "X=[626000, 56.87], Predicted=1\n",
      "X=[627000, 56.87], Predicted=1\n",
      "X=[628000, 56.87], Predicted=1\n",
      "X=[629000, 56.87], Predicted=1\n",
      "X=[630000, 56.87], Predicted=1\n",
      "X=[631000, 56.87], Predicted=1\n",
      "X=[632000, 56.87], Predicted=1\n",
      "X=[633000, 56.87], Predicted=1\n",
      "X=[634000, 56.87], Predicted=1\n",
      "X=[635000, 56.87], Predicted=1\n",
      "X=[636000, 56.87], Predicted=1\n",
      "X=[637000, 56.87], Predicted=1\n",
      "X=[638000, 56.87], Predicted=1\n",
      "X=[639000, 56.87], Predicted=1\n",
      "X=[640000, 56.87], Predicted=1\n",
      "X=[641000, 56.87], Predicted=1\n",
      "X=[642000, 56.87], Predicted=1\n",
      "X=[643000, 56.87], Predicted=1\n",
      "X=[644000, 56.87], Predicted=1\n",
      "X=[645000, 56.87], Predicted=1\n",
      "X=[646000, 56.87], Predicted=1\n",
      "X=[647000, 56.87], Predicted=1\n",
      "X=[648000, 56.87], Predicted=1\n",
      "X=[649000, 56.87], Predicted=1\n",
      "X=[650000, 56.87], Predicted=1\n",
      "X=[651000, 56.87], Predicted=1\n",
      "X=[652000, 56.87], Predicted=1\n",
      "X=[653000, 56.87], Predicted=1\n",
      "X=[654000, 56.87], Predicted=1\n",
      "X=[655000, 56.87], Predicted=1\n",
      "X=[656000, 56.87], Predicted=1\n",
      "X=[657000, 56.87], Predicted=1\n",
      "X=[658000, 56.87], Predicted=1\n",
      "X=[659000, 56.87], Predicted=1\n",
      "X=[660000, 56.87], Predicted=1\n",
      "X=[661000, 56.87], Predicted=1\n",
      "X=[662000, 56.87], Predicted=1\n",
      "X=[663000, 56.87], Predicted=1\n",
      "X=[664000, 56.87], Predicted=1\n",
      "X=[665000, 56.87], Predicted=1\n",
      "X=[666000, 56.87], Predicted=1\n",
      "X=[667000, 56.87], Predicted=1\n",
      "X=[668000, 56.87], Predicted=1\n",
      "X=[669000, 56.87], Predicted=1\n",
      "X=[670000, 56.87], Predicted=1\n",
      "X=[671000, 56.87], Predicted=1\n",
      "X=[672000, 56.87], Predicted=1\n",
      "X=[673000, 56.87], Predicted=1\n",
      "X=[674000, 56.87], Predicted=1\n",
      "X=[675000, 56.87], Predicted=1\n",
      "X=[676000, 56.87], Predicted=1\n",
      "X=[677000, 56.87], Predicted=1\n",
      "X=[678000, 56.87], Predicted=1\n",
      "X=[679000, 56.87], Predicted=1\n",
      "X=[680000, 56.87], Predicted=1\n",
      "X=[681000, 56.87], Predicted=1\n",
      "X=[682000, 56.87], Predicted=1\n",
      "X=[683000, 56.87], Predicted=1\n",
      "X=[684000, 56.87], Predicted=1\n",
      "X=[685000, 56.87], Predicted=1\n",
      "X=[686000, 56.87], Predicted=1\n",
      "X=[687000, 56.87], Predicted=1\n",
      "X=[688000, 56.87], Predicted=1\n",
      "X=[689000, 56.87], Predicted=1\n",
      "X=[690000, 56.87], Predicted=1\n",
      "X=[691000, 56.87], Predicted=1\n",
      "X=[692000, 56.87], Predicted=1\n",
      "X=[693000, 56.87], Predicted=1\n",
      "X=[694000, 56.87], Predicted=1\n",
      "X=[695000, 56.87], Predicted=1\n",
      "X=[696000, 56.87], Predicted=1\n",
      "X=[697000, 56.87], Predicted=1\n",
      "X=[698000, 56.87], Predicted=1\n",
      "X=[699000, 56.87], Predicted=1\n",
      "X=[700000, 56.87], Predicted=1\n",
      "X=[701000, 56.87], Predicted=1\n",
      "X=[702000, 56.87], Predicted=1\n",
      "X=[703000, 56.87], Predicted=1\n",
      "X=[704000, 56.87], Predicted=1\n",
      "X=[705000, 56.87], Predicted=1\n",
      "X=[706000, 56.87], Predicted=1\n",
      "X=[707000, 56.87], Predicted=1\n",
      "X=[708000, 56.87], Predicted=1\n",
      "X=[709000, 56.87], Predicted=1\n",
      "X=[710000, 56.87], Predicted=1\n",
      "X=[711000, 56.87], Predicted=1\n",
      "X=[712000, 56.87], Predicted=1\n",
      "X=[713000, 56.87], Predicted=1\n",
      "X=[714000, 56.87], Predicted=1\n",
      "X=[715000, 56.87], Predicted=1\n",
      "X=[716000, 56.87], Predicted=1\n",
      "X=[717000, 56.87], Predicted=1\n",
      "X=[718000, 56.87], Predicted=1\n",
      "X=[719000, 56.87], Predicted=1\n",
      "X=[720000, 56.87], Predicted=1\n",
      "X=[721000, 56.87], Predicted=1\n",
      "X=[722000, 56.87], Predicted=1\n",
      "X=[723000, 56.87], Predicted=1\n",
      "X=[724000, 56.87], Predicted=1\n",
      "X=[725000, 56.87], Predicted=1\n",
      "X=[726000, 56.87], Predicted=1\n",
      "X=[727000, 56.87], Predicted=1\n",
      "X=[728000, 56.87], Predicted=1\n",
      "X=[729000, 56.87], Predicted=1\n",
      "X=[730000, 56.87], Predicted=1\n",
      "X=[731000, 56.87], Predicted=1\n",
      "X=[732000, 56.87], Predicted=1\n",
      "X=[733000, 56.87], Predicted=1\n",
      "X=[734000, 56.87], Predicted=1\n",
      "X=[735000, 56.87], Predicted=1\n",
      "X=[736000, 56.87], Predicted=1\n",
      "X=[737000, 56.87], Predicted=1\n",
      "X=[738000, 56.87], Predicted=1\n",
      "X=[739000, 56.87], Predicted=1\n",
      "X=[740000, 56.87], Predicted=1\n",
      "X=[741000, 56.87], Predicted=1\n",
      "X=[742000, 56.87], Predicted=1\n",
      "X=[743000, 56.87], Predicted=1\n",
      "X=[744000, 56.87], Predicted=1\n",
      "X=[745000, 56.87], Predicted=1\n",
      "X=[746000, 56.87], Predicted=1\n",
      "X=[747000, 56.87], Predicted=1\n",
      "X=[748000, 56.87], Predicted=1\n",
      "X=[749000, 56.87], Predicted=1\n"
     ]
    }
   ],
   "source": [
    "for i in range(0, 750000, 1000):\n",
    "    Xnew = [[i, 56.87]]\n",
    "    ynew = model.predict(Xnew)\n",
    "    print(\"X=%s, Predicted=%s\" % (Xnew[0], ynew[0]))"
   ]
  },
  {
   "cell_type": "code",
   "execution_count": 654,
   "id": "b4564c98",
   "metadata": {},
   "outputs": [
    {
     "name": "stderr",
     "output_type": "stream",
     "text": [
      "C:\\Users\\crathgeb-pc\\AppData\\Local\\Temp\\ipykernel_5524\\4050414696.py:2: UserWarning: FixedFormatter should only be used together with FixedLocator\n",
      "  graph.set_xticklabels(graph.get_xticklabels(), rotation=45, horizontalalignment='right')\n"
     ]
    },
    {
     "data": {
      "text/plain": [
       "[Text(0, 0, '201'),\n",
       " Text(1, 0, '202'),\n",
       " Text(2, 0, '203'),\n",
       " Text(3, 0, '204'),\n",
       " Text(4, 0, '205'),\n",
       " Text(5, 0, '206'),\n",
       " Text(6, 0, '207'),\n",
       " Text(7, 0, '208'),\n",
       " Text(8, 0, '209'),\n",
       " Text(9, 0, '210'),\n",
       " Text(10, 0, '211'),\n",
       " Text(11, 0, '212'),\n",
       " Text(12, 0, '213'),\n",
       " Text(13, 0, '214'),\n",
       " Text(14, 0, '215'),\n",
       " Text(15, 0, '216'),\n",
       " Text(16, 0, '217'),\n",
       " Text(17, 0, '218'),\n",
       " Text(18, 0, '219'),\n",
       " Text(19, 0, '220'),\n",
       " Text(20, 0, '221'),\n",
       " Text(21, 0, '222'),\n",
       " Text(22, 0, '223'),\n",
       " Text(23, 0, '224'),\n",
       " Text(24, 0, '225'),\n",
       " Text(25, 0, '226'),\n",
       " Text(26, 0, '227'),\n",
       " Text(27, 0, '228'),\n",
       " Text(28, 0, '229'),\n",
       " Text(29, 0, '230'),\n",
       " Text(30, 0, '231'),\n",
       " Text(31, 0, '232'),\n",
       " Text(32, 0, '233'),\n",
       " Text(33, 0, '234'),\n",
       " Text(34, 0, '235'),\n",
       " Text(35, 0, '236'),\n",
       " Text(36, 0, '237'),\n",
       " Text(37, 0, '238'),\n",
       " Text(38, 0, '239'),\n",
       " Text(39, 0, '240'),\n",
       " Text(40, 0, '241'),\n",
       " Text(41, 0, '242'),\n",
       " Text(42, 0, '243'),\n",
       " Text(43, 0, '244'),\n",
       " Text(44, 0, '245'),\n",
       " Text(45, 0, '246'),\n",
       " Text(46, 0, '247'),\n",
       " Text(47, 0, '248'),\n",
       " Text(48, 0, '249'),\n",
       " Text(49, 0, '250'),\n",
       " Text(50, 0, '251'),\n",
       " Text(51, 0, '252'),\n",
       " Text(52, 0, '253'),\n",
       " Text(53, 0, '254'),\n",
       " Text(54, 0, '255'),\n",
       " Text(55, 0, '256'),\n",
       " Text(56, 0, '257'),\n",
       " Text(57, 0, '258'),\n",
       " Text(58, 0, '259'),\n",
       " Text(59, 0, '260'),\n",
       " Text(60, 0, '261'),\n",
       " Text(61, 0, '262'),\n",
       " Text(62, 0, '263'),\n",
       " Text(63, 0, '264'),\n",
       " Text(64, 0, '265'),\n",
       " Text(65, 0, '266'),\n",
       " Text(66, 0, '267'),\n",
       " Text(67, 0, '268'),\n",
       " Text(68, 0, '269'),\n",
       " Text(69, 0, '270'),\n",
       " Text(70, 0, '271'),\n",
       " Text(71, 0, '272'),\n",
       " Text(72, 0, '273'),\n",
       " Text(73, 0, '274'),\n",
       " Text(74, 0, '275'),\n",
       " Text(75, 0, '276'),\n",
       " Text(76, 0, '277'),\n",
       " Text(77, 0, '278'),\n",
       " Text(78, 0, '279'),\n",
       " Text(79, 0, '280'),\n",
       " Text(80, 0, '281'),\n",
       " Text(81, 0, '282'),\n",
       " Text(82, 0, '283'),\n",
       " Text(83, 0, '284'),\n",
       " Text(84, 0, '285'),\n",
       " Text(85, 0, '286'),\n",
       " Text(86, 0, '287'),\n",
       " Text(87, 0, '288'),\n",
       " Text(88, 0, '289'),\n",
       " Text(89, 0, '290'),\n",
       " Text(90, 0, '291'),\n",
       " Text(91, 0, '292'),\n",
       " Text(92, 0, '293'),\n",
       " Text(93, 0, '294'),\n",
       " Text(94, 0, '295'),\n",
       " Text(95, 0, '296'),\n",
       " Text(96, 0, '297'),\n",
       " Text(97, 0, '298'),\n",
       " Text(98, 0, '299'),\n",
       " Text(99, 0, '300'),\n",
       " Text(100, 0, '301'),\n",
       " Text(101, 0, '302'),\n",
       " Text(102, 0, '303'),\n",
       " Text(103, 0, '304'),\n",
       " Text(104, 0, '305'),\n",
       " Text(105, 0, '306'),\n",
       " Text(106, 0, '307'),\n",
       " Text(107, 0, '308'),\n",
       " Text(108, 0, '309'),\n",
       " Text(109, 0, '310'),\n",
       " Text(110, 0, '311'),\n",
       " Text(111, 0, '312'),\n",
       " Text(112, 0, '313'),\n",
       " Text(113, 0, '314'),\n",
       " Text(114, 0, '315'),\n",
       " Text(115, 0, '316'),\n",
       " Text(116, 0, '317'),\n",
       " Text(117, 0, '318'),\n",
       " Text(118, 0, '319'),\n",
       " Text(119, 0, '320'),\n",
       " Text(120, 0, '321'),\n",
       " Text(121, 0, '322'),\n",
       " Text(122, 0, '323'),\n",
       " Text(123, 0, '324'),\n",
       " Text(124, 0, '325'),\n",
       " Text(125, 0, '326'),\n",
       " Text(126, 0, '327'),\n",
       " Text(127, 0, '328'),\n",
       " Text(128, 0, '329'),\n",
       " Text(129, 0, '330'),\n",
       " Text(130, 0, '331'),\n",
       " Text(131, 0, '332'),\n",
       " Text(132, 0, '333'),\n",
       " Text(133, 0, '334'),\n",
       " Text(134, 0, '335'),\n",
       " Text(135, 0, '336'),\n",
       " Text(136, 0, '337'),\n",
       " Text(137, 0, '338'),\n",
       " Text(138, 0, '339'),\n",
       " Text(139, 0, '340'),\n",
       " Text(140, 0, '341'),\n",
       " Text(141, 0, '342'),\n",
       " Text(142, 0, '343'),\n",
       " Text(143, 0, '344'),\n",
       " Text(144, 0, '345'),\n",
       " Text(145, 0, '346'),\n",
       " Text(146, 0, '347'),\n",
       " Text(147, 0, '348'),\n",
       " Text(148, 0, '349'),\n",
       " Text(149, 0, '350'),\n",
       " Text(150, 0, '351'),\n",
       " Text(151, 0, '352'),\n",
       " Text(152, 0, '353'),\n",
       " Text(153, 0, '354'),\n",
       " Text(154, 0, '355'),\n",
       " Text(155, 0, '356'),\n",
       " Text(156, 0, '357'),\n",
       " Text(157, 0, '358'),\n",
       " Text(158, 0, '359'),\n",
       " Text(159, 0, '360'),\n",
       " Text(160, 0, '361'),\n",
       " Text(161, 0, '362'),\n",
       " Text(162, 0, '363'),\n",
       " Text(163, 0, '364'),\n",
       " Text(164, 0, '365'),\n",
       " Text(165, 0, '366'),\n",
       " Text(166, 0, '367'),\n",
       " Text(167, 0, '368'),\n",
       " Text(168, 0, '369'),\n",
       " Text(169, 0, '370'),\n",
       " Text(170, 0, '371'),\n",
       " Text(171, 0, '372'),\n",
       " Text(172, 0, '373'),\n",
       " Text(173, 0, '374'),\n",
       " Text(174, 0, '375'),\n",
       " Text(175, 0, '376'),\n",
       " Text(176, 0, '377'),\n",
       " Text(177, 0, '378'),\n",
       " Text(178, 0, '379'),\n",
       " Text(179, 0, '380'),\n",
       " Text(180, 0, '381'),\n",
       " Text(181, 0, '382'),\n",
       " Text(182, 0, '383'),\n",
       " Text(183, 0, '384'),\n",
       " Text(184, 0, '385'),\n",
       " Text(185, 0, '386'),\n",
       " Text(186, 0, '387'),\n",
       " Text(187, 0, '388'),\n",
       " Text(188, 0, '389'),\n",
       " Text(189, 0, '390'),\n",
       " Text(190, 0, '391'),\n",
       " Text(191, 0, '392'),\n",
       " Text(192, 0, '393'),\n",
       " Text(193, 0, '394'),\n",
       " Text(194, 0, '395'),\n",
       " Text(195, 0, '396'),\n",
       " Text(196, 0, '397'),\n",
       " Text(197, 0, '398'),\n",
       " Text(198, 0, '399'),\n",
       " Text(199, 0, '400'),\n",
       " Text(200, 0, '401'),\n",
       " Text(201, 0, '402'),\n",
       " Text(202, 0, '403'),\n",
       " Text(203, 0, '404'),\n",
       " Text(204, 0, '405'),\n",
       " Text(205, 0, '406'),\n",
       " Text(206, 0, '407'),\n",
       " Text(207, 0, '408'),\n",
       " Text(208, 0, '409'),\n",
       " Text(209, 0, '410'),\n",
       " Text(210, 0, '411'),\n",
       " Text(211, 0, '412'),\n",
       " Text(212, 0, '413'),\n",
       " Text(213, 0, '414'),\n",
       " Text(214, 0, '415'),\n",
       " Text(215, 0, '416'),\n",
       " Text(216, 0, '417'),\n",
       " Text(217, 0, '418'),\n",
       " Text(218, 0, '419'),\n",
       " Text(219, 0, '420'),\n",
       " Text(220, 0, '421'),\n",
       " Text(221, 0, '422'),\n",
       " Text(222, 0, '423'),\n",
       " Text(223, 0, '424'),\n",
       " Text(224, 0, '425'),\n",
       " Text(225, 0, '426'),\n",
       " Text(226, 0, '427'),\n",
       " Text(227, 0, '428'),\n",
       " Text(228, 0, '429'),\n",
       " Text(229, 0, '430'),\n",
       " Text(230, 0, '431'),\n",
       " Text(231, 0, '432'),\n",
       " Text(232, 0, '433'),\n",
       " Text(233, 0, '434'),\n",
       " Text(234, 0, '435'),\n",
       " Text(235, 0, '436'),\n",
       " Text(236, 0, '437'),\n",
       " Text(237, 0, '438'),\n",
       " Text(238, 0, '439'),\n",
       " Text(239, 0, '440'),\n",
       " Text(240, 0, '441'),\n",
       " Text(241, 0, '442'),\n",
       " Text(242, 0, '443'),\n",
       " Text(243, 0, '444'),\n",
       " Text(244, 0, '445'),\n",
       " Text(245, 0, '446'),\n",
       " Text(246, 0, '447'),\n",
       " Text(247, 0, '448'),\n",
       " Text(248, 0, '449'),\n",
       " Text(249, 0, '450'),\n",
       " Text(250, 0, '451'),\n",
       " Text(251, 0, '452'),\n",
       " Text(252, 0, '453'),\n",
       " Text(253, 0, '454'),\n",
       " Text(254, 0, '455'),\n",
       " Text(255, 0, '456'),\n",
       " Text(256, 0, '457'),\n",
       " Text(257, 0, '458'),\n",
       " Text(258, 0, '459'),\n",
       " Text(259, 0, '460'),\n",
       " Text(260, 0, '461'),\n",
       " Text(261, 0, '462'),\n",
       " Text(262, 0, '463'),\n",
       " Text(263, 0, '464'),\n",
       " Text(264, 0, '465'),\n",
       " Text(265, 0, '466'),\n",
       " Text(266, 0, '467'),\n",
       " Text(267, 0, '468'),\n",
       " Text(268, 0, '469'),\n",
       " Text(269, 0, '470'),\n",
       " Text(270, 0, '471'),\n",
       " Text(271, 0, '472'),\n",
       " Text(272, 0, '473'),\n",
       " Text(273, 0, '474'),\n",
       " Text(274, 0, '475'),\n",
       " Text(275, 0, '476'),\n",
       " Text(276, 0, '477'),\n",
       " Text(277, 0, '478'),\n",
       " Text(278, 0, '479'),\n",
       " Text(279, 0, '480'),\n",
       " Text(280, 0, '481'),\n",
       " Text(281, 0, '482'),\n",
       " Text(282, 0, '483'),\n",
       " Text(283, 0, '484'),\n",
       " Text(284, 0, '485'),\n",
       " Text(285, 0, '486'),\n",
       " Text(286, 0, '487'),\n",
       " Text(287, 0, '488'),\n",
       " Text(288, 0, '489'),\n",
       " Text(289, 0, '490'),\n",
       " Text(290, 0, '491'),\n",
       " Text(291, 0, '492'),\n",
       " Text(292, 0, '493'),\n",
       " Text(293, 0, '494'),\n",
       " Text(294, 0, '495'),\n",
       " Text(295, 0, '496'),\n",
       " Text(296, 0, '497'),\n",
       " Text(297, 0, '498'),\n",
       " Text(298, 0, '499'),\n",
       " Text(299, 0, '500'),\n",
       " Text(300, 0, '501'),\n",
       " Text(301, 0, '502'),\n",
       " Text(302, 0, '503'),\n",
       " Text(303, 0, '504'),\n",
       " Text(304, 0, '505'),\n",
       " Text(305, 0, '506'),\n",
       " Text(306, 0, '507'),\n",
       " Text(307, 0, '508'),\n",
       " Text(308, 0, '509'),\n",
       " Text(309, 0, '510'),\n",
       " Text(310, 0, '511'),\n",
       " Text(311, 0, '512'),\n",
       " Text(312, 0, '513'),\n",
       " Text(313, 0, '514'),\n",
       " Text(314, 0, '515'),\n",
       " Text(315, 0, '516'),\n",
       " Text(316, 0, '517'),\n",
       " Text(317, 0, '518'),\n",
       " Text(318, 0, '519'),\n",
       " Text(319, 0, '520'),\n",
       " Text(320, 0, '521'),\n",
       " Text(321, 0, '522'),\n",
       " Text(322, 0, '523'),\n",
       " Text(323, 0, '524'),\n",
       " Text(324, 0, '525'),\n",
       " Text(325, 0, '526'),\n",
       " Text(326, 0, '527'),\n",
       " Text(327, 0, '528'),\n",
       " Text(328, 0, '529'),\n",
       " Text(329, 0, '530'),\n",
       " Text(330, 0, '531'),\n",
       " Text(331, 0, '532'),\n",
       " Text(332, 0, '533'),\n",
       " Text(333, 0, '534'),\n",
       " Text(334, 0, '535'),\n",
       " Text(335, 0, '536'),\n",
       " Text(336, 0, '537'),\n",
       " Text(337, 0, '538'),\n",
       " Text(338, 0, '539'),\n",
       " Text(339, 0, '540'),\n",
       " Text(340, 0, '541'),\n",
       " Text(341, 0, '542'),\n",
       " Text(342, 0, '543'),\n",
       " Text(343, 0, '544'),\n",
       " Text(344, 0, '545'),\n",
       " Text(345, 0, '546'),\n",
       " Text(346, 0, '547'),\n",
       " Text(347, 0, '548'),\n",
       " Text(348, 0, '549'),\n",
       " Text(349, 0, '550'),\n",
       " Text(350, 0, '551'),\n",
       " Text(351, 0, '552'),\n",
       " Text(352, 0, '553'),\n",
       " Text(353, 0, '554'),\n",
       " Text(354, 0, '555'),\n",
       " Text(355, 0, '556'),\n",
       " Text(356, 0, '557'),\n",
       " Text(357, 0, '558'),\n",
       " Text(358, 0, '559'),\n",
       " Text(359, 0, '560'),\n",
       " Text(360, 0, '561'),\n",
       " Text(361, 0, '562'),\n",
       " Text(362, 0, '563'),\n",
       " Text(363, 0, '564'),\n",
       " Text(364, 0, '565'),\n",
       " Text(365, 0, '566'),\n",
       " Text(366, 0, '567'),\n",
       " Text(367, 0, '568'),\n",
       " Text(368, 0, '569'),\n",
       " Text(369, 0, '570'),\n",
       " Text(370, 0, '571'),\n",
       " Text(371, 0, '572'),\n",
       " Text(372, 0, '573'),\n",
       " Text(373, 0, '574'),\n",
       " Text(374, 0, '575'),\n",
       " Text(375, 0, '577'),\n",
       " Text(376, 0, '578'),\n",
       " Text(377, 0, '579'),\n",
       " Text(378, 0, '580'),\n",
       " Text(379, 0, '581'),\n",
       " Text(380, 0, '582'),\n",
       " Text(381, 0, '583'),\n",
       " Text(382, 0, '584'),\n",
       " Text(383, 0, '585'),\n",
       " Text(384, 0, '586'),\n",
       " Text(385, 0, '587'),\n",
       " Text(386, 0, '588'),\n",
       " Text(387, 0, '589'),\n",
       " Text(388, 0, '590'),\n",
       " Text(389, 0, '591'),\n",
       " Text(390, 0, '592'),\n",
       " Text(391, 0, '593'),\n",
       " Text(392, 0, '594'),\n",
       " Text(393, 0, '595'),\n",
       " Text(394, 0, '596'),\n",
       " Text(395, 0, '597'),\n",
       " Text(396, 0, '598'),\n",
       " Text(397, 0, '599'),\n",
       " Text(398, 0, '600'),\n",
       " Text(399, 0, '601'),\n",
       " Text(400, 0, '602'),\n",
       " Text(401, 0, '603'),\n",
       " Text(402, 0, '604'),\n",
       " Text(403, 0, '605'),\n",
       " Text(404, 0, '606'),\n",
       " Text(405, 0, '607'),\n",
       " Text(406, 0, '608'),\n",
       " Text(407, 0, '609'),\n",
       " Text(408, 0, '610'),\n",
       " Text(409, 0, '611'),\n",
       " Text(410, 0, '612'),\n",
       " Text(411, 0, '613'),\n",
       " Text(412, 0, '614'),\n",
       " Text(413, 0, '615'),\n",
       " Text(414, 0, '616'),\n",
       " Text(415, 0, '617'),\n",
       " Text(416, 0, '618'),\n",
       " Text(417, 0, '619'),\n",
       " Text(418, 0, '620'),\n",
       " Text(419, 0, '621'),\n",
       " Text(420, 0, '622'),\n",
       " Text(421, 0, '623'),\n",
       " Text(422, 0, '624'),\n",
       " Text(423, 0, '625'),\n",
       " Text(424, 0, '626'),\n",
       " Text(425, 0, '627'),\n",
       " Text(426, 0, '628'),\n",
       " Text(427, 0, '629'),\n",
       " Text(428, 0, '630'),\n",
       " Text(429, 0, '631'),\n",
       " Text(430, 0, '632'),\n",
       " Text(431, 0, '633'),\n",
       " Text(432, 0, '634'),\n",
       " Text(433, 0, '635'),\n",
       " Text(434, 0, '637'),\n",
       " Text(435, 0, '638'),\n",
       " Text(436, 0, '639'),\n",
       " Text(437, 0, '640'),\n",
       " Text(438, 0, '641'),\n",
       " Text(439, 0, '642'),\n",
       " Text(440, 0, '643'),\n",
       " Text(441, 0, '644'),\n",
       " Text(442, 0, '645'),\n",
       " Text(443, 0, '646'),\n",
       " Text(444, 0, '647'),\n",
       " Text(445, 0, '648'),\n",
       " Text(446, 0, '649'),\n",
       " Text(447, 0, '650'),\n",
       " Text(448, 0, '651'),\n",
       " Text(449, 0, '652'),\n",
       " Text(450, 0, '653'),\n",
       " Text(451, 0, '654'),\n",
       " Text(452, 0, '655'),\n",
       " Text(453, 0, '656'),\n",
       " Text(454, 0, '657'),\n",
       " Text(455, 0, '658'),\n",
       " Text(456, 0, '659'),\n",
       " Text(457, 0, '660'),\n",
       " Text(458, 0, '661'),\n",
       " Text(459, 0, '662'),\n",
       " Text(460, 0, '663'),\n",
       " Text(461, 0, '664'),\n",
       " Text(462, 0, '665'),\n",
       " Text(463, 0, '666'),\n",
       " Text(464, 0, '667'),\n",
       " Text(465, 0, '669'),\n",
       " Text(466, 0, '670'),\n",
       " Text(467, 0, '671'),\n",
       " Text(468, 0, '672'),\n",
       " Text(469, 0, '673'),\n",
       " Text(470, 0, '674'),\n",
       " Text(471, 0, '675'),\n",
       " Text(472, 0, '676'),\n",
       " Text(473, 0, '677'),\n",
       " Text(474, 0, '678'),\n",
       " Text(475, 0, '679'),\n",
       " Text(476, 0, '680'),\n",
       " Text(477, 0, '681'),\n",
       " Text(478, 0, '682'),\n",
       " Text(479, 0, '683'),\n",
       " Text(480, 0, '684'),\n",
       " Text(481, 0, '685'),\n",
       " Text(482, 0, '686'),\n",
       " Text(483, 0, '687'),\n",
       " Text(484, 0, '688'),\n",
       " Text(485, 0, '689'),\n",
       " Text(486, 0, '690'),\n",
       " Text(487, 0, '691'),\n",
       " Text(488, 0, '692'),\n",
       " Text(489, 0, '693'),\n",
       " Text(490, 0, '694'),\n",
       " Text(491, 0, '695'),\n",
       " Text(492, 0, '696'),\n",
       " Text(493, 0, '697'),\n",
       " Text(494, 0, '698'),\n",
       " Text(495, 0, '699'),\n",
       " Text(496, 0, '700'),\n",
       " Text(497, 0, '701'),\n",
       " Text(498, 0, '702'),\n",
       " Text(499, 0, '703'),\n",
       " Text(500, 0, '704'),\n",
       " Text(501, 0, '705'),\n",
       " Text(502, 0, '706'),\n",
       " Text(503, 0, '707'),\n",
       " Text(504, 0, '708'),\n",
       " Text(505, 0, '709'),\n",
       " Text(506, 0, '710'),\n",
       " Text(507, 0, '711'),\n",
       " Text(508, 0, '712'),\n",
       " Text(509, 0, '713'),\n",
       " Text(510, 0, '714'),\n",
       " Text(511, 0, '715'),\n",
       " Text(512, 0, '716'),\n",
       " Text(513, 0, '717'),\n",
       " Text(514, 0, '718'),\n",
       " Text(515, 0, '719'),\n",
       " Text(516, 0, '720'),\n",
       " Text(517, 0, '721'),\n",
       " Text(518, 0, '722'),\n",
       " Text(519, 0, '723'),\n",
       " Text(520, 0, '724'),\n",
       " Text(521, 0, '725'),\n",
       " Text(522, 0, '726'),\n",
       " Text(523, 0, '727'),\n",
       " Text(524, 0, '728'),\n",
       " Text(525, 0, '729'),\n",
       " Text(526, 0, '730'),\n",
       " Text(527, 0, '731'),\n",
       " Text(528, 0, '732'),\n",
       " Text(529, 0, '733'),\n",
       " Text(530, 0, '734'),\n",
       " Text(531, 0, '735'),\n",
       " Text(532, 0, '736'),\n",
       " Text(533, 0, '737'),\n",
       " Text(534, 0, '738'),\n",
       " Text(535, 0, '739'),\n",
       " Text(536, 0, '740'),\n",
       " Text(537, 0, '741'),\n",
       " Text(538, 0, '742'),\n",
       " Text(539, 0, '743'),\n",
       " Text(540, 0, '744'),\n",
       " Text(541, 0, '745'),\n",
       " Text(542, 0, '746'),\n",
       " Text(543, 0, '747'),\n",
       " Text(544, 0, '748'),\n",
       " Text(545, 0, '749'),\n",
       " Text(546, 0, '750'),\n",
       " Text(547, 0, '751'),\n",
       " Text(548, 0, '752'),\n",
       " Text(549, 0, '753'),\n",
       " Text(550, 0, '754'),\n",
       " Text(551, 0, '755'),\n",
       " Text(552, 0, '756'),\n",
       " Text(553, 0, '757'),\n",
       " Text(554, 0, '758'),\n",
       " Text(555, 0, '759'),\n",
       " Text(556, 0, '760'),\n",
       " Text(557, 0, '761'),\n",
       " Text(558, 0, '762'),\n",
       " Text(559, 0, '763'),\n",
       " Text(560, 0, '764'),\n",
       " Text(561, 0, '765'),\n",
       " Text(562, 0, '766'),\n",
       " Text(563, 0, '767'),\n",
       " Text(564, 0, '768'),\n",
       " Text(565, 0, '769'),\n",
       " Text(566, 0, '770'),\n",
       " Text(567, 0, '771'),\n",
       " Text(568, 0, '772'),\n",
       " Text(569, 0, '773'),\n",
       " Text(570, 0, '774'),\n",
       " Text(571, 0, '775'),\n",
       " Text(572, 0, '776'),\n",
       " Text(573, 0, '777'),\n",
       " Text(574, 0, '778'),\n",
       " Text(575, 0, '779'),\n",
       " Text(576, 0, '780'),\n",
       " Text(577, 0, '781'),\n",
       " Text(578, 0, '782'),\n",
       " Text(579, 0, '783'),\n",
       " Text(580, 0, '784'),\n",
       " Text(581, 0, '785'),\n",
       " Text(582, 0, '786'),\n",
       " Text(583, 0, '787'),\n",
       " Text(584, 0, '788'),\n",
       " Text(585, 0, '789'),\n",
       " Text(586, 0, '790'),\n",
       " Text(587, 0, '791'),\n",
       " Text(588, 0, '792'),\n",
       " Text(589, 0, '793'),\n",
       " Text(590, 0, '794'),\n",
       " Text(591, 0, '795'),\n",
       " Text(592, 0, '796'),\n",
       " Text(593, 0, '797'),\n",
       " Text(594, 0, '798'),\n",
       " Text(595, 0, '799'),\n",
       " Text(596, 0, '800'),\n",
       " Text(597, 0, '801'),\n",
       " Text(598, 0, '802'),\n",
       " Text(599, 0, '803'),\n",
       " Text(600, 0, '804'),\n",
       " Text(601, 0, '805'),\n",
       " Text(602, 0, '806'),\n",
       " Text(603, 0, '807'),\n",
       " Text(604, 0, '808'),\n",
       " Text(605, 0, '809'),\n",
       " Text(606, 0, '810'),\n",
       " Text(607, 0, '811'),\n",
       " Text(608, 0, '812'),\n",
       " Text(609, 0, '813'),\n",
       " Text(610, 0, '814'),\n",
       " Text(611, 0, '815'),\n",
       " Text(612, 0, '816'),\n",
       " Text(613, 0, '817'),\n",
       " Text(614, 0, '818'),\n",
       " Text(615, 0, '819'),\n",
       " Text(616, 0, '820'),\n",
       " Text(617, 0, '821'),\n",
       " Text(618, 0, '822'),\n",
       " Text(619, 0, '823'),\n",
       " Text(620, 0, '824'),\n",
       " Text(621, 0, '825'),\n",
       " Text(622, 0, '826'),\n",
       " Text(623, 0, '827'),\n",
       " Text(624, 0, '828'),\n",
       " Text(625, 0, '829'),\n",
       " Text(626, 0, '830'),\n",
       " Text(627, 0, '831'),\n",
       " Text(628, 0, '832'),\n",
       " Text(629, 0, '833'),\n",
       " Text(630, 0, '834'),\n",
       " Text(631, 0, '835'),\n",
       " Text(632, 0, '836'),\n",
       " Text(633, 0, '837'),\n",
       " Text(634, 0, '838'),\n",
       " Text(635, 0, '839'),\n",
       " Text(636, 0, '840'),\n",
       " Text(637, 0, '841'),\n",
       " Text(638, 0, '842'),\n",
       " Text(639, 0, '843'),\n",
       " Text(640, 0, '844'),\n",
       " Text(641, 0, '845'),\n",
       " Text(642, 0, '846'),\n",
       " Text(643, 0, '847'),\n",
       " Text(644, 0, '848'),\n",
       " Text(645, 0, '849'),\n",
       " Text(646, 0, '850'),\n",
       " Text(647, 0, '851'),\n",
       " Text(648, 0, '852'),\n",
       " Text(649, 0, '853'),\n",
       " Text(650, 0, '854'),\n",
       " Text(651, 0, '855'),\n",
       " Text(652, 0, '856'),\n",
       " Text(653, 0, '857'),\n",
       " Text(654, 0, '858'),\n",
       " Text(655, 0, '859'),\n",
       " Text(656, 0, '860'),\n",
       " Text(657, 0, '861'),\n",
       " Text(658, 0, '862'),\n",
       " Text(659, 0, '863'),\n",
       " Text(660, 0, '864'),\n",
       " Text(661, 0, '865'),\n",
       " Text(662, 0, '866'),\n",
       " Text(663, 0, '867'),\n",
       " Text(664, 0, '868'),\n",
       " Text(665, 0, '869'),\n",
       " Text(666, 0, '870'),\n",
       " Text(667, 0, '871'),\n",
       " Text(668, 0, '872'),\n",
       " Text(669, 0, '873'),\n",
       " Text(670, 0, '874'),\n",
       " Text(671, 0, '875'),\n",
       " Text(672, 0, '876'),\n",
       " Text(673, 0, '877'),\n",
       " Text(674, 0, '878'),\n",
       " Text(675, 0, '879'),\n",
       " Text(676, 0, '880'),\n",
       " Text(677, 0, '881'),\n",
       " Text(678, 0, '882'),\n",
       " Text(679, 0, '883'),\n",
       " Text(680, 0, '884'),\n",
       " Text(681, 0, '885'),\n",
       " Text(682, 0, '886'),\n",
       " Text(683, 0, '887'),\n",
       " Text(684, 0, '888'),\n",
       " Text(685, 0, '889'),\n",
       " Text(686, 0, '890'),\n",
       " Text(687, 0, '891'),\n",
       " Text(688, 0, '892'),\n",
       " Text(689, 0, '893'),\n",
       " Text(690, 0, '894'),\n",
       " Text(691, 0, '895'),\n",
       " Text(692, 0, '896'),\n",
       " Text(693, 0, '897'),\n",
       " Text(694, 0, '898'),\n",
       " Text(695, 0, '899'),\n",
       " Text(696, 0, '900'),\n",
       " Text(697, 0, '901'),\n",
       " Text(698, 0, '902'),\n",
       " Text(699, 0, '903'),\n",
       " Text(700, 0, '904'),\n",
       " Text(701, 0, '905'),\n",
       " Text(702, 0, '906'),\n",
       " Text(703, 0, '907'),\n",
       " Text(704, 0, '908'),\n",
       " Text(705, 0, '909'),\n",
       " Text(706, 0, '910'),\n",
       " Text(707, 0, '911'),\n",
       " Text(708, 0, '912'),\n",
       " Text(709, 0, '913'),\n",
       " Text(710, 0, '914'),\n",
       " Text(711, 0, '915'),\n",
       " Text(712, 0, '916'),\n",
       " Text(713, 0, '917'),\n",
       " Text(714, 0, '918'),\n",
       " Text(715, 0, '919'),\n",
       " Text(716, 0, '920'),\n",
       " Text(717, 0, '921'),\n",
       " Text(718, 0, '922'),\n",
       " Text(719, 0, '923'),\n",
       " Text(720, 0, '924'),\n",
       " Text(721, 0, '925'),\n",
       " Text(722, 0, '926'),\n",
       " Text(723, 0, '927'),\n",
       " Text(724, 0, '928'),\n",
       " Text(725, 0, '929'),\n",
       " Text(726, 0, '930'),\n",
       " Text(727, 0, '931'),\n",
       " Text(728, 0, '932'),\n",
       " Text(729, 0, '933'),\n",
       " Text(730, 0, '934'),\n",
       " Text(731, 0, '935'),\n",
       " Text(732, 0, '936'),\n",
       " Text(733, 0, '937'),\n",
       " Text(734, 0, '938'),\n",
       " Text(735, 0, '939'),\n",
       " Text(736, 0, '940'),\n",
       " Text(737, 0, '941'),\n",
       " Text(738, 0, '942'),\n",
       " Text(739, 0, '943'),\n",
       " Text(740, 0, '944'),\n",
       " Text(741, 0, '945'),\n",
       " Text(742, 0, '946'),\n",
       " Text(743, 0, '947'),\n",
       " Text(744, 0, '948'),\n",
       " Text(745, 0, '949'),\n",
       " Text(746, 0, '950'),\n",
       " Text(747, 0, '951'),\n",
       " Text(748, 0, '952'),\n",
       " Text(749, 0, '953'),\n",
       " Text(750, 0, '954'),\n",
       " Text(751, 0, '955'),\n",
       " Text(752, 0, '956'),\n",
       " Text(753, 0, '957'),\n",
       " Text(754, 0, '958'),\n",
       " Text(755, 0, '959'),\n",
       " Text(756, 0, '960'),\n",
       " Text(757, 0, '961'),\n",
       " Text(758, 0, '962'),\n",
       " Text(759, 0, '964'),\n",
       " Text(760, 0, '965'),\n",
       " Text(761, 0, '966'),\n",
       " Text(762, 0, '967'),\n",
       " Text(763, 0, '969'),\n",
       " Text(764, 0, '970'),\n",
       " Text(765, 0, '971'),\n",
       " Text(766, 0, '972'),\n",
       " Text(767, 0, '973'),\n",
       " Text(768, 0, '974'),\n",
       " Text(769, 0, '975'),\n",
       " Text(770, 0, '976'),\n",
       " Text(771, 0, '977'),\n",
       " Text(772, 0, '978'),\n",
       " Text(773, 0, '979'),\n",
       " Text(774, 0, '980'),\n",
       " Text(775, 0, '981'),\n",
       " Text(776, 0, '982'),\n",
       " Text(777, 0, '983'),\n",
       " Text(778, 0, '985'),\n",
       " Text(779, 0, '986'),\n",
       " Text(780, 0, '987'),\n",
       " Text(781, 0, '988'),\n",
       " Text(782, 0, '989'),\n",
       " Text(783, 0, '990'),\n",
       " Text(784, 0, '991'),\n",
       " Text(785, 0, '992'),\n",
       " Text(786, 0, '993'),\n",
       " Text(787, 0, '994'),\n",
       " Text(788, 0, '995'),\n",
       " Text(789, 0, '997'),\n",
       " Text(790, 0, '998'),\n",
       " Text(791, 0, '999'),\n",
       " Text(792, 0, '1000'),\n",
       " Text(793, 0, '1001'),\n",
       " Text(794, 0, '1002'),\n",
       " Text(795, 0, '1004'),\n",
       " Text(796, 0, '1005'),\n",
       " Text(797, 0, '1006'),\n",
       " Text(798, 0, '1007'),\n",
       " Text(799, 0, '1008'),\n",
       " Text(800, 0, '1009'),\n",
       " Text(801, 0, '1010'),\n",
       " Text(802, 0, '1011'),\n",
       " Text(803, 0, '1012'),\n",
       " Text(804, 0, '1013'),\n",
       " Text(805, 0, '1014'),\n",
       " Text(806, 0, '1015'),\n",
       " Text(807, 0, '1016'),\n",
       " Text(808, 0, '1017'),\n",
       " Text(809, 0, '1018'),\n",
       " Text(810, 0, '1019'),\n",
       " Text(811, 0, '1020'),\n",
       " Text(812, 0, '1022'),\n",
       " Text(813, 0, '1023'),\n",
       " Text(814, 0, '1024'),\n",
       " Text(815, 0, '1025'),\n",
       " Text(816, 0, '1026'),\n",
       " Text(817, 0, '1027'),\n",
       " Text(818, 0, '1028'),\n",
       " Text(819, 0, '1029'),\n",
       " Text(820, 0, '1030'),\n",
       " Text(821, 0, '1031'),\n",
       " Text(822, 0, '1032'),\n",
       " Text(823, 0, '1034'),\n",
       " Text(824, 0, '1035'),\n",
       " Text(825, 0, '1036'),\n",
       " Text(826, 0, '1037'),\n",
       " Text(827, 0, '1038'),\n",
       " Text(828, 0, '1039'),\n",
       " Text(829, 0, '1040'),\n",
       " Text(830, 0, '1041'),\n",
       " Text(831, 0, '1042'),\n",
       " Text(832, 0, '1043'),\n",
       " Text(833, 0, '1044'),\n",
       " Text(834, 0, '1045'),\n",
       " Text(835, 0, '1046'),\n",
       " Text(836, 0, '1047'),\n",
       " Text(837, 0, '1048'),\n",
       " Text(838, 0, '1049'),\n",
       " Text(839, 0, '1050'),\n",
       " Text(840, 0, '1051'),\n",
       " Text(841, 0, '1052'),\n",
       " Text(842, 0, '1053'),\n",
       " Text(843, 0, '1054'),\n",
       " Text(844, 0, '1055'),\n",
       " Text(845, 0, '1056'),\n",
       " Text(846, 0, '1057'),\n",
       " Text(847, 0, '1058'),\n",
       " Text(848, 0, '1059'),\n",
       " Text(849, 0, '1060'),\n",
       " Text(850, 0, '1061'),\n",
       " Text(851, 0, '1062'),\n",
       " Text(852, 0, '1063'),\n",
       " Text(853, 0, '1064'),\n",
       " Text(854, 0, '1065'),\n",
       " Text(855, 0, '1066'),\n",
       " Text(856, 0, '1067'),\n",
       " Text(857, 0, '1068'),\n",
       " Text(858, 0, '1069'),\n",
       " Text(859, 0, '1070'),\n",
       " Text(860, 0, '1071'),\n",
       " Text(861, 0, '1072'),\n",
       " Text(862, 0, '1073'),\n",
       " Text(863, 0, '1074'),\n",
       " Text(864, 0, '1075'),\n",
       " Text(865, 0, '1076'),\n",
       " Text(866, 0, '1077'),\n",
       " Text(867, 0, '1078'),\n",
       " Text(868, 0, '1080'),\n",
       " Text(869, 0, '1081'),\n",
       " Text(870, 0, '1082'),\n",
       " Text(871, 0, '1083'),\n",
       " Text(872, 0, '1084'),\n",
       " Text(873, 0, '1085'),\n",
       " Text(874, 0, '1086'),\n",
       " Text(875, 0, '1087'),\n",
       " Text(876, 0, '1088'),\n",
       " Text(877, 0, '1091'),\n",
       " Text(878, 0, '1092'),\n",
       " Text(879, 0, '1093'),\n",
       " Text(880, 0, '1094'),\n",
       " Text(881, 0, '1095'),\n",
       " Text(882, 0, '1096'),\n",
       " Text(883, 0, '1097'),\n",
       " Text(884, 0, '1098'),\n",
       " Text(885, 0, '1099'),\n",
       " Text(886, 0, '1100'),\n",
       " Text(887, 0, '1101'),\n",
       " Text(888, 0, '1102'),\n",
       " Text(889, 0, '1103'),\n",
       " Text(890, 0, '1104'),\n",
       " Text(891, 0, '1105'),\n",
       " Text(892, 0, '1106'),\n",
       " Text(893, 0, '1107'),\n",
       " Text(894, 0, '1108'),\n",
       " Text(895, 0, '1109'),\n",
       " Text(896, 0, '1110'),\n",
       " Text(897, 0, '1111'),\n",
       " Text(898, 0, '1112'),\n",
       " Text(899, 0, '1113'),\n",
       " Text(900, 0, '1114'),\n",
       " Text(901, 0, '1115'),\n",
       " Text(902, 0, '1116'),\n",
       " Text(903, 0, '1117'),\n",
       " Text(904, 0, '1118'),\n",
       " Text(905, 0, '1119'),\n",
       " Text(906, 0, '1120'),\n",
       " Text(907, 0, '1121'),\n",
       " Text(908, 0, '1122'),\n",
       " Text(909, 0, '1123'),\n",
       " Text(910, 0, '1124'),\n",
       " Text(911, 0, '1125'),\n",
       " Text(912, 0, '1126'),\n",
       " Text(913, 0, '1127'),\n",
       " Text(914, 0, '1128'),\n",
       " Text(915, 0, '1129'),\n",
       " Text(916, 0, '1130'),\n",
       " Text(917, 0, '1131'),\n",
       " Text(918, 0, '1132'),\n",
       " Text(919, 0, '1133'),\n",
       " Text(920, 0, '1134'),\n",
       " Text(921, 0, '1135'),\n",
       " Text(922, 0, '1136'),\n",
       " Text(923, 0, '1137'),\n",
       " Text(924, 0, '1138'),\n",
       " Text(925, 0, '1139'),\n",
       " Text(926, 0, '1140'),\n",
       " Text(927, 0, '1141'),\n",
       " Text(928, 0, '1142'),\n",
       " Text(929, 0, '1143'),\n",
       " Text(930, 0, '1144'),\n",
       " Text(931, 0, '1145'),\n",
       " Text(932, 0, '1146'),\n",
       " Text(933, 0, '1147'),\n",
       " Text(934, 0, '1148'),\n",
       " Text(935, 0, '1149'),\n",
       " Text(936, 0, '1150'),\n",
       " Text(937, 0, '1151'),\n",
       " Text(938, 0, '1152'),\n",
       " Text(939, 0, '1153'),\n",
       " Text(940, 0, '1154'),\n",
       " Text(941, 0, '1155'),\n",
       " Text(942, 0, '1156'),\n",
       " Text(943, 0, '1157'),\n",
       " Text(944, 0, '1158'),\n",
       " Text(945, 0, '1159'),\n",
       " Text(946, 0, '1160'),\n",
       " Text(947, 0, '1161'),\n",
       " Text(948, 0, '1162'),\n",
       " Text(949, 0, '1163'),\n",
       " Text(950, 0, '1164'),\n",
       " Text(951, 0, '1165'),\n",
       " Text(952, 0, '1166'),\n",
       " Text(953, 0, '1168'),\n",
       " Text(954, 0, '1169'),\n",
       " Text(955, 0, '1170'),\n",
       " Text(956, 0, '1171'),\n",
       " Text(957, 0, '1172'),\n",
       " Text(958, 0, '1173'),\n",
       " Text(959, 0, '1174'),\n",
       " Text(960, 0, '1175'),\n",
       " Text(961, 0, '1176'),\n",
       " Text(962, 0, '1177'),\n",
       " Text(963, 0, '1178'),\n",
       " Text(964, 0, '1179'),\n",
       " Text(965, 0, '1180'),\n",
       " Text(966, 0, '1181'),\n",
       " Text(967, 0, '1182'),\n",
       " Text(968, 0, '1183'),\n",
       " Text(969, 0, '1184'),\n",
       " Text(970, 0, '1186'),\n",
       " Text(971, 0, '1187'),\n",
       " Text(972, 0, '1188'),\n",
       " Text(973, 0, '1189'),\n",
       " Text(974, 0, '1190'),\n",
       " Text(975, 0, '1191'),\n",
       " Text(976, 0, '1192'),\n",
       " Text(977, 0, '1193'),\n",
       " Text(978, 0, '1194'),\n",
       " Text(979, 0, '1196'),\n",
       " Text(980, 0, '1197'),\n",
       " Text(981, 0, '1198'),\n",
       " Text(982, 0, '1199'),\n",
       " Text(983, 0, '1200'),\n",
       " Text(984, 0, '1201'),\n",
       " Text(985, 0, '1202'),\n",
       " Text(986, 0, '1203'),\n",
       " Text(987, 0, '1204'),\n",
       " Text(988, 0, '1205'),\n",
       " Text(989, 0, '1206'),\n",
       " Text(990, 0, '1207'),\n",
       " Text(991, 0, '1208'),\n",
       " Text(992, 0, '1209'),\n",
       " Text(993, 0, '1210'),\n",
       " Text(994, 0, '1211'),\n",
       " Text(995, 0, '1212'),\n",
       " Text(996, 0, '1213'),\n",
       " Text(997, 0, '1214'),\n",
       " Text(998, 0, '1215'),\n",
       " Text(999, 0, '1216'),\n",
       " ...]"
      ]
     },
     "execution_count": 654,
     "metadata": {},
     "output_type": "execute_result"
    },
    {
     "name": "stderr",
     "output_type": "stream",
     "text": [
      "C:\\Users\\crathgeb-pc\\anaconda3\\lib\\site-packages\\IPython\\core\\pylabtools.py:152: UserWarning: Creating legend with loc=\"best\" can be slow with large amounts of data.\n",
      "  fig.canvas.print_figure(bytes_io, **kw)\n",
      "C:\\Users\\crathgeb-pc\\anaconda3\\lib\\site-packages\\IPython\\core\\pylabtools.py:152: UserWarning: Creating legend with loc=\"best\" can be slow with large amounts of data.\n",
      "  fig.canvas.print_figure(bytes_io, **kw)\n",
      "C:\\Users\\crathgeb-pc\\anaconda3\\lib\\site-packages\\IPython\\core\\pylabtools.py:152: UserWarning: Creating legend with loc=\"best\" can be slow with large amounts of data.\n",
      "  fig.canvas.print_figure(bytes_io, **kw)\n"
     ]
    },
    {
     "data": {
      "image/png": "[encoded data removed]",
      "text/plain": [
       "<Figure size 640x480 with 1 Axes>"
      ]
     },
     "metadata": {},
     "output_type": "display_data"
    }
   ],
   "source": [
    "graph = sns.stripplot(data=total_num, x=\"Students_tested\", y=\"Reading_proficiency_rate\", hue=\"District_has_bans\")\n",
    "graph.set_xticklabels(graph.get_xticklabels(), rotation=45, horizontalalignment='right')"
   ]
  },
  {
   "cell_type": "markdown",
   "id": "0669afa4",
   "metadata": {},
   "source": [
    "## 8.1. Summary"
   ]
  },
  {
   "cell_type": "markdown",
   "id": "f5adf214",
   "metadata": {},
   "source": [
    "Examining the intersection of reading proficiency data and information on book banning in public school districts has been fascinating.  The conclusions I was able to draw point to a slight positive correlation between reading proficiency and book banning and a slightly stronger positive correlation between number of students tested and book banning.  None of these suggest anything like cause or effect, and I suspect that instead these correlations are due to various and other factors outside this realm of research, such as parental involvement in school and economic privilege.  Nothing in this project can tell us about those kinds of possibilities.   \n",
    "    \n",
    "The model that worked best for this data of those that I examined was a support vector classification model.  This is a supervised machine learning algorithm that attempts to find the best boundaries to separate and classify data into different categories.  In this case, those categories were whether or not a school district had book bans.  The primary possibly explanatory factors I provided the model with for analysis were the number of students who had been tested for profiency (focused on reading in this case) and the average score for reading profiency for each school district.  I was able to create a reasonably well performing support vector classification model with this data.  With neither strongly relating to the dependent variable, however, the model only performed marginally better than an average level one might expect guessing outcome without much additional data.  This does not mean it was not useful at all, but it does indicate that we may not want to place a strong dependence on this model, at least not without adding a great deal more information to training and refining it.    \n",
    "      \n",
    "Conclusions and recommendations I could provide to school districts would largely depend on the goals and priorities of that school district.  However, I might suggest that larger school districts could potentially carry a higher likelihood of book bans.  While not all school districts might actively disagree with the ethical, social, and academic concerns of book banning, many may at least prefer to avoid the possible political stress that often comes with controversy over issues like book banning.  Therefore, while I cannot conclude that keeping school districts small can prevent book bans, I would encourage school districts who are hoping to prevent possible book bans to avoid actively attempting to increase the number of students in their district.  I would not feel ethically ok with encouraging school districts to decrease or prevent increase of reading proficiency in their district, so district size is the only conlusive advice I have to offer school districts without further research."
   ]
  },
  {
   "cell_type": "markdown",
   "id": "728330b9",
   "metadata": {},
   "source": [
    "## 8.2. Future work"
   ]
  },
  {
   "cell_type": "markdown",
   "id": "ad406e28",
   "metadata": {},
   "source": [
    "As I briefly mentioned above, I would like to understand more about about the possible connections between these topics and other factors that may be contributing to either or both.  While each is complex and likely affected by more factors than I can imagine or reasonably hope to discover and analyze all of, I do believe that there are likely to be a handful of common links and possibly causes that could be better understood.    \n",
    "     \n",
    "Were I to continue research in this area, I would focus next on the demographics of each school district, particularly looking into economic status, political affiliation, racial make-up, and religious identifications of each area.  If possible, I would also like to examine parental involvement in schools of each district.  While that is often closely related as well to other factors, such as economic status, the intersection of all of these seems to me to be incredibly useful to better understand.  Considering these and as many as possible other potentially relevant factors would help us paint a more complete picture of the aspects at play.  Doing so could allow us to more solidly advise school administrators, school board members, and other individuals and groups making choices for our schools and children and as such affecting all of the society around us."
   ]
  },
  {
   "cell_type": "markdown",
   "id": "c4b41128",
   "metadata": {},
   "source": [
    "## 8.3. Notes and concerns"
   ]
  },
  {
   "cell_type": "markdown",
   "id": "659c839d",
   "metadata": {},
   "source": [
    "To be honest, I am a bit disappointed in this work.  It felt overly simple and less useful than I had hoped.  I am processing whether that was because of my choice of topic or datasets or if I overly simplified the data as I cleaned it.  Perhaps there may have been more interesting insights, or at least more complex examination, had I kept some of the features/information that I eliminated as I worked to focus the research and pare down the vast amount of data to be more manageable.  Learning from the experience seems valuable regardless, but I hope to keep this in mind in future projects.   \n",
    "      \n",
    "Recognizing that I may have eliminated potentially useful data from my analysis also seems important to mention in considering how we interpret the conclusions and consider possible future work.  Without further examination of all the features, I cannot know whether there may be additional or even stronger lessons to be learned from these datasets.   \n",
    "       \n",
    "I also think it important to note that metrics such as standardized testing like those that determined reading proficiency in this dataset do not always demonstrate true academic performance, including that of reading proficiency.  These tests are often not inclusive of neuro-divergent and other groups that may not fit into such convenient numbers.  These metrics are also often skewed by external factors for students, families, schools, and communities, such as poverty, hunger, illness, and other variables.  When we use such simplified measurements to attempt to draw broader conclusions, I believe that it is our responsibility to keep such issues in mind."
   ]
  }
 ],
 "metadata": {
  "kernelspec": {
   "display_name": "Python 3 (ipykernel)",
   "language": "python",
   "name": "python3"
  },
  "language_info": {
   "codemirror_mode": {
    "name": "ipython",
    "version": 3
   },
   "file_extension": ".py",
   "mimetype": "text/x-python",
   "name": "python",
   "nbconvert_exporter": "python",
   "pygments_lexer": "ipython3",
   "version": "3.8.16"
  }
 },
 "nbformat": 4,
 "nbformat_minor": 5
}
